{
 "cells": [
  {
   "cell_type": "markdown",
   "metadata": {},
   "source": [
    "# 서울특별시 공공자전거 따릉이 대여이력 분석\n",
    "* [miningful/seoulbike: 따릉이 따세권EDA](https://github.com/miningful/seoulbike)에서 흥미를 얻어 분석을 시작하게 됨\n",
    "\n",
    "## 데이터 출처 :\n",
    "* 서울특별시 공공자전거 대여이력 정보\n",
    "http://data.seoul.go.kr/dataList/datasetView.do?infId=OA-15182&srvType=F&serviceKind=1&currentPageNo=1\n",
    "\n",
    "* `(이달의주요공개정보)_서울_공공자전거(따릉이)_이용현황 자료(161021).xlsx (1.24MB)`\n",
    "https://opengov.seoul.go.kr/anspruch/10045476\n",
    "\n",
    "\n",
    "## 관련자료 \n",
    "* [(석간) 서울시 따릉이 회원 62만 돌파 출 퇴근시간 38% 집중](http://spp.seoul.go.kr/main/news/news_report.jsp#view/253821)\n",
    "* [공공자전거 따릉이 인기 따라 '따세권' 형성…소외지역도 :: 공감언론 뉴시스통신사 ::](http://www.newsis.com/view/?id=NISX20180706_0000356247&cID=10201&pID=10200)\n",
    "* [서울특별시 빅데이터 캠퍼스 > 분석결과/사례공유 > 서울시 분석사례 > 서울시 자전거 이동경로 분석](https://bigdata.seoul.go.kr/noti/selectNoti.do?r_id=P430&bbs_seq=229&sch_type=&sch_text=&currentPage=1)\n",
    "* [따릉이 편리하게 이용하기 위한 14가지 | 서울시 정보소통광장(정보공개)](https://opengov.seoul.go.kr/mediahub/15085803)"
   ]
  },
  {
   "cell_type": "code",
   "execution_count": 1,
   "metadata": {},
   "outputs": [
    {
     "name": "stdout",
     "output_type": "stream",
     "text": [
      "Name: plotnine\n",
      "Version: 0.8.0\n",
      "Summary: A grammar of graphics for python\n",
      "Home-page: https://github.com/has2k1/plotnine\n",
      "Author: None\n",
      "Author-email: None\n",
      "License: GPL-2\n",
      "Location: c:\\programdata\\anaconda3\\lib\\site-packages\n",
      "Requires: mizani, descartes, patsy, scipy, statsmodels, numpy, pandas, matplotlib\n",
      "Required-by: \n"
     ]
    }
   ],
   "source": [
    "#plotnine 설치\n",
    "!pip show plotnine"
   ]
  },
  {
   "cell_type": "code",
   "execution_count": 2,
   "metadata": {},
   "outputs": [
    {
     "name": "stdout",
     "output_type": "stream",
     "text": [
      "Name: folium\n",
      "Version: 0.12.1\n",
      "Summary: Make beautiful maps with Leaflet.js & Python\n",
      "Home-page: https://github.com/python-visualization/folium\n",
      "Author: Rob Story\n",
      "Author-email: wrobstory@gmail.com\n",
      "License: MIT\n",
      "Location: c:\\programdata\\anaconda3\\lib\\site-packages\n",
      "Requires: requests, branca, jinja2, numpy\n",
      "Required-by: \n"
     ]
    }
   ],
   "source": [
    "#folium 설치\n",
    "!pip show folium"
   ]
  },
  {
   "cell_type": "code",
   "execution_count": 3,
   "metadata": {},
   "outputs": [],
   "source": [
    "# 노트북이 간결해 보이도록 경고 문구는 출력되지 않도록 함\n",
    "# 프로그래밍에 익숙하다면 경고 문구도 출력해서 보도록 한다. \n",
    "# 하지만 익숙하지 않다면 당황하지 않기 위해 경고 메시지는 찍히지 않도록 한다.\n",
    "import warnings\n",
    "warnings.simplefilter(action='ignore', category=FutureWarning)"
   ]
  },
  {
   "cell_type": "markdown",
   "metadata": {},
   "source": [
    "## 사용할 도구 가져오기"
   ]
  },
  {
   "cell_type": "code",
   "execution_count": 4,
   "metadata": {},
   "outputs": [],
   "source": [
    "#!pip install plotnine"
   ]
  },
  {
   "cell_type": "code",
   "execution_count": 5,
   "metadata": {},
   "outputs": [],
   "source": [
    "import pandas as pd\n",
    "import numpy as np\n",
    "from plotnine import *\n",
    "\n",
    "\n",
    "# 그래프가 노트북 안에 보이게 하기 위해\n",
    "%matplotlib inline"
   ]
  },
  {
   "cell_type": "markdown",
   "metadata": {},
   "source": [
    "## 데이터 불러오기\n",
    "* 서울시정보소통광장에서 다운로드 받은 csv파일과 크롤링해온 대여소 정보가 있다.\n",
    "* 이 노트북에서는 전체 데이터 중 일부 데이터만을 사용해서 특정 시기의 데이터만 분석해 보고 점점 더 큰 데이터를 불러와 보도록 한다."
   ]
  },
  {
   "cell_type": "code",
   "execution_count": 6,
   "metadata": {},
   "outputs": [
    {
     "name": "stdout",
     "output_type": "stream",
     "text": [
      " C 드라이브의 볼륨에는 이름이 없습니다.\n",
      " 볼륨 일련 번호: 860D-053A\n",
      "\n",
      " C:\\mypython\\data 디렉터리\n",
      "\n",
      "2021-08-16  오후 05:39    <DIR>          .\n",
      "2021-08-16  오후 05:39    <DIR>          ..\n",
      "2021-08-16  오후 04:50           192,100 bike_rent_station.csv\n",
      "2021-08-16  오후 04:50        73,556,846 서울특별시 공공자전거 대여이력 정보_2018년_2분기_4.csv\n",
      "               2개 파일          73,748,946 바이트\n",
      "               2개 디렉터리  18,264,436,736 바이트 남음\n"
     ]
    }
   ],
   "source": [
    "%ls data"
   ]
  },
  {
   "cell_type": "code",
   "execution_count": 7,
   "metadata": {},
   "outputs": [
    {
     "data": {
      "text/plain": [
       "(586304, 11)"
      ]
     },
     "execution_count": 7,
     "metadata": {},
     "output_type": "execute_result"
    }
   ],
   "source": [
    "df = pd.read_csv('data/서울특별시 공공자전거 대여이력 정보_2018년_2분기_4.csv', encoding='cp949',engine='python')\n",
    "# 2018년 2분기까지의 데이터를 보고 싶다면 아래 파일을 불러온다.\n",
    "# df = pd.read_csv('data/seoul-bike-2018.csv')\n",
    "df.shape"
   ]
  },
  {
   "cell_type": "markdown",
   "metadata": {},
   "source": [
    "## 데이터 미리보기 및 요약하기\n",
    "* head와 tail을 통해 데이터 미리보기를 해볼 수 있다.\n",
    "* head는 데이터의 윗부분을 tail은 데이터의 하단부를 미리보기 해준다. \n",
    "* 괄호안에 숫자를 넣어주면 해당 숫자만큼의 데이터를 가져온다. 기본값은 5이다."
   ]
  },
  {
   "cell_type": "code",
   "execution_count": 8,
   "metadata": {},
   "outputs": [
    {
     "data": {
      "text/html": [
       "<div>\n",
       "<style scoped>\n",
       "    .dataframe tbody tr th:only-of-type {\n",
       "        vertical-align: middle;\n",
       "    }\n",
       "\n",
       "    .dataframe tbody tr th {\n",
       "        vertical-align: top;\n",
       "    }\n",
       "\n",
       "    .dataframe thead th {\n",
       "        text-align: right;\n",
       "    }\n",
       "</style>\n",
       "<table border=\"1\" class=\"dataframe\">\n",
       "  <thead>\n",
       "    <tr style=\"text-align: right;\">\n",
       "      <th></th>\n",
       "      <th>'자전거번호'</th>\n",
       "      <th>'대여일시'</th>\n",
       "      <th>'대여대여소번호'</th>\n",
       "      <th>'대여대여소명'</th>\n",
       "      <th>'대여거치대'</th>\n",
       "      <th>'반납일시'</th>\n",
       "      <th>'반납대여소번호'</th>\n",
       "      <th>'반납대여소명'</th>\n",
       "      <th>'반납거치대'</th>\n",
       "      <th>'이용시간(분)'</th>\n",
       "      <th>'이용거리(M)'</th>\n",
       "    </tr>\n",
       "  </thead>\n",
       "  <tbody>\n",
       "    <tr>\n",
       "      <th>0</th>\n",
       "      <td>'SPB-11906'</td>\n",
       "      <td>'2018-06-16 00:00:07'</td>\n",
       "      <td>'932'</td>\n",
       "      <td>' 예일여중'</td>\n",
       "      <td>1</td>\n",
       "      <td>'2018-06-16 00:16:41'</td>\n",
       "      <td>'934'</td>\n",
       "      <td>' 신사동 성당'</td>\n",
       "      <td>11</td>\n",
       "      <td>15</td>\n",
       "      <td>2160</td>\n",
       "    </tr>\n",
       "    <tr>\n",
       "      <th>1</th>\n",
       "      <td>'SPB-16954'</td>\n",
       "      <td>'2018-06-16 00:00:07'</td>\n",
       "      <td>'272'</td>\n",
       "      <td>' 당산육갑문'</td>\n",
       "      <td>16</td>\n",
       "      <td>'2018-06-16 02:00:36'</td>\n",
       "      <td>'1827'</td>\n",
       "      <td>' 독산보도육교 앞 자전거 보관소'</td>\n",
       "      <td>9</td>\n",
       "      <td>120</td>\n",
       "      <td>18100</td>\n",
       "    </tr>\n",
       "    <tr>\n",
       "      <th>2</th>\n",
       "      <td>'SPB-09676'</td>\n",
       "      <td>'2018-06-16 00:00:11'</td>\n",
       "      <td>'1036'</td>\n",
       "      <td>' 고덕동 주양쇼핑'</td>\n",
       "      <td>7</td>\n",
       "      <td>'2018-06-16 00:24:05'</td>\n",
       "      <td>'1038'</td>\n",
       "      <td>' 강일 다솜 어린이 공원'</td>\n",
       "      <td>9</td>\n",
       "      <td>23</td>\n",
       "      <td>3350</td>\n",
       "    </tr>\n",
       "    <tr>\n",
       "      <th>3</th>\n",
       "      <td>'SPB-07143'</td>\n",
       "      <td>'2018-06-16 00:00:15'</td>\n",
       "      <td>'1726'</td>\n",
       "      <td>' 삼익세라믹아파트교차로'</td>\n",
       "      <td>7</td>\n",
       "      <td>'2018-06-16 00:15:31'</td>\n",
       "      <td>'1706'</td>\n",
       "      <td>' 기업은행 앞'</td>\n",
       "      <td>9</td>\n",
       "      <td>14</td>\n",
       "      <td>1480</td>\n",
       "    </tr>\n",
       "    <tr>\n",
       "      <th>4</th>\n",
       "      <td>'SPB-13007'</td>\n",
       "      <td>'2018-06-16 00:00:16'</td>\n",
       "      <td>'2058'</td>\n",
       "      <td>' 노량진동 맥도널드앞'</td>\n",
       "      <td>10</td>\n",
       "      <td>'2018-06-16 00:14:25'</td>\n",
       "      <td>'258'</td>\n",
       "      <td>' 신길역3번출구'</td>\n",
       "      <td>8</td>\n",
       "      <td>13</td>\n",
       "      <td>2920</td>\n",
       "    </tr>\n",
       "  </tbody>\n",
       "</table>\n",
       "</div>"
      ],
      "text/plain": [
       "       '자전거번호'                 '대여일시' '대여대여소번호'        '대여대여소명'  '대여거치대'  \\\n",
       "0  'SPB-11906'  '2018-06-16 00:00:07'     '932'         ' 예일여중'        1   \n",
       "1  'SPB-16954'  '2018-06-16 00:00:07'     '272'        ' 당산육갑문'       16   \n",
       "2  'SPB-09676'  '2018-06-16 00:00:11'    '1036'     ' 고덕동 주양쇼핑'        7   \n",
       "3  'SPB-07143'  '2018-06-16 00:00:15'    '1726'  ' 삼익세라믹아파트교차로'        7   \n",
       "4  'SPB-13007'  '2018-06-16 00:00:16'    '2058'   ' 노량진동 맥도널드앞'       10   \n",
       "\n",
       "                  '반납일시' '반납대여소번호'             '반납대여소명'  '반납거치대'  '이용시간(분)'  \\\n",
       "0  '2018-06-16 00:16:41'     '934'            ' 신사동 성당'       11         15   \n",
       "1  '2018-06-16 02:00:36'    '1827'  ' 독산보도육교 앞 자전거 보관소'        9        120   \n",
       "2  '2018-06-16 00:24:05'    '1038'      ' 강일 다솜 어린이 공원'        9         23   \n",
       "3  '2018-06-16 00:15:31'    '1706'            ' 기업은행 앞'        9         14   \n",
       "4  '2018-06-16 00:14:25'     '258'           ' 신길역3번출구'        8         13   \n",
       "\n",
       "   '이용거리(M)'  \n",
       "0       2160  \n",
       "1      18100  \n",
       "2       3350  \n",
       "3       1480  \n",
       "4       2920  "
      ]
     },
     "execution_count": 8,
     "metadata": {},
     "output_type": "execute_result"
    }
   ],
   "source": [
    "df.head()"
   ]
  },
  {
   "cell_type": "code",
   "execution_count": 9,
   "metadata": {},
   "outputs": [
    {
     "data": {
      "text/html": [
       "<div>\n",
       "<style scoped>\n",
       "    .dataframe tbody tr th:only-of-type {\n",
       "        vertical-align: middle;\n",
       "    }\n",
       "\n",
       "    .dataframe tbody tr th {\n",
       "        vertical-align: top;\n",
       "    }\n",
       "\n",
       "    .dataframe thead th {\n",
       "        text-align: right;\n",
       "    }\n",
       "</style>\n",
       "<table border=\"1\" class=\"dataframe\">\n",
       "  <thead>\n",
       "    <tr style=\"text-align: right;\">\n",
       "      <th></th>\n",
       "      <th>'자전거번호'</th>\n",
       "      <th>'대여일시'</th>\n",
       "      <th>'대여대여소번호'</th>\n",
       "      <th>'대여대여소명'</th>\n",
       "      <th>'대여거치대'</th>\n",
       "      <th>'반납일시'</th>\n",
       "      <th>'반납대여소번호'</th>\n",
       "      <th>'반납대여소명'</th>\n",
       "      <th>'반납거치대'</th>\n",
       "      <th>'이용시간(분)'</th>\n",
       "      <th>'이용거리(M)'</th>\n",
       "    </tr>\n",
       "  </thead>\n",
       "  <tbody>\n",
       "    <tr>\n",
       "      <th>586299</th>\n",
       "      <td>'SPB-15985'</td>\n",
       "      <td>'2018-06-30 23:59:55'</td>\n",
       "      <td>'505'</td>\n",
       "      <td>' 자양사거리 광진아크로텔 앞'</td>\n",
       "      <td>9</td>\n",
       "      <td>'2018-07-01 00:09:38'</td>\n",
       "      <td>'593'</td>\n",
       "      <td>'자양중앙나들목'</td>\n",
       "      <td>5</td>\n",
       "      <td>9</td>\n",
       "      <td>1230</td>\n",
       "    </tr>\n",
       "    <tr>\n",
       "      <th>586300</th>\n",
       "      <td>'SPB-15081'</td>\n",
       "      <td>'2018-06-30 23:59:55'</td>\n",
       "      <td>'1328'</td>\n",
       "      <td>' 월곡역 3번출구'</td>\n",
       "      <td>7</td>\n",
       "      <td>'2018-07-01 00:18:02'</td>\n",
       "      <td>'647'</td>\n",
       "      <td>' 신이문역 1번출구'</td>\n",
       "      <td>7</td>\n",
       "      <td>17</td>\n",
       "      <td>3600</td>\n",
       "    </tr>\n",
       "    <tr>\n",
       "      <th>586301</th>\n",
       "      <td>'SPB-13677'</td>\n",
       "      <td>'2018-06-30 23:59:57'</td>\n",
       "      <td>'2376'</td>\n",
       "      <td>' 수서역 6번출구 앞'</td>\n",
       "      <td>2</td>\n",
       "      <td>'2018-07-01 00:20:38'</td>\n",
       "      <td>'2387'</td>\n",
       "      <td>' 래미안강남힐즈 사거리'</td>\n",
       "      <td>5</td>\n",
       "      <td>20</td>\n",
       "      <td>2590</td>\n",
       "    </tr>\n",
       "    <tr>\n",
       "      <th>586302</th>\n",
       "      <td>'SPB-06577'</td>\n",
       "      <td>'2018-06-30 23:59:57'</td>\n",
       "      <td>'1251'</td>\n",
       "      <td>' 석촌역 2번출구'</td>\n",
       "      <td>2</td>\n",
       "      <td>'2018-07-01 00:57:29'</td>\n",
       "      <td>'1245'</td>\n",
       "      <td>' 문정 법조단지9'</td>\n",
       "      <td>4</td>\n",
       "      <td>57</td>\n",
       "      <td>6640</td>\n",
       "    </tr>\n",
       "    <tr>\n",
       "      <th>586303</th>\n",
       "      <td>'SPB-03842'</td>\n",
       "      <td>'2018-06-30 23:59:58'</td>\n",
       "      <td>'2169'</td>\n",
       "      <td>' 봉천역 2번출구'</td>\n",
       "      <td>6</td>\n",
       "      <td>'2018-07-01 00:08:05'</td>\n",
       "      <td>'2112'</td>\n",
       "      <td>' 서울대입구역 마에스트로'</td>\n",
       "      <td>7</td>\n",
       "      <td>7</td>\n",
       "      <td>910</td>\n",
       "    </tr>\n",
       "  </tbody>\n",
       "</table>\n",
       "</div>"
      ],
      "text/plain": [
       "            '자전거번호'                 '대여일시' '대여대여소번호'           '대여대여소명'  \\\n",
       "586299  'SPB-15985'  '2018-06-30 23:59:55'     '505'  ' 자양사거리 광진아크로텔 앞'   \n",
       "586300  'SPB-15081'  '2018-06-30 23:59:55'    '1328'        ' 월곡역 3번출구'   \n",
       "586301  'SPB-13677'  '2018-06-30 23:59:57'    '2376'      ' 수서역 6번출구 앞'   \n",
       "586302  'SPB-06577'  '2018-06-30 23:59:57'    '1251'        ' 석촌역 2번출구'   \n",
       "586303  'SPB-03842'  '2018-06-30 23:59:58'    '2169'        ' 봉천역 2번출구'   \n",
       "\n",
       "        '대여거치대'                 '반납일시' '반납대여소번호'         '반납대여소명'  '반납거치대'  \\\n",
       "586299        9  '2018-07-01 00:09:38'     '593'        '자양중앙나들목'        5   \n",
       "586300        7  '2018-07-01 00:18:02'     '647'     ' 신이문역 1번출구'        7   \n",
       "586301        2  '2018-07-01 00:20:38'    '2387'   ' 래미안강남힐즈 사거리'        5   \n",
       "586302        2  '2018-07-01 00:57:29'    '1245'      ' 문정 법조단지9'        4   \n",
       "586303        6  '2018-07-01 00:08:05'    '2112'  ' 서울대입구역 마에스트로'        7   \n",
       "\n",
       "        '이용시간(분)'  '이용거리(M)'  \n",
       "586299          9       1230  \n",
       "586300         17       3600  \n",
       "586301         20       2590  \n",
       "586302         57       6640  \n",
       "586303          7        910  "
      ]
     },
     "execution_count": 9,
     "metadata": {},
     "output_type": "execute_result"
    }
   ],
   "source": [
    "df.tail()"
   ]
  },
  {
   "cell_type": "markdown",
   "metadata": {},
   "source": [
    "* info를 사용하면 해당 데이터의 요약정보를 볼 수 있다.\n",
    "* 데이터의 갯수와 데이터의 타입, 크기 등을 볼 수 있다."
   ]
  },
  {
   "cell_type": "code",
   "execution_count": 10,
   "metadata": {},
   "outputs": [
    {
     "name": "stdout",
     "output_type": "stream",
     "text": [
      "<class 'pandas.core.frame.DataFrame'>\n",
      "RangeIndex: 586304 entries, 0 to 586303\n",
      "Data columns (total 11 columns):\n",
      " #   Column     Non-Null Count   Dtype \n",
      "---  ------     --------------   ----- \n",
      " 0   '자전거번호'    586304 non-null  object\n",
      " 1   '대여일시'     586304 non-null  object\n",
      " 2   '대여대여소번호'  586304 non-null  object\n",
      " 3   '대여대여소명'   586304 non-null  object\n",
      " 4   '대여거치대'    586304 non-null  int64 \n",
      " 5   '반납일시'     586304 non-null  object\n",
      " 6   '반납대여소번호'  586304 non-null  object\n",
      " 7   '반납대여소명'   586304 non-null  object\n",
      " 8   '반납거치대'    586304 non-null  int64 \n",
      " 9   '이용시간(분)'  586304 non-null  int64 \n",
      " 10  '이용거리(M)'  586304 non-null  int64 \n",
      "dtypes: int64(4), object(7)\n",
      "memory usage: 49.2+ MB\n"
     ]
    }
   ],
   "source": [
    "df.info()"
   ]
  },
  {
   "cell_type": "code",
   "execution_count": 11,
   "metadata": {},
   "outputs": [
    {
     "data": {
      "text/html": [
       "<div>\n",
       "<style scoped>\n",
       "    .dataframe tbody tr th:only-of-type {\n",
       "        vertical-align: middle;\n",
       "    }\n",
       "\n",
       "    .dataframe tbody tr th {\n",
       "        vertical-align: top;\n",
       "    }\n",
       "\n",
       "    .dataframe thead th {\n",
       "        text-align: right;\n",
       "    }\n",
       "</style>\n",
       "<table border=\"1\" class=\"dataframe\">\n",
       "  <thead>\n",
       "    <tr style=\"text-align: right;\">\n",
       "      <th></th>\n",
       "      <th>'대여거치대'</th>\n",
       "      <th>'반납거치대'</th>\n",
       "      <th>'이용시간(분)'</th>\n",
       "      <th>'이용거리(M)'</th>\n",
       "    </tr>\n",
       "  </thead>\n",
       "  <tbody>\n",
       "    <tr>\n",
       "      <th>count</th>\n",
       "      <td>586304.000000</td>\n",
       "      <td>586304.000000</td>\n",
       "      <td>586304.000000</td>\n",
       "      <td>586304.000000</td>\n",
       "    </tr>\n",
       "    <tr>\n",
       "      <th>mean</th>\n",
       "      <td>6.981460</td>\n",
       "      <td>6.939248</td>\n",
       "      <td>28.922530</td>\n",
       "      <td>4712.563602</td>\n",
       "    </tr>\n",
       "    <tr>\n",
       "      <th>std</th>\n",
       "      <td>5.217671</td>\n",
       "      <td>5.196975</td>\n",
       "      <td>30.866556</td>\n",
       "      <td>9003.052657</td>\n",
       "    </tr>\n",
       "    <tr>\n",
       "      <th>min</th>\n",
       "      <td>1.000000</td>\n",
       "      <td>1.000000</td>\n",
       "      <td>2.000000</td>\n",
       "      <td>0.000000</td>\n",
       "    </tr>\n",
       "    <tr>\n",
       "      <th>25%</th>\n",
       "      <td>3.000000</td>\n",
       "      <td>3.000000</td>\n",
       "      <td>9.000000</td>\n",
       "      <td>1320.000000</td>\n",
       "    </tr>\n",
       "    <tr>\n",
       "      <th>50%</th>\n",
       "      <td>6.000000</td>\n",
       "      <td>6.000000</td>\n",
       "      <td>18.000000</td>\n",
       "      <td>2530.000000</td>\n",
       "    </tr>\n",
       "    <tr>\n",
       "      <th>75%</th>\n",
       "      <td>10.000000</td>\n",
       "      <td>10.000000</td>\n",
       "      <td>40.000000</td>\n",
       "      <td>5290.000000</td>\n",
       "    </tr>\n",
       "    <tr>\n",
       "      <th>max</th>\n",
       "      <td>40.000000</td>\n",
       "      <td>40.000000</td>\n",
       "      <td>4320.000000</td>\n",
       "      <td>255070.000000</td>\n",
       "    </tr>\n",
       "  </tbody>\n",
       "</table>\n",
       "</div>"
      ],
      "text/plain": [
       "             '대여거치대'        '반납거치대'      '이용시간(분)'      '이용거리(M)'\n",
       "count  586304.000000  586304.000000  586304.000000  586304.000000\n",
       "mean        6.981460       6.939248      28.922530    4712.563602\n",
       "std         5.217671       5.196975      30.866556    9003.052657\n",
       "min         1.000000       1.000000       2.000000       0.000000\n",
       "25%         3.000000       3.000000       9.000000    1320.000000\n",
       "50%         6.000000       6.000000      18.000000    2530.000000\n",
       "75%        10.000000      10.000000      40.000000    5290.000000\n",
       "max        40.000000      40.000000    4320.000000  255070.000000"
      ]
     },
     "execution_count": 11,
     "metadata": {},
     "output_type": "execute_result"
    }
   ],
   "source": [
    "df.describe()"
   ]
  },
  {
   "cell_type": "code",
   "execution_count": 12,
   "metadata": {},
   "outputs": [
    {
     "data": {
      "text/html": [
       "<div>\n",
       "<style scoped>\n",
       "    .dataframe tbody tr th:only-of-type {\n",
       "        vertical-align: middle;\n",
       "    }\n",
       "\n",
       "    .dataframe tbody tr th {\n",
       "        vertical-align: top;\n",
       "    }\n",
       "\n",
       "    .dataframe thead th {\n",
       "        text-align: right;\n",
       "    }\n",
       "</style>\n",
       "<table border=\"1\" class=\"dataframe\">\n",
       "  <thead>\n",
       "    <tr style=\"text-align: right;\">\n",
       "      <th></th>\n",
       "      <th>'자전거번호'</th>\n",
       "      <th>'대여일시'</th>\n",
       "      <th>'대여대여소번호'</th>\n",
       "      <th>'대여대여소명'</th>\n",
       "      <th>'반납일시'</th>\n",
       "      <th>'반납대여소번호'</th>\n",
       "      <th>'반납대여소명'</th>\n",
       "    </tr>\n",
       "  </thead>\n",
       "  <tbody>\n",
       "    <tr>\n",
       "      <th>count</th>\n",
       "      <td>586304</td>\n",
       "      <td>586304</td>\n",
       "      <td>586304</td>\n",
       "      <td>586304</td>\n",
       "      <td>586304</td>\n",
       "      <td>586304</td>\n",
       "      <td>586304</td>\n",
       "    </tr>\n",
       "    <tr>\n",
       "      <th>unique</th>\n",
       "      <td>12970</td>\n",
       "      <td>426750</td>\n",
       "      <td>1267</td>\n",
       "      <td>1267</td>\n",
       "      <td>427833</td>\n",
       "      <td>1269</td>\n",
       "      <td>1269</td>\n",
       "    </tr>\n",
       "    <tr>\n",
       "      <th>top</th>\n",
       "      <td>'SPB-18238'</td>\n",
       "      <td>'2018-06-18 19:42:44'</td>\n",
       "      <td>'207'</td>\n",
       "      <td>' 여의나루역 1번출구 앞'</td>\n",
       "      <td>'2018-06-19 19:53:32'</td>\n",
       "      <td>'113'</td>\n",
       "      <td>' 홍대입구역 2번출구 앞'</td>\n",
       "    </tr>\n",
       "    <tr>\n",
       "      <th>freq</th>\n",
       "      <td>139</td>\n",
       "      <td>42</td>\n",
       "      <td>4073</td>\n",
       "      <td>4073</td>\n",
       "      <td>18</td>\n",
       "      <td>3896</td>\n",
       "      <td>3896</td>\n",
       "    </tr>\n",
       "  </tbody>\n",
       "</table>\n",
       "</div>"
      ],
      "text/plain": [
       "            '자전거번호'                 '대여일시' '대여대여소번호'         '대여대여소명'  \\\n",
       "count        586304                 586304    586304           586304   \n",
       "unique        12970                 426750      1267             1267   \n",
       "top     'SPB-18238'  '2018-06-18 19:42:44'     '207'  ' 여의나루역 1번출구 앞'   \n",
       "freq            139                     42      4073             4073   \n",
       "\n",
       "                       '반납일시' '반납대여소번호'         '반납대여소명'  \n",
       "count                  586304    586304           586304  \n",
       "unique                 427833      1269             1269  \n",
       "top     '2018-06-19 19:53:32'     '113'  ' 홍대입구역 2번출구 앞'  \n",
       "freq                       18      3896             3896  "
      ]
     },
     "execution_count": 12,
     "metadata": {},
     "output_type": "execute_result"
    }
   ],
   "source": [
    "df.describe(include=np.object)"
   ]
  },
  {
   "cell_type": "markdown",
   "metadata": {},
   "source": [
    "## 분석을 위한 전처리\n",
    "* 위에서 데이터를 미리보기 했을 때 컬럼과 데이터에 불필요한 홑따옴표가 포함되어 있다.\n",
    "* 전처리를 통해 제거해 준다.\n",
    "* object 타입의 데이터에는 모두 홑따옴표가 들어가 있다. 따라서 object 데이터 타입이라면 홑따옴표를 제거해 주도록 한다."
   ]
  },
  {
   "cell_type": "code",
   "execution_count": 13,
   "metadata": {},
   "outputs": [],
   "source": [
    "# 컬럼에 있는 '를 제거한다.\n",
    "df.columns = df.columns.str.strip(\"'\")"
   ]
  },
  {
   "cell_type": "code",
   "execution_count": 14,
   "metadata": {},
   "outputs": [
    {
     "data": {
      "text/html": [
       "<div>\n",
       "<style scoped>\n",
       "    .dataframe tbody tr th:only-of-type {\n",
       "        vertical-align: middle;\n",
       "    }\n",
       "\n",
       "    .dataframe tbody tr th {\n",
       "        vertical-align: top;\n",
       "    }\n",
       "\n",
       "    .dataframe thead th {\n",
       "        text-align: right;\n",
       "    }\n",
       "</style>\n",
       "<table border=\"1\" class=\"dataframe\">\n",
       "  <thead>\n",
       "    <tr style=\"text-align: right;\">\n",
       "      <th></th>\n",
       "      <th>자전거번호</th>\n",
       "      <th>대여일시</th>\n",
       "      <th>대여대여소번호</th>\n",
       "      <th>대여대여소명</th>\n",
       "      <th>대여거치대</th>\n",
       "      <th>반납일시</th>\n",
       "      <th>반납대여소번호</th>\n",
       "      <th>반납대여소명</th>\n",
       "      <th>반납거치대</th>\n",
       "      <th>이용시간(분)</th>\n",
       "      <th>이용거리(M)</th>\n",
       "    </tr>\n",
       "  </thead>\n",
       "  <tbody>\n",
       "    <tr>\n",
       "      <th>0</th>\n",
       "      <td>'SPB-11906'</td>\n",
       "      <td>'2018-06-16 00:00:07'</td>\n",
       "      <td>'932'</td>\n",
       "      <td>' 예일여중'</td>\n",
       "      <td>1</td>\n",
       "      <td>'2018-06-16 00:16:41'</td>\n",
       "      <td>'934'</td>\n",
       "      <td>' 신사동 성당'</td>\n",
       "      <td>11</td>\n",
       "      <td>15</td>\n",
       "      <td>2160</td>\n",
       "    </tr>\n",
       "  </tbody>\n",
       "</table>\n",
       "</div>"
      ],
      "text/plain": [
       "         자전거번호                   대여일시 대여대여소번호   대여대여소명  대여거치대  \\\n",
       "0  'SPB-11906'  '2018-06-16 00:00:07'   '932'  ' 예일여중'      1   \n",
       "\n",
       "                    반납일시 반납대여소번호     반납대여소명  반납거치대  이용시간(분)  이용거리(M)  \n",
       "0  '2018-06-16 00:16:41'   '934'  ' 신사동 성당'     11       15     2160  "
      ]
     },
     "execution_count": 14,
     "metadata": {},
     "output_type": "execute_result"
    }
   ],
   "source": [
    "df.head(1)"
   ]
  },
  {
   "cell_type": "code",
   "execution_count": 15,
   "metadata": {},
   "outputs": [],
   "source": [
    "# 불필요하게 '가 들어가 있다. 스트링 타입으로 되어있는 데이터에서 '을 제거하자.\n",
    "df = df.apply(lambda x: x.str.strip(\"'\") if x.dtype == np.dtype('object') else x)\n",
    "\n",
    "# 다음의 방법으로 제거할 수도 있다.\n",
    "# df.iloc[:, :4] = df.iloc[:, :4].apply(lambda x: x.str.strip(\"'\"))\n",
    "# df.iloc[:, 5:8] = df.iloc[:, 5:8].apply(lambda x: x.str.strip(\"'\"))"
   ]
  },
  {
   "cell_type": "code",
   "execution_count": 16,
   "metadata": {},
   "outputs": [
    {
     "data": {
      "text/html": [
       "<div>\n",
       "<style scoped>\n",
       "    .dataframe tbody tr th:only-of-type {\n",
       "        vertical-align: middle;\n",
       "    }\n",
       "\n",
       "    .dataframe tbody tr th {\n",
       "        vertical-align: top;\n",
       "    }\n",
       "\n",
       "    .dataframe thead th {\n",
       "        text-align: right;\n",
       "    }\n",
       "</style>\n",
       "<table border=\"1\" class=\"dataframe\">\n",
       "  <thead>\n",
       "    <tr style=\"text-align: right;\">\n",
       "      <th></th>\n",
       "      <th>자전거번호</th>\n",
       "      <th>대여일시</th>\n",
       "      <th>대여대여소번호</th>\n",
       "      <th>대여대여소명</th>\n",
       "      <th>대여거치대</th>\n",
       "      <th>반납일시</th>\n",
       "      <th>반납대여소번호</th>\n",
       "      <th>반납대여소명</th>\n",
       "      <th>반납거치대</th>\n",
       "      <th>이용시간(분)</th>\n",
       "      <th>이용거리(M)</th>\n",
       "    </tr>\n",
       "  </thead>\n",
       "  <tbody>\n",
       "    <tr>\n",
       "      <th>0</th>\n",
       "      <td>SPB-11906</td>\n",
       "      <td>2018-06-16 00:00:07</td>\n",
       "      <td>932</td>\n",
       "      <td>예일여중</td>\n",
       "      <td>1</td>\n",
       "      <td>2018-06-16 00:16:41</td>\n",
       "      <td>934</td>\n",
       "      <td>신사동 성당</td>\n",
       "      <td>11</td>\n",
       "      <td>15</td>\n",
       "      <td>2160</td>\n",
       "    </tr>\n",
       "    <tr>\n",
       "      <th>1</th>\n",
       "      <td>SPB-16954</td>\n",
       "      <td>2018-06-16 00:00:07</td>\n",
       "      <td>272</td>\n",
       "      <td>당산육갑문</td>\n",
       "      <td>16</td>\n",
       "      <td>2018-06-16 02:00:36</td>\n",
       "      <td>1827</td>\n",
       "      <td>독산보도육교 앞 자전거 보관소</td>\n",
       "      <td>9</td>\n",
       "      <td>120</td>\n",
       "      <td>18100</td>\n",
       "    </tr>\n",
       "    <tr>\n",
       "      <th>2</th>\n",
       "      <td>SPB-09676</td>\n",
       "      <td>2018-06-16 00:00:11</td>\n",
       "      <td>1036</td>\n",
       "      <td>고덕동 주양쇼핑</td>\n",
       "      <td>7</td>\n",
       "      <td>2018-06-16 00:24:05</td>\n",
       "      <td>1038</td>\n",
       "      <td>강일 다솜 어린이 공원</td>\n",
       "      <td>9</td>\n",
       "      <td>23</td>\n",
       "      <td>3350</td>\n",
       "    </tr>\n",
       "    <tr>\n",
       "      <th>3</th>\n",
       "      <td>SPB-07143</td>\n",
       "      <td>2018-06-16 00:00:15</td>\n",
       "      <td>1726</td>\n",
       "      <td>삼익세라믹아파트교차로</td>\n",
       "      <td>7</td>\n",
       "      <td>2018-06-16 00:15:31</td>\n",
       "      <td>1706</td>\n",
       "      <td>기업은행 앞</td>\n",
       "      <td>9</td>\n",
       "      <td>14</td>\n",
       "      <td>1480</td>\n",
       "    </tr>\n",
       "    <tr>\n",
       "      <th>4</th>\n",
       "      <td>SPB-13007</td>\n",
       "      <td>2018-06-16 00:00:16</td>\n",
       "      <td>2058</td>\n",
       "      <td>노량진동 맥도널드앞</td>\n",
       "      <td>10</td>\n",
       "      <td>2018-06-16 00:14:25</td>\n",
       "      <td>258</td>\n",
       "      <td>신길역3번출구</td>\n",
       "      <td>8</td>\n",
       "      <td>13</td>\n",
       "      <td>2920</td>\n",
       "    </tr>\n",
       "  </tbody>\n",
       "</table>\n",
       "</div>"
      ],
      "text/plain": [
       "       자전거번호                 대여일시 대여대여소번호        대여대여소명  대여거치대  \\\n",
       "0  SPB-11906  2018-06-16 00:00:07     932          예일여중      1   \n",
       "1  SPB-16954  2018-06-16 00:00:07     272         당산육갑문     16   \n",
       "2  SPB-09676  2018-06-16 00:00:11    1036      고덕동 주양쇼핑      7   \n",
       "3  SPB-07143  2018-06-16 00:00:15    1726   삼익세라믹아파트교차로      7   \n",
       "4  SPB-13007  2018-06-16 00:00:16    2058    노량진동 맥도널드앞     10   \n",
       "\n",
       "                  반납일시 반납대여소번호             반납대여소명  반납거치대  이용시간(분)  이용거리(M)  \n",
       "0  2018-06-16 00:16:41     934             신사동 성당     11       15     2160  \n",
       "1  2018-06-16 02:00:36    1827   독산보도육교 앞 자전거 보관소      9      120    18100  \n",
       "2  2018-06-16 00:24:05    1038       강일 다솜 어린이 공원      9       23     3350  \n",
       "3  2018-06-16 00:15:31    1706             기업은행 앞      9       14     1480  \n",
       "4  2018-06-16 00:14:25     258            신길역3번출구      8       13     2920  "
      ]
     },
     "execution_count": 16,
     "metadata": {},
     "output_type": "execute_result"
    }
   ],
   "source": [
    "df.head()"
   ]
  },
  {
   "cell_type": "code",
   "execution_count": 17,
   "metadata": {},
   "outputs": [
    {
     "data": {
      "text/html": [
       "<div>\n",
       "<style scoped>\n",
       "    .dataframe tbody tr th:only-of-type {\n",
       "        vertical-align: middle;\n",
       "    }\n",
       "\n",
       "    .dataframe tbody tr th {\n",
       "        vertical-align: top;\n",
       "    }\n",
       "\n",
       "    .dataframe thead th {\n",
       "        text-align: right;\n",
       "    }\n",
       "</style>\n",
       "<table border=\"1\" class=\"dataframe\">\n",
       "  <thead>\n",
       "    <tr style=\"text-align: right;\">\n",
       "      <th></th>\n",
       "      <th>자전거번호</th>\n",
       "      <th>대여일시</th>\n",
       "      <th>대여대여소번호</th>\n",
       "      <th>대여대여소명</th>\n",
       "      <th>대여거치대</th>\n",
       "      <th>반납일시</th>\n",
       "      <th>반납대여소번호</th>\n",
       "      <th>반납대여소명</th>\n",
       "      <th>반납거치대</th>\n",
       "      <th>이용시간(분)</th>\n",
       "      <th>이용거리(M)</th>\n",
       "    </tr>\n",
       "  </thead>\n",
       "  <tbody>\n",
       "    <tr>\n",
       "      <th>586299</th>\n",
       "      <td>SPB-15985</td>\n",
       "      <td>2018-06-30 23:59:55</td>\n",
       "      <td>505</td>\n",
       "      <td>자양사거리 광진아크로텔 앞</td>\n",
       "      <td>9</td>\n",
       "      <td>2018-07-01 00:09:38</td>\n",
       "      <td>593</td>\n",
       "      <td>자양중앙나들목</td>\n",
       "      <td>5</td>\n",
       "      <td>9</td>\n",
       "      <td>1230</td>\n",
       "    </tr>\n",
       "    <tr>\n",
       "      <th>586300</th>\n",
       "      <td>SPB-15081</td>\n",
       "      <td>2018-06-30 23:59:55</td>\n",
       "      <td>1328</td>\n",
       "      <td>월곡역 3번출구</td>\n",
       "      <td>7</td>\n",
       "      <td>2018-07-01 00:18:02</td>\n",
       "      <td>647</td>\n",
       "      <td>신이문역 1번출구</td>\n",
       "      <td>7</td>\n",
       "      <td>17</td>\n",
       "      <td>3600</td>\n",
       "    </tr>\n",
       "    <tr>\n",
       "      <th>586301</th>\n",
       "      <td>SPB-13677</td>\n",
       "      <td>2018-06-30 23:59:57</td>\n",
       "      <td>2376</td>\n",
       "      <td>수서역 6번출구 앞</td>\n",
       "      <td>2</td>\n",
       "      <td>2018-07-01 00:20:38</td>\n",
       "      <td>2387</td>\n",
       "      <td>래미안강남힐즈 사거리</td>\n",
       "      <td>5</td>\n",
       "      <td>20</td>\n",
       "      <td>2590</td>\n",
       "    </tr>\n",
       "    <tr>\n",
       "      <th>586302</th>\n",
       "      <td>SPB-06577</td>\n",
       "      <td>2018-06-30 23:59:57</td>\n",
       "      <td>1251</td>\n",
       "      <td>석촌역 2번출구</td>\n",
       "      <td>2</td>\n",
       "      <td>2018-07-01 00:57:29</td>\n",
       "      <td>1245</td>\n",
       "      <td>문정 법조단지9</td>\n",
       "      <td>4</td>\n",
       "      <td>57</td>\n",
       "      <td>6640</td>\n",
       "    </tr>\n",
       "    <tr>\n",
       "      <th>586303</th>\n",
       "      <td>SPB-03842</td>\n",
       "      <td>2018-06-30 23:59:58</td>\n",
       "      <td>2169</td>\n",
       "      <td>봉천역 2번출구</td>\n",
       "      <td>6</td>\n",
       "      <td>2018-07-01 00:08:05</td>\n",
       "      <td>2112</td>\n",
       "      <td>서울대입구역 마에스트로</td>\n",
       "      <td>7</td>\n",
       "      <td>7</td>\n",
       "      <td>910</td>\n",
       "    </tr>\n",
       "  </tbody>\n",
       "</table>\n",
       "</div>"
      ],
      "text/plain": [
       "            자전거번호                 대여일시 대여대여소번호           대여대여소명  대여거치대  \\\n",
       "586299  SPB-15985  2018-06-30 23:59:55     505   자양사거리 광진아크로텔 앞      9   \n",
       "586300  SPB-15081  2018-06-30 23:59:55    1328         월곡역 3번출구      7   \n",
       "586301  SPB-13677  2018-06-30 23:59:57    2376       수서역 6번출구 앞      2   \n",
       "586302  SPB-06577  2018-06-30 23:59:57    1251         석촌역 2번출구      2   \n",
       "586303  SPB-03842  2018-06-30 23:59:58    2169         봉천역 2번출구      6   \n",
       "\n",
       "                       반납일시 반납대여소번호         반납대여소명  반납거치대  이용시간(분)  이용거리(M)  \n",
       "586299  2018-07-01 00:09:38     593        자양중앙나들목      5        9     1230  \n",
       "586300  2018-07-01 00:18:02     647      신이문역 1번출구      7       17     3600  \n",
       "586301  2018-07-01 00:20:38    2387    래미안강남힐즈 사거리      5       20     2590  \n",
       "586302  2018-07-01 00:57:29    1245       문정 법조단지9      4       57     6640  \n",
       "586303  2018-07-01 00:08:05    2112   서울대입구역 마에스트로      7        7      910  "
      ]
     },
     "execution_count": 17,
     "metadata": {},
     "output_type": "execute_result"
    }
   ],
   "source": [
    "df.tail()"
   ]
  },
  {
   "cell_type": "code",
   "execution_count": 18,
   "metadata": {},
   "outputs": [
    {
     "name": "stdout",
     "output_type": "stream",
     "text": [
      "<class 'pandas.core.frame.DataFrame'>\n",
      "RangeIndex: 586304 entries, 0 to 586303\n",
      "Data columns (total 11 columns):\n",
      " #   Column   Non-Null Count   Dtype \n",
      "---  ------   --------------   ----- \n",
      " 0   자전거번호    586304 non-null  object\n",
      " 1   대여일시     586304 non-null  object\n",
      " 2   대여대여소번호  586304 non-null  object\n",
      " 3   대여대여소명   586304 non-null  object\n",
      " 4   대여거치대    586304 non-null  int64 \n",
      " 5   반납일시     586304 non-null  object\n",
      " 6   반납대여소번호  586304 non-null  object\n",
      " 7   반납대여소명   586304 non-null  object\n",
      " 8   반납거치대    586304 non-null  int64 \n",
      " 9   이용시간(분)  586304 non-null  int64 \n",
      " 10  이용거리(M)  586304 non-null  int64 \n",
      "dtypes: int64(4), object(7)\n",
      "memory usage: 49.2+ MB\n"
     ]
    }
   ],
   "source": [
    "df.info()"
   ]
  },
  {
   "cell_type": "code",
   "execution_count": 19,
   "metadata": {},
   "outputs": [
    {
     "data": {
      "text/html": [
       "<div>\n",
       "<style scoped>\n",
       "    .dataframe tbody tr th:only-of-type {\n",
       "        vertical-align: middle;\n",
       "    }\n",
       "\n",
       "    .dataframe tbody tr th {\n",
       "        vertical-align: top;\n",
       "    }\n",
       "\n",
       "    .dataframe thead th {\n",
       "        text-align: right;\n",
       "    }\n",
       "</style>\n",
       "<table border=\"1\" class=\"dataframe\">\n",
       "  <thead>\n",
       "    <tr style=\"text-align: right;\">\n",
       "      <th></th>\n",
       "      <th>자전거번호</th>\n",
       "      <th>대여일시</th>\n",
       "      <th>대여대여소번호</th>\n",
       "      <th>대여대여소명</th>\n",
       "      <th>반납일시</th>\n",
       "      <th>반납대여소번호</th>\n",
       "      <th>반납대여소명</th>\n",
       "    </tr>\n",
       "  </thead>\n",
       "  <tbody>\n",
       "    <tr>\n",
       "      <th>count</th>\n",
       "      <td>586304</td>\n",
       "      <td>586304</td>\n",
       "      <td>586304</td>\n",
       "      <td>586304</td>\n",
       "      <td>586304</td>\n",
       "      <td>586304</td>\n",
       "      <td>586304</td>\n",
       "    </tr>\n",
       "    <tr>\n",
       "      <th>unique</th>\n",
       "      <td>12970</td>\n",
       "      <td>426750</td>\n",
       "      <td>1267</td>\n",
       "      <td>1267</td>\n",
       "      <td>427833</td>\n",
       "      <td>1269</td>\n",
       "      <td>1269</td>\n",
       "    </tr>\n",
       "    <tr>\n",
       "      <th>top</th>\n",
       "      <td>SPB-18238</td>\n",
       "      <td>2018-06-18 18:56:44</td>\n",
       "      <td>207</td>\n",
       "      <td>여의나루역 1번출구 앞</td>\n",
       "      <td>2018-06-19 19:53:32</td>\n",
       "      <td>113</td>\n",
       "      <td>홍대입구역 2번출구 앞</td>\n",
       "    </tr>\n",
       "    <tr>\n",
       "      <th>freq</th>\n",
       "      <td>139</td>\n",
       "      <td>42</td>\n",
       "      <td>4073</td>\n",
       "      <td>4073</td>\n",
       "      <td>18</td>\n",
       "      <td>3896</td>\n",
       "      <td>3896</td>\n",
       "    </tr>\n",
       "  </tbody>\n",
       "</table>\n",
       "</div>"
      ],
      "text/plain": [
       "            자전거번호                 대여일시 대여대여소번호         대여대여소명  \\\n",
       "count      586304               586304  586304         586304   \n",
       "unique      12970               426750    1267           1267   \n",
       "top     SPB-18238  2018-06-18 18:56:44     207   여의나루역 1번출구 앞   \n",
       "freq          139                   42    4073           4073   \n",
       "\n",
       "                       반납일시 반납대여소번호         반납대여소명  \n",
       "count                586304  586304         586304  \n",
       "unique               427833    1269           1269  \n",
       "top     2018-06-19 19:53:32     113   홍대입구역 2번출구 앞  \n",
       "freq                     18    3896           3896  "
      ]
     },
     "execution_count": 19,
     "metadata": {},
     "output_type": "execute_result"
    }
   ],
   "source": [
    "df.describe(include=np.object)"
   ]
  },
  {
   "cell_type": "markdown",
   "metadata": {},
   "source": [
    "## 결측치 보기"
   ]
  },
  {
   "cell_type": "code",
   "execution_count": 20,
   "metadata": {},
   "outputs": [
    {
     "data": {
      "text/plain": [
       "자전거번호      0\n",
       "대여일시       0\n",
       "대여대여소번호    0\n",
       "대여대여소명     0\n",
       "대여거치대      0\n",
       "반납일시       0\n",
       "반납대여소번호    0\n",
       "반납대여소명     0\n",
       "반납거치대      0\n",
       "이용시간(분)    0\n",
       "이용거리(M)    0\n",
       "dtype: int64"
      ]
     },
     "execution_count": 20,
     "metadata": {},
     "output_type": "execute_result"
    }
   ],
   "source": [
    "df.isnull().sum()"
   ]
  },
  {
   "cell_type": "markdown",
   "metadata": {},
   "source": [
    "## 결측치 시각화 하기\n",
    "* missingno는 별도로 설치해야 하는 시각화 도구 입니다. 결측치를 시각화해서 볼 수 있습니다."
   ]
  },
  {
   "cell_type": "code",
   "execution_count": 21,
   "metadata": {},
   "outputs": [],
   "source": [
    "#!pip install missingno"
   ]
  },
  {
   "cell_type": "code",
   "execution_count": 22,
   "metadata": {},
   "outputs": [],
   "source": [
    "# 결측치 보기\n",
    "#import missingno as msno\n",
    "\n",
    "#msno.matrix(df, figsize=(12,5))"
   ]
  },
  {
   "cell_type": "markdown",
   "metadata": {},
   "source": [
    "## 대여소별 대여|반납 현황"
   ]
  },
  {
   "cell_type": "code",
   "execution_count": 23,
   "metadata": {},
   "outputs": [],
   "source": [
    "#df['대여대여소번호'].unique().shape[0]"
   ]
  },
  {
   "cell_type": "code",
   "execution_count": 24,
   "metadata": {},
   "outputs": [],
   "source": [
    "# print('# 대여소 수')\n",
    "# print('대여 대여소: ', df['대여대여소번호'].unique().shape[0])\n",
    "# print('반납 대여소: ', df['반납대여소번호'].unique().shape[0])"
   ]
  },
  {
   "cell_type": "code",
   "execution_count": 25,
   "metadata": {},
   "outputs": [],
   "source": [
    "# df['대여대여소번호'].value_counts().tail(10)"
   ]
  },
  {
   "cell_type": "markdown",
   "metadata": {},
   "source": [
    "* 대여 대여소번호에 상암센터 정비실과 위트콤 같은 숫자가 아닌 곳들이 있음"
   ]
  },
  {
   "cell_type": "code",
   "execution_count": 26,
   "metadata": {},
   "outputs": [
    {
     "data": {
      "text/plain": [
       " 여의나루역 1번출구 앞               4073\n",
       " 뚝섬유원지역 1번출구 앞              3369\n",
       " 홍대입구역 2번출구 앞               3174\n",
       " 봉림교 교통섬                    2709\n",
       " 롯데월드타워(잠실역2번출구 쪽)          2637\n",
       " 고속터미널역 8-1번, 8-2번 출구 사이    2453\n",
       " 마포구민체육센터 앞                 2178\n",
       " 신도림역 1번 출구 앞               2022\n",
       " 안암로터리 버스정류장 앞              1987\n",
       " 잠실새내역 5번 출구 뒤              1841\n",
       "Name: 대여대여소명, dtype: int64"
      ]
     },
     "execution_count": 26,
     "metadata": {},
     "output_type": "execute_result"
    }
   ],
   "source": [
    "# 대여량이 많은 상위 대여소\n",
    "df['대여대여소명'].value_counts().head(10)"
   ]
  },
  {
   "cell_type": "code",
   "execution_count": 27,
   "metadata": {},
   "outputs": [
    {
     "data": {
      "text/plain": [
       " 홍대입구역 2번출구 앞               3896\n",
       " 뚝섬유원지역 1번출구 앞              3814\n",
       " 여의나루역 1번출구 앞               3730\n",
       " 봉림교 교통섬                    2762\n",
       " 롯데월드타워(잠실역2번출구 쪽)          2624\n",
       " 고속터미널역 8-1번, 8-2번 출구 사이    2495\n",
       " 마포구민체육센터 앞                 2454\n",
       " 안암로터리 버스정류장 앞              2110\n",
       " 신도림역 1번 출구 앞               1961\n",
       " CJ 드림시티                    1932\n",
       "Name: 반납대여소명, dtype: int64"
      ]
     },
     "execution_count": 27,
     "metadata": {},
     "output_type": "execute_result"
    }
   ],
   "source": [
    "# 반납량이 많은 상위 대여소\n",
    "df['반납대여소명'].value_counts().head(10)"
   ]
  },
  {
   "cell_type": "markdown",
   "metadata": {},
   "source": [
    "1. 대여반납이 많은 상위 대여소인 홍대입구역, 여의나루역, 뚝섬유원지, 롯데월드타워는 모두 강이나 호수를 인근에 두고 있다. \n",
    "2. 성대입구나 안암로터리 버스정류장은 대학가 인근이다."
   ]
  },
  {
   "cell_type": "code",
   "execution_count": 28,
   "metadata": {},
   "outputs": [
    {
     "data": {
      "text/plain": [
       "대여대여소명\n",
       "  강동구청 앞          3823.703704\n",
       "  둔촌역 3번 출입구      3733.403042\n",
       " (구)신한은행 중랑교지점    4562.977346\n",
       " (구)합정동 주민센터      4876.831169\n",
       " 3호선 매봉역 3번출구앞    5489.920319\n",
       "                     ...     \n",
       "이수역 4번 출구         4728.075370\n",
       "자양중앙나들목           4192.175503\n",
       "중랑센터              4281.914894\n",
       "청계산입구역 1번출구       2695.479705\n",
       "하나은행 방배동지점 앞      6159.078341\n",
       "Name: 이용거리(M), Length: 1267, dtype: float64"
      ]
     },
     "execution_count": 28,
     "metadata": {},
     "output_type": "execute_result"
    }
   ],
   "source": [
    "df.groupby(['대여대여소명'])['이용거리(M)'].mean()"
   ]
  },
  {
   "cell_type": "code",
   "execution_count": 29,
   "metadata": {},
   "outputs": [
    {
     "data": {
      "text/html": [
       "<div>\n",
       "<style scoped>\n",
       "    .dataframe tbody tr th:only-of-type {\n",
       "        vertical-align: middle;\n",
       "    }\n",
       "\n",
       "    .dataframe tbody tr th {\n",
       "        vertical-align: top;\n",
       "    }\n",
       "\n",
       "    .dataframe thead th {\n",
       "        text-align: right;\n",
       "    }\n",
       "</style>\n",
       "<table border=\"1\" class=\"dataframe\">\n",
       "  <thead>\n",
       "    <tr style=\"text-align: right;\">\n",
       "      <th></th>\n",
       "      <th>대여대여소명</th>\n",
       "      <th>이용거리(M)</th>\n",
       "    </tr>\n",
       "  </thead>\n",
       "  <tbody>\n",
       "    <tr>\n",
       "      <th>353</th>\n",
       "      <td>동작역 5번출구 동작주차공원</td>\n",
       "      <td>10454.240000</td>\n",
       "    </tr>\n",
       "    <tr>\n",
       "      <th>330</th>\n",
       "      <td>독산보도육교 앞 자전거 보관소</td>\n",
       "      <td>10401.840607</td>\n",
       "    </tr>\n",
       "    <tr>\n",
       "      <th>810</th>\n",
       "      <td>신한은행 시흥대로금융센터지점</td>\n",
       "      <td>9857.738095</td>\n",
       "    </tr>\n",
       "    <tr>\n",
       "      <th>280</th>\n",
       "      <td>달맞이공원</td>\n",
       "      <td>9639.504950</td>\n",
       "    </tr>\n",
       "    <tr>\n",
       "      <th>1166</th>\n",
       "      <td>한내근린공원 남측</td>\n",
       "      <td>9419.090909</td>\n",
       "    </tr>\n",
       "    <tr>\n",
       "      <th>1197</th>\n",
       "      <td>현대자동차서비스 앞</td>\n",
       "      <td>9364.282178</td>\n",
       "    </tr>\n",
       "    <tr>\n",
       "      <th>419</th>\n",
       "      <td>망원초록길 입구</td>\n",
       "      <td>9160.294118</td>\n",
       "    </tr>\n",
       "    <tr>\n",
       "      <th>1194</th>\n",
       "      <td>현대고등학교 건너편</td>\n",
       "      <td>9047.614350</td>\n",
       "    </tr>\n",
       "    <tr>\n",
       "      <th>1231</th>\n",
       "      <td>흑석역 1번출구</td>\n",
       "      <td>8938.909300</td>\n",
       "    </tr>\n",
       "    <tr>\n",
       "      <th>1113</th>\n",
       "      <td>청계천 생태교실 앞</td>\n",
       "      <td>8923.918819</td>\n",
       "    </tr>\n",
       "  </tbody>\n",
       "</table>\n",
       "</div>"
      ],
      "text/plain": [
       "                 대여대여소명       이용거리(M)\n",
       "353     동작역 5번출구 동작주차공원  10454.240000\n",
       "330    독산보도육교 앞 자전거 보관소  10401.840607\n",
       "810     신한은행 시흥대로금융센터지점   9857.738095\n",
       "280               달맞이공원   9639.504950\n",
       "1166          한내근린공원 남측   9419.090909\n",
       "1197         현대자동차서비스 앞   9364.282178\n",
       "419            망원초록길 입구   9160.294118\n",
       "1194         현대고등학교 건너편   9047.614350\n",
       "1231           흑석역 1번출구   8938.909300\n",
       "1113         청계천 생태교실 앞   8923.918819"
      ]
     },
     "execution_count": 29,
     "metadata": {},
     "output_type": "execute_result"
    }
   ],
   "source": [
    "# 평균 이용거리가 긴 상위 대여소 \n",
    "# df.groupby(['대여대여소명'])['이용거리(M)'].mean() 의 결과는 Series객체이지만 \n",
    "# reset_index()를 하면 DataFrame이 된다.\n",
    "df.groupby(['대여대여소명'])['이용거리(M)'].mean().reset_index()\\\n",
    ".sort_values(by='이용거리(M)', ascending=False).head(10)"
   ]
  },
  {
   "cell_type": "code",
   "execution_count": 30,
   "metadata": {},
   "outputs": [
    {
     "data": {
      "text/html": [
       "<div>\n",
       "<style scoped>\n",
       "    .dataframe tbody tr th:only-of-type {\n",
       "        vertical-align: middle;\n",
       "    }\n",
       "\n",
       "    .dataframe tbody tr th {\n",
       "        vertical-align: top;\n",
       "    }\n",
       "\n",
       "    .dataframe thead th {\n",
       "        text-align: right;\n",
       "    }\n",
       "</style>\n",
       "<table border=\"1\" class=\"dataframe\">\n",
       "  <thead>\n",
       "    <tr style=\"text-align: right;\">\n",
       "      <th></th>\n",
       "      <th>대여대여소명</th>\n",
       "      <th>이용거리(M)</th>\n",
       "    </tr>\n",
       "  </thead>\n",
       "  <tbody>\n",
       "    <tr>\n",
       "      <th>1249</th>\n",
       "      <td>상암센터 정비실</td>\n",
       "      <td>256.250000</td>\n",
       "    </tr>\n",
       "    <tr>\n",
       "      <th>188</th>\n",
       "      <td>국군복지단</td>\n",
       "      <td>1828.244275</td>\n",
       "    </tr>\n",
       "    <tr>\n",
       "      <th>7</th>\n",
       "      <td>CJ오쇼핑앞</td>\n",
       "      <td>1832.727273</td>\n",
       "    </tr>\n",
       "    <tr>\n",
       "      <th>100</th>\n",
       "      <td>건국대학교 과학관(이과대) 앞</td>\n",
       "      <td>2143.065327</td>\n",
       "    </tr>\n",
       "    <tr>\n",
       "      <th>937</th>\n",
       "      <td>원남동사거리</td>\n",
       "      <td>2234.752294</td>\n",
       "    </tr>\n",
       "  </tbody>\n",
       "</table>\n",
       "</div>"
      ],
      "text/plain": [
       "                 대여대여소명      이용거리(M)\n",
       "1249           상암센터 정비실   256.250000\n",
       "188               국군복지단  1828.244275\n",
       "7                CJ오쇼핑앞  1832.727273\n",
       "100    건국대학교 과학관(이과대) 앞  2143.065327\n",
       "937              원남동사거리  2234.752294"
      ]
     },
     "execution_count": 30,
     "metadata": {},
     "output_type": "execute_result"
    }
   ],
   "source": [
    "# 평균 이용거리가 짧은 대여소\n",
    "df.groupby(['대여대여소명'])['이용거리(M)'].mean().reset_index()\\\n",
    ".sort_values(by='이용거리(M)', ascending=True).head()"
   ]
  },
  {
   "cell_type": "code",
   "execution_count": 31,
   "metadata": {},
   "outputs": [
    {
     "data": {
      "text/html": [
       "<div>\n",
       "<style scoped>\n",
       "    .dataframe tbody tr th:only-of-type {\n",
       "        vertical-align: middle;\n",
       "    }\n",
       "\n",
       "    .dataframe tbody tr th {\n",
       "        vertical-align: top;\n",
       "    }\n",
       "\n",
       "    .dataframe thead th {\n",
       "        text-align: right;\n",
       "    }\n",
       "</style>\n",
       "<table border=\"1\" class=\"dataframe\">\n",
       "  <thead>\n",
       "    <tr style=\"text-align: right;\">\n",
       "      <th></th>\n",
       "      <th>대여대여소명</th>\n",
       "      <th>이용시간(분)</th>\n",
       "    </tr>\n",
       "  </thead>\n",
       "  <tbody>\n",
       "    <tr>\n",
       "      <th>280</th>\n",
       "      <td>달맞이공원</td>\n",
       "      <td>59.782178</td>\n",
       "    </tr>\n",
       "    <tr>\n",
       "      <th>353</th>\n",
       "      <td>동작역 5번출구 동작주차공원</td>\n",
       "      <td>59.484000</td>\n",
       "    </tr>\n",
       "    <tr>\n",
       "      <th>93</th>\n",
       "      <td>개화동상사마을종점 버스정류장</td>\n",
       "      <td>55.500000</td>\n",
       "    </tr>\n",
       "    <tr>\n",
       "      <th>649</th>\n",
       "      <td>서울숲 남문 버스정류소 옆</td>\n",
       "      <td>55.495074</td>\n",
       "    </tr>\n",
       "    <tr>\n",
       "      <th>648</th>\n",
       "      <td>서울숲 관리사무소</td>\n",
       "      <td>55.492228</td>\n",
       "    </tr>\n",
       "  </tbody>\n",
       "</table>\n",
       "</div>"
      ],
      "text/plain": [
       "               대여대여소명    이용시간(분)\n",
       "280             달맞이공원  59.782178\n",
       "353   동작역 5번출구 동작주차공원  59.484000\n",
       "93    개화동상사마을종점 버스정류장  55.500000\n",
       "649    서울숲 남문 버스정류소 옆  55.495074\n",
       "648         서울숲 관리사무소  55.492228"
      ]
     },
     "execution_count": 31,
     "metadata": {},
     "output_type": "execute_result"
    }
   ],
   "source": [
    "# 평균 이용시간이 많은 상위 대여소\n",
    "df.groupby(['대여대여소명'])['이용시간(분)'].mean().reset_index()\\\n",
    ".sort_values(by='이용시간(분)', ascending=False).head()"
   ]
  },
  {
   "cell_type": "code",
   "execution_count": 32,
   "metadata": {},
   "outputs": [
    {
     "data": {
      "text/html": [
       "<div>\n",
       "<style scoped>\n",
       "    .dataframe tbody tr th:only-of-type {\n",
       "        vertical-align: middle;\n",
       "    }\n",
       "\n",
       "    .dataframe tbody tr th {\n",
       "        vertical-align: top;\n",
       "    }\n",
       "\n",
       "    .dataframe thead th {\n",
       "        text-align: right;\n",
       "    }\n",
       "</style>\n",
       "<table border=\"1\" class=\"dataframe\">\n",
       "  <thead>\n",
       "    <tr style=\"text-align: right;\">\n",
       "      <th></th>\n",
       "      <th>대여대여소명</th>\n",
       "      <th>이용시간(분)</th>\n",
       "    </tr>\n",
       "  </thead>\n",
       "  <tbody>\n",
       "    <tr>\n",
       "      <th>7</th>\n",
       "      <td>CJ오쇼핑앞</td>\n",
       "      <td>11.416667</td>\n",
       "    </tr>\n",
       "    <tr>\n",
       "      <th>1249</th>\n",
       "      <td>상암센터 정비실</td>\n",
       "      <td>12.000000</td>\n",
       "    </tr>\n",
       "    <tr>\n",
       "      <th>188</th>\n",
       "      <td>국군복지단</td>\n",
       "      <td>12.022901</td>\n",
       "    </tr>\n",
       "    <tr>\n",
       "      <th>1089</th>\n",
       "      <td>참새공원(백곡경노당)</td>\n",
       "      <td>12.666667</td>\n",
       "    </tr>\n",
       "    <tr>\n",
       "      <th>575</th>\n",
       "      <td>삼일초등학교 인근</td>\n",
       "      <td>14.460274</td>\n",
       "    </tr>\n",
       "  </tbody>\n",
       "</table>\n",
       "</div>"
      ],
      "text/plain": [
       "            대여대여소명    이용시간(분)\n",
       "7           CJ오쇼핑앞  11.416667\n",
       "1249      상암센터 정비실  12.000000\n",
       "188          국군복지단  12.022901\n",
       "1089   참새공원(백곡경노당)  12.666667\n",
       "575      삼일초등학교 인근  14.460274"
      ]
     },
     "execution_count": 32,
     "metadata": {},
     "output_type": "execute_result"
    }
   ],
   "source": [
    "# 평균 이용시간이 적은 상위 대여소\n",
    "df.groupby(['대여대여소명'])['이용시간(분)'].mean().reset_index()\\\n",
    ".sort_values(by='이용시간(분)', ascending=True).head()"
   ]
  },
  {
   "cell_type": "markdown",
   "metadata": {},
   "source": [
    "## 시계열 데이터 보기"
   ]
  },
  {
   "cell_type": "code",
   "execution_count": 33,
   "metadata": {},
   "outputs": [
    {
     "data": {
      "text/plain": [
       "자전거번호      object\n",
       "대여일시       object\n",
       "대여대여소번호    object\n",
       "대여대여소명     object\n",
       "대여거치대       int64\n",
       "반납일시       object\n",
       "반납대여소번호    object\n",
       "반납대여소명     object\n",
       "반납거치대       int64\n",
       "이용시간(분)     int64\n",
       "이용거리(M)     int64\n",
       "dtype: object"
      ]
     },
     "execution_count": 33,
     "metadata": {},
     "output_type": "execute_result"
    }
   ],
   "source": [
    "df.dtypes"
   ]
  },
  {
   "cell_type": "code",
   "execution_count": 34,
   "metadata": {},
   "outputs": [
    {
     "data": {
      "text/plain": [
       "자전거번호              object\n",
       "대여일시       datetime64[ns]\n",
       "대여대여소번호            object\n",
       "대여대여소명             object\n",
       "대여거치대               int64\n",
       "반납일시       datetime64[ns]\n",
       "반납대여소번호            object\n",
       "반납대여소명             object\n",
       "반납거치대               int64\n",
       "이용시간(분)             int64\n",
       "이용거리(M)             int64\n",
       "dtype: object"
      ]
     },
     "execution_count": 34,
     "metadata": {},
     "output_type": "execute_result"
    }
   ],
   "source": [
    "df['대여일시'] = pd.to_datetime(df['대여일시'])\n",
    "df['반납일시'] = pd.to_datetime(df['반납일시'])\n",
    "df.dtypes"
   ]
  },
  {
   "cell_type": "code",
   "execution_count": 35,
   "metadata": {},
   "outputs": [
    {
     "data": {
      "text/plain": [
       "Index(['자전거번호', '대여일시', '대여대여소번호', '대여대여소명', '대여거치대', '반납일시', '반납대여소번호',\n",
       "       '반납대여소명', '반납거치대', '이용시간(분)', '이용거리(M)', '대여년', '대여월', '대여일', '대여시',\n",
       "       '대여분', '대여요일'],\n",
       "      dtype='object')"
      ]
     },
     "execution_count": 35,
     "metadata": {},
     "output_type": "execute_result"
    }
   ],
   "source": [
    "df['대여년'] = df['대여일시'].dt.year\n",
    "df['대여월'] = df['대여일시'].dt.month\n",
    "df['대여일'] = df['대여일시'].dt.day\n",
    "df['대여시'] = df['대여일시'].dt.hour\n",
    "df['대여분'] = df['대여일시'].dt.minute\n",
    "df['대여요일'] = df['대여일시'].dt.dayofweek\n",
    "df.columns"
   ]
  },
  {
   "cell_type": "code",
   "execution_count": 36,
   "metadata": {},
   "outputs": [
    {
     "data": {
      "text/plain": [
       "Index(['자전거번호', '대여일시', '대여대여소번호', '대여대여소명', '대여거치대', '반납일시', '반납대여소번호',\n",
       "       '반납대여소명', '반납거치대', '이용시간(분)', '이용거리(M)', '대여년', '대여월', '대여일', '대여시',\n",
       "       '대여분', '대여요일', '반납년', '반납월', '반납일', '반납시', '반납분', '반납요일'],\n",
       "      dtype='object')"
      ]
     },
     "execution_count": 36,
     "metadata": {},
     "output_type": "execute_result"
    }
   ],
   "source": [
    "df['반납년'] = df['반납일시'].dt.year\n",
    "df['반납월'] = df['반납일시'].dt.month\n",
    "df['반납일'] = df['반납일시'].dt.day\n",
    "df['반납시'] = df['반납일시'].dt.hour\n",
    "df['반납분'] = df['반납일시'].dt.minute\n",
    "df['반납요일'] = df['반납일시'].dt.dayofweek\n",
    "df.columns"
   ]
  },
  {
   "cell_type": "markdown",
   "metadata": {},
   "source": [
    "## 일자별 대여|반납 현황\n",
    "* 날짜에 따라 대여|반납 횟수를 확인한다."
   ]
  },
  {
   "cell_type": "code",
   "execution_count": 37,
   "metadata": {},
   "outputs": [
    {
     "data": {
      "text/html": [
       "<div>\n",
       "<style scoped>\n",
       "    .dataframe tbody tr th:only-of-type {\n",
       "        vertical-align: middle;\n",
       "    }\n",
       "\n",
       "    .dataframe tbody tr th {\n",
       "        vertical-align: top;\n",
       "    }\n",
       "\n",
       "    .dataframe thead th {\n",
       "        text-align: right;\n",
       "    }\n",
       "</style>\n",
       "<table border=\"1\" class=\"dataframe\">\n",
       "  <thead>\n",
       "    <tr style=\"text-align: right;\">\n",
       "      <th></th>\n",
       "      <th>index</th>\n",
       "      <th>대여일</th>\n",
       "    </tr>\n",
       "  </thead>\n",
       "  <tbody>\n",
       "    <tr>\n",
       "      <th>0</th>\n",
       "      <td>21</td>\n",
       "      <td>47319</td>\n",
       "    </tr>\n",
       "    <tr>\n",
       "      <th>1</th>\n",
       "      <td>22</td>\n",
       "      <td>47024</td>\n",
       "    </tr>\n",
       "    <tr>\n",
       "      <th>2</th>\n",
       "      <td>19</td>\n",
       "      <td>46839</td>\n",
       "    </tr>\n",
       "    <tr>\n",
       "      <th>3</th>\n",
       "      <td>20</td>\n",
       "      <td>46107</td>\n",
       "    </tr>\n",
       "    <tr>\n",
       "      <th>4</th>\n",
       "      <td>25</td>\n",
       "      <td>46105</td>\n",
       "    </tr>\n",
       "    <tr>\n",
       "      <th>5</th>\n",
       "      <td>16</td>\n",
       "      <td>46038</td>\n",
       "    </tr>\n",
       "    <tr>\n",
       "      <th>6</th>\n",
       "      <td>23</td>\n",
       "      <td>45274</td>\n",
       "    </tr>\n",
       "    <tr>\n",
       "      <th>7</th>\n",
       "      <td>17</td>\n",
       "      <td>43161</td>\n",
       "    </tr>\n",
       "    <tr>\n",
       "      <th>8</th>\n",
       "      <td>29</td>\n",
       "      <td>42313</td>\n",
       "    </tr>\n",
       "    <tr>\n",
       "      <th>9</th>\n",
       "      <td>27</td>\n",
       "      <td>40698</td>\n",
       "    </tr>\n",
       "    <tr>\n",
       "      <th>10</th>\n",
       "      <td>24</td>\n",
       "      <td>39164</td>\n",
       "    </tr>\n",
       "    <tr>\n",
       "      <th>11</th>\n",
       "      <td>18</td>\n",
       "      <td>35828</td>\n",
       "    </tr>\n",
       "    <tr>\n",
       "      <th>12</th>\n",
       "      <td>28</td>\n",
       "      <td>27453</td>\n",
       "    </tr>\n",
       "    <tr>\n",
       "      <th>13</th>\n",
       "      <td>30</td>\n",
       "      <td>26669</td>\n",
       "    </tr>\n",
       "    <tr>\n",
       "      <th>14</th>\n",
       "      <td>26</td>\n",
       "      <td>6312</td>\n",
       "    </tr>\n",
       "  </tbody>\n",
       "</table>\n",
       "</div>"
      ],
      "text/plain": [
       "    index    대여일\n",
       "0      21  47319\n",
       "1      22  47024\n",
       "2      19  46839\n",
       "3      20  46107\n",
       "4      25  46105\n",
       "5      16  46038\n",
       "6      23  45274\n",
       "7      17  43161\n",
       "8      29  42313\n",
       "9      27  40698\n",
       "10     24  39164\n",
       "11     18  35828\n",
       "12     28  27453\n",
       "13     30  26669\n",
       "14     26   6312"
      ]
     },
     "execution_count": 37,
     "metadata": {},
     "output_type": "execute_result"
    }
   ],
   "source": [
    "df['대여일'].value_counts().reset_index()"
   ]
  },
  {
   "cell_type": "code",
   "execution_count": 38,
   "metadata": {},
   "outputs": [
    {
     "data": {
      "text/html": [
       "<div>\n",
       "<style scoped>\n",
       "    .dataframe tbody tr th:only-of-type {\n",
       "        vertical-align: middle;\n",
       "    }\n",
       "\n",
       "    .dataframe tbody tr th {\n",
       "        vertical-align: top;\n",
       "    }\n",
       "\n",
       "    .dataframe thead th {\n",
       "        text-align: right;\n",
       "    }\n",
       "</style>\n",
       "<table border=\"1\" class=\"dataframe\">\n",
       "  <thead>\n",
       "    <tr style=\"text-align: right;\">\n",
       "      <th></th>\n",
       "      <th>index</th>\n",
       "      <th>반납일</th>\n",
       "    </tr>\n",
       "  </thead>\n",
       "  <tbody>\n",
       "    <tr>\n",
       "      <th>0</th>\n",
       "      <td>21</td>\n",
       "      <td>47232</td>\n",
       "    </tr>\n",
       "    <tr>\n",
       "      <th>1</th>\n",
       "      <td>19</td>\n",
       "      <td>46878</td>\n",
       "    </tr>\n",
       "    <tr>\n",
       "      <th>2</th>\n",
       "      <td>22</td>\n",
       "      <td>46670</td>\n",
       "    </tr>\n",
       "    <tr>\n",
       "      <th>3</th>\n",
       "      <td>25</td>\n",
       "      <td>46276</td>\n",
       "    </tr>\n",
       "    <tr>\n",
       "      <th>4</th>\n",
       "      <td>20</td>\n",
       "      <td>46085</td>\n",
       "    </tr>\n",
       "    <tr>\n",
       "      <th>5</th>\n",
       "      <td>23</td>\n",
       "      <td>45695</td>\n",
       "    </tr>\n",
       "    <tr>\n",
       "      <th>6</th>\n",
       "      <td>16</td>\n",
       "      <td>44701</td>\n",
       "    </tr>\n",
       "    <tr>\n",
       "      <th>7</th>\n",
       "      <td>17</td>\n",
       "      <td>43669</td>\n",
       "    </tr>\n",
       "    <tr>\n",
       "      <th>8</th>\n",
       "      <td>29</td>\n",
       "      <td>41498</td>\n",
       "    </tr>\n",
       "    <tr>\n",
       "      <th>9</th>\n",
       "      <td>27</td>\n",
       "      <td>40450</td>\n",
       "    </tr>\n",
       "    <tr>\n",
       "      <th>10</th>\n",
       "      <td>24</td>\n",
       "      <td>38962</td>\n",
       "    </tr>\n",
       "    <tr>\n",
       "      <th>11</th>\n",
       "      <td>18</td>\n",
       "      <td>35781</td>\n",
       "    </tr>\n",
       "    <tr>\n",
       "      <th>12</th>\n",
       "      <td>28</td>\n",
       "      <td>27540</td>\n",
       "    </tr>\n",
       "    <tr>\n",
       "      <th>13</th>\n",
       "      <td>30</td>\n",
       "      <td>27299</td>\n",
       "    </tr>\n",
       "    <tr>\n",
       "      <th>14</th>\n",
       "      <td>26</td>\n",
       "      <td>7028</td>\n",
       "    </tr>\n",
       "    <tr>\n",
       "      <th>15</th>\n",
       "      <td>1</td>\n",
       "      <td>538</td>\n",
       "    </tr>\n",
       "    <tr>\n",
       "      <th>16</th>\n",
       "      <td>3</td>\n",
       "      <td>1</td>\n",
       "    </tr>\n",
       "    <tr>\n",
       "      <th>17</th>\n",
       "      <td>2</td>\n",
       "      <td>1</td>\n",
       "    </tr>\n",
       "  </tbody>\n",
       "</table>\n",
       "</div>"
      ],
      "text/plain": [
       "    index    반납일\n",
       "0      21  47232\n",
       "1      19  46878\n",
       "2      22  46670\n",
       "3      25  46276\n",
       "4      20  46085\n",
       "5      23  45695\n",
       "6      16  44701\n",
       "7      17  43669\n",
       "8      29  41498\n",
       "9      27  40450\n",
       "10     24  38962\n",
       "11     18  35781\n",
       "12     28  27540\n",
       "13     30  27299\n",
       "14     26   7028\n",
       "15      1    538\n",
       "16      3      1\n",
       "17      2      1"
      ]
     },
     "execution_count": 38,
     "metadata": {},
     "output_type": "execute_result"
    }
   ],
   "source": [
    "df['반납일'].value_counts().reset_index()"
   ]
  },
  {
   "cell_type": "code",
   "execution_count": 39,
   "metadata": {},
   "outputs": [
    {
     "name": "stdout",
     "output_type": "stream",
     "text": [
      "(15, 3)\n",
      "(18, 3)\n",
      "(33, 3)\n"
     ]
    },
    {
     "data": {
      "text/html": [
       "<div>\n",
       "<style scoped>\n",
       "    .dataframe tbody tr th:only-of-type {\n",
       "        vertical-align: middle;\n",
       "    }\n",
       "\n",
       "    .dataframe tbody tr th {\n",
       "        vertical-align: top;\n",
       "    }\n",
       "\n",
       "    .dataframe thead th {\n",
       "        text-align: right;\n",
       "    }\n",
       "</style>\n",
       "<table border=\"1\" class=\"dataframe\">\n",
       "  <thead>\n",
       "    <tr style=\"text-align: right;\">\n",
       "      <th></th>\n",
       "      <th>day</th>\n",
       "      <th>count</th>\n",
       "      <th>대여반납</th>\n",
       "    </tr>\n",
       "  </thead>\n",
       "  <tbody>\n",
       "    <tr>\n",
       "      <th>5</th>\n",
       "      <td>16</td>\n",
       "      <td>46038</td>\n",
       "      <td>대여</td>\n",
       "    </tr>\n",
       "    <tr>\n",
       "      <th>7</th>\n",
       "      <td>17</td>\n",
       "      <td>43161</td>\n",
       "      <td>대여</td>\n",
       "    </tr>\n",
       "    <tr>\n",
       "      <th>11</th>\n",
       "      <td>18</td>\n",
       "      <td>35828</td>\n",
       "      <td>대여</td>\n",
       "    </tr>\n",
       "    <tr>\n",
       "      <th>2</th>\n",
       "      <td>19</td>\n",
       "      <td>46839</td>\n",
       "      <td>대여</td>\n",
       "    </tr>\n",
       "    <tr>\n",
       "      <th>3</th>\n",
       "      <td>20</td>\n",
       "      <td>46107</td>\n",
       "      <td>대여</td>\n",
       "    </tr>\n",
       "  </tbody>\n",
       "</table>\n",
       "</div>"
      ],
      "text/plain": [
       "    day  count 대여반납\n",
       "5    16  46038   대여\n",
       "7    17  43161   대여\n",
       "11   18  35828   대여\n",
       "2    19  46839   대여\n",
       "3    20  46107   대여"
      ]
     },
     "execution_count": 39,
     "metadata": {},
     "output_type": "execute_result"
    }
   ],
   "source": [
    "df_day_1 = df['대여일'].value_counts().reset_index()\n",
    "df_day_1.columns = ['day', 'count']\n",
    "\n",
    "df_day_1 = df_day_1.sort_values('day')\n",
    "df_day_1['대여반납'] = '대여'\n",
    "#print(df_day_1)\n",
    "print(df_day_1.shape)\n",
    "\n",
    "df_day_2 = df['반납일'].value_counts().reset_index()\n",
    "df_day_2.columns = ['day', 'count']\n",
    "df_day_2 = df_day_2.sort_values('day')\n",
    "df_day_2['대여반납'] = '반납'\n",
    "#print(df_day_2)\n",
    "print(df_day_2.shape)\n",
    "\n",
    "df_day = pd.concat([df_day_1, df_day_2])\n",
    "print(df_day.shape)\n",
    "df_day.head()"
   ]
  },
  {
   "cell_type": "code",
   "execution_count": 40,
   "metadata": {},
   "outputs": [
    {
     "data": {
      "text/html": [
       "<div>\n",
       "<style scoped>\n",
       "    .dataframe tbody tr th:only-of-type {\n",
       "        vertical-align: middle;\n",
       "    }\n",
       "\n",
       "    .dataframe tbody tr th {\n",
       "        vertical-align: top;\n",
       "    }\n",
       "\n",
       "    .dataframe thead th {\n",
       "        text-align: right;\n",
       "    }\n",
       "</style>\n",
       "<table border=\"1\" class=\"dataframe\">\n",
       "  <thead>\n",
       "    <tr style=\"text-align: right;\">\n",
       "      <th></th>\n",
       "      <th>day</th>\n",
       "      <th>count</th>\n",
       "      <th>대여반납</th>\n",
       "    </tr>\n",
       "  </thead>\n",
       "  <tbody>\n",
       "    <tr>\n",
       "      <th>5</th>\n",
       "      <td>16</td>\n",
       "      <td>46038</td>\n",
       "      <td>대여</td>\n",
       "    </tr>\n",
       "    <tr>\n",
       "      <th>7</th>\n",
       "      <td>17</td>\n",
       "      <td>43161</td>\n",
       "      <td>대여</td>\n",
       "    </tr>\n",
       "    <tr>\n",
       "      <th>11</th>\n",
       "      <td>18</td>\n",
       "      <td>35828</td>\n",
       "      <td>대여</td>\n",
       "    </tr>\n",
       "    <tr>\n",
       "      <th>2</th>\n",
       "      <td>19</td>\n",
       "      <td>46839</td>\n",
       "      <td>대여</td>\n",
       "    </tr>\n",
       "    <tr>\n",
       "      <th>3</th>\n",
       "      <td>20</td>\n",
       "      <td>46107</td>\n",
       "      <td>대여</td>\n",
       "    </tr>\n",
       "    <tr>\n",
       "      <th>0</th>\n",
       "      <td>21</td>\n",
       "      <td>47319</td>\n",
       "      <td>대여</td>\n",
       "    </tr>\n",
       "    <tr>\n",
       "      <th>1</th>\n",
       "      <td>22</td>\n",
       "      <td>47024</td>\n",
       "      <td>대여</td>\n",
       "    </tr>\n",
       "    <tr>\n",
       "      <th>6</th>\n",
       "      <td>23</td>\n",
       "      <td>45274</td>\n",
       "      <td>대여</td>\n",
       "    </tr>\n",
       "    <tr>\n",
       "      <th>10</th>\n",
       "      <td>24</td>\n",
       "      <td>39164</td>\n",
       "      <td>대여</td>\n",
       "    </tr>\n",
       "    <tr>\n",
       "      <th>4</th>\n",
       "      <td>25</td>\n",
       "      <td>46105</td>\n",
       "      <td>대여</td>\n",
       "    </tr>\n",
       "    <tr>\n",
       "      <th>14</th>\n",
       "      <td>26</td>\n",
       "      <td>6312</td>\n",
       "      <td>대여</td>\n",
       "    </tr>\n",
       "    <tr>\n",
       "      <th>9</th>\n",
       "      <td>27</td>\n",
       "      <td>40698</td>\n",
       "      <td>대여</td>\n",
       "    </tr>\n",
       "    <tr>\n",
       "      <th>12</th>\n",
       "      <td>28</td>\n",
       "      <td>27453</td>\n",
       "      <td>대여</td>\n",
       "    </tr>\n",
       "    <tr>\n",
       "      <th>8</th>\n",
       "      <td>29</td>\n",
       "      <td>42313</td>\n",
       "      <td>대여</td>\n",
       "    </tr>\n",
       "    <tr>\n",
       "      <th>13</th>\n",
       "      <td>30</td>\n",
       "      <td>26669</td>\n",
       "      <td>대여</td>\n",
       "    </tr>\n",
       "    <tr>\n",
       "      <th>15</th>\n",
       "      <td>1</td>\n",
       "      <td>538</td>\n",
       "      <td>반납</td>\n",
       "    </tr>\n",
       "    <tr>\n",
       "      <th>17</th>\n",
       "      <td>2</td>\n",
       "      <td>1</td>\n",
       "      <td>반납</td>\n",
       "    </tr>\n",
       "    <tr>\n",
       "      <th>16</th>\n",
       "      <td>3</td>\n",
       "      <td>1</td>\n",
       "      <td>반납</td>\n",
       "    </tr>\n",
       "    <tr>\n",
       "      <th>6</th>\n",
       "      <td>16</td>\n",
       "      <td>44701</td>\n",
       "      <td>반납</td>\n",
       "    </tr>\n",
       "    <tr>\n",
       "      <th>7</th>\n",
       "      <td>17</td>\n",
       "      <td>43669</td>\n",
       "      <td>반납</td>\n",
       "    </tr>\n",
       "    <tr>\n",
       "      <th>11</th>\n",
       "      <td>18</td>\n",
       "      <td>35781</td>\n",
       "      <td>반납</td>\n",
       "    </tr>\n",
       "    <tr>\n",
       "      <th>1</th>\n",
       "      <td>19</td>\n",
       "      <td>46878</td>\n",
       "      <td>반납</td>\n",
       "    </tr>\n",
       "    <tr>\n",
       "      <th>4</th>\n",
       "      <td>20</td>\n",
       "      <td>46085</td>\n",
       "      <td>반납</td>\n",
       "    </tr>\n",
       "    <tr>\n",
       "      <th>0</th>\n",
       "      <td>21</td>\n",
       "      <td>47232</td>\n",
       "      <td>반납</td>\n",
       "    </tr>\n",
       "    <tr>\n",
       "      <th>2</th>\n",
       "      <td>22</td>\n",
       "      <td>46670</td>\n",
       "      <td>반납</td>\n",
       "    </tr>\n",
       "    <tr>\n",
       "      <th>5</th>\n",
       "      <td>23</td>\n",
       "      <td>45695</td>\n",
       "      <td>반납</td>\n",
       "    </tr>\n",
       "    <tr>\n",
       "      <th>10</th>\n",
       "      <td>24</td>\n",
       "      <td>38962</td>\n",
       "      <td>반납</td>\n",
       "    </tr>\n",
       "    <tr>\n",
       "      <th>3</th>\n",
       "      <td>25</td>\n",
       "      <td>46276</td>\n",
       "      <td>반납</td>\n",
       "    </tr>\n",
       "    <tr>\n",
       "      <th>14</th>\n",
       "      <td>26</td>\n",
       "      <td>7028</td>\n",
       "      <td>반납</td>\n",
       "    </tr>\n",
       "    <tr>\n",
       "      <th>9</th>\n",
       "      <td>27</td>\n",
       "      <td>40450</td>\n",
       "      <td>반납</td>\n",
       "    </tr>\n",
       "    <tr>\n",
       "      <th>12</th>\n",
       "      <td>28</td>\n",
       "      <td>27540</td>\n",
       "      <td>반납</td>\n",
       "    </tr>\n",
       "    <tr>\n",
       "      <th>8</th>\n",
       "      <td>29</td>\n",
       "      <td>41498</td>\n",
       "      <td>반납</td>\n",
       "    </tr>\n",
       "    <tr>\n",
       "      <th>13</th>\n",
       "      <td>30</td>\n",
       "      <td>27299</td>\n",
       "      <td>반납</td>\n",
       "    </tr>\n",
       "  </tbody>\n",
       "</table>\n",
       "</div>"
      ],
      "text/plain": [
       "    day  count 대여반납\n",
       "5    16  46038   대여\n",
       "7    17  43161   대여\n",
       "11   18  35828   대여\n",
       "2    19  46839   대여\n",
       "3    20  46107   대여\n",
       "0    21  47319   대여\n",
       "1    22  47024   대여\n",
       "6    23  45274   대여\n",
       "10   24  39164   대여\n",
       "4    25  46105   대여\n",
       "14   26   6312   대여\n",
       "9    27  40698   대여\n",
       "12   28  27453   대여\n",
       "8    29  42313   대여\n",
       "13   30  26669   대여\n",
       "15    1    538   반납\n",
       "17    2      1   반납\n",
       "16    3      1   반납\n",
       "6    16  44701   반납\n",
       "7    17  43669   반납\n",
       "11   18  35781   반납\n",
       "1    19  46878   반납\n",
       "4    20  46085   반납\n",
       "0    21  47232   반납\n",
       "2    22  46670   반납\n",
       "5    23  45695   반납\n",
       "10   24  38962   반납\n",
       "3    25  46276   반납\n",
       "14   26   7028   반납\n",
       "9    27  40450   반납\n",
       "12   28  27540   반납\n",
       "8    29  41498   반납\n",
       "13   30  27299   반납"
      ]
     },
     "execution_count": 40,
     "metadata": {},
     "output_type": "execute_result"
    }
   ],
   "source": [
    "df_day"
   ]
  },
  {
   "cell_type": "code",
   "execution_count": 41,
   "metadata": {},
   "outputs": [],
   "source": [
    "import matplotlib\n",
    "import matplotlib.font_manager as fm\n",
    "\n",
    "font_path = 'C:/Windows/Fonts/malgun.ttf'\n",
    "fontprop = fm.FontProperties(fname=font_path).get_name()\n",
    "matplotlib.rc('font', family = fontprop)"
   ]
  },
  {
   "cell_type": "markdown",
   "metadata": {},
   "source": [
    "ggplot2의 문법을 구성하는 기본 요소는 아래와 같습니다.\n",
    "\n",
    "* 데이터 프레임(data frame)\n",
    "* 색상, 크기 같은 외적 요소(aes)\n",
    "* 점, 선, 모양 같은 기하학적 요소(geoms)\n",
    "* 통계적 처리 방법(stats)\n",
    "* aes에서 사용할 스케일(scale)\n",
    "* geom_bar()에서 아무 것도 설정해 주지 않으면 histogram/도수분포표가 됩니다.\n",
    "* stat 요소를 “identity” (데이터 프레임의 값을 그대로 사용해서 그래프를 그리라는 뜻)으로 설정해 주는 것입니다.\n",
    "* position을 설정하지 않으면 stack bar가 된다.\n",
    "* 막대 모양을 바꿔주려면 geom_bar에서 position 요소를 “dodge”로 설정\n",
    "* coord_flip()는 가로형 막대 그래프"
   ]
  },
  {
   "cell_type": "code",
   "execution_count": 42,
   "metadata": {},
   "outputs": [
    {
     "data": {
      "image/png": "[encoded data removed]",
      "text/plain": [
       "<Figure size 1200x600 with 1 Axes>"
      ]
     },
     "metadata": {},
     "output_type": "display_data"
    },
    {
     "data": {
      "text/plain": [
       "<ggplot: (140328180465)>"
      ]
     },
     "execution_count": 42,
     "metadata": {},
     "output_type": "execute_result"
    }
   ],
   "source": [
    "(ggplot(df_day) \n",
    "       + aes(x='day', y='count', fill='대여반납') \n",
    "       + geom_bar(stat='identity',position='dodge')\n",
    "       + coord_flip()\n",
    "       + theme(text=element_text(family=fontprop),figure_size=(12,6))\n",
    "       + labs(x='대여/반납일', y='대여/반납수', title='일별 자전거 대여/반납수')\n",
    "      )"
   ]
  },
  {
   "cell_type": "code",
   "execution_count": 43,
   "metadata": {},
   "outputs": [
    {
     "data": {
      "image/png": "[encoded data removed]",
      "text/plain": [
       "<Figure size 1200x600 with 1 Axes>"
      ]
     },
     "metadata": {},
     "output_type": "display_data"
    },
    {
     "data": {
      "text/plain": [
       "<ggplot: (140327961456)>"
      ]
     },
     "execution_count": 43,
     "metadata": {},
     "output_type": "execute_result"
    }
   ],
   "source": [
    "(ggplot(df_day)\n",
    " + aes(x='day', y='count', fill='대여반납')\n",
    " + geom_bar(stat='identity', position='dodge')\n",
    " + labs(x='대여일', y='대여수', title='일별 자전거 대여수')\n",
    " + theme(text=element_text(family=fontprop),\n",
    "        figure_size=(12,6))\n",
    ")"
   ]
  },
  {
   "cell_type": "markdown",
   "metadata": {},
   "source": [
    "* 일부 날짜의 데이터만 있다.\n",
    "* 2018년 6월 데이터만 봤을 때 26일에는 대여와 반납모두 적다.\n",
    "* 26일의 일기예보를 보면 장맛비가 내린것을 확인해 볼 수 있다. https://www.youtube.com/watch?v=cYHC8iwfFyU"
   ]
  },
  {
   "cell_type": "markdown",
   "metadata": {},
   "source": [
    "## 요일별 대여|반납 현황\n",
    "* 대여|반납별로 어떤 요일에 주로 대여반납이 되는지 시각화해보기 위해 Tidy Data를 만든다."
   ]
  },
  {
   "cell_type": "code",
   "execution_count": 44,
   "metadata": {},
   "outputs": [
    {
     "name": "stdout",
     "output_type": "stream",
     "text": [
      "(7, 3)\n",
      "(7, 3)\n",
      "(14, 3)\n"
     ]
    },
    {
     "data": {
      "text/html": [
       "<div>\n",
       "<style scoped>\n",
       "    .dataframe tbody tr th:only-of-type {\n",
       "        vertical-align: middle;\n",
       "    }\n",
       "\n",
       "    .dataframe tbody tr th {\n",
       "        vertical-align: top;\n",
       "    }\n",
       "\n",
       "    .dataframe thead th {\n",
       "        text-align: right;\n",
       "    }\n",
       "</style>\n",
       "<table border=\"1\" class=\"dataframe\">\n",
       "  <thead>\n",
       "    <tr style=\"text-align: right;\">\n",
       "      <th></th>\n",
       "      <th>dayofweek</th>\n",
       "      <th>count</th>\n",
       "      <th>대여반납</th>\n",
       "    </tr>\n",
       "  </thead>\n",
       "  <tbody>\n",
       "    <tr>\n",
       "      <th>4</th>\n",
       "      <td>0</td>\n",
       "      <td>81933</td>\n",
       "      <td>대여</td>\n",
       "    </tr>\n",
       "    <tr>\n",
       "      <th>6</th>\n",
       "      <td>1</td>\n",
       "      <td>53151</td>\n",
       "      <td>대여</td>\n",
       "    </tr>\n",
       "    <tr>\n",
       "      <th>2</th>\n",
       "      <td>2</td>\n",
       "      <td>86805</td>\n",
       "      <td>대여</td>\n",
       "    </tr>\n",
       "    <tr>\n",
       "      <th>5</th>\n",
       "      <td>3</td>\n",
       "      <td>74772</td>\n",
       "      <td>대여</td>\n",
       "    </tr>\n",
       "    <tr>\n",
       "      <th>1</th>\n",
       "      <td>4</td>\n",
       "      <td>89337</td>\n",
       "      <td>대여</td>\n",
       "    </tr>\n",
       "    <tr>\n",
       "      <th>0</th>\n",
       "      <td>5</td>\n",
       "      <td>117981</td>\n",
       "      <td>대여</td>\n",
       "    </tr>\n",
       "    <tr>\n",
       "      <th>3</th>\n",
       "      <td>6</td>\n",
       "      <td>82325</td>\n",
       "      <td>대여</td>\n",
       "    </tr>\n",
       "    <tr>\n",
       "      <th>4</th>\n",
       "      <td>0</td>\n",
       "      <td>82058</td>\n",
       "      <td>반납</td>\n",
       "    </tr>\n",
       "    <tr>\n",
       "      <th>6</th>\n",
       "      <td>1</td>\n",
       "      <td>53907</td>\n",
       "      <td>반납</td>\n",
       "    </tr>\n",
       "    <tr>\n",
       "      <th>2</th>\n",
       "      <td>2</td>\n",
       "      <td>86535</td>\n",
       "      <td>반납</td>\n",
       "    </tr>\n",
       "    <tr>\n",
       "      <th>5</th>\n",
       "      <td>3</td>\n",
       "      <td>74772</td>\n",
       "      <td>반납</td>\n",
       "    </tr>\n",
       "    <tr>\n",
       "      <th>1</th>\n",
       "      <td>4</td>\n",
       "      <td>88168</td>\n",
       "      <td>반납</td>\n",
       "    </tr>\n",
       "    <tr>\n",
       "      <th>0</th>\n",
       "      <td>5</td>\n",
       "      <td>117695</td>\n",
       "      <td>반납</td>\n",
       "    </tr>\n",
       "    <tr>\n",
       "      <th>3</th>\n",
       "      <td>6</td>\n",
       "      <td>83169</td>\n",
       "      <td>반납</td>\n",
       "    </tr>\n",
       "  </tbody>\n",
       "</table>\n",
       "</div>"
      ],
      "text/plain": [
       "   dayofweek   count 대여반납\n",
       "4          0   81933   대여\n",
       "6          1   53151   대여\n",
       "2          2   86805   대여\n",
       "5          3   74772   대여\n",
       "1          4   89337   대여\n",
       "0          5  117981   대여\n",
       "3          6   82325   대여\n",
       "4          0   82058   반납\n",
       "6          1   53907   반납\n",
       "2          2   86535   반납\n",
       "5          3   74772   반납\n",
       "1          4   88168   반납\n",
       "0          5  117695   반납\n",
       "3          6   83169   반납"
      ]
     },
     "execution_count": 44,
     "metadata": {},
     "output_type": "execute_result"
    }
   ],
   "source": [
    "df_dow_1 = df['대여요일'].value_counts().reset_index()\n",
    "df_dow_1.columns = ['dayofweek', 'count']\n",
    "df_dow_1 = df_dow_1.sort_values('dayofweek')\n",
    "df_dow_1['대여반납'] = '대여'\n",
    "print(df_dow_1.shape)\n",
    "\n",
    "df_dow_2 = df['반납요일'].value_counts().reset_index()\n",
    "df_dow_2.columns = ['dayofweek', 'count']\n",
    "df_dow_2 = df_dow_2.sort_values('dayofweek')\n",
    "df_dow_2['대여반납'] = '반납'\n",
    "print(df_dow_2.shape)\n",
    "\n",
    "df_dow = pd.concat([df_dow_1, df_dow_2])\n",
    "print(df_dow.shape)\n",
    "df_dow"
   ]
  },
  {
   "cell_type": "code",
   "execution_count": 45,
   "metadata": {},
   "outputs": [
    {
     "data": {
      "text/html": [
       "<div>\n",
       "<style scoped>\n",
       "    .dataframe tbody tr th:only-of-type {\n",
       "        vertical-align: middle;\n",
       "    }\n",
       "\n",
       "    .dataframe tbody tr th {\n",
       "        vertical-align: top;\n",
       "    }\n",
       "\n",
       "    .dataframe thead th {\n",
       "        text-align: right;\n",
       "    }\n",
       "</style>\n",
       "<table border=\"1\" class=\"dataframe\">\n",
       "  <thead>\n",
       "    <tr style=\"text-align: right;\">\n",
       "      <th></th>\n",
       "      <th>dayofweek</th>\n",
       "      <th>count</th>\n",
       "      <th>대여반납</th>\n",
       "    </tr>\n",
       "  </thead>\n",
       "  <tbody>\n",
       "    <tr>\n",
       "      <th>4</th>\n",
       "      <td>0</td>\n",
       "      <td>81933</td>\n",
       "      <td>대여</td>\n",
       "    </tr>\n",
       "    <tr>\n",
       "      <th>6</th>\n",
       "      <td>1</td>\n",
       "      <td>53151</td>\n",
       "      <td>대여</td>\n",
       "    </tr>\n",
       "    <tr>\n",
       "      <th>2</th>\n",
       "      <td>2</td>\n",
       "      <td>86805</td>\n",
       "      <td>대여</td>\n",
       "    </tr>\n",
       "  </tbody>\n",
       "</table>\n",
       "</div>"
      ],
      "text/plain": [
       "   dayofweek  count 대여반납\n",
       "4          0  81933   대여\n",
       "6          1  53151   대여\n",
       "2          2  86805   대여"
      ]
     },
     "execution_count": 45,
     "metadata": {},
     "output_type": "execute_result"
    }
   ],
   "source": [
    "df_dow.head(3)"
   ]
  },
  {
   "cell_type": "code",
   "execution_count": 46,
   "metadata": {},
   "outputs": [
    {
     "data": {
      "text/html": [
       "<div>\n",
       "<style scoped>\n",
       "    .dataframe tbody tr th:only-of-type {\n",
       "        vertical-align: middle;\n",
       "    }\n",
       "\n",
       "    .dataframe tbody tr th {\n",
       "        vertical-align: top;\n",
       "    }\n",
       "\n",
       "    .dataframe thead th {\n",
       "        text-align: right;\n",
       "    }\n",
       "</style>\n",
       "<table border=\"1\" class=\"dataframe\">\n",
       "  <thead>\n",
       "    <tr style=\"text-align: right;\">\n",
       "      <th></th>\n",
       "      <th>dayofweek</th>\n",
       "      <th>count</th>\n",
       "      <th>대여반납</th>\n",
       "    </tr>\n",
       "  </thead>\n",
       "  <tbody>\n",
       "    <tr>\n",
       "      <th>1</th>\n",
       "      <td>4</td>\n",
       "      <td>88168</td>\n",
       "      <td>반납</td>\n",
       "    </tr>\n",
       "    <tr>\n",
       "      <th>0</th>\n",
       "      <td>5</td>\n",
       "      <td>117695</td>\n",
       "      <td>반납</td>\n",
       "    </tr>\n",
       "    <tr>\n",
       "      <th>3</th>\n",
       "      <td>6</td>\n",
       "      <td>83169</td>\n",
       "      <td>반납</td>\n",
       "    </tr>\n",
       "  </tbody>\n",
       "</table>\n",
       "</div>"
      ],
      "text/plain": [
       "   dayofweek   count 대여반납\n",
       "1          4   88168   반납\n",
       "0          5  117695   반납\n",
       "3          6   83169   반납"
      ]
     },
     "execution_count": 46,
     "metadata": {},
     "output_type": "execute_result"
    }
   ],
   "source": [
    "df_dow.tail(3)"
   ]
  },
  {
   "cell_type": "code",
   "execution_count": 47,
   "metadata": {},
   "outputs": [],
   "source": [
    "weekday_map= {0:'MON', 1:'TUE', 2:'WED', 3:'THU',\n",
    "              4:'FRI', 5:'SAT', 6:'SUN'}\n",
    "df_dow['label'] = df_dow['dayofweek'].replace(weekday_map)"
   ]
  },
  {
   "cell_type": "code",
   "execution_count": 48,
   "metadata": {},
   "outputs": [
    {
     "data": {
      "text/html": [
       "<div>\n",
       "<style scoped>\n",
       "    .dataframe tbody tr th:only-of-type {\n",
       "        vertical-align: middle;\n",
       "    }\n",
       "\n",
       "    .dataframe tbody tr th {\n",
       "        vertical-align: top;\n",
       "    }\n",
       "\n",
       "    .dataframe thead th {\n",
       "        text-align: right;\n",
       "    }\n",
       "</style>\n",
       "<table border=\"1\" class=\"dataframe\">\n",
       "  <thead>\n",
       "    <tr style=\"text-align: right;\">\n",
       "      <th></th>\n",
       "      <th>dayofweek</th>\n",
       "      <th>count</th>\n",
       "      <th>대여반납</th>\n",
       "      <th>label</th>\n",
       "    </tr>\n",
       "  </thead>\n",
       "  <tbody>\n",
       "    <tr>\n",
       "      <th>2</th>\n",
       "      <td>2</td>\n",
       "      <td>86535</td>\n",
       "      <td>반납</td>\n",
       "      <td>WED</td>\n",
       "    </tr>\n",
       "    <tr>\n",
       "      <th>5</th>\n",
       "      <td>3</td>\n",
       "      <td>74772</td>\n",
       "      <td>반납</td>\n",
       "      <td>THU</td>\n",
       "    </tr>\n",
       "    <tr>\n",
       "      <th>1</th>\n",
       "      <td>4</td>\n",
       "      <td>88168</td>\n",
       "      <td>반납</td>\n",
       "      <td>FRI</td>\n",
       "    </tr>\n",
       "    <tr>\n",
       "      <th>0</th>\n",
       "      <td>5</td>\n",
       "      <td>117695</td>\n",
       "      <td>반납</td>\n",
       "      <td>SAT</td>\n",
       "    </tr>\n",
       "    <tr>\n",
       "      <th>3</th>\n",
       "      <td>6</td>\n",
       "      <td>83169</td>\n",
       "      <td>반납</td>\n",
       "      <td>SUN</td>\n",
       "    </tr>\n",
       "  </tbody>\n",
       "</table>\n",
       "</div>"
      ],
      "text/plain": [
       "   dayofweek   count 대여반납 label\n",
       "2          2   86535   반납   WED\n",
       "5          3   74772   반납   THU\n",
       "1          4   88168   반납   FRI\n",
       "0          5  117695   반납   SAT\n",
       "3          6   83169   반납   SUN"
      ]
     },
     "execution_count": 48,
     "metadata": {},
     "output_type": "execute_result"
    }
   ],
   "source": [
    "df_dow.tail()"
   ]
  },
  {
   "cell_type": "code",
   "execution_count": 49,
   "metadata": {},
   "outputs": [
    {
     "data": {
      "image/png": "[encoded data removed]",
      "text/plain": [
       "<Figure size 1200x600 with 1 Axes>"
      ]
     },
     "metadata": {},
     "output_type": "display_data"
    },
    {
     "data": {
      "text/plain": [
       "<ggplot: (140327707441)>"
      ]
     },
     "execution_count": 49,
     "metadata": {},
     "output_type": "execute_result"
    }
   ],
   "source": [
    "(ggplot(df_dow)\n",
    " + aes(x='dayofweek', y='count', fill='대여반납')\n",
    " + geom_bar(stat='identity', position='dodge')\n",
    " + geom_point()\n",
    " + geom_line(color='blue')\n",
    " + labs(x='대여요일', y='대여수', title='요일별 자전거 대여수')\n",
    " + theme(text=element_text(family=fontprop),\n",
    "        figure_size=(12,6))\n",
    ")"
   ]
  },
  {
   "cell_type": "markdown",
   "metadata": {},
   "source": [
    "## 시간대별 대여|반납량"
   ]
  },
  {
   "cell_type": "code",
   "execution_count": 50,
   "metadata": {},
   "outputs": [
    {
     "data": {
      "text/html": [
       "<div>\n",
       "<style scoped>\n",
       "    .dataframe tbody tr th:only-of-type {\n",
       "        vertical-align: middle;\n",
       "    }\n",
       "\n",
       "    .dataframe tbody tr th {\n",
       "        vertical-align: top;\n",
       "    }\n",
       "\n",
       "    .dataframe thead th {\n",
       "        text-align: right;\n",
       "    }\n",
       "</style>\n",
       "<table border=\"1\" class=\"dataframe\">\n",
       "  <thead>\n",
       "    <tr style=\"text-align: right;\">\n",
       "      <th></th>\n",
       "      <th>hour</th>\n",
       "      <th>count</th>\n",
       "      <th>대여반납</th>\n",
       "    </tr>\n",
       "  </thead>\n",
       "  <tbody>\n",
       "    <tr>\n",
       "      <th>13</th>\n",
       "      <td>0</td>\n",
       "      <td>19837</td>\n",
       "      <td>대여</td>\n",
       "    </tr>\n",
       "    <tr>\n",
       "      <th>17</th>\n",
       "      <td>1</td>\n",
       "      <td>15358</td>\n",
       "      <td>대여</td>\n",
       "    </tr>\n",
       "    <tr>\n",
       "      <th>19</th>\n",
       "      <td>2</td>\n",
       "      <td>12255</td>\n",
       "      <td>대여</td>\n",
       "    </tr>\n",
       "    <tr>\n",
       "      <th>21</th>\n",
       "      <td>3</td>\n",
       "      <td>7462</td>\n",
       "      <td>대여</td>\n",
       "    </tr>\n",
       "    <tr>\n",
       "      <th>23</th>\n",
       "      <td>4</td>\n",
       "      <td>4392</td>\n",
       "      <td>대여</td>\n",
       "    </tr>\n",
       "  </tbody>\n",
       "</table>\n",
       "</div>"
      ],
      "text/plain": [
       "    hour  count 대여반납\n",
       "13     0  19837   대여\n",
       "17     1  15358   대여\n",
       "19     2  12255   대여\n",
       "21     3   7462   대여\n",
       "23     4   4392   대여"
      ]
     },
     "execution_count": 50,
     "metadata": {},
     "output_type": "execute_result"
    }
   ],
   "source": [
    "df_hour_1 = df['대여시'].value_counts().reset_index()\n",
    "df_hour_1.columns = ['hour', 'count']\n",
    "df_hour_1 = df_hour_1.sort_values('hour')\n",
    "df_hour_1['대여반납'] = '대여'\n",
    "df_hour_1.head()\n",
    "\n",
    "df_hour_2 = df['반납시'].value_counts().reset_index()\n",
    "df_hour_2.columns = ['hour', 'count']\n",
    "df_hour_2 = df_hour_2.sort_values('hour')\n",
    "df_hour_2['대여반납'] = '반납'\n",
    "df_hour_2.head()\n",
    "\n",
    "df_hour = pd.concat([df_hour_1, df_hour_2])\n",
    "df_hour.head()"
   ]
  },
  {
   "cell_type": "code",
   "execution_count": 51,
   "metadata": {},
   "outputs": [
    {
     "data": {
      "text/html": [
       "<div>\n",
       "<style scoped>\n",
       "    .dataframe tbody tr th:only-of-type {\n",
       "        vertical-align: middle;\n",
       "    }\n",
       "\n",
       "    .dataframe tbody tr th {\n",
       "        vertical-align: top;\n",
       "    }\n",
       "\n",
       "    .dataframe thead th {\n",
       "        text-align: right;\n",
       "    }\n",
       "</style>\n",
       "<table border=\"1\" class=\"dataframe\">\n",
       "  <thead>\n",
       "    <tr style=\"text-align: right;\">\n",
       "      <th></th>\n",
       "      <th>hour</th>\n",
       "      <th>count</th>\n",
       "      <th>대여반납</th>\n",
       "    </tr>\n",
       "  </thead>\n",
       "  <tbody>\n",
       "    <tr>\n",
       "      <th>1</th>\n",
       "      <td>19</td>\n",
       "      <td>46836</td>\n",
       "      <td>반납</td>\n",
       "    </tr>\n",
       "    <tr>\n",
       "      <th>2</th>\n",
       "      <td>20</td>\n",
       "      <td>45713</td>\n",
       "      <td>반납</td>\n",
       "    </tr>\n",
       "    <tr>\n",
       "      <th>3</th>\n",
       "      <td>21</td>\n",
       "      <td>45628</td>\n",
       "      <td>반납</td>\n",
       "    </tr>\n",
       "    <tr>\n",
       "      <th>4</th>\n",
       "      <td>22</td>\n",
       "      <td>44417</td>\n",
       "      <td>반납</td>\n",
       "    </tr>\n",
       "    <tr>\n",
       "      <th>5</th>\n",
       "      <td>23</td>\n",
       "      <td>34927</td>\n",
       "      <td>반납</td>\n",
       "    </tr>\n",
       "  </tbody>\n",
       "</table>\n",
       "</div>"
      ],
      "text/plain": [
       "   hour  count 대여반납\n",
       "1    19  46836   반납\n",
       "2    20  45713   반납\n",
       "3    21  45628   반납\n",
       "4    22  44417   반납\n",
       "5    23  34927   반납"
      ]
     },
     "execution_count": 51,
     "metadata": {},
     "output_type": "execute_result"
    }
   ],
   "source": [
    "df_hour.tail()"
   ]
  },
  {
   "cell_type": "code",
   "execution_count": 52,
   "metadata": {},
   "outputs": [
    {
     "data": {
      "image/png": "[encoded data removed]",
      "text/plain": [
       "<Figure size 1200x600 with 1 Axes>"
      ]
     },
     "metadata": {},
     "output_type": "display_data"
    },
    {
     "data": {
      "text/plain": [
       "<ggplot: (140327654129)>"
      ]
     },
     "execution_count": 52,
     "metadata": {},
     "output_type": "execute_result"
    }
   ],
   "source": [
    "(ggplot(df_hour)\n",
    " + aes(x='hour', y='count', fill='대여반납')\n",
    " + geom_bar(stat='identity', position='dodge')\n",
    " + geom_point()\n",
    " + geom_line(color='blue')\n",
    " + labs(x='시간', y='대여/반납 수', title='시간대별 자전거 대여/반납수')\n",
    " + theme(text=element_text(family=fontprop),\n",
    "        figure_size=(12,6))\n",
    ")"
   ]
  },
  {
   "cell_type": "markdown",
   "metadata": {},
   "source": [
    "* 새벽시간대로 갈 수록 대여/반납 수가 줄어든다.\n",
    "* 출근시간대에는 대여가 반납보다 많다.\n",
    "* 오전에는 8시대에 대여/반납이 많으며, 오후시간대에는 18시에 대여/반납이 가장 많다.\n",
    "* 오전 11시부터 20시까지는 대여가 반납보다 많다.(대여>반납)\n",
    "* 21시 이후부터 오전 4시까지는 대여보다 반납이 많다.(대여<반납)"
   ]
  },
  {
   "cell_type": "code",
   "execution_count": 53,
   "metadata": {},
   "outputs": [
    {
     "name": "stdout",
     "output_type": "stream",
     "text": [
      "(60, 3)\n",
      "(60, 3)\n",
      "(120, 3)\n"
     ]
    }
   ],
   "source": [
    "df_minute_1 = df['대여분'].value_counts().reset_index()\n",
    "df_minute_1.columns = ['minute', 'count']\n",
    "df_minute_1 = df_minute_1.sort_values('minute')\n",
    "df_minute_1['대여반납'] = '대여'\n",
    "print(df_minute_1.shape)\n",
    "\n",
    "df_minute_2 = df['반납분'].value_counts().reset_index()\n",
    "df_minute_2.columns = ['minute', 'count']\n",
    "df_minute_2 = df_minute_2.sort_values('minute')\n",
    "df_minute_2['대여반납'] = '반납'\n",
    "print(df_minute_2.shape)\n",
    "\n",
    "df_minute = pd.concat([df_minute_1, df_minute_2])\n",
    "print(df_minute.shape)"
   ]
  },
  {
   "cell_type": "code",
   "execution_count": 54,
   "metadata": {},
   "outputs": [
    {
     "data": {
      "text/html": [
       "<div>\n",
       "<style scoped>\n",
       "    .dataframe tbody tr th:only-of-type {\n",
       "        vertical-align: middle;\n",
       "    }\n",
       "\n",
       "    .dataframe tbody tr th {\n",
       "        vertical-align: top;\n",
       "    }\n",
       "\n",
       "    .dataframe thead th {\n",
       "        text-align: right;\n",
       "    }\n",
       "</style>\n",
       "<table border=\"1\" class=\"dataframe\">\n",
       "  <thead>\n",
       "    <tr style=\"text-align: right;\">\n",
       "      <th></th>\n",
       "      <th>minute</th>\n",
       "      <th>count</th>\n",
       "      <th>대여반납</th>\n",
       "    </tr>\n",
       "  </thead>\n",
       "  <tbody>\n",
       "    <tr>\n",
       "      <th>57</th>\n",
       "      <td>0</td>\n",
       "      <td>9326</td>\n",
       "      <td>대여</td>\n",
       "    </tr>\n",
       "    <tr>\n",
       "      <th>41</th>\n",
       "      <td>1</td>\n",
       "      <td>9601</td>\n",
       "      <td>대여</td>\n",
       "    </tr>\n",
       "    <tr>\n",
       "      <th>24</th>\n",
       "      <td>2</td>\n",
       "      <td>9758</td>\n",
       "      <td>대여</td>\n",
       "    </tr>\n",
       "    <tr>\n",
       "      <th>28</th>\n",
       "      <td>3</td>\n",
       "      <td>9748</td>\n",
       "      <td>대여</td>\n",
       "    </tr>\n",
       "    <tr>\n",
       "      <th>11</th>\n",
       "      <td>4</td>\n",
       "      <td>10037</td>\n",
       "      <td>대여</td>\n",
       "    </tr>\n",
       "  </tbody>\n",
       "</table>\n",
       "</div>"
      ],
      "text/plain": [
       "    minute  count 대여반납\n",
       "57       0   9326   대여\n",
       "41       1   9601   대여\n",
       "24       2   9758   대여\n",
       "28       3   9748   대여\n",
       "11       4  10037   대여"
      ]
     },
     "execution_count": 54,
     "metadata": {},
     "output_type": "execute_result"
    }
   ],
   "source": [
    "df_minute.head()"
   ]
  },
  {
   "cell_type": "code",
   "execution_count": 55,
   "metadata": {},
   "outputs": [
    {
     "data": {
      "text/html": [
       "<div>\n",
       "<style scoped>\n",
       "    .dataframe tbody tr th:only-of-type {\n",
       "        vertical-align: middle;\n",
       "    }\n",
       "\n",
       "    .dataframe tbody tr th {\n",
       "        vertical-align: top;\n",
       "    }\n",
       "\n",
       "    .dataframe thead th {\n",
       "        text-align: right;\n",
       "    }\n",
       "</style>\n",
       "<table border=\"1\" class=\"dataframe\">\n",
       "  <thead>\n",
       "    <tr style=\"text-align: right;\">\n",
       "      <th></th>\n",
       "      <th>minute</th>\n",
       "      <th>count</th>\n",
       "      <th>대여반납</th>\n",
       "    </tr>\n",
       "  </thead>\n",
       "  <tbody>\n",
       "    <tr>\n",
       "      <th>3</th>\n",
       "      <td>55</td>\n",
       "      <td>10369</td>\n",
       "      <td>반납</td>\n",
       "    </tr>\n",
       "    <tr>\n",
       "      <th>10</th>\n",
       "      <td>56</td>\n",
       "      <td>10095</td>\n",
       "      <td>반납</td>\n",
       "    </tr>\n",
       "    <tr>\n",
       "      <th>11</th>\n",
       "      <td>57</td>\n",
       "      <td>10094</td>\n",
       "      <td>반납</td>\n",
       "    </tr>\n",
       "    <tr>\n",
       "      <th>19</th>\n",
       "      <td>58</td>\n",
       "      <td>9882</td>\n",
       "      <td>반납</td>\n",
       "    </tr>\n",
       "    <tr>\n",
       "      <th>18</th>\n",
       "      <td>59</td>\n",
       "      <td>9887</td>\n",
       "      <td>반납</td>\n",
       "    </tr>\n",
       "  </tbody>\n",
       "</table>\n",
       "</div>"
      ],
      "text/plain": [
       "    minute  count 대여반납\n",
       "3       55  10369   반납\n",
       "10      56  10095   반납\n",
       "11      57  10094   반납\n",
       "19      58   9882   반납\n",
       "18      59   9887   반납"
      ]
     },
     "execution_count": 55,
     "metadata": {},
     "output_type": "execute_result"
    }
   ],
   "source": [
    "df_minute.tail()"
   ]
  },
  {
   "cell_type": "code",
   "execution_count": 56,
   "metadata": {},
   "outputs": [
    {
     "data": {
      "image/png": "[encoded data removed]",
      "text/plain": [
       "<Figure size 1200x600 with 1 Axes>"
      ]
     },
     "metadata": {},
     "output_type": "display_data"
    },
    {
     "data": {
      "text/plain": [
       "<ggplot: (140327624171)>"
      ]
     },
     "execution_count": 56,
     "metadata": {},
     "output_type": "execute_result"
    }
   ],
   "source": [
    "(ggplot(df_minute)\n",
    " + aes(x='minute', y='count', fill='대여반납')\n",
    " + geom_bar(stat='identity', position='dodge')\n",
    " + geom_line(color='blue')\n",
    " + labs(x='분', y='대여/반납 수', title='시간대별(분) 자전거 대여/반납수')\n",
    " + theme(text=element_text(family=fontprop),\n",
    "        figure_size=(12,6))\n",
    ")"
   ]
  },
  {
   "cell_type": "markdown",
   "metadata": {},
   "source": [
    "* 대여/반납이 거의 비슷하게 이루어지고 있지만 대여는 0~20분 사이에 더 많이 일어나며 반납은 40~60분 사이에 더 많이 일어난다."
   ]
  },
  {
   "cell_type": "markdown",
   "metadata": {},
   "source": [
    "## 대여와 반납은 같은 곳에서 이루어지고 있을까?"
   ]
  },
  {
   "cell_type": "code",
   "execution_count": 57,
   "metadata": {},
   "outputs": [],
   "source": [
    "# 같은대여반납소라는 컬럼을 새로 만들고 대여반납이 같은 곳에서 이루어지고 있는지 여부를 추가한다.\n",
    "df['같은대여반납소'] = df['대여대여소명'] == df['반납대여소명']"
   ]
  },
  {
   "cell_type": "code",
   "execution_count": 58,
   "metadata": {},
   "outputs": [
    {
     "name": "stdout",
     "output_type": "stream",
     "text": [
      "7.856020784242644\n",
      "같은 곳에서 대여반납 하는 것보다 다른 곳에서 대여반납 하는 것이 7.86배 많다.\n"
     ]
    },
    {
     "data": {
      "text/html": [
       "<div>\n",
       "<style scoped>\n",
       "    .dataframe tbody tr th:only-of-type {\n",
       "        vertical-align: middle;\n",
       "    }\n",
       "\n",
       "    .dataframe tbody tr th {\n",
       "        vertical-align: top;\n",
       "    }\n",
       "\n",
       "    .dataframe thead th {\n",
       "        text-align: right;\n",
       "    }\n",
       "</style>\n",
       "<table border=\"1\" class=\"dataframe\">\n",
       "  <thead>\n",
       "    <tr style=\"text-align: right;\">\n",
       "      <th></th>\n",
       "      <th>일치여부</th>\n",
       "      <th>대여반납수</th>\n",
       "    </tr>\n",
       "  </thead>\n",
       "  <tbody>\n",
       "    <tr>\n",
       "      <th>0</th>\n",
       "      <td>False</td>\n",
       "      <td>520100</td>\n",
       "    </tr>\n",
       "    <tr>\n",
       "      <th>1</th>\n",
       "      <td>True</td>\n",
       "      <td>66204</td>\n",
       "    </tr>\n",
       "  </tbody>\n",
       "</table>\n",
       "</div>"
      ],
      "text/plain": [
       "    일치여부   대여반납수\n",
       "0  False  520100\n",
       "1   True   66204"
      ]
     },
     "execution_count": 58,
     "metadata": {},
     "output_type": "execute_result"
    }
   ],
   "source": [
    "df_location_diff = df['같은대여반납소'].value_counts().reset_index()\n",
    "df_location_diff.columns = ['일치여부', '대여반납수']\n",
    "# 같은|다른 반납소별로 대여반납수가 몇 배나 차이가 나는지 확인한다.\n",
    "location_diff_ratio = df_location_diff['대여반납수'][0]/df_location_diff['대여반납수'][1]\n",
    "print(location_diff_ratio)\n",
    "print('같은 곳에서 대여반납 하는 것보다 다른 곳에서 대여반납 하는 것이 {0:.2f}배 많다.'.format(location_diff_ratio))\n",
    "df_location_diff"
   ]
  },
  {
   "cell_type": "code",
   "execution_count": 59,
   "metadata": {},
   "outputs": [
    {
     "data": {
      "text/plain": [
       "0    520100\n",
       "1     66204\n",
       "Name: 대여반납수, dtype: int64"
      ]
     },
     "execution_count": 59,
     "metadata": {},
     "output_type": "execute_result"
    }
   ],
   "source": [
    "df_location_diff['대여반납수']"
   ]
  },
  {
   "cell_type": "code",
   "execution_count": 60,
   "metadata": {},
   "outputs": [
    {
     "data": {
      "image/png": "[encoded data removed]",
      "text/plain": [
       "<Figure size 640x480 with 1 Axes>"
      ]
     },
     "metadata": {},
     "output_type": "display_data"
    },
    {
     "data": {
      "text/plain": [
       "<ggplot: (140327241210)>"
      ]
     },
     "execution_count": 60,
     "metadata": {},
     "output_type": "execute_result"
    }
   ],
   "source": [
    "# 대여반납수로 fill을 넣어주어 그래프에 색상표현이 되도록 한다.\n",
    "(ggplot(df_location_diff)\n",
    " + geom_col(mapping=aes(x='일치여부', y='대여반납수', fill='대여반납수'))\n",
    " + labs(title='대여반납소 일치여부')\n",
    " + theme(text=element_text(family=fontprop))\n",
    ")"
   ]
  },
  {
   "cell_type": "markdown",
   "metadata": {},
   "source": [
    "같은 곳에서 대여반납을 하는 것보다 다른 곳으로의 대여반납이 훨씬 많은 것을 확인할 수 있다."
   ]
  },
  {
   "cell_type": "code",
   "execution_count": 61,
   "metadata": {},
   "outputs": [
    {
     "data": {
      "text/html": [
       "<div>\n",
       "<style scoped>\n",
       "    .dataframe tbody tr th:only-of-type {\n",
       "        vertical-align: middle;\n",
       "    }\n",
       "\n",
       "    .dataframe tbody tr th {\n",
       "        vertical-align: top;\n",
       "    }\n",
       "\n",
       "    .dataframe thead th {\n",
       "        text-align: right;\n",
       "    }\n",
       "</style>\n",
       "<table border=\"1\" class=\"dataframe\">\n",
       "  <thead>\n",
       "    <tr style=\"text-align: right;\">\n",
       "      <th></th>\n",
       "      <th>자전거번호</th>\n",
       "      <th>대여일시</th>\n",
       "      <th>대여대여소번호</th>\n",
       "      <th>대여대여소명</th>\n",
       "      <th>대여거치대</th>\n",
       "      <th>반납일시</th>\n",
       "      <th>반납대여소번호</th>\n",
       "      <th>반납대여소명</th>\n",
       "      <th>반납거치대</th>\n",
       "      <th>이용시간(분)</th>\n",
       "      <th>...</th>\n",
       "      <th>대여시</th>\n",
       "      <th>대여분</th>\n",
       "      <th>대여요일</th>\n",
       "      <th>반납년</th>\n",
       "      <th>반납월</th>\n",
       "      <th>반납일</th>\n",
       "      <th>반납시</th>\n",
       "      <th>반납분</th>\n",
       "      <th>반납요일</th>\n",
       "      <th>같은대여반납소</th>\n",
       "    </tr>\n",
       "  </thead>\n",
       "  <tbody>\n",
       "    <tr>\n",
       "      <th>27</th>\n",
       "      <td>SPB-09000</td>\n",
       "      <td>2018-06-16 00:01:22</td>\n",
       "      <td>2025</td>\n",
       "      <td>흑석역 1번출구</td>\n",
       "      <td>13</td>\n",
       "      <td>2018-06-16 01:10:42</td>\n",
       "      <td>2025</td>\n",
       "      <td>흑석역 1번출구</td>\n",
       "      <td>9</td>\n",
       "      <td>67</td>\n",
       "      <td>...</td>\n",
       "      <td>0</td>\n",
       "      <td>1</td>\n",
       "      <td>5</td>\n",
       "      <td>2018</td>\n",
       "      <td>6</td>\n",
       "      <td>16</td>\n",
       "      <td>1</td>\n",
       "      <td>10</td>\n",
       "      <td>5</td>\n",
       "      <td>True</td>\n",
       "    </tr>\n",
       "    <tr>\n",
       "      <th>34</th>\n",
       "      <td>SPB-08794</td>\n",
       "      <td>2018-06-16 00:01:32</td>\n",
       "      <td>2025</td>\n",
       "      <td>흑석역 1번출구</td>\n",
       "      <td>10</td>\n",
       "      <td>2018-06-16 01:10:42</td>\n",
       "      <td>2025</td>\n",
       "      <td>흑석역 1번출구</td>\n",
       "      <td>15</td>\n",
       "      <td>64</td>\n",
       "      <td>...</td>\n",
       "      <td>0</td>\n",
       "      <td>1</td>\n",
       "      <td>5</td>\n",
       "      <td>2018</td>\n",
       "      <td>6</td>\n",
       "      <td>16</td>\n",
       "      <td>1</td>\n",
       "      <td>10</td>\n",
       "      <td>5</td>\n",
       "      <td>True</td>\n",
       "    </tr>\n",
       "    <tr>\n",
       "      <th>40</th>\n",
       "      <td>SPB-02178</td>\n",
       "      <td>2018-06-16 00:01:47</td>\n",
       "      <td>1308</td>\n",
       "      <td>안암로터리 버스정류장 앞</td>\n",
       "      <td>3</td>\n",
       "      <td>2018-06-16 01:52:14</td>\n",
       "      <td>1308</td>\n",
       "      <td>안암로터리 버스정류장 앞</td>\n",
       "      <td>4</td>\n",
       "      <td>110</td>\n",
       "      <td>...</td>\n",
       "      <td>0</td>\n",
       "      <td>1</td>\n",
       "      <td>5</td>\n",
       "      <td>2018</td>\n",
       "      <td>6</td>\n",
       "      <td>16</td>\n",
       "      <td>1</td>\n",
       "      <td>52</td>\n",
       "      <td>5</td>\n",
       "      <td>True</td>\n",
       "    </tr>\n",
       "    <tr>\n",
       "      <th>42</th>\n",
       "      <td>SPB-06487</td>\n",
       "      <td>2018-06-16 00:01:50</td>\n",
       "      <td>421</td>\n",
       "      <td>마포구청 앞</td>\n",
       "      <td>6</td>\n",
       "      <td>2018-06-16 00:04:24</td>\n",
       "      <td>421</td>\n",
       "      <td>마포구청 앞</td>\n",
       "      <td>7</td>\n",
       "      <td>2</td>\n",
       "      <td>...</td>\n",
       "      <td>0</td>\n",
       "      <td>1</td>\n",
       "      <td>5</td>\n",
       "      <td>2018</td>\n",
       "      <td>6</td>\n",
       "      <td>16</td>\n",
       "      <td>0</td>\n",
       "      <td>4</td>\n",
       "      <td>5</td>\n",
       "      <td>True</td>\n",
       "    </tr>\n",
       "    <tr>\n",
       "      <th>47</th>\n",
       "      <td>SPB-09293</td>\n",
       "      <td>2018-06-16 00:01:56</td>\n",
       "      <td>235</td>\n",
       "      <td>신길동 우리은행 옆</td>\n",
       "      <td>5</td>\n",
       "      <td>2018-06-16 00:05:02</td>\n",
       "      <td>235</td>\n",
       "      <td>신길동 우리은행 옆</td>\n",
       "      <td>5</td>\n",
       "      <td>3</td>\n",
       "      <td>...</td>\n",
       "      <td>0</td>\n",
       "      <td>1</td>\n",
       "      <td>5</td>\n",
       "      <td>2018</td>\n",
       "      <td>6</td>\n",
       "      <td>16</td>\n",
       "      <td>0</td>\n",
       "      <td>5</td>\n",
       "      <td>5</td>\n",
       "      <td>True</td>\n",
       "    </tr>\n",
       "  </tbody>\n",
       "</table>\n",
       "<p>5 rows × 24 columns</p>\n",
       "</div>"
      ],
      "text/plain": [
       "        자전거번호                대여일시 대여대여소번호          대여대여소명  대여거치대  \\\n",
       "27  SPB-09000 2018-06-16 00:01:22    2025        흑석역 1번출구     13   \n",
       "34  SPB-08794 2018-06-16 00:01:32    2025        흑석역 1번출구     10   \n",
       "40  SPB-02178 2018-06-16 00:01:47    1308   안암로터리 버스정류장 앞      3   \n",
       "42  SPB-06487 2018-06-16 00:01:50     421          마포구청 앞      6   \n",
       "47  SPB-09293 2018-06-16 00:01:56     235      신길동 우리은행 옆      5   \n",
       "\n",
       "                  반납일시 반납대여소번호          반납대여소명  반납거치대  이용시간(분)  ...  대여시  대여분  \\\n",
       "27 2018-06-16 01:10:42    2025        흑석역 1번출구      9       67  ...    0    1   \n",
       "34 2018-06-16 01:10:42    2025        흑석역 1번출구     15       64  ...    0    1   \n",
       "40 2018-06-16 01:52:14    1308   안암로터리 버스정류장 앞      4      110  ...    0    1   \n",
       "42 2018-06-16 00:04:24     421          마포구청 앞      7        2  ...    0    1   \n",
       "47 2018-06-16 00:05:02     235      신길동 우리은행 옆      5        3  ...    0    1   \n",
       "\n",
       "    대여요일   반납년  반납월  반납일  반납시  반납분  반납요일  같은대여반납소  \n",
       "27     5  2018    6   16    1   10     5     True  \n",
       "34     5  2018    6   16    1   10     5     True  \n",
       "40     5  2018    6   16    1   52     5     True  \n",
       "42     5  2018    6   16    0    4     5     True  \n",
       "47     5  2018    6   16    0    5     5     True  \n",
       "\n",
       "[5 rows x 24 columns]"
      ]
     },
     "execution_count": 61,
     "metadata": {},
     "output_type": "execute_result"
    }
   ],
   "source": [
    "df_same_loc = df.loc[df['같은대여반납소'] == True]\n",
    "df_same_loc.head()"
   ]
  },
  {
   "cell_type": "code",
   "execution_count": 62,
   "metadata": {},
   "outputs": [
    {
     "data": {
      "text/plain": [
       " 여의나루역 1번출구 앞               1046\n",
       " 뚝섬유원지역 1번출구 앞               900\n",
       " 서울숲 관리사무소                   665\n",
       " 봉림교 교통섬                     543\n",
       " 마포구민체육센터 앞                  541\n",
       " 고속터미널역 8-1번, 8-2번 출구 사이     485\n",
       " 옥수역 3번출구                    457\n",
       " 몽촌토성역 1번출구 옆                390\n",
       " 노들역 1번출구                    372\n",
       " 당산육갑문                       336\n",
       " 양천향교역 7번출구앞                 326\n",
       " 월드컵공원                       321\n",
       " CJ 드림시티                     311\n",
       " 홍대입구역 2번출구 앞                302\n",
       " 청계천 생태교실 앞                  292\n",
       " 홍은사거리                       288\n",
       " 마포구청 앞                      288\n",
       " 황금내근린공원                     280\n",
       " 잠실새내역 5번 출구 뒤               279\n",
       " 흑석역 1번출구                    274\n",
       " 보문2교                        266\n",
       " 외국어대 정문 앞                   262\n",
       " 한신16차아파트 119동 앞             260\n",
       " 새절역 2번출구                    252\n",
       " 현대고등학교 건너편                  246\n",
       " 서울숲역 4번 출구 옆                214\n",
       " 도림천 신화교                     212\n",
       " 도봉구청 옆(중랑천변)                211\n",
       " 독산보도육교 앞 자전거 보관소            210\n",
       " 안암로터리 버스정류장 앞               204\n",
       "Name: 대여대여소명, dtype: int64"
      ]
     },
     "execution_count": 62,
     "metadata": {},
     "output_type": "execute_result"
    }
   ],
   "source": [
    "# 같은 곳에서 대여반납이 이루어지는 상위 대여소(대여|반납 건 수)\n",
    "df_same_loc['대여대여소명'].value_counts().head(30)"
   ]
  },
  {
   "cell_type": "markdown",
   "metadata": {},
   "source": [
    "* 같은 곳에서 대여반납이 이루어지는 대여소들은 한강주변이나 공원 주변에 위치한 것을 확인해 볼 수 있다."
   ]
  },
  {
   "cell_type": "markdown",
   "metadata": {},
   "source": [
    "## 같은|다른 대여소에서 대여가 되는 자전거의 평균 이용시간\n",
    "### 같은 대여반납소"
   ]
  },
  {
   "cell_type": "code",
   "execution_count": 63,
   "metadata": {},
   "outputs": [
    {
     "name": "stdout",
     "output_type": "stream",
     "text": [
      "같은곳에서 대여, 반납이 이루어지는 자전거의 평균 이용시간 :  53.18429400036251\n"
     ]
    },
    {
     "data": {
      "text/html": [
       "<div>\n",
       "<style scoped>\n",
       "    .dataframe tbody tr th:only-of-type {\n",
       "        vertical-align: middle;\n",
       "    }\n",
       "\n",
       "    .dataframe tbody tr th {\n",
       "        vertical-align: top;\n",
       "    }\n",
       "\n",
       "    .dataframe thead th {\n",
       "        text-align: right;\n",
       "    }\n",
       "</style>\n",
       "<table border=\"1\" class=\"dataframe\">\n",
       "  <thead>\n",
       "    <tr style=\"text-align: right;\">\n",
       "      <th></th>\n",
       "      <th>대여대여소명</th>\n",
       "      <th>반납대여소명</th>\n",
       "      <th>이용시간(분)</th>\n",
       "    </tr>\n",
       "  </thead>\n",
       "  <tbody>\n",
       "    <tr>\n",
       "      <th>0</th>\n",
       "      <td>강동구청 앞</td>\n",
       "      <td>강동구청 앞</td>\n",
       "      <td>57.882353</td>\n",
       "    </tr>\n",
       "    <tr>\n",
       "      <th>1</th>\n",
       "      <td>둔촌역 3번 출입구</td>\n",
       "      <td>둔촌역 3번 출입구</td>\n",
       "      <td>46.810127</td>\n",
       "    </tr>\n",
       "    <tr>\n",
       "      <th>2</th>\n",
       "      <td>(구)신한은행 중랑교지점</td>\n",
       "      <td>(구)신한은행 중랑교지점</td>\n",
       "      <td>47.545455</td>\n",
       "    </tr>\n",
       "    <tr>\n",
       "      <th>3</th>\n",
       "      <td>(구)합정동 주민센터</td>\n",
       "      <td>(구)합정동 주민센터</td>\n",
       "      <td>62.639344</td>\n",
       "    </tr>\n",
       "    <tr>\n",
       "      <th>4</th>\n",
       "      <td>3호선 매봉역 3번출구앞</td>\n",
       "      <td>3호선 매봉역 3번출구앞</td>\n",
       "      <td>48.227273</td>\n",
       "    </tr>\n",
       "  </tbody>\n",
       "</table>\n",
       "</div>"
      ],
      "text/plain": [
       "           대여대여소명          반납대여소명    이용시간(분)\n",
       "0          강동구청 앞          강동구청 앞  57.882353\n",
       "1      둔촌역 3번 출입구      둔촌역 3번 출입구  46.810127\n",
       "2   (구)신한은행 중랑교지점   (구)신한은행 중랑교지점  47.545455\n",
       "3     (구)합정동 주민센터     (구)합정동 주민센터  62.639344\n",
       "4   3호선 매봉역 3번출구앞   3호선 매봉역 3번출구앞  48.227273"
      ]
     },
     "execution_count": 63,
     "metadata": {},
     "output_type": "execute_result"
    }
   ],
   "source": [
    "same_loc_mean_time = df_same_loc['이용시간(분)'].mean()\n",
    "print('같은곳에서 대여, 반납이 이루어지는 자전거의 평균 이용시간 : ', same_loc_mean_time)\n",
    "df_same_mean = df_same_loc.groupby(['대여대여소명', '반납대여소명'])['이용시간(분)'].mean().reset_index()\n",
    "df_same_mean.head()"
   ]
  },
  {
   "cell_type": "code",
   "execution_count": 64,
   "metadata": {},
   "outputs": [
    {
     "data": {
      "text/html": [
       "<div>\n",
       "<style scoped>\n",
       "    .dataframe tbody tr th:only-of-type {\n",
       "        vertical-align: middle;\n",
       "    }\n",
       "\n",
       "    .dataframe tbody tr th {\n",
       "        vertical-align: top;\n",
       "    }\n",
       "\n",
       "    .dataframe thead th {\n",
       "        text-align: right;\n",
       "    }\n",
       "</style>\n",
       "<table border=\"1\" class=\"dataframe\">\n",
       "  <thead>\n",
       "    <tr style=\"text-align: right;\">\n",
       "      <th></th>\n",
       "      <th>대여대여소명</th>\n",
       "      <th>반납대여소명</th>\n",
       "      <th>이용횟수</th>\n",
       "    </tr>\n",
       "  </thead>\n",
       "  <tbody>\n",
       "    <tr>\n",
       "      <th>0</th>\n",
       "      <td>강동구청 앞</td>\n",
       "      <td>강동구청 앞</td>\n",
       "      <td>34</td>\n",
       "    </tr>\n",
       "    <tr>\n",
       "      <th>1</th>\n",
       "      <td>둔촌역 3번 출입구</td>\n",
       "      <td>둔촌역 3번 출입구</td>\n",
       "      <td>79</td>\n",
       "    </tr>\n",
       "    <tr>\n",
       "      <th>2</th>\n",
       "      <td>(구)신한은행 중랑교지점</td>\n",
       "      <td>(구)신한은행 중랑교지점</td>\n",
       "      <td>44</td>\n",
       "    </tr>\n",
       "    <tr>\n",
       "      <th>3</th>\n",
       "      <td>(구)합정동 주민센터</td>\n",
       "      <td>(구)합정동 주민센터</td>\n",
       "      <td>61</td>\n",
       "    </tr>\n",
       "    <tr>\n",
       "      <th>4</th>\n",
       "      <td>3호선 매봉역 3번출구앞</td>\n",
       "      <td>3호선 매봉역 3번출구앞</td>\n",
       "      <td>66</td>\n",
       "    </tr>\n",
       "  </tbody>\n",
       "</table>\n",
       "</div>"
      ],
      "text/plain": [
       "           대여대여소명          반납대여소명  이용횟수\n",
       "0          강동구청 앞          강동구청 앞    34\n",
       "1      둔촌역 3번 출입구      둔촌역 3번 출입구    79\n",
       "2   (구)신한은행 중랑교지점   (구)신한은행 중랑교지점    44\n",
       "3     (구)합정동 주민센터     (구)합정동 주민센터    61\n",
       "4   3호선 매봉역 3번출구앞   3호선 매봉역 3번출구앞    66"
      ]
     },
     "execution_count": 64,
     "metadata": {},
     "output_type": "execute_result"
    }
   ],
   "source": [
    "df_same_count = df_same_loc.groupby(['대여대여소명', '반납대여소명']).size().reset_index()\n",
    "df_same_count.columns = ['대여대여소명', '반납대여소명', '이용횟수']\n",
    "df_same_count.head()"
   ]
  },
  {
   "cell_type": "code",
   "execution_count": 65,
   "metadata": {},
   "outputs": [
    {
     "data": {
      "text/html": [
       "<div>\n",
       "<style scoped>\n",
       "    .dataframe tbody tr th:only-of-type {\n",
       "        vertical-align: middle;\n",
       "    }\n",
       "\n",
       "    .dataframe tbody tr th {\n",
       "        vertical-align: top;\n",
       "    }\n",
       "\n",
       "    .dataframe thead th {\n",
       "        text-align: right;\n",
       "    }\n",
       "</style>\n",
       "<table border=\"1\" class=\"dataframe\">\n",
       "  <thead>\n",
       "    <tr style=\"text-align: right;\">\n",
       "      <th></th>\n",
       "      <th>대여대여소명</th>\n",
       "      <th>반납대여소명</th>\n",
       "      <th>이용시간(분)</th>\n",
       "      <th>이용횟수</th>\n",
       "    </tr>\n",
       "  </thead>\n",
       "  <tbody>\n",
       "    <tr>\n",
       "      <th>0</th>\n",
       "      <td>강동구청 앞</td>\n",
       "      <td>강동구청 앞</td>\n",
       "      <td>57.882353</td>\n",
       "      <td>34</td>\n",
       "    </tr>\n",
       "    <tr>\n",
       "      <th>1</th>\n",
       "      <td>둔촌역 3번 출입구</td>\n",
       "      <td>둔촌역 3번 출입구</td>\n",
       "      <td>46.810127</td>\n",
       "      <td>79</td>\n",
       "    </tr>\n",
       "    <tr>\n",
       "      <th>2</th>\n",
       "      <td>(구)신한은행 중랑교지점</td>\n",
       "      <td>(구)신한은행 중랑교지점</td>\n",
       "      <td>47.545455</td>\n",
       "      <td>44</td>\n",
       "    </tr>\n",
       "    <tr>\n",
       "      <th>3</th>\n",
       "      <td>(구)합정동 주민센터</td>\n",
       "      <td>(구)합정동 주민센터</td>\n",
       "      <td>62.639344</td>\n",
       "      <td>61</td>\n",
       "    </tr>\n",
       "    <tr>\n",
       "      <th>4</th>\n",
       "      <td>3호선 매봉역 3번출구앞</td>\n",
       "      <td>3호선 매봉역 3번출구앞</td>\n",
       "      <td>48.227273</td>\n",
       "      <td>66</td>\n",
       "    </tr>\n",
       "  </tbody>\n",
       "</table>\n",
       "</div>"
      ],
      "text/plain": [
       "           대여대여소명          반납대여소명    이용시간(분)  이용횟수\n",
       "0          강동구청 앞          강동구청 앞  57.882353    34\n",
       "1      둔촌역 3번 출입구      둔촌역 3번 출입구  46.810127    79\n",
       "2   (구)신한은행 중랑교지점   (구)신한은행 중랑교지점  47.545455    44\n",
       "3     (구)합정동 주민센터     (구)합정동 주민센터  62.639344    61\n",
       "4   3호선 매봉역 3번출구앞   3호선 매봉역 3번출구앞  48.227273    66"
      ]
     },
     "execution_count": 65,
     "metadata": {},
     "output_type": "execute_result"
    }
   ],
   "source": [
    "df_same_loc2 = df_same_mean.merge(df_same_count, left_on=['대여대여소명', '반납대여소명'],\\\n",
    "                                  right_on=['대여대여소명', '반납대여소명'])\n",
    "df_same_loc2.head()"
   ]
  },
  {
   "cell_type": "code",
   "execution_count": 66,
   "metadata": {},
   "outputs": [
    {
     "data": {
      "text/html": [
       "<div>\n",
       "<style scoped>\n",
       "    .dataframe tbody tr th:only-of-type {\n",
       "        vertical-align: middle;\n",
       "    }\n",
       "\n",
       "    .dataframe tbody tr th {\n",
       "        vertical-align: top;\n",
       "    }\n",
       "\n",
       "    .dataframe thead th {\n",
       "        text-align: right;\n",
       "    }\n",
       "</style>\n",
       "<table border=\"1\" class=\"dataframe\">\n",
       "  <thead>\n",
       "    <tr style=\"text-align: right;\">\n",
       "      <th></th>\n",
       "      <th>대여대여소명</th>\n",
       "      <th>반납대여소명</th>\n",
       "      <th>이용시간(분)</th>\n",
       "      <th>이용횟수</th>\n",
       "    </tr>\n",
       "  </thead>\n",
       "  <tbody>\n",
       "    <tr>\n",
       "      <th>167</th>\n",
       "      <td>구로1동우체국 앞</td>\n",
       "      <td>구로1동우체국 앞</td>\n",
       "      <td>143.500000</td>\n",
       "      <td>2</td>\n",
       "    </tr>\n",
       "    <tr>\n",
       "      <th>278</th>\n",
       "      <td>달맞이공원</td>\n",
       "      <td>달맞이공원</td>\n",
       "      <td>122.066667</td>\n",
       "      <td>15</td>\n",
       "    </tr>\n",
       "    <tr>\n",
       "      <th>434</th>\n",
       "      <td>명지대학교 학생회관</td>\n",
       "      <td>명지대학교 학생회관</td>\n",
       "      <td>121.285714</td>\n",
       "      <td>7</td>\n",
       "    </tr>\n",
       "    <tr>\n",
       "      <th>856</th>\n",
       "      <td>역삼동 sk뷰 501동앞</td>\n",
       "      <td>역삼동 sk뷰 501동앞</td>\n",
       "      <td>114.000000</td>\n",
       "      <td>1</td>\n",
       "    </tr>\n",
       "    <tr>\n",
       "      <th>66</th>\n",
       "      <td>강남세브란스교차로  래미안그레이튼 104동 앞</td>\n",
       "      <td>강남세브란스교차로  래미안그레이튼 104동 앞</td>\n",
       "      <td>99.727273</td>\n",
       "      <td>11</td>\n",
       "    </tr>\n",
       "    <tr>\n",
       "      <th>131</th>\n",
       "      <td>공항시장역 4번출구</td>\n",
       "      <td>공항시장역 4번출구</td>\n",
       "      <td>95.545455</td>\n",
       "      <td>11</td>\n",
       "    </tr>\n",
       "    <tr>\n",
       "      <th>833</th>\n",
       "      <td>양원역 2번출구</td>\n",
       "      <td>양원역 2번출구</td>\n",
       "      <td>94.333333</td>\n",
       "      <td>3</td>\n",
       "    </tr>\n",
       "    <tr>\n",
       "      <th>618</th>\n",
       "      <td>서대문구청</td>\n",
       "      <td>서대문구청</td>\n",
       "      <td>92.023810</td>\n",
       "      <td>42</td>\n",
       "    </tr>\n",
       "    <tr>\n",
       "      <th>221</th>\n",
       "      <td>금호역 1번출구 앞</td>\n",
       "      <td>금호역 1번출구 앞</td>\n",
       "      <td>91.777778</td>\n",
       "      <td>9</td>\n",
       "    </tr>\n",
       "    <tr>\n",
       "      <th>235</th>\n",
       "      <td>낙성대역 1번출구</td>\n",
       "      <td>낙성대역 1번출구</td>\n",
       "      <td>89.562500</td>\n",
       "      <td>16</td>\n",
       "    </tr>\n",
       "  </tbody>\n",
       "</table>\n",
       "</div>"
      ],
      "text/plain": [
       "                         대여대여소명                      반납대여소명     이용시간(분)  이용횟수\n",
       "167                   구로1동우체국 앞                   구로1동우체국 앞  143.500000     2\n",
       "278                       달맞이공원                       달맞이공원  122.066667    15\n",
       "434                  명지대학교 학생회관                  명지대학교 학생회관  121.285714     7\n",
       "856               역삼동 sk뷰 501동앞               역삼동 sk뷰 501동앞  114.000000     1\n",
       "66    강남세브란스교차로  래미안그레이튼 104동 앞   강남세브란스교차로  래미안그레이튼 104동 앞   99.727273    11\n",
       "131                  공항시장역 4번출구                  공항시장역 4번출구   95.545455    11\n",
       "833                    양원역 2번출구                    양원역 2번출구   94.333333     3\n",
       "618                       서대문구청                       서대문구청   92.023810    42\n",
       "221                  금호역 1번출구 앞                  금호역 1번출구 앞   91.777778     9\n",
       "235                   낙성대역 1번출구                   낙성대역 1번출구   89.562500    16"
      ]
     },
     "execution_count": 66,
     "metadata": {},
     "output_type": "execute_result"
    }
   ],
   "source": [
    "df_same_loc2.sort_values(by='이용시간(분)', ascending=False).head(10)"
   ]
  },
  {
   "cell_type": "code",
   "execution_count": 67,
   "metadata": {},
   "outputs": [
    {
     "data": {
      "text/html": [
       "<div>\n",
       "<style scoped>\n",
       "    .dataframe tbody tr th:only-of-type {\n",
       "        vertical-align: middle;\n",
       "    }\n",
       "\n",
       "    .dataframe tbody tr th {\n",
       "        vertical-align: top;\n",
       "    }\n",
       "\n",
       "    .dataframe thead th {\n",
       "        text-align: right;\n",
       "    }\n",
       "</style>\n",
       "<table border=\"1\" class=\"dataframe\">\n",
       "  <thead>\n",
       "    <tr style=\"text-align: right;\">\n",
       "      <th></th>\n",
       "      <th>대여대여소명</th>\n",
       "      <th>반납대여소명</th>\n",
       "      <th>이용시간(분)</th>\n",
       "      <th>이용횟수</th>\n",
       "    </tr>\n",
       "  </thead>\n",
       "  <tbody>\n",
       "    <tr>\n",
       "      <th>850</th>\n",
       "      <td>여의나루역 1번출구 앞</td>\n",
       "      <td>여의나루역 1번출구 앞</td>\n",
       "      <td>66.167304</td>\n",
       "      <td>1046</td>\n",
       "    </tr>\n",
       "    <tr>\n",
       "      <th>369</th>\n",
       "      <td>뚝섬유원지역 1번출구 앞</td>\n",
       "      <td>뚝섬유원지역 1번출구 앞</td>\n",
       "      <td>56.593333</td>\n",
       "      <td>900</td>\n",
       "    </tr>\n",
       "    <tr>\n",
       "      <th>646</th>\n",
       "      <td>서울숲 관리사무소</td>\n",
       "      <td>서울숲 관리사무소</td>\n",
       "      <td>57.178947</td>\n",
       "      <td>665</td>\n",
       "    </tr>\n",
       "    <tr>\n",
       "      <th>518</th>\n",
       "      <td>봉림교 교통섬</td>\n",
       "      <td>봉림교 교통섬</td>\n",
       "      <td>58.836096</td>\n",
       "      <td>543</td>\n",
       "    </tr>\n",
       "    <tr>\n",
       "      <th>404</th>\n",
       "      <td>마포구민체육센터 앞</td>\n",
       "      <td>마포구민체육센터 앞</td>\n",
       "      <td>57.975970</td>\n",
       "      <td>541</td>\n",
       "    </tr>\n",
       "    <tr>\n",
       "      <th>118</th>\n",
       "      <td>고속터미널역 8-1번, 8-2번 출구 사이</td>\n",
       "      <td>고속터미널역 8-1번, 8-2번 출구 사이</td>\n",
       "      <td>72.138144</td>\n",
       "      <td>485</td>\n",
       "    </tr>\n",
       "    <tr>\n",
       "      <th>905</th>\n",
       "      <td>옥수역 3번출구</td>\n",
       "      <td>옥수역 3번출구</td>\n",
       "      <td>55.855580</td>\n",
       "      <td>457</td>\n",
       "    </tr>\n",
       "    <tr>\n",
       "      <th>445</th>\n",
       "      <td>몽촌토성역 1번출구 옆</td>\n",
       "      <td>몽촌토성역 1번출구 옆</td>\n",
       "      <td>58.420513</td>\n",
       "      <td>390</td>\n",
       "    </tr>\n",
       "    <tr>\n",
       "      <th>253</th>\n",
       "      <td>노들역 1번출구</td>\n",
       "      <td>노들역 1번출구</td>\n",
       "      <td>63.424731</td>\n",
       "      <td>372</td>\n",
       "    </tr>\n",
       "    <tr>\n",
       "      <th>287</th>\n",
       "      <td>당산육갑문</td>\n",
       "      <td>당산육갑문</td>\n",
       "      <td>66.157738</td>\n",
       "      <td>336</td>\n",
       "    </tr>\n",
       "  </tbody>\n",
       "</table>\n",
       "</div>"
      ],
      "text/plain": [
       "                       대여대여소명                    반납대여소명    이용시간(분)  이용횟수\n",
       "850              여의나루역 1번출구 앞              여의나루역 1번출구 앞  66.167304  1046\n",
       "369             뚝섬유원지역 1번출구 앞             뚝섬유원지역 1번출구 앞  56.593333   900\n",
       "646                 서울숲 관리사무소                 서울숲 관리사무소  57.178947   665\n",
       "518                   봉림교 교통섬                   봉림교 교통섬  58.836096   543\n",
       "404                마포구민체육센터 앞                마포구민체육센터 앞  57.975970   541\n",
       "118   고속터미널역 8-1번, 8-2번 출구 사이   고속터미널역 8-1번, 8-2번 출구 사이  72.138144   485\n",
       "905                  옥수역 3번출구                  옥수역 3번출구  55.855580   457\n",
       "445              몽촌토성역 1번출구 옆              몽촌토성역 1번출구 옆  58.420513   390\n",
       "253                  노들역 1번출구                  노들역 1번출구  63.424731   372\n",
       "287                     당산육갑문                     당산육갑문  66.157738   336"
      ]
     },
     "execution_count": 67,
     "metadata": {},
     "output_type": "execute_result"
    }
   ],
   "source": [
    "# 이용횟수가 많은 곳의 평균 이용시간\n",
    "df_same_loc2.sort_values(by='이용횟수', ascending=False).head(10)"
   ]
  },
  {
   "cell_type": "code",
   "execution_count": 68,
   "metadata": {},
   "outputs": [
    {
     "data": {
      "text/plain": [
       "<AxesSubplot:ylabel='Frequency'>"
      ]
     },
     "execution_count": 68,
     "metadata": {},
     "output_type": "execute_result"
    },
    {
     "data": {
      "image/png": "[encoded data removed]",
      "text/plain": [
       "<Figure size 432x288 with 1 Axes>"
      ]
     },
     "metadata": {
      "needs_background": "light"
     },
     "output_type": "display_data"
    }
   ],
   "source": [
    "df_same_loc2['이용횟수'].plot.hist()"
   ]
  },
  {
   "cell_type": "markdown",
   "metadata": {},
   "source": [
    "### 다른 대여|반납소"
   ]
  },
  {
   "cell_type": "code",
   "execution_count": 69,
   "metadata": {},
   "outputs": [
    {
     "data": {
      "text/plain": [
       "(520100, 24)"
      ]
     },
     "execution_count": 69,
     "metadata": {},
     "output_type": "execute_result"
    }
   ],
   "source": [
    "df_diff_loc = df.loc[df['같은대여반납소'] == False]\n",
    "df_diff_loc.shape"
   ]
  },
  {
   "cell_type": "code",
   "execution_count": 70,
   "metadata": {},
   "outputs": [
    {
     "name": "stdout",
     "output_type": "stream",
     "text": [
      "다른곳에서 대여, 반납이 이루어지는 자전거의 평균 이용시간 :  25.834228033070563\n"
     ]
    },
    {
     "data": {
      "text/html": [
       "<div>\n",
       "<style scoped>\n",
       "    .dataframe tbody tr th:only-of-type {\n",
       "        vertical-align: middle;\n",
       "    }\n",
       "\n",
       "    .dataframe tbody tr th {\n",
       "        vertical-align: top;\n",
       "    }\n",
       "\n",
       "    .dataframe thead th {\n",
       "        text-align: right;\n",
       "    }\n",
       "</style>\n",
       "<table border=\"1\" class=\"dataframe\">\n",
       "  <thead>\n",
       "    <tr style=\"text-align: right;\">\n",
       "      <th></th>\n",
       "      <th>대여대여소명</th>\n",
       "      <th>반납대여소명</th>\n",
       "      <th>이용시간(분)</th>\n",
       "      <th>이용횟수</th>\n",
       "    </tr>\n",
       "  </thead>\n",
       "  <tbody>\n",
       "    <tr>\n",
       "      <th>94100</th>\n",
       "      <td>천왕역 4번출구 뒤</td>\n",
       "      <td>신정3동 현장민원실 앞</td>\n",
       "      <td>740.000000</td>\n",
       "      <td>1</td>\n",
       "    </tr>\n",
       "    <tr>\n",
       "      <th>72879</th>\n",
       "      <td>여의도고교 앞</td>\n",
       "      <td>보라매역 8번출구</td>\n",
       "      <td>651.000000</td>\n",
       "      <td>1</td>\n",
       "    </tr>\n",
       "    <tr>\n",
       "      <th>59814</th>\n",
       "      <td>성수역3번출구</td>\n",
       "      <td>논현역 7번출구</td>\n",
       "      <td>553.000000</td>\n",
       "      <td>1</td>\n",
       "    </tr>\n",
       "    <tr>\n",
       "      <th>70466</th>\n",
       "      <td>압구정파출소 앞</td>\n",
       "      <td>전농사거리 교통섬</td>\n",
       "      <td>506.000000</td>\n",
       "      <td>1</td>\n",
       "    </tr>\n",
       "    <tr>\n",
       "      <th>66230</th>\n",
       "      <td>신설동역8번출구</td>\n",
       "      <td>청계천 박물관 앞</td>\n",
       "      <td>504.000000</td>\n",
       "      <td>3</td>\n",
       "    </tr>\n",
       "    <tr>\n",
       "      <th>41979</th>\n",
       "      <td>방화역 4번출구앞</td>\n",
       "      <td>황금내근린공원</td>\n",
       "      <td>479.000000</td>\n",
       "      <td>1</td>\n",
       "    </tr>\n",
       "    <tr>\n",
       "      <th>1077</th>\n",
       "      <td>DMC역 2번출구 옆</td>\n",
       "      <td>홍은동 정원여중 입구</td>\n",
       "      <td>440.000000</td>\n",
       "      <td>2</td>\n",
       "    </tr>\n",
       "    <tr>\n",
       "      <th>84463</th>\n",
       "      <td>이태원지하보도</td>\n",
       "      <td>마포구청역</td>\n",
       "      <td>437.000000</td>\n",
       "      <td>2</td>\n",
       "    </tr>\n",
       "    <tr>\n",
       "      <th>84329</th>\n",
       "      <td>이태원관광특구입구</td>\n",
       "      <td>국립현대미술관</td>\n",
       "      <td>405.666667</td>\n",
       "      <td>3</td>\n",
       "    </tr>\n",
       "    <tr>\n",
       "      <th>15423</th>\n",
       "      <td>구로역 광장</td>\n",
       "      <td>유한양행앞</td>\n",
       "      <td>405.000000</td>\n",
       "      <td>1</td>\n",
       "    </tr>\n",
       "  </tbody>\n",
       "</table>\n",
       "</div>"
      ],
      "text/plain": [
       "             대여대여소명         반납대여소명     이용시간(분)  이용횟수\n",
       "94100    천왕역 4번출구 뒤   신정3동 현장민원실 앞  740.000000     1\n",
       "72879       여의도고교 앞      보라매역 8번출구  651.000000     1\n",
       "59814       성수역3번출구       논현역 7번출구  553.000000     1\n",
       "70466      압구정파출소 앞      전농사거리 교통섬  506.000000     1\n",
       "66230      신설동역8번출구      청계천 박물관 앞  504.000000     3\n",
       "41979     방화역 4번출구앞        황금내근린공원  479.000000     1\n",
       "1077    DMC역 2번출구 옆    홍은동 정원여중 입구  440.000000     2\n",
       "84463       이태원지하보도         마포구청역   437.000000     2\n",
       "84329     이태원관광특구입구        국립현대미술관  405.666667     3\n",
       "15423        구로역 광장          유한양행앞  405.000000     1"
      ]
     },
     "execution_count": 70,
     "metadata": {},
     "output_type": "execute_result"
    }
   ],
   "source": [
    "diff_loc_mean_time = df_diff_loc['이용시간(분)'].mean()\n",
    "print('다른곳에서 대여, 반납이 이루어지는 자전거의 평균 이용시간 : ', df_diff_loc['이용시간(분)'].mean())\n",
    "df_diff_mean = df_diff_loc.groupby(['대여대여소명', '반납대여소명'])['이용시간(분)'].mean().reset_index()\n",
    "df_diff_count = df_diff_loc.groupby(['대여대여소명', '반납대여소명']).size().reset_index()\n",
    "df_diff_count.columns = ['대여대여소명', '반납대여소명', '이용횟수']\n",
    "df_diff_loc2 = df_diff_mean.merge(df_diff_count, left_on=['대여대여소명', '반납대여소명'], right_on=['대여대여소명', '반납대여소명'])\n",
    "df_diff_loc2.sort_values(by='이용시간(분)', ascending=False).head(10)"
   ]
  },
  {
   "cell_type": "code",
   "execution_count": 71,
   "metadata": {},
   "outputs": [
    {
     "data": {
      "text/html": [
       "<div>\n",
       "<style scoped>\n",
       "    .dataframe tbody tr th:only-of-type {\n",
       "        vertical-align: middle;\n",
       "    }\n",
       "\n",
       "    .dataframe tbody tr th {\n",
       "        vertical-align: top;\n",
       "    }\n",
       "\n",
       "    .dataframe thead th {\n",
       "        text-align: right;\n",
       "    }\n",
       "</style>\n",
       "<table border=\"1\" class=\"dataframe\">\n",
       "  <thead>\n",
       "    <tr style=\"text-align: right;\">\n",
       "      <th></th>\n",
       "      <th>대여대여소명</th>\n",
       "      <th>반납대여소명</th>\n",
       "      <th>이용시간(분)</th>\n",
       "      <th>이용횟수</th>\n",
       "    </tr>\n",
       "  </thead>\n",
       "  <tbody>\n",
       "    <tr>\n",
       "      <th>99349</th>\n",
       "      <td>하늘채코오롱아파트 건너편</td>\n",
       "      <td>홍대입구역 2번출구 앞</td>\n",
       "      <td>10.240938</td>\n",
       "      <td>469</td>\n",
       "    </tr>\n",
       "    <tr>\n",
       "      <th>104360</th>\n",
       "      <td>홍대입구역 2번출구 앞</td>\n",
       "      <td>하늘채코오롱아파트 건너편</td>\n",
       "      <td>14.943734</td>\n",
       "      <td>391</td>\n",
       "    </tr>\n",
       "    <tr>\n",
       "      <th>86527</th>\n",
       "      <td>장승배기역 5번출구</td>\n",
       "      <td>노량진역 5번출구</td>\n",
       "      <td>8.200000</td>\n",
       "      <td>285</td>\n",
       "    </tr>\n",
       "    <tr>\n",
       "      <th>43695</th>\n",
       "      <td>봉림교 교통섬</td>\n",
       "      <td>도림천 신화교</td>\n",
       "      <td>17.679856</td>\n",
       "      <td>278</td>\n",
       "    </tr>\n",
       "    <tr>\n",
       "      <th>26686</th>\n",
       "      <td>도림천 신화교</td>\n",
       "      <td>봉림교 교통섬</td>\n",
       "      <td>14.248175</td>\n",
       "      <td>274</td>\n",
       "    </tr>\n",
       "    <tr>\n",
       "      <th>108597</th>\n",
       "      <td>청계산입구역 1번출구</td>\n",
       "      <td>언남초등학교 앞</td>\n",
       "      <td>8.184426</td>\n",
       "      <td>244</td>\n",
       "    </tr>\n",
       "    <tr>\n",
       "      <th>43745</th>\n",
       "      <td>봉림교 교통섬</td>\n",
       "      <td>서울신성초등학교</td>\n",
       "      <td>21.479339</td>\n",
       "      <td>242</td>\n",
       "    </tr>\n",
       "    <tr>\n",
       "      <th>72270</th>\n",
       "      <td>언남초등학교 앞</td>\n",
       "      <td>청계산입구역 1번출구</td>\n",
       "      <td>6.260504</td>\n",
       "      <td>238</td>\n",
       "    </tr>\n",
       "    <tr>\n",
       "      <th>7959</th>\n",
       "      <td>건국대학교 (입학정보관)</td>\n",
       "      <td>건국대학교 학생회관</td>\n",
       "      <td>12.218341</td>\n",
       "      <td>229</td>\n",
       "    </tr>\n",
       "    <tr>\n",
       "      <th>85076</th>\n",
       "      <td>자양나들목</td>\n",
       "      <td>뚝섬유원지역 1번출구 앞</td>\n",
       "      <td>8.204651</td>\n",
       "      <td>215</td>\n",
       "    </tr>\n",
       "  </tbody>\n",
       "</table>\n",
       "</div>"
      ],
      "text/plain": [
       "                대여대여소명          반납대여소명    이용시간(분)  이용횟수\n",
       "99349    하늘채코오롱아파트 건너편    홍대입구역 2번출구 앞  10.240938   469\n",
       "104360    홍대입구역 2번출구 앞   하늘채코오롱아파트 건너편  14.943734   391\n",
       "86527       장승배기역 5번출구       노량진역 5번출구   8.200000   285\n",
       "43695          봉림교 교통섬         도림천 신화교  17.679856   278\n",
       "26686          도림천 신화교         봉림교 교통섬  14.248175   274\n",
       "108597     청계산입구역 1번출구        언남초등학교 앞   8.184426   244\n",
       "43745          봉림교 교통섬        서울신성초등학교  21.479339   242\n",
       "72270         언남초등학교 앞     청계산입구역 1번출구   6.260504   238\n",
       "7959     건국대학교 (입학정보관)      건국대학교 학생회관  12.218341   229\n",
       "85076            자양나들목   뚝섬유원지역 1번출구 앞   8.204651   215"
      ]
     },
     "execution_count": 71,
     "metadata": {},
     "output_type": "execute_result"
    }
   ],
   "source": [
    "df_diff_loc2.sort_values(by='이용횟수', ascending=False).head(10)"
   ]
  },
  {
   "cell_type": "code",
   "execution_count": 72,
   "metadata": {},
   "outputs": [
    {
     "name": "stdout",
     "output_type": "stream",
     "text": [
      "같은 곳에서 대여반납이 이루어지는 자전거의 이용시간(분)이 다른 대여소의 대여반납 이용시간보다 27.35 분 많다.\n"
     ]
    }
   ],
   "source": [
    "rent_mean_time = same_loc_mean_time - diff_loc_mean_time\n",
    "print('같은 곳에서 대여반납이 이루어지는 자전거의 이용시간(분)이 다른 대여소의 대여반납 이용시간보다 {:,.2f} 분 많다.'.format(rent_mean_time))"
   ]
  },
  {
   "cell_type": "markdown",
   "metadata": {},
   "source": [
    "* 이용횟수가 많은 대여소라고 해서 평균이용시간이 평균보다 높지는 않다.\n",
    "* 하늘채코오롱아파트 건너편<->홍대입구역 2번출구 앞은 이용횟수가 가장 높은 대여반납소다.\n",
    "* 관련기사\n",
    "    * ['따릉이' 타고 가장 많이 다닌 경로는? - 통플러스](http://news.tongplus.com/site/data/html_dir/2018/10/24/2018102402585.html)\n",
    "    * [[ONE SHOT] 따릉이, ‘이곳’서 가장 많이 빌리고 ‘여기’서 가장 많이 탄다](https://news.joins.com/article/23003297)"
   ]
  },
  {
   "cell_type": "markdown",
   "metadata": {},
   "source": [
    "## 해당 기간동안 가장 많이 이용된 자전거는 몇 회 대여 되었을까?"
   ]
  },
  {
   "cell_type": "code",
   "execution_count": 73,
   "metadata": {},
   "outputs": [
    {
     "name": "stdout",
     "output_type": "stream",
     "text": [
      "<class 'pandas.core.frame.DataFrame'>\n",
      "RangeIndex: 586304 entries, 0 to 586303\n",
      "Data columns (total 24 columns):\n",
      " #   Column   Non-Null Count   Dtype         \n",
      "---  ------   --------------   -----         \n",
      " 0   자전거번호    586304 non-null  object        \n",
      " 1   대여일시     586304 non-null  datetime64[ns]\n",
      " 2   대여대여소번호  586304 non-null  object        \n",
      " 3   대여대여소명   586304 non-null  object        \n",
      " 4   대여거치대    586304 non-null  int64         \n",
      " 5   반납일시     586304 non-null  datetime64[ns]\n",
      " 6   반납대여소번호  586304 non-null  object        \n",
      " 7   반납대여소명   586304 non-null  object        \n",
      " 8   반납거치대    586304 non-null  int64         \n",
      " 9   이용시간(분)  586304 non-null  int64         \n",
      " 10  이용거리(M)  586304 non-null  int64         \n",
      " 11  대여년      586304 non-null  int64         \n",
      " 12  대여월      586304 non-null  int64         \n",
      " 13  대여일      586304 non-null  int64         \n",
      " 14  대여시      586304 non-null  int64         \n",
      " 15  대여분      586304 non-null  int64         \n",
      " 16  대여요일     586304 non-null  int64         \n",
      " 17  반납년      586304 non-null  int64         \n",
      " 18  반납월      586304 non-null  int64         \n",
      " 19  반납일      586304 non-null  int64         \n",
      " 20  반납시      586304 non-null  int64         \n",
      " 21  반납분      586304 non-null  int64         \n",
      " 22  반납요일     586304 non-null  int64         \n",
      " 23  같은대여반납소  586304 non-null  bool          \n",
      "dtypes: bool(1), datetime64[ns](2), int64(16), object(5)\n",
      "memory usage: 103.4+ MB\n"
     ]
    },
    {
     "data": {
      "text/plain": [
       "count        586304\n",
       "unique        12970\n",
       "top       SPB-18238\n",
       "freq            139\n",
       "Name: 자전거번호, dtype: object"
      ]
     },
     "execution_count": 73,
     "metadata": {},
     "output_type": "execute_result"
    }
   ],
   "source": [
    "df.info()\n",
    "df['자전거번호'].describe()"
   ]
  },
  {
   "cell_type": "code",
   "execution_count": 74,
   "metadata": {},
   "outputs": [
    {
     "name": "stdout",
     "output_type": "stream",
     "text": [
      "대여된 자전거 수 : 12970\n",
      "가장 많이 대여된 자전거 번호 : SPB-18238\n",
      "가장 많이 대여된 자전거의 대여횟수 : 139\n"
     ]
    },
    {
     "data": {
      "text/plain": [
       "count        586304\n",
       "unique        12970\n",
       "top       SPB-18238\n",
       "freq            139\n",
       "Name: 자전거번호, dtype: object"
      ]
     },
     "execution_count": 74,
     "metadata": {},
     "output_type": "execute_result"
    }
   ],
   "source": [
    "bike_describe = df['자전거번호'].describe()\n",
    "print('대여된 자전거 수 :', bike_describe[1]) #unique\n",
    "print('가장 많이 대여된 자전거 번호 :', bike_describe[2]) #top\n",
    "print('가장 많이 대여된 자전거의 대여횟수 :', bike_describe[3]) #freq\n",
    "bike_describe"
   ]
  },
  {
   "cell_type": "code",
   "execution_count": 75,
   "metadata": {},
   "outputs": [
    {
     "name": "stdout",
     "output_type": "stream",
     "text": [
      "해당 기간동안 자전거 하나당 평균 대여 수: 45.20462606013878\n",
      "자전거 하나당 가장 많이 대여된 횟수: 139\n",
      "자전거 하나당 가장 적게 대여된 횟수: 1\n"
     ]
    },
    {
     "data": {
      "text/html": [
       "<div>\n",
       "<style scoped>\n",
       "    .dataframe tbody tr th:only-of-type {\n",
       "        vertical-align: middle;\n",
       "    }\n",
       "\n",
       "    .dataframe tbody tr th {\n",
       "        vertical-align: top;\n",
       "    }\n",
       "\n",
       "    .dataframe thead th {\n",
       "        text-align: right;\n",
       "    }\n",
       "</style>\n",
       "<table border=\"1\" class=\"dataframe\">\n",
       "  <thead>\n",
       "    <tr style=\"text-align: right;\">\n",
       "      <th></th>\n",
       "      <th>자전거번호</th>\n",
       "      <th>대여수</th>\n",
       "    </tr>\n",
       "  </thead>\n",
       "  <tbody>\n",
       "    <tr>\n",
       "      <th>0</th>\n",
       "      <td>SPB-18238</td>\n",
       "      <td>139</td>\n",
       "    </tr>\n",
       "    <tr>\n",
       "      <th>1</th>\n",
       "      <td>SPB-14689</td>\n",
       "      <td>128</td>\n",
       "    </tr>\n",
       "    <tr>\n",
       "      <th>2</th>\n",
       "      <td>SPB-16288</td>\n",
       "      <td>126</td>\n",
       "    </tr>\n",
       "    <tr>\n",
       "      <th>3</th>\n",
       "      <td>SPB-16176</td>\n",
       "      <td>125</td>\n",
       "    </tr>\n",
       "    <tr>\n",
       "      <th>4</th>\n",
       "      <td>SPB-18073</td>\n",
       "      <td>121</td>\n",
       "    </tr>\n",
       "  </tbody>\n",
       "</table>\n",
       "</div>"
      ],
      "text/plain": [
       "       자전거번호  대여수\n",
       "0  SPB-18238  139\n",
       "1  SPB-14689  128\n",
       "2  SPB-16288  126\n",
       "3  SPB-16176  125\n",
       "4  SPB-18073  121"
      ]
     },
     "execution_count": 75,
     "metadata": {},
     "output_type": "execute_result"
    }
   ],
   "source": [
    "bike_rent_counts = df['자전거번호'].value_counts().reset_index()\n",
    "bike_rent_counts.columns = ['자전거번호', '대여수']\n",
    "print('해당 기간동안 자전거 하나당 평균 대여 수:', bike_rent_counts['대여수'].mean())\n",
    "print('자전거 하나당 가장 많이 대여된 횟수:', bike_rent_counts['대여수'].max())\n",
    "print('자전거 하나당 가장 적게 대여된 횟수:', bike_rent_counts['대여수'].min())\n",
    "bike_rent_counts.head()"
   ]
  },
  {
   "cell_type": "code",
   "execution_count": 76,
   "metadata": {},
   "outputs": [
    {
     "data": {
      "text/html": [
       "<div>\n",
       "<style scoped>\n",
       "    .dataframe tbody tr th:only-of-type {\n",
       "        vertical-align: middle;\n",
       "    }\n",
       "\n",
       "    .dataframe tbody tr th {\n",
       "        vertical-align: top;\n",
       "    }\n",
       "\n",
       "    .dataframe thead th {\n",
       "        text-align: right;\n",
       "    }\n",
       "</style>\n",
       "<table border=\"1\" class=\"dataframe\">\n",
       "  <thead>\n",
       "    <tr style=\"text-align: right;\">\n",
       "      <th></th>\n",
       "      <th>자전거번호</th>\n",
       "      <th>대여수</th>\n",
       "    </tr>\n",
       "  </thead>\n",
       "  <tbody>\n",
       "    <tr>\n",
       "      <th>12965</th>\n",
       "      <td>SPB-12070</td>\n",
       "      <td>1</td>\n",
       "    </tr>\n",
       "    <tr>\n",
       "      <th>12966</th>\n",
       "      <td>SPB-08351</td>\n",
       "      <td>1</td>\n",
       "    </tr>\n",
       "    <tr>\n",
       "      <th>12967</th>\n",
       "      <td>SPB-03992</td>\n",
       "      <td>1</td>\n",
       "    </tr>\n",
       "    <tr>\n",
       "      <th>12968</th>\n",
       "      <td>SPB-16483</td>\n",
       "      <td>1</td>\n",
       "    </tr>\n",
       "    <tr>\n",
       "      <th>12969</th>\n",
       "      <td>SPB-02168</td>\n",
       "      <td>1</td>\n",
       "    </tr>\n",
       "  </tbody>\n",
       "</table>\n",
       "</div>"
      ],
      "text/plain": [
       "           자전거번호  대여수\n",
       "12965  SPB-12070    1\n",
       "12966  SPB-08351    1\n",
       "12967  SPB-03992    1\n",
       "12968  SPB-16483    1\n",
       "12969  SPB-02168    1"
      ]
     },
     "execution_count": 76,
     "metadata": {},
     "output_type": "execute_result"
    }
   ],
   "source": [
    "bike_rent_counts.tail()"
   ]
  },
  {
   "cell_type": "code",
   "execution_count": 77,
   "metadata": {},
   "outputs": [
    {
     "data": {
      "text/plain": [
       "<AxesSubplot:ylabel='Frequency'>"
      ]
     },
     "execution_count": 77,
     "metadata": {},
     "output_type": "execute_result"
    },
    {
     "data": {
      "image/png": "[encoded data removed]",
      "text/plain": [
       "<Figure size 432x288 with 1 Axes>"
      ]
     },
     "metadata": {
      "needs_background": "light"
     },
     "output_type": "display_data"
    }
   ],
   "source": [
    "bike_rent_counts.plot.hist()"
   ]
  },
  {
   "cell_type": "code",
   "execution_count": 78,
   "metadata": {},
   "outputs": [
    {
     "data": {
      "text/html": [
       "<div>\n",
       "<style scoped>\n",
       "    .dataframe tbody tr th:only-of-type {\n",
       "        vertical-align: middle;\n",
       "    }\n",
       "\n",
       "    .dataframe tbody tr th {\n",
       "        vertical-align: top;\n",
       "    }\n",
       "\n",
       "    .dataframe thead th {\n",
       "        text-align: right;\n",
       "    }\n",
       "</style>\n",
       "<table border=\"1\" class=\"dataframe\">\n",
       "  <thead>\n",
       "    <tr style=\"text-align: right;\">\n",
       "      <th></th>\n",
       "      <th>자전거번호</th>\n",
       "      <th>대여일시</th>\n",
       "      <th>대여대여소번호</th>\n",
       "      <th>대여대여소명</th>\n",
       "      <th>대여거치대</th>\n",
       "      <th>반납일시</th>\n",
       "      <th>반납대여소번호</th>\n",
       "      <th>반납대여소명</th>\n",
       "      <th>반납거치대</th>\n",
       "      <th>이용시간(분)</th>\n",
       "      <th>...</th>\n",
       "      <th>대여시</th>\n",
       "      <th>대여분</th>\n",
       "      <th>대여요일</th>\n",
       "      <th>반납년</th>\n",
       "      <th>반납월</th>\n",
       "      <th>반납일</th>\n",
       "      <th>반납시</th>\n",
       "      <th>반납분</th>\n",
       "      <th>반납요일</th>\n",
       "      <th>같은대여반납소</th>\n",
       "    </tr>\n",
       "  </thead>\n",
       "  <tbody>\n",
       "    <tr>\n",
       "      <th>13282</th>\n",
       "      <td>SPB-18238</td>\n",
       "      <td>2018-06-16 13:01:05</td>\n",
       "      <td>2140</td>\n",
       "      <td>신림1교 교차로</td>\n",
       "      <td>6</td>\n",
       "      <td>2018-06-16 13:46:40</td>\n",
       "      <td>1975</td>\n",
       "      <td>대림역 1번 출입구 밑</td>\n",
       "      <td>4</td>\n",
       "      <td>45</td>\n",
       "      <td>...</td>\n",
       "      <td>13</td>\n",
       "      <td>1</td>\n",
       "      <td>5</td>\n",
       "      <td>2018</td>\n",
       "      <td>6</td>\n",
       "      <td>16</td>\n",
       "      <td>13</td>\n",
       "      <td>46</td>\n",
       "      <td>5</td>\n",
       "      <td>False</td>\n",
       "    </tr>\n",
       "    <tr>\n",
       "      <th>14861</th>\n",
       "      <td>SPB-18238</td>\n",
       "      <td>2018-06-16 13:47:21</td>\n",
       "      <td>1975</td>\n",
       "      <td>대림역 1번 출입구 밑</td>\n",
       "      <td>4</td>\n",
       "      <td>2018-06-16 14:17:53</td>\n",
       "      <td>2140</td>\n",
       "      <td>신림1교 교차로</td>\n",
       "      <td>6</td>\n",
       "      <td>30</td>\n",
       "      <td>...</td>\n",
       "      <td>13</td>\n",
       "      <td>47</td>\n",
       "      <td>5</td>\n",
       "      <td>2018</td>\n",
       "      <td>6</td>\n",
       "      <td>16</td>\n",
       "      <td>14</td>\n",
       "      <td>17</td>\n",
       "      <td>5</td>\n",
       "      <td>False</td>\n",
       "    </tr>\n",
       "    <tr>\n",
       "      <th>18639</th>\n",
       "      <td>SPB-18238</td>\n",
       "      <td>2018-06-16 15:25:52</td>\n",
       "      <td>2140</td>\n",
       "      <td>신림1교 교차로</td>\n",
       "      <td>6</td>\n",
       "      <td>2018-06-16 16:16:09</td>\n",
       "      <td>2140</td>\n",
       "      <td>신림1교 교차로</td>\n",
       "      <td>2</td>\n",
       "      <td>49</td>\n",
       "      <td>...</td>\n",
       "      <td>15</td>\n",
       "      <td>25</td>\n",
       "      <td>5</td>\n",
       "      <td>2018</td>\n",
       "      <td>6</td>\n",
       "      <td>16</td>\n",
       "      <td>16</td>\n",
       "      <td>16</td>\n",
       "      <td>5</td>\n",
       "      <td>True</td>\n",
       "    </tr>\n",
       "    <tr>\n",
       "      <th>22887</th>\n",
       "      <td>SPB-18238</td>\n",
       "      <td>2018-06-16 17:01:22</td>\n",
       "      <td>2140</td>\n",
       "      <td>신림1교 교차로</td>\n",
       "      <td>2</td>\n",
       "      <td>2018-06-16 18:39:24</td>\n",
       "      <td>2140</td>\n",
       "      <td>신림1교 교차로</td>\n",
       "      <td>1</td>\n",
       "      <td>97</td>\n",
       "      <td>...</td>\n",
       "      <td>17</td>\n",
       "      <td>1</td>\n",
       "      <td>5</td>\n",
       "      <td>2018</td>\n",
       "      <td>6</td>\n",
       "      <td>16</td>\n",
       "      <td>18</td>\n",
       "      <td>39</td>\n",
       "      <td>5</td>\n",
       "      <td>True</td>\n",
       "    </tr>\n",
       "    <tr>\n",
       "      <th>28700</th>\n",
       "      <td>SPB-18238</td>\n",
       "      <td>2018-06-16 18:43:39</td>\n",
       "      <td>2140</td>\n",
       "      <td>신림1교 교차로</td>\n",
       "      <td>1</td>\n",
       "      <td>2018-06-16 19:21:39</td>\n",
       "      <td>2171</td>\n",
       "      <td>서울대입구역 5번출구</td>\n",
       "      <td>12</td>\n",
       "      <td>37</td>\n",
       "      <td>...</td>\n",
       "      <td>18</td>\n",
       "      <td>43</td>\n",
       "      <td>5</td>\n",
       "      <td>2018</td>\n",
       "      <td>6</td>\n",
       "      <td>16</td>\n",
       "      <td>19</td>\n",
       "      <td>21</td>\n",
       "      <td>5</td>\n",
       "      <td>False</td>\n",
       "    </tr>\n",
       "  </tbody>\n",
       "</table>\n",
       "<p>5 rows × 24 columns</p>\n",
       "</div>"
      ],
      "text/plain": [
       "           자전거번호                대여일시 대여대여소번호         대여대여소명  대여거치대  \\\n",
       "13282  SPB-18238 2018-06-16 13:01:05    2140       신림1교 교차로      6   \n",
       "14861  SPB-18238 2018-06-16 13:47:21    1975   대림역 1번 출입구 밑      4   \n",
       "18639  SPB-18238 2018-06-16 15:25:52    2140       신림1교 교차로      6   \n",
       "22887  SPB-18238 2018-06-16 17:01:22    2140       신림1교 교차로      2   \n",
       "28700  SPB-18238 2018-06-16 18:43:39    2140       신림1교 교차로      1   \n",
       "\n",
       "                     반납일시 반납대여소번호         반납대여소명  반납거치대  이용시간(분)  ...  대여시  \\\n",
       "13282 2018-06-16 13:46:40    1975   대림역 1번 출입구 밑      4       45  ...   13   \n",
       "14861 2018-06-16 14:17:53    2140       신림1교 교차로      6       30  ...   13   \n",
       "18639 2018-06-16 16:16:09    2140       신림1교 교차로      2       49  ...   15   \n",
       "22887 2018-06-16 18:39:24    2140       신림1교 교차로      1       97  ...   17   \n",
       "28700 2018-06-16 19:21:39    2171    서울대입구역 5번출구     12       37  ...   18   \n",
       "\n",
       "       대여분  대여요일   반납년  반납월  반납일  반납시  반납분  반납요일  같은대여반납소  \n",
       "13282    1     5  2018    6   16   13   46     5    False  \n",
       "14861   47     5  2018    6   16   14   17     5    False  \n",
       "18639   25     5  2018    6   16   16   16     5     True  \n",
       "22887    1     5  2018    6   16   18   39     5     True  \n",
       "28700   43     5  2018    6   16   19   21     5    False  \n",
       "\n",
       "[5 rows x 24 columns]"
      ]
     },
     "execution_count": 78,
     "metadata": {},
     "output_type": "execute_result"
    }
   ],
   "source": [
    "# 가장 많이 대여된 자전거의 대여이력\n",
    "most_bike_df = df.loc[df['자전거번호'] == bike_describe[2]]\n",
    "most_bike_df.head()"
   ]
  },
  {
   "cell_type": "markdown",
   "metadata": {},
   "source": [
    "* 같은 자전거가 동일 시간대에 여러번 대여된 이력을 확인 할 수 있다. 좀 더 확인이 필요하다."
   ]
  },
  {
   "cell_type": "code",
   "execution_count": 79,
   "metadata": {},
   "outputs": [
    {
     "data": {
      "text/plain": [
       "1122    57\n",
       "2140     4\n",
       "623      4\n",
       "2139     3\n",
       "589      2\n",
       "Name: 대여대여소번호, dtype: int64"
      ]
     },
     "execution_count": 79,
     "metadata": {},
     "output_type": "execute_result"
    }
   ],
   "source": [
    "most_bike_df['대여대여소번호'].value_counts().head()"
   ]
  },
  {
   "cell_type": "code",
   "execution_count": 80,
   "metadata": {},
   "outputs": [
    {
     "data": {
      "text/plain": [
       "2018-06-18 18:58:02    22\n",
       "2018-06-18 18:49:46    18\n",
       "2018-06-18 18:55:24    15\n",
       "2018-06-18 19:03:29     1\n",
       "2018-06-18 17:58:03     1\n",
       "Name: 대여일시, dtype: int64"
      ]
     },
     "execution_count": 80,
     "metadata": {},
     "output_type": "execute_result"
    }
   ],
   "source": [
    "most_bike_df[most_bike_df['대여대여소번호'] == '1122']['대여일시'].value_counts()"
   ]
  },
  {
   "cell_type": "code",
   "execution_count": 81,
   "metadata": {},
   "outputs": [
    {
     "data": {
      "text/plain": [
       "2018-06-18 18:59:27    3\n",
       "2018-06-18 18:59:36    3\n",
       "2018-06-18 18:55:45    3\n",
       "2018-06-18 18:55:58    3\n",
       "2018-06-18 18:56:12    3\n",
       "2018-06-18 18:56:24    3\n",
       "2018-06-18 18:58:21    3\n",
       "2018-06-18 18:58:36    3\n",
       "2018-06-18 18:59:07    3\n",
       "2018-06-18 18:53:48    3\n",
       "2018-06-18 18:55:32    3\n",
       "2018-06-18 19:00:01    3\n",
       "2018-06-18 18:52:28    3\n",
       "2018-06-18 18:52:53    3\n",
       "2018-06-18 18:53:01    3\n",
       "2018-06-18 18:51:10    2\n",
       "2018-06-18 18:58:52    2\n",
       "2018-06-18 18:53:29    2\n",
       "2018-06-18 18:58:11    1\n",
       "2018-06-18 18:58:51    1\n",
       "2018-06-18 18:51:09    1\n",
       "2018-06-18 18:49:05    1\n",
       "2018-06-18 18:53:28    1\n",
       "2018-06-18 20:09:26    1\n",
       "Name: 반납일시, dtype: int64"
      ]
     },
     "execution_count": 81,
     "metadata": {},
     "output_type": "execute_result"
    }
   ],
   "source": [
    "most_bike_df[most_bike_df['대여대여소번호'] == '1122']['반납일시'].value_counts()"
   ]
  },
  {
   "cell_type": "code",
   "execution_count": 82,
   "metadata": {},
   "outputs": [
    {
     "data": {
      "text/plain": [
       " 황금내근린공원            57\n",
       " 신림1교 교차로            4\n",
       " 서울시립대 정문 앞          4\n",
       " 서울신성초등학교            3\n",
       " 광진광장 교통섬            2\n",
       "                    ..\n",
       " 신림동걷고싶은문화의거리입구      1\n",
       " 영동대교 북단             1\n",
       " KB국민은행 염창역 지점 앞     1\n",
       " 사루비아 빌딩 앞           1\n",
       " 북성초교                1\n",
       "Name: 대여대여소명, Length: 67, dtype: int64"
      ]
     },
     "execution_count": 82,
     "metadata": {},
     "output_type": "execute_result"
    }
   ],
   "source": [
    "most_bike_df['대여대여소명'].value_counts()"
   ]
  },
  {
   "cell_type": "code",
   "execution_count": 83,
   "metadata": {},
   "outputs": [
    {
     "data": {
      "text/plain": [
       "array([' 신림1교 교차로', ' 대림역 1번 출입구 밑', ' 서울대입구역 5번출구', ' 봉림교 교통섬',\n",
       "       ' 서울신성초등학교', ' 구로디지털단지역 앞', ' 대림역4번출구', ' 삼부르네상스파크빌', ' 가산동 주민센터',\n",
       "       ' 가리봉동주민센터', ' 신림역 5번출구', ' 신림동걷고싶은문화의거리입구', ' 대방역6번출구', ' 산업은행 앞',\n",
       "       ' IFC몰', ' 황금내근린공원', ' 서빙고동 주민센터 앞', ' 북가좌1동 주민센터 ', ' 가좌역 4번출구 앞',\n",
       "       ' 상명대입구', ' 청와대앞길', ' 종로구청 옆', ' 삼각산동 주민센터', ' 정릉현대힐스테이트 1차 후문',\n",
       "       ' 돈암초교 입구', ' 동성중학교 앞', ' 돈암성당 옆', ' 맥스타일 앞', ' 포르투갈 대사관 앞',\n",
       "       ' 종로3가역 2번출구 뒤', ' 청계8가 사거리', ' 안암로터리 버스정류장 앞', ' 서울시립대 정문 앞',\n",
       "       ' 청량리 기업은행 앞', ' 용답역 1번 출구', ' 옥수역 3번출구', ' 청계천 생태교실 앞', ' 베르가모앞',\n",
       "       ' 합정역 7번출구 앞', ' (구)합정동 주민센터', ' 마포구민체육센터 앞', ' 사루비아 빌딩 앞',\n",
       "       ' KB국민은행 염창역 지점 앞', ' 마포역 1번출구 뒤', ' 신촌역(2호선) 7번출구 앞',\n",
       "       ' 광흥창역 2번출구 앞', ' 서강대 정문 건너편', ' 북성초교', ' 충정로역 7번출구 뒤',\n",
       "       ' 종각역 5번출구', ' 세운스퀘어 앞', ' 동대문역 8번 출구', ' 신설동역 10번출구 앞',\n",
       "       ' 도선동 주민센터 앞', ' 신설동역8번출구', ' 영동대교 북단', ' 성수역3번출구',\n",
       "       ' 성수2가1동 공영주차장 인근', ' 광진광장 교통섬', ' 광진메디칼 앞', ' 어린이대공원역6번출구',\n",
       "       ' 동원사거리', ' 세종사이버대학교', ' 군자역 7번출구뒤', ' 군자지하보도 앞', ' 성수아카데미타워 앞',\n",
       "       ' 홈플러스 면목동점'], dtype=object)"
      ]
     },
     "execution_count": 83,
     "metadata": {},
     "output_type": "execute_result"
    }
   ],
   "source": [
    "rent_station = most_bike_df['대여대여소명'].unique()\n",
    "rent_station"
   ]
  },
  {
   "cell_type": "code",
   "execution_count": 84,
   "metadata": {},
   "outputs": [
    {
     "data": {
      "text/plain": [
       "['신림1교 교차로',\n",
       " '대림역 1번 출입구 밑',\n",
       " '서울대입구역 5번출구',\n",
       " '봉림교 교통섬',\n",
       " '서울신성초등학교',\n",
       " '구로디지털단지역 앞',\n",
       " '대림역4번출구',\n",
       " '삼부르네상스파크빌',\n",
       " '가산동 주민센터',\n",
       " '가리봉동주민센터',\n",
       " '신림역 5번출구',\n",
       " '신림동걷고싶은문화의거리입구',\n",
       " '대방역6번출구',\n",
       " '산업은행 앞',\n",
       " 'IFC몰',\n",
       " '황금내근린공원',\n",
       " '서빙고동 주민센터 앞',\n",
       " '북가좌1동 주민센터',\n",
       " '가좌역 4번출구 앞',\n",
       " '상명대입구',\n",
       " '청와대앞길',\n",
       " '종로구청 옆',\n",
       " '삼각산동 주민센터',\n",
       " '정릉현대힐스테이트 1차 후문',\n",
       " '돈암초교 입구',\n",
       " '동성중학교 앞',\n",
       " '돈암성당 옆',\n",
       " '맥스타일 앞',\n",
       " '포르투갈 대사관 앞',\n",
       " '종로3가역 2번출구 뒤',\n",
       " '청계8가 사거리',\n",
       " '안암로터리 버스정류장 앞',\n",
       " '서울시립대 정문 앞',\n",
       " '청량리 기업은행 앞',\n",
       " '용답역 1번 출구',\n",
       " '옥수역 3번출구',\n",
       " '청계천 생태교실 앞',\n",
       " '베르가모앞',\n",
       " '합정역 7번출구 앞',\n",
       " '(구)합정동 주민센터',\n",
       " '마포구민체육센터 앞',\n",
       " '사루비아 빌딩 앞',\n",
       " 'KB국민은행 염창역 지점 앞',\n",
       " '마포역 1번출구 뒤',\n",
       " '신촌역(2호선) 7번출구 앞',\n",
       " '광흥창역 2번출구 앞',\n",
       " '서강대 정문 건너편',\n",
       " '북성초교',\n",
       " '충정로역 7번출구 뒤',\n",
       " '종각역 5번출구',\n",
       " '세운스퀘어 앞',\n",
       " '동대문역 8번 출구',\n",
       " '신설동역 10번출구 앞',\n",
       " '도선동 주민센터 앞',\n",
       " '신설동역8번출구',\n",
       " '영동대교 북단',\n",
       " '성수역3번출구',\n",
       " '성수2가1동 공영주차장 인근',\n",
       " '광진광장 교통섬',\n",
       " '광진메디칼 앞',\n",
       " '어린이대공원역6번출구',\n",
       " '동원사거리',\n",
       " '세종사이버대학교',\n",
       " '군자역 7번출구뒤',\n",
       " '군자지하보도 앞',\n",
       " '성수아카데미타워 앞',\n",
       " '홈플러스 면목동점']"
      ]
     },
     "execution_count": 84,
     "metadata": {},
     "output_type": "execute_result"
    }
   ],
   "source": [
    "# 대여소명 앞에 들어간 공백을 제거합니다.\n",
    "bike_move = []\n",
    "for s in rent_station:\n",
    "    bike_move.append(s.strip())\n",
    "    \n",
    "bike_move    "
   ]
  },
  {
   "cell_type": "code",
   "execution_count": 85,
   "metadata": {},
   "outputs": [
    {
     "name": "stdout",
     "output_type": "stream",
     "text": [
      "(1463, 5)\n"
     ]
    },
    {
     "data": {
      "text/html": [
       "<div>\n",
       "<style scoped>\n",
       "    .dataframe tbody tr th:only-of-type {\n",
       "        vertical-align: middle;\n",
       "    }\n",
       "\n",
       "    .dataframe tbody tr th {\n",
       "        vertical-align: top;\n",
       "    }\n",
       "\n",
       "    .dataframe thead th {\n",
       "        text-align: right;\n",
       "    }\n",
       "</style>\n",
       "<table border=\"1\" class=\"dataframe\">\n",
       "  <thead>\n",
       "    <tr style=\"text-align: right;\">\n",
       "      <th></th>\n",
       "      <th>대여소</th>\n",
       "      <th>상태</th>\n",
       "      <th>주소</th>\n",
       "      <th>위도</th>\n",
       "      <th>경도</th>\n",
       "    </tr>\n",
       "  </thead>\n",
       "  <tbody>\n",
       "    <tr>\n",
       "      <th>0</th>\n",
       "      <td>광진교 남단 사거리(디지털프라자앞)</td>\n",
       "      <td>운영중</td>\n",
       "      <td>서울특별시 강동구 구천면로 171 376 남단사거리</td>\n",
       "      <td>37.541805</td>\n",
       "      <td>127.124718</td>\n",
       "    </tr>\n",
       "    <tr>\n",
       "      <th>1</th>\n",
       "      <td>해공공원(천호동)</td>\n",
       "      <td>운영중</td>\n",
       "      <td>서울특별시 강동구 올림픽로 702 265</td>\n",
       "      <td>37.545219</td>\n",
       "      <td>127.125916</td>\n",
       "    </tr>\n",
       "    <tr>\n",
       "      <th>2</th>\n",
       "      <td>해공도서관앞</td>\n",
       "      <td>운영중</td>\n",
       "      <td>서울특별시 강동구 올림픽로 702 367</td>\n",
       "      <td>37.543915</td>\n",
       "      <td>127.125458</td>\n",
       "    </tr>\n",
       "    <tr>\n",
       "      <th>3</th>\n",
       "      <td>삼성광나루아파트 버스정류장</td>\n",
       "      <td>운영중</td>\n",
       "      <td>서울특별시 강동구 상암로3길 77 암사동 534</td>\n",
       "      <td>37.553349</td>\n",
       "      <td>127.128860</td>\n",
       "    </tr>\n",
       "    <tr>\n",
       "      <th>4</th>\n",
       "      <td>롯데캐슬 115동앞</td>\n",
       "      <td>운영중</td>\n",
       "      <td>서울특별시 강동구 양재대로 1665 명일동 304</td>\n",
       "      <td>37.554920</td>\n",
       "      <td>127.142799</td>\n",
       "    </tr>\n",
       "  </tbody>\n",
       "</table>\n",
       "</div>"
      ],
      "text/plain": [
       "                   대여소   상태                            주소         위도  \\\n",
       "0  광진교 남단 사거리(디지털프라자앞)  운영중  서울특별시 강동구 구천면로 171 376 남단사거리  37.541805   \n",
       "1            해공공원(천호동)  운영중        서울특별시 강동구 올림픽로 702 265  37.545219   \n",
       "2               해공도서관앞  운영중        서울특별시 강동구 올림픽로 702 367  37.543915   \n",
       "3       삼성광나루아파트 버스정류장  운영중    서울특별시 강동구 상암로3길 77 암사동 534  37.553349   \n",
       "4           롯데캐슬 115동앞  운영중   서울특별시 강동구 양재대로 1665 명일동 304  37.554920   \n",
       "\n",
       "           경도  \n",
       "0  127.124718  \n",
       "1  127.125916  \n",
       "2  127.125458  \n",
       "3  127.128860  \n",
       "4  127.142799  "
      ]
     },
     "execution_count": 85,
     "metadata": {},
     "output_type": "execute_result"
    }
   ],
   "source": [
    "stations = pd.read_csv('data/bike_rent_station.csv')\n",
    "print(stations.shape)\n",
    "stations.head()"
   ]
  },
  {
   "cell_type": "code",
   "execution_count": 86,
   "metadata": {},
   "outputs": [
    {
     "name": "stdout",
     "output_type": "stream",
     "text": [
      "(67, 1)\n"
     ]
    },
    {
     "data": {
      "text/html": [
       "<div>\n",
       "<style scoped>\n",
       "    .dataframe tbody tr th:only-of-type {\n",
       "        vertical-align: middle;\n",
       "    }\n",
       "\n",
       "    .dataframe tbody tr th {\n",
       "        vertical-align: top;\n",
       "    }\n",
       "\n",
       "    .dataframe thead th {\n",
       "        text-align: right;\n",
       "    }\n",
       "</style>\n",
       "<table border=\"1\" class=\"dataframe\">\n",
       "  <thead>\n",
       "    <tr style=\"text-align: right;\">\n",
       "      <th></th>\n",
       "      <th>대여소</th>\n",
       "    </tr>\n",
       "  </thead>\n",
       "  <tbody>\n",
       "    <tr>\n",
       "      <th>0</th>\n",
       "      <td>신림1교 교차로</td>\n",
       "    </tr>\n",
       "    <tr>\n",
       "      <th>1</th>\n",
       "      <td>대림역 1번 출입구 밑</td>\n",
       "    </tr>\n",
       "    <tr>\n",
       "      <th>2</th>\n",
       "      <td>서울대입구역 5번출구</td>\n",
       "    </tr>\n",
       "    <tr>\n",
       "      <th>3</th>\n",
       "      <td>봉림교 교통섬</td>\n",
       "    </tr>\n",
       "    <tr>\n",
       "      <th>4</th>\n",
       "      <td>서울신성초등학교</td>\n",
       "    </tr>\n",
       "  </tbody>\n",
       "</table>\n",
       "</div>"
      ],
      "text/plain": [
       "            대여소\n",
       "0      신림1교 교차로\n",
       "1  대림역 1번 출입구 밑\n",
       "2   서울대입구역 5번출구\n",
       "3       봉림교 교통섬\n",
       "4      서울신성초등학교"
      ]
     },
     "execution_count": 86,
     "metadata": {},
     "output_type": "execute_result"
    }
   ],
   "source": [
    "bike_move_df = pd.DataFrame(bike_move)\n",
    "bike_move_df.columns = ['대여소']\n",
    "print(bike_move_df.shape)\n",
    "bike_move_df.head()"
   ]
  },
  {
   "cell_type": "code",
   "execution_count": 87,
   "metadata": {},
   "outputs": [
    {
     "data": {
      "text/plain": [
       "(67, 5)"
      ]
     },
     "execution_count": 87,
     "metadata": {},
     "output_type": "execute_result"
    }
   ],
   "source": [
    "bike_move_df = bike_move_df.merge(stations, left_on='대여소', right_on='대여소', how='left')\n",
    "bike_move_df.shape"
   ]
  },
  {
   "cell_type": "code",
   "execution_count": 88,
   "metadata": {},
   "outputs": [
    {
     "data": {
      "text/html": [
       "<div>\n",
       "<style scoped>\n",
       "    .dataframe tbody tr th:only-of-type {\n",
       "        vertical-align: middle;\n",
       "    }\n",
       "\n",
       "    .dataframe tbody tr th {\n",
       "        vertical-align: top;\n",
       "    }\n",
       "\n",
       "    .dataframe thead th {\n",
       "        text-align: right;\n",
       "    }\n",
       "</style>\n",
       "<table border=\"1\" class=\"dataframe\">\n",
       "  <thead>\n",
       "    <tr style=\"text-align: right;\">\n",
       "      <th></th>\n",
       "      <th>대여소</th>\n",
       "      <th>상태</th>\n",
       "      <th>주소</th>\n",
       "      <th>위도</th>\n",
       "      <th>경도</th>\n",
       "    </tr>\n",
       "  </thead>\n",
       "  <tbody>\n",
       "    <tr>\n",
       "      <th>0</th>\n",
       "      <td>신림1교 교차로</td>\n",
       "      <td>운영중</td>\n",
       "      <td>서울특별시 관악구 신림로 270 관악구 신림동 808-263</td>\n",
       "      <td>37.478428</td>\n",
       "      <td>126.931862</td>\n",
       "    </tr>\n",
       "    <tr>\n",
       "      <th>1</th>\n",
       "      <td>대림역 1번 출입구 밑</td>\n",
       "      <td>운영중</td>\n",
       "      <td>서울특별시 구로구 도림천로 351 대림역 1번 출입구 밑</td>\n",
       "      <td>37.492580</td>\n",
       "      <td>126.894737</td>\n",
       "    </tr>\n",
       "    <tr>\n",
       "      <th>2</th>\n",
       "      <td>서울대입구역 5번출구</td>\n",
       "      <td>운영중</td>\n",
       "      <td>서울특별시 관악구 남부순환로 1817 서울대입구역 5번출구</td>\n",
       "      <td>37.481548</td>\n",
       "      <td>126.952003</td>\n",
       "    </tr>\n",
       "    <tr>\n",
       "      <th>3</th>\n",
       "      <td>봉림교 교통섬</td>\n",
       "      <td>운영중</td>\n",
       "      <td>서울특별시 관악구 관천로 52 관악구 신림동 1433-150</td>\n",
       "      <td>37.484230</td>\n",
       "      <td>126.926392</td>\n",
       "    </tr>\n",
       "    <tr>\n",
       "      <th>4</th>\n",
       "      <td>서울신성초등학교</td>\n",
       "      <td>운영중</td>\n",
       "      <td>서울특별시 관악구 신림로 114 서울신성초등학교</td>\n",
       "      <td>37.471165</td>\n",
       "      <td>126.937019</td>\n",
       "    </tr>\n",
       "  </tbody>\n",
       "</table>\n",
       "</div>"
      ],
      "text/plain": [
       "            대여소   상태                                 주소         위도          경도\n",
       "0      신림1교 교차로  운영중  서울특별시 관악구 신림로 270 관악구 신림동 808-263  37.478428  126.931862\n",
       "1  대림역 1번 출입구 밑  운영중    서울특별시 구로구 도림천로 351 대림역 1번 출입구 밑  37.492580  126.894737\n",
       "2   서울대입구역 5번출구  운영중   서울특별시 관악구 남부순환로 1817 서울대입구역 5번출구  37.481548  126.952003\n",
       "3       봉림교 교통섬  운영중  서울특별시 관악구 관천로 52 관악구 신림동 1433-150  37.484230  126.926392\n",
       "4      서울신성초등학교  운영중         서울특별시 관악구 신림로 114 서울신성초등학교  37.471165  126.937019"
      ]
     },
     "execution_count": 88,
     "metadata": {},
     "output_type": "execute_result"
    }
   ],
   "source": [
    "bike_move_df.head()"
   ]
  },
  {
   "cell_type": "code",
   "execution_count": 89,
   "metadata": {},
   "outputs": [
    {
     "data": {
      "text/plain": [
       "대여소    0\n",
       "상태     2\n",
       "주소     2\n",
       "위도     2\n",
       "경도     2\n",
       "dtype: int64"
      ]
     },
     "execution_count": 89,
     "metadata": {},
     "output_type": "execute_result"
    }
   ],
   "source": [
    "bike_move_df.isnull().sum()"
   ]
  },
  {
   "cell_type": "markdown",
   "metadata": {},
   "source": [
    "## 가장 많이 대여된 자전거가 거쳐간 대여소"
   ]
  },
  {
   "cell_type": "code",
   "execution_count": 90,
   "metadata": {},
   "outputs": [
    {
     "data": {
      "text/html": [
       "<div>\n",
       "<style scoped>\n",
       "    .dataframe tbody tr th:only-of-type {\n",
       "        vertical-align: middle;\n",
       "    }\n",
       "\n",
       "    .dataframe tbody tr th {\n",
       "        vertical-align: top;\n",
       "    }\n",
       "\n",
       "    .dataframe thead th {\n",
       "        text-align: right;\n",
       "    }\n",
       "</style>\n",
       "<table border=\"1\" class=\"dataframe\">\n",
       "  <thead>\n",
       "    <tr style=\"text-align: right;\">\n",
       "      <th></th>\n",
       "      <th>대여소</th>\n",
       "      <th>상태</th>\n",
       "      <th>주소</th>\n",
       "      <th>위도</th>\n",
       "      <th>경도</th>\n",
       "    </tr>\n",
       "  </thead>\n",
       "  <tbody>\n",
       "    <tr>\n",
       "      <th>23</th>\n",
       "      <td>정릉현대힐스테이트 1차 후문</td>\n",
       "      <td>NaN</td>\n",
       "      <td>NaN</td>\n",
       "      <td>NaN</td>\n",
       "      <td>NaN</td>\n",
       "    </tr>\n",
       "    <tr>\n",
       "      <th>63</th>\n",
       "      <td>군자역 7번출구뒤</td>\n",
       "      <td>NaN</td>\n",
       "      <td>NaN</td>\n",
       "      <td>NaN</td>\n",
       "      <td>NaN</td>\n",
       "    </tr>\n",
       "  </tbody>\n",
       "</table>\n",
       "</div>"
      ],
      "text/plain": [
       "                대여소   상태   주소  위도  경도\n",
       "23  정릉현대힐스테이트 1차 후문  NaN  NaN NaN NaN\n",
       "63        군자역 7번출구뒤  NaN  NaN NaN NaN"
      ]
     },
     "execution_count": 90,
     "metadata": {},
     "output_type": "execute_result"
    }
   ],
   "source": [
    "# 정보가 없는 대여소\n",
    "bike_move_df.loc[bike_move_df['경도'].isnull()]"
   ]
  },
  {
   "cell_type": "code",
   "execution_count": 91,
   "metadata": {},
   "outputs": [
    {
     "data": {
      "text/html": [
       "<div style=\"width:100%;\"><div style=\"position:relative;width:100%;height:0;padding-bottom:60%;\"><span style=\"color:#565656\">Make this Notebook Trusted to load map: File -> Trust Notebook</span><iframe src=\"about:blank\" style=\"position:absolute;width:100%;height:100%;left:0;top:0;border:none !important;\" data-html=%3C%21DOCTYPE%20html%3E%0A%3Chead%3E%20%20%20%20%0A%20%20%20%20%3Cmeta%20http-equiv%3D%22content-type%22%20content%3D%22text/html%3B%20charset%3DUTF-8%22%20/%3E%0A%20%20%20%20%0A%20%20%20%20%20%20%20%20%3Cscript%3E%0A%20%20%20%20%20%20%20%20%20%20%20%20L_NO_TOUCH%20%3D%20false%3B%0A%20%20%20%20%20%20%20%20%20%20%20%20L_DISABLE_3D%20%3D%20false%3B%0A%20%20%20%20%20%20%20%20%3C/script%3E%0A%20%20%20%20%0A%20%20%20%20%3Cstyle%3Ehtml%2C%20body%20%7Bwidth%3A%20100%25%3Bheight%3A%20100%25%3Bmargin%3A%200%3Bpadding%3A%200%3B%7D%3C/style%3E%0A%20%20%20%20%3Cstyle%3E%23map%20%7Bposition%3Aabsolute%3Btop%3A0%3Bbottom%3A0%3Bright%3A0%3Bleft%3A0%3B%7D%3C/style%3E%0A%20%20%20%20%3Cscript%20src%3D%22https%3A//cdn.jsdelivr.net/npm/leaflet%401.6.0/dist/leaflet.js%22%3E%3C/script%3E%0A%20%20%20%20%3Cscript%20src%3D%22https%3A//code.jquery.com/jquery-1.12.4.min.js%22%3E%3C/script%3E%0A%20%20%20%20%3Cscript%20src%3D%22https%3A//maxcdn.bootstrapcdn.com/bootstrap/3.2.0/js/bootstrap.min.js%22%3E%3C/script%3E%0A%20%20%20%20%3Cscript%20src%3D%22https%3A//cdnjs.cloudflare.com/ajax/libs/Leaflet.awesome-markers/2.0.2/leaflet.awesome-markers.js%22%3E%3C/script%3E%0A%20%20%20%20%3Clink%20rel%3D%22stylesheet%22%20href%3D%22https%3A//cdn.jsdelivr.net/npm/leaflet%401.6.0/dist/leaflet.css%22/%3E%0A%20%20%20%20%3Clink%20rel%3D%22stylesheet%22%20href%3D%22https%3A//maxcdn.bootstrapcdn.com/bootstrap/3.2.0/css/bootstrap.min.css%22/%3E%0A%20%20%20%20%3Clink%20rel%3D%22stylesheet%22%20href%3D%22https%3A//maxcdn.bootstrapcdn.com/bootstrap/3.2.0/css/bootstrap-theme.min.css%22/%3E%0A%20%20%20%20%3Clink%20rel%3D%22stylesheet%22%20href%3D%22https%3A//maxcdn.bootstrapcdn.com/font-awesome/4.6.3/css/font-awesome.min.css%22/%3E%0A%20%20%20%20%3Clink%20rel%3D%22stylesheet%22%20href%3D%22https%3A//cdnjs.cloudflare.com/ajax/libs/Leaflet.awesome-markers/2.0.2/leaflet.awesome-markers.css%22/%3E%0A%20%20%20%20%3Clink%20rel%3D%22stylesheet%22%20href%3D%22https%3A//cdn.jsdelivr.net/gh/python-visualization/folium/folium/templates/leaflet.awesome.rotate.min.css%22/%3E%0A%20%20%20%20%0A%20%20%20%20%20%20%20%20%20%20%20%20%3Cmeta%20name%3D%22viewport%22%20content%3D%22width%3Ddevice-width%2C%0A%20%20%20%20%20%20%20%20%20%20%20%20%20%20%20%20initial-scale%3D1.0%2C%20maximum-scale%3D1.0%2C%20user-scalable%3Dno%22%20/%3E%0A%20%20%20%20%20%20%20%20%20%20%20%20%3Cstyle%3E%0A%20%20%20%20%20%20%20%20%20%20%20%20%20%20%20%20%23map_b1e785ed05c146838fe332d423737695%20%7B%0A%20%20%20%20%20%20%20%20%20%20%20%20%20%20%20%20%20%20%20%20position%3A%20relative%3B%0A%20%20%20%20%20%20%20%20%20%20%20%20%20%20%20%20%20%20%20%20width%3A%20100.0%25%3B%0A%20%20%20%20%20%20%20%20%20%20%20%20%20%20%20%20%20%20%20%20height%3A%20100.0%25%3B%0A%20%20%20%20%20%20%20%20%20%20%20%20%20%20%20%20%20%20%20%20left%3A%200.0%25%3B%0A%20%20%20%20%20%20%20%20%20%20%20%20%20%20%20%20%20%20%20%20top%3A%200.0%25%3B%0A%20%20%20%20%20%20%20%20%20%20%20%20%20%20%20%20%7D%0A%20%20%20%20%20%20%20%20%20%20%20%20%3C/style%3E%0A%20%20%20%20%20%20%20%20%0A%3C/head%3E%0A%3Cbody%3E%20%20%20%20%0A%20%20%20%20%0A%20%20%20%20%20%20%20%20%20%20%20%20%3Cdiv%20class%3D%22folium-map%22%20id%3D%22map_b1e785ed05c146838fe332d423737695%22%20%3E%3C/div%3E%0A%20%20%20%20%20%20%20%20%0A%3C/body%3E%0A%3Cscript%3E%20%20%20%20%0A%20%20%20%20%0A%20%20%20%20%20%20%20%20%20%20%20%20var%20map_b1e785ed05c146838fe332d423737695%20%3D%20L.map%28%0A%20%20%20%20%20%20%20%20%20%20%20%20%20%20%20%20%22map_b1e785ed05c146838fe332d423737695%22%2C%0A%20%20%20%20%20%20%20%20%20%20%20%20%20%20%20%20%7B%0A%20%20%20%20%20%20%20%20%20%20%20%20%20%20%20%20%20%20%20%20center%3A%20%5B37.546921846153836%2C%20126.97895870769233%5D%2C%0A%20%20%20%20%20%20%20%20%20%20%20%20%20%20%20%20%20%20%20%20crs%3A%20L.CRS.EPSG3857%2C%0A%20%20%20%20%20%20%20%20%20%20%20%20%20%20%20%20%20%20%20%20zoom%3A%2012%2C%0A%20%20%20%20%20%20%20%20%20%20%20%20%20%20%20%20%20%20%20%20zoomControl%3A%20true%2C%0A%20%20%20%20%20%20%20%20%20%20%20%20%20%20%20%20%20%20%20%20preferCanvas%3A%20false%2C%0A%20%20%20%20%20%20%20%20%20%20%20%20%20%20%20%20%7D%0A%20%20%20%20%20%20%20%20%20%20%20%20%29%3B%0A%0A%20%20%20%20%20%20%20%20%20%20%20%20%0A%0A%20%20%20%20%20%20%20%20%0A%20%20%20%20%0A%20%20%20%20%20%20%20%20%20%20%20%20var%20tile_layer_9cd165bb21a24aa28ffa4324da18a94e%20%3D%20L.tileLayer%28%0A%20%20%20%20%20%20%20%20%20%20%20%20%20%20%20%20%22https%3A//stamen-tiles-%7Bs%7D.a.ssl.fastly.net/toner/%7Bz%7D/%7Bx%7D/%7By%7D.png%22%2C%0A%20%20%20%20%20%20%20%20%20%20%20%20%20%20%20%20%7B%22attribution%22%3A%20%22Map%20tiles%20by%20%5Cu003ca%20href%3D%5C%22http%3A//stamen.com%5C%22%5Cu003eStamen%20Design%5Cu003c/a%5Cu003e%2C%20under%20%5Cu003ca%20href%3D%5C%22http%3A//creativecommons.org/licenses/by/3.0%5C%22%5Cu003eCC%20BY%203.0%5Cu003c/a%5Cu003e.%20Data%20by%20%5Cu0026copy%3B%20%5Cu003ca%20href%3D%5C%22http%3A//openstreetmap.org%5C%22%5Cu003eOpenStreetMap%5Cu003c/a%5Cu003e%2C%20under%20%5Cu003ca%20href%3D%5C%22http%3A//www.openstreetmap.org/copyright%5C%22%5Cu003eODbL%5Cu003c/a%5Cu003e.%22%2C%20%22detectRetina%22%3A%20false%2C%20%22maxNativeZoom%22%3A%2018%2C%20%22maxZoom%22%3A%2018%2C%20%22minZoom%22%3A%200%2C%20%22noWrap%22%3A%20false%2C%20%22opacity%22%3A%201%2C%20%22subdomains%22%3A%20%22abc%22%2C%20%22tms%22%3A%20false%7D%0A%20%20%20%20%20%20%20%20%20%20%20%20%29.addTo%28map_b1e785ed05c146838fe332d423737695%29%3B%0A%20%20%20%20%20%20%20%20%0A%20%20%20%20%0A%20%20%20%20%20%20%20%20%20%20%20%20var%20circle_09a2ef9af860460a9cbd34b981165644%20%3D%20L.circle%28%0A%20%20%20%20%20%20%20%20%20%20%20%20%20%20%20%20%5B37.478428%2C%20126.931862%5D%2C%0A%20%20%20%20%20%20%20%20%20%20%20%20%20%20%20%20%7B%22bubblingMouseEvents%22%3A%20true%2C%20%22color%22%3A%20%22red%22%2C%20%22dashArray%22%3A%20null%2C%20%22dashOffset%22%3A%20null%2C%20%22fill%22%3A%20true%2C%20%22fillColor%22%3A%20%22red%22%2C%20%22fillOpacity%22%3A%200.2%2C%20%22fillRule%22%3A%20%22evenodd%22%2C%20%22lineCap%22%3A%20%22round%22%2C%20%22lineJoin%22%3A%20%22round%22%2C%20%22opacity%22%3A%201.0%2C%20%22radius%22%3A%2050%2C%20%22stroke%22%3A%20true%2C%20%22weight%22%3A%203%7D%0A%20%20%20%20%20%20%20%20%20%20%20%20%29.addTo%28map_b1e785ed05c146838fe332d423737695%29%3B%0A%20%20%20%20%20%20%20%20%0A%20%20%20%20%0A%20%20%20%20%20%20%20%20var%20popup_d8e5d51ca67f4508af71aa39a73faf6a%20%3D%20L.popup%28%7B%22maxWidth%22%3A%20%22100%25%22%7D%29%3B%0A%0A%20%20%20%20%20%20%20%20%0A%20%20%20%20%20%20%20%20%20%20%20%20var%20html_38b3be7cab8c45e2bf9c2a7346ece1bd%20%3D%20%24%28%60%3Cdiv%20id%3D%22html_38b3be7cab8c45e2bf9c2a7346ece1bd%22%20style%3D%22width%3A%20100.0%25%3B%20height%3A%20100.0%25%3B%22%3E%EC%8B%A0%EB%A6%BC1%EA%B5%90%20%EA%B5%90%EC%B0%A8%EB%A1%9C%3C/div%3E%60%29%5B0%5D%3B%0A%20%20%20%20%20%20%20%20%20%20%20%20popup_d8e5d51ca67f4508af71aa39a73faf6a.setContent%28html_38b3be7cab8c45e2bf9c2a7346ece1bd%29%3B%0A%20%20%20%20%20%20%20%20%0A%0A%20%20%20%20%20%20%20%20circle_09a2ef9af860460a9cbd34b981165644.bindPopup%28popup_d8e5d51ca67f4508af71aa39a73faf6a%29%0A%20%20%20%20%20%20%20%20%3B%0A%0A%20%20%20%20%20%20%20%20%0A%20%20%20%20%0A%20%20%20%20%0A%20%20%20%20%20%20%20%20%20%20%20%20var%20circle_f2804d62758747cdb5cd8f7c6f39bf41%20%3D%20L.circle%28%0A%20%20%20%20%20%20%20%20%20%20%20%20%20%20%20%20%5B37.49258%2C%20126.894737%5D%2C%0A%20%20%20%20%20%20%20%20%20%20%20%20%20%20%20%20%7B%22bubblingMouseEvents%22%3A%20true%2C%20%22color%22%3A%20%22red%22%2C%20%22dashArray%22%3A%20null%2C%20%22dashOffset%22%3A%20null%2C%20%22fill%22%3A%20true%2C%20%22fillColor%22%3A%20%22red%22%2C%20%22fillOpacity%22%3A%200.2%2C%20%22fillRule%22%3A%20%22evenodd%22%2C%20%22lineCap%22%3A%20%22round%22%2C%20%22lineJoin%22%3A%20%22round%22%2C%20%22opacity%22%3A%201.0%2C%20%22radius%22%3A%2050%2C%20%22stroke%22%3A%20true%2C%20%22weight%22%3A%203%7D%0A%20%20%20%20%20%20%20%20%20%20%20%20%29.addTo%28map_b1e785ed05c146838fe332d423737695%29%3B%0A%20%20%20%20%20%20%20%20%0A%20%20%20%20%0A%20%20%20%20%20%20%20%20var%20popup_61b4e309cd4b44fa86916b918dea3fab%20%3D%20L.popup%28%7B%22maxWidth%22%3A%20%22100%25%22%7D%29%3B%0A%0A%20%20%20%20%20%20%20%20%0A%20%20%20%20%20%20%20%20%20%20%20%20var%20html_5ae940fca2d34f5297648398d8ce6d74%20%3D%20%24%28%60%3Cdiv%20id%3D%22html_5ae940fca2d34f5297648398d8ce6d74%22%20style%3D%22width%3A%20100.0%25%3B%20height%3A%20100.0%25%3B%22%3E%EB%8C%80%EB%A6%BC%EC%97%AD%201%EB%B2%88%20%EC%B6%9C%EC%9E%85%EA%B5%AC%20%EB%B0%91%3C/div%3E%60%29%5B0%5D%3B%0A%20%20%20%20%20%20%20%20%20%20%20%20popup_61b4e309cd4b44fa86916b918dea3fab.setContent%28html_5ae940fca2d34f5297648398d8ce6d74%29%3B%0A%20%20%20%20%20%20%20%20%0A%0A%20%20%20%20%20%20%20%20circle_f2804d62758747cdb5cd8f7c6f39bf41.bindPopup%28popup_61b4e309cd4b44fa86916b918dea3fab%29%0A%20%20%20%20%20%20%20%20%3B%0A%0A%20%20%20%20%20%20%20%20%0A%20%20%20%20%0A%20%20%20%20%0A%20%20%20%20%20%20%20%20%20%20%20%20var%20circle_9d34b8bec4a64bb885d4f3305794c979%20%3D%20L.circle%28%0A%20%20%20%20%20%20%20%20%20%20%20%20%20%20%20%20%5B37.481548%2C%20126.952003%5D%2C%0A%20%20%20%20%20%20%20%20%20%20%20%20%20%20%20%20%7B%22bubblingMouseEvents%22%3A%20true%2C%20%22color%22%3A%20%22red%22%2C%20%22dashArray%22%3A%20null%2C%20%22dashOffset%22%3A%20null%2C%20%22fill%22%3A%20true%2C%20%22fillColor%22%3A%20%22red%22%2C%20%22fillOpacity%22%3A%200.2%2C%20%22fillRule%22%3A%20%22evenodd%22%2C%20%22lineCap%22%3A%20%22round%22%2C%20%22lineJoin%22%3A%20%22round%22%2C%20%22opacity%22%3A%201.0%2C%20%22radius%22%3A%2050%2C%20%22stroke%22%3A%20true%2C%20%22weight%22%3A%203%7D%0A%20%20%20%20%20%20%20%20%20%20%20%20%29.addTo%28map_b1e785ed05c146838fe332d423737695%29%3B%0A%20%20%20%20%20%20%20%20%0A%20%20%20%20%0A%20%20%20%20%20%20%20%20var%20popup_b732a2a2d72b4b6283e96c81eb699c82%20%3D%20L.popup%28%7B%22maxWidth%22%3A%20%22100%25%22%7D%29%3B%0A%0A%20%20%20%20%20%20%20%20%0A%20%20%20%20%20%20%20%20%20%20%20%20var%20html_6269692bd57b45c699e5d1d3e6ebd369%20%3D%20%24%28%60%3Cdiv%20id%3D%22html_6269692bd57b45c699e5d1d3e6ebd369%22%20style%3D%22width%3A%20100.0%25%3B%20height%3A%20100.0%25%3B%22%3E%EC%84%9C%EC%9A%B8%EB%8C%80%EC%9E%85%EA%B5%AC%EC%97%AD%205%EB%B2%88%EC%B6%9C%EA%B5%AC%3C/div%3E%60%29%5B0%5D%3B%0A%20%20%20%20%20%20%20%20%20%20%20%20popup_b732a2a2d72b4b6283e96c81eb699c82.setContent%28html_6269692bd57b45c699e5d1d3e6ebd369%29%3B%0A%20%20%20%20%20%20%20%20%0A%0A%20%20%20%20%20%20%20%20circle_9d34b8bec4a64bb885d4f3305794c979.bindPopup%28popup_b732a2a2d72b4b6283e96c81eb699c82%29%0A%20%20%20%20%20%20%20%20%3B%0A%0A%20%20%20%20%20%20%20%20%0A%20%20%20%20%0A%20%20%20%20%0A%20%20%20%20%20%20%20%20%20%20%20%20var%20circle_cee8c6c3128c47189e06d740f78ed8cb%20%3D%20L.circle%28%0A%20%20%20%20%20%20%20%20%20%20%20%20%20%20%20%20%5B37.48423%2C%20126.926392%5D%2C%0A%20%20%20%20%20%20%20%20%20%20%20%20%20%20%20%20%7B%22bubblingMouseEvents%22%3A%20true%2C%20%22color%22%3A%20%22red%22%2C%20%22dashArray%22%3A%20null%2C%20%22dashOffset%22%3A%20null%2C%20%22fill%22%3A%20true%2C%20%22fillColor%22%3A%20%22red%22%2C%20%22fillOpacity%22%3A%200.2%2C%20%22fillRule%22%3A%20%22evenodd%22%2C%20%22lineCap%22%3A%20%22round%22%2C%20%22lineJoin%22%3A%20%22round%22%2C%20%22opacity%22%3A%201.0%2C%20%22radius%22%3A%2050%2C%20%22stroke%22%3A%20true%2C%20%22weight%22%3A%203%7D%0A%20%20%20%20%20%20%20%20%20%20%20%20%29.addTo%28map_b1e785ed05c146838fe332d423737695%29%3B%0A%20%20%20%20%20%20%20%20%0A%20%20%20%20%0A%20%20%20%20%20%20%20%20var%20popup_9810d126c8654f26b527b9acfbc01fac%20%3D%20L.popup%28%7B%22maxWidth%22%3A%20%22100%25%22%7D%29%3B%0A%0A%20%20%20%20%20%20%20%20%0A%20%20%20%20%20%20%20%20%20%20%20%20var%20html_cec58e2a3da748daaa08bce9c36d488a%20%3D%20%24%28%60%3Cdiv%20id%3D%22html_cec58e2a3da748daaa08bce9c36d488a%22%20style%3D%22width%3A%20100.0%25%3B%20height%3A%20100.0%25%3B%22%3E%EB%B4%89%EB%A6%BC%EA%B5%90%20%EA%B5%90%ED%86%B5%EC%84%AC%3C/div%3E%60%29%5B0%5D%3B%0A%20%20%20%20%20%20%20%20%20%20%20%20popup_9810d126c8654f26b527b9acfbc01fac.setContent%28html_cec58e2a3da748daaa08bce9c36d488a%29%3B%0A%20%20%20%20%20%20%20%20%0A%0A%20%20%20%20%20%20%20%20circle_cee8c6c3128c47189e06d740f78ed8cb.bindPopup%28popup_9810d126c8654f26b527b9acfbc01fac%29%0A%20%20%20%20%20%20%20%20%3B%0A%0A%20%20%20%20%20%20%20%20%0A%20%20%20%20%0A%20%20%20%20%0A%20%20%20%20%20%20%20%20%20%20%20%20var%20circle_df94a96babfe415fa0b92306cd006b64%20%3D%20L.circle%28%0A%20%20%20%20%20%20%20%20%20%20%20%20%20%20%20%20%5B37.471165%2C%20126.937019%5D%2C%0A%20%20%20%20%20%20%20%20%20%20%20%20%20%20%20%20%7B%22bubblingMouseEvents%22%3A%20true%2C%20%22color%22%3A%20%22red%22%2C%20%22dashArray%22%3A%20null%2C%20%22dashOffset%22%3A%20null%2C%20%22fill%22%3A%20true%2C%20%22fillColor%22%3A%20%22red%22%2C%20%22fillOpacity%22%3A%200.2%2C%20%22fillRule%22%3A%20%22evenodd%22%2C%20%22lineCap%22%3A%20%22round%22%2C%20%22lineJoin%22%3A%20%22round%22%2C%20%22opacity%22%3A%201.0%2C%20%22radius%22%3A%2050%2C%20%22stroke%22%3A%20true%2C%20%22weight%22%3A%203%7D%0A%20%20%20%20%20%20%20%20%20%20%20%20%29.addTo%28map_b1e785ed05c146838fe332d423737695%29%3B%0A%20%20%20%20%20%20%20%20%0A%20%20%20%20%0A%20%20%20%20%20%20%20%20var%20popup_3f3d6aef6c27419199d054f76271d0ce%20%3D%20L.popup%28%7B%22maxWidth%22%3A%20%22100%25%22%7D%29%3B%0A%0A%20%20%20%20%20%20%20%20%0A%20%20%20%20%20%20%20%20%20%20%20%20var%20html_3d769d95fcca4ac2882b8230aed48c40%20%3D%20%24%28%60%3Cdiv%20id%3D%22html_3d769d95fcca4ac2882b8230aed48c40%22%20style%3D%22width%3A%20100.0%25%3B%20height%3A%20100.0%25%3B%22%3E%EC%84%9C%EC%9A%B8%EC%8B%A0%EC%84%B1%EC%B4%88%EB%93%B1%ED%95%99%EA%B5%90%3C/div%3E%60%29%5B0%5D%3B%0A%20%20%20%20%20%20%20%20%20%20%20%20popup_3f3d6aef6c27419199d054f76271d0ce.setContent%28html_3d769d95fcca4ac2882b8230aed48c40%29%3B%0A%20%20%20%20%20%20%20%20%0A%0A%20%20%20%20%20%20%20%20circle_df94a96babfe415fa0b92306cd006b64.bindPopup%28popup_3f3d6aef6c27419199d054f76271d0ce%29%0A%20%20%20%20%20%20%20%20%3B%0A%0A%20%20%20%20%20%20%20%20%0A%20%20%20%20%0A%20%20%20%20%0A%20%20%20%20%20%20%20%20%20%20%20%20var%20circle_4d410585c39e49c0ad7f6d5e1a5e750b%20%3D%20L.circle%28%0A%20%20%20%20%20%20%20%20%20%20%20%20%20%20%20%20%5B37.48494%2C%20126.901321%5D%2C%0A%20%20%20%20%20%20%20%20%20%20%20%20%20%20%20%20%7B%22bubblingMouseEvents%22%3A%20true%2C%20%22color%22%3A%20%22red%22%2C%20%22dashArray%22%3A%20null%2C%20%22dashOffset%22%3A%20null%2C%20%22fill%22%3A%20true%2C%20%22fillColor%22%3A%20%22red%22%2C%20%22fillOpacity%22%3A%200.2%2C%20%22fillRule%22%3A%20%22evenodd%22%2C%20%22lineCap%22%3A%20%22round%22%2C%20%22lineJoin%22%3A%20%22round%22%2C%20%22opacity%22%3A%201.0%2C%20%22radius%22%3A%2050%2C%20%22stroke%22%3A%20true%2C%20%22weight%22%3A%203%7D%0A%20%20%20%20%20%20%20%20%20%20%20%20%29.addTo%28map_b1e785ed05c146838fe332d423737695%29%3B%0A%20%20%20%20%20%20%20%20%0A%20%20%20%20%0A%20%20%20%20%20%20%20%20var%20popup_c86e480927934415968dcbbe192e380d%20%3D%20L.popup%28%7B%22maxWidth%22%3A%20%22100%25%22%7D%29%3B%0A%0A%20%20%20%20%20%20%20%20%0A%20%20%20%20%20%20%20%20%20%20%20%20var%20html_448da8102e83480f8b78fa5f1b1fcb54%20%3D%20%24%28%60%3Cdiv%20id%3D%22html_448da8102e83480f8b78fa5f1b1fcb54%22%20style%3D%22width%3A%20100.0%25%3B%20height%3A%20100.0%25%3B%22%3E%EA%B5%AC%EB%A1%9C%EB%94%94%EC%A7%80%ED%84%B8%EB%8B%A8%EC%A7%80%EC%97%AD%20%EC%95%9E%3C/div%3E%60%29%5B0%5D%3B%0A%20%20%20%20%20%20%20%20%20%20%20%20popup_c86e480927934415968dcbbe192e380d.setContent%28html_448da8102e83480f8b78fa5f1b1fcb54%29%3B%0A%20%20%20%20%20%20%20%20%0A%0A%20%20%20%20%20%20%20%20circle_4d410585c39e49c0ad7f6d5e1a5e750b.bindPopup%28popup_c86e480927934415968dcbbe192e380d%29%0A%20%20%20%20%20%20%20%20%3B%0A%0A%20%20%20%20%20%20%20%20%0A%20%20%20%20%0A%20%20%20%20%0A%20%20%20%20%20%20%20%20%20%20%20%20var%20circle_785c47b40b6b43ff8153b516530c5a36%20%3D%20L.circle%28%0A%20%20%20%20%20%20%20%20%20%20%20%20%20%20%20%20%5B37.494591%2C%20126.893921%5D%2C%0A%20%20%20%20%20%20%20%20%20%20%20%20%20%20%20%20%7B%22bubblingMouseEvents%22%3A%20true%2C%20%22color%22%3A%20%22red%22%2C%20%22dashArray%22%3A%20null%2C%20%22dashOffset%22%3A%20null%2C%20%22fill%22%3A%20true%2C%20%22fillColor%22%3A%20%22red%22%2C%20%22fillOpacity%22%3A%200.2%2C%20%22fillRule%22%3A%20%22evenodd%22%2C%20%22lineCap%22%3A%20%22round%22%2C%20%22lineJoin%22%3A%20%22round%22%2C%20%22opacity%22%3A%201.0%2C%20%22radius%22%3A%2050%2C%20%22stroke%22%3A%20true%2C%20%22weight%22%3A%203%7D%0A%20%20%20%20%20%20%20%20%20%20%20%20%29.addTo%28map_b1e785ed05c146838fe332d423737695%29%3B%0A%20%20%20%20%20%20%20%20%0A%20%20%20%20%0A%20%20%20%20%20%20%20%20var%20popup_291c66d24baf4922a5707cd4d480b142%20%3D%20L.popup%28%7B%22maxWidth%22%3A%20%22100%25%22%7D%29%3B%0A%0A%20%20%20%20%20%20%20%20%0A%20%20%20%20%20%20%20%20%20%20%20%20var%20html_e336d116d46c470aa88efd981b37aa2c%20%3D%20%24%28%60%3Cdiv%20id%3D%22html_e336d116d46c470aa88efd981b37aa2c%22%20style%3D%22width%3A%20100.0%25%3B%20height%3A%20100.0%25%3B%22%3E%EB%8C%80%EB%A6%BC%EC%97%AD4%EB%B2%88%EC%B6%9C%EA%B5%AC%3C/div%3E%60%29%5B0%5D%3B%0A%20%20%20%20%20%20%20%20%20%20%20%20popup_291c66d24baf4922a5707cd4d480b142.setContent%28html_e336d116d46c470aa88efd981b37aa2c%29%3B%0A%20%20%20%20%20%20%20%20%0A%0A%20%20%20%20%20%20%20%20circle_785c47b40b6b43ff8153b516530c5a36.bindPopup%28popup_291c66d24baf4922a5707cd4d480b142%29%0A%20%20%20%20%20%20%20%20%3B%0A%0A%20%20%20%20%20%20%20%20%0A%20%20%20%20%0A%20%20%20%20%0A%20%20%20%20%20%20%20%20%20%20%20%20var%20circle_d6f5253474ed4e18adf366410bd34440%20%3D%20L.circle%28%0A%20%20%20%20%20%20%20%20%20%20%20%20%20%20%20%20%5B37.478741%2C%20126.895096%5D%2C%0A%20%20%20%20%20%20%20%20%20%20%20%20%20%20%20%20%7B%22bubblingMouseEvents%22%3A%20true%2C%20%22color%22%3A%20%22red%22%2C%20%22dashArray%22%3A%20null%2C%20%22dashOffset%22%3A%20null%2C%20%22fill%22%3A%20true%2C%20%22fillColor%22%3A%20%22red%22%2C%20%22fillOpacity%22%3A%200.2%2C%20%22fillRule%22%3A%20%22evenodd%22%2C%20%22lineCap%22%3A%20%22round%22%2C%20%22lineJoin%22%3A%20%22round%22%2C%20%22opacity%22%3A%201.0%2C%20%22radius%22%3A%2050%2C%20%22stroke%22%3A%20true%2C%20%22weight%22%3A%203%7D%0A%20%20%20%20%20%20%20%20%20%20%20%20%29.addTo%28map_b1e785ed05c146838fe332d423737695%29%3B%0A%20%20%20%20%20%20%20%20%0A%20%20%20%20%0A%20%20%20%20%20%20%20%20var%20popup_ca903fa497034edfa4d18bc232488479%20%3D%20L.popup%28%7B%22maxWidth%22%3A%20%22100%25%22%7D%29%3B%0A%0A%20%20%20%20%20%20%20%20%0A%20%20%20%20%20%20%20%20%20%20%20%20var%20html_3b7b5a29c4c048a0bf788d670f9044e8%20%3D%20%24%28%60%3Cdiv%20id%3D%22html_3b7b5a29c4c048a0bf788d670f9044e8%22%20style%3D%22width%3A%20100.0%25%3B%20height%3A%20100.0%25%3B%22%3E%EC%82%BC%EB%B6%80%EB%A5%B4%EB%84%A4%EC%83%81%EC%8A%A4%ED%8C%8C%ED%81%AC%EB%B9%8C%3C/div%3E%60%29%5B0%5D%3B%0A%20%20%20%20%20%20%20%20%20%20%20%20popup_ca903fa497034edfa4d18bc232488479.setContent%28html_3b7b5a29c4c048a0bf788d670f9044e8%29%3B%0A%20%20%20%20%20%20%20%20%0A%0A%20%20%20%20%20%20%20%20circle_d6f5253474ed4e18adf366410bd34440.bindPopup%28popup_ca903fa497034edfa4d18bc232488479%29%0A%20%20%20%20%20%20%20%20%3B%0A%0A%20%20%20%20%20%20%20%20%0A%20%20%20%20%0A%20%20%20%20%0A%20%20%20%20%20%20%20%20%20%20%20%20var%20circle_08359fd4ca2d43778bcc11bf5a6e256d%20%3D%20L.circle%28%0A%20%20%20%20%20%20%20%20%20%20%20%20%20%20%20%20%5B37.476952%2C%20126.891869%5D%2C%0A%20%20%20%20%20%20%20%20%20%20%20%20%20%20%20%20%7B%22bubblingMouseEvents%22%3A%20true%2C%20%22color%22%3A%20%22red%22%2C%20%22dashArray%22%3A%20null%2C%20%22dashOffset%22%3A%20null%2C%20%22fill%22%3A%20true%2C%20%22fillColor%22%3A%20%22red%22%2C%20%22fillOpacity%22%3A%200.2%2C%20%22fillRule%22%3A%20%22evenodd%22%2C%20%22lineCap%22%3A%20%22round%22%2C%20%22lineJoin%22%3A%20%22round%22%2C%20%22opacity%22%3A%201.0%2C%20%22radius%22%3A%2050%2C%20%22stroke%22%3A%20true%2C%20%22weight%22%3A%203%7D%0A%20%20%20%20%20%20%20%20%20%20%20%20%29.addTo%28map_b1e785ed05c146838fe332d423737695%29%3B%0A%20%20%20%20%20%20%20%20%0A%20%20%20%20%0A%20%20%20%20%20%20%20%20var%20popup_4581b29611144bc5bd3f0981573a219d%20%3D%20L.popup%28%7B%22maxWidth%22%3A%20%22100%25%22%7D%29%3B%0A%0A%20%20%20%20%20%20%20%20%0A%20%20%20%20%20%20%20%20%20%20%20%20var%20html_287eb2abb3734340acee2df00e719777%20%3D%20%24%28%60%3Cdiv%20id%3D%22html_287eb2abb3734340acee2df00e719777%22%20style%3D%22width%3A%20100.0%25%3B%20height%3A%20100.0%25%3B%22%3E%EA%B0%80%EC%82%B0%EB%8F%99%20%EC%A3%BC%EB%AF%BC%EC%84%BC%ED%84%B0%3C/div%3E%60%29%5B0%5D%3B%0A%20%20%20%20%20%20%20%20%20%20%20%20popup_4581b29611144bc5bd3f0981573a219d.setContent%28html_287eb2abb3734340acee2df00e719777%29%3B%0A%20%20%20%20%20%20%20%20%0A%0A%20%20%20%20%20%20%20%20circle_08359fd4ca2d43778bcc11bf5a6e256d.bindPopup%28popup_4581b29611144bc5bd3f0981573a219d%29%0A%20%20%20%20%20%20%20%20%3B%0A%0A%20%20%20%20%20%20%20%20%0A%20%20%20%20%0A%20%20%20%20%0A%20%20%20%20%20%20%20%20%20%20%20%20var%20circle_a379dae3f7064e2aa42a4dbbb85c71d9%20%3D%20L.circle%28%0A%20%20%20%20%20%20%20%20%20%20%20%20%20%20%20%20%5B37.481602%2C%20126.892799%5D%2C%0A%20%20%20%20%20%20%20%20%20%20%20%20%20%20%20%20%7B%22bubblingMouseEvents%22%3A%20true%2C%20%22color%22%3A%20%22red%22%2C%20%22dashArray%22%3A%20null%2C%20%22dashOffset%22%3A%20null%2C%20%22fill%22%3A%20true%2C%20%22fillColor%22%3A%20%22red%22%2C%20%22fillOpacity%22%3A%200.2%2C%20%22fillRule%22%3A%20%22evenodd%22%2C%20%22lineCap%22%3A%20%22round%22%2C%20%22lineJoin%22%3A%20%22round%22%2C%20%22opacity%22%3A%201.0%2C%20%22radius%22%3A%2050%2C%20%22stroke%22%3A%20true%2C%20%22weight%22%3A%203%7D%0A%20%20%20%20%20%20%20%20%20%20%20%20%29.addTo%28map_b1e785ed05c146838fe332d423737695%29%3B%0A%20%20%20%20%20%20%20%20%0A%20%20%20%20%0A%20%20%20%20%20%20%20%20var%20popup_876a5d2f00444890a6eb08033be53632%20%3D%20L.popup%28%7B%22maxWidth%22%3A%20%22100%25%22%7D%29%3B%0A%0A%20%20%20%20%20%20%20%20%0A%20%20%20%20%20%20%20%20%20%20%20%20var%20html_bd0d697b53234fb9bab52b034a705a93%20%3D%20%24%28%60%3Cdiv%20id%3D%22html_bd0d697b53234fb9bab52b034a705a93%22%20style%3D%22width%3A%20100.0%25%3B%20height%3A%20100.0%25%3B%22%3E%EA%B0%80%EB%A6%AC%EB%B4%89%EB%8F%99%EC%A3%BC%EB%AF%BC%EC%84%BC%ED%84%B0%3C/div%3E%60%29%5B0%5D%3B%0A%20%20%20%20%20%20%20%20%20%20%20%20popup_876a5d2f00444890a6eb08033be53632.setContent%28html_bd0d697b53234fb9bab52b034a705a93%29%3B%0A%20%20%20%20%20%20%20%20%0A%0A%20%20%20%20%20%20%20%20circle_a379dae3f7064e2aa42a4dbbb85c71d9.bindPopup%28popup_876a5d2f00444890a6eb08033be53632%29%0A%20%20%20%20%20%20%20%20%3B%0A%0A%20%20%20%20%20%20%20%20%0A%20%20%20%20%0A%20%20%20%20%0A%20%20%20%20%20%20%20%20%20%20%20%20var%20circle_827eebabe75d4a82acf475602b1e9af2%20%3D%20L.circle%28%0A%20%20%20%20%20%20%20%20%20%20%20%20%20%20%20%20%5B37.484409%2C%20126.928909%5D%2C%0A%20%20%20%20%20%20%20%20%20%20%20%20%20%20%20%20%7B%22bubblingMouseEvents%22%3A%20true%2C%20%22color%22%3A%20%22red%22%2C%20%22dashArray%22%3A%20null%2C%20%22dashOffset%22%3A%20null%2C%20%22fill%22%3A%20true%2C%20%22fillColor%22%3A%20%22red%22%2C%20%22fillOpacity%22%3A%200.2%2C%20%22fillRule%22%3A%20%22evenodd%22%2C%20%22lineCap%22%3A%20%22round%22%2C%20%22lineJoin%22%3A%20%22round%22%2C%20%22opacity%22%3A%201.0%2C%20%22radius%22%3A%2050%2C%20%22stroke%22%3A%20true%2C%20%22weight%22%3A%203%7D%0A%20%20%20%20%20%20%20%20%20%20%20%20%29.addTo%28map_b1e785ed05c146838fe332d423737695%29%3B%0A%20%20%20%20%20%20%20%20%0A%20%20%20%20%0A%20%20%20%20%20%20%20%20var%20popup_922ae1636d044494a4250bd419758bef%20%3D%20L.popup%28%7B%22maxWidth%22%3A%20%22100%25%22%7D%29%3B%0A%0A%20%20%20%20%20%20%20%20%0A%20%20%20%20%20%20%20%20%20%20%20%20var%20html_9c2756ec86644fe082a3e43a79f15c50%20%3D%20%24%28%60%3Cdiv%20id%3D%22html_9c2756ec86644fe082a3e43a79f15c50%22%20style%3D%22width%3A%20100.0%25%3B%20height%3A%20100.0%25%3B%22%3E%EC%8B%A0%EB%A6%BC%EC%97%AD%205%EB%B2%88%EC%B6%9C%EA%B5%AC%3C/div%3E%60%29%5B0%5D%3B%0A%20%20%20%20%20%20%20%20%20%20%20%20popup_922ae1636d044494a4250bd419758bef.setContent%28html_9c2756ec86644fe082a3e43a79f15c50%29%3B%0A%20%20%20%20%20%20%20%20%0A%0A%20%20%20%20%20%20%20%20circle_827eebabe75d4a82acf475602b1e9af2.bindPopup%28popup_922ae1636d044494a4250bd419758bef%29%0A%20%20%20%20%20%20%20%20%3B%0A%0A%20%20%20%20%20%20%20%20%0A%20%20%20%20%0A%20%20%20%20%0A%20%20%20%20%20%20%20%20%20%20%20%20var%20circle_43a22ce3aa9d4f038e45ac41004baea6%20%3D%20L.circle%28%0A%20%20%20%20%20%20%20%20%20%20%20%20%20%20%20%20%5B37.487301%2C%20126.928703%5D%2C%0A%20%20%20%20%20%20%20%20%20%20%20%20%20%20%20%20%7B%22bubblingMouseEvents%22%3A%20true%2C%20%22color%22%3A%20%22red%22%2C%20%22dashArray%22%3A%20null%2C%20%22dashOffset%22%3A%20null%2C%20%22fill%22%3A%20true%2C%20%22fillColor%22%3A%20%22red%22%2C%20%22fillOpacity%22%3A%200.2%2C%20%22fillRule%22%3A%20%22evenodd%22%2C%20%22lineCap%22%3A%20%22round%22%2C%20%22lineJoin%22%3A%20%22round%22%2C%20%22opacity%22%3A%201.0%2C%20%22radius%22%3A%2050%2C%20%22stroke%22%3A%20true%2C%20%22weight%22%3A%203%7D%0A%20%20%20%20%20%20%20%20%20%20%20%20%29.addTo%28map_b1e785ed05c146838fe332d423737695%29%3B%0A%20%20%20%20%20%20%20%20%0A%20%20%20%20%0A%20%20%20%20%20%20%20%20var%20popup_5139611029db42baa6c17b9175d8d94c%20%3D%20L.popup%28%7B%22maxWidth%22%3A%20%22100%25%22%7D%29%3B%0A%0A%20%20%20%20%20%20%20%20%0A%20%20%20%20%20%20%20%20%20%20%20%20var%20html_ef3958734e9841089d9be2c3f35cbac6%20%3D%20%24%28%60%3Cdiv%20id%3D%22html_ef3958734e9841089d9be2c3f35cbac6%22%20style%3D%22width%3A%20100.0%25%3B%20height%3A%20100.0%25%3B%22%3E%EC%8B%A0%EB%A6%BC%EB%8F%99%EA%B1%B7%EA%B3%A0%EC%8B%B6%EC%9D%80%EB%AC%B8%ED%99%94%EC%9D%98%EA%B1%B0%EB%A6%AC%EC%9E%85%EA%B5%AC%3C/div%3E%60%29%5B0%5D%3B%0A%20%20%20%20%20%20%20%20%20%20%20%20popup_5139611029db42baa6c17b9175d8d94c.setContent%28html_ef3958734e9841089d9be2c3f35cbac6%29%3B%0A%20%20%20%20%20%20%20%20%0A%0A%20%20%20%20%20%20%20%20circle_43a22ce3aa9d4f038e45ac41004baea6.bindPopup%28popup_5139611029db42baa6c17b9175d8d94c%29%0A%20%20%20%20%20%20%20%20%3B%0A%0A%20%20%20%20%20%20%20%20%0A%20%20%20%20%0A%20%20%20%20%0A%20%20%20%20%20%20%20%20%20%20%20%20var%20circle_6e33df0495dd4a0ca50522095eae50a6%20%3D%20L.circle%28%0A%20%20%20%20%20%20%20%20%20%20%20%20%20%20%20%20%5B37.513592%2C%20126.925934%5D%2C%0A%20%20%20%20%20%20%20%20%20%20%20%20%20%20%20%20%7B%22bubblingMouseEvents%22%3A%20true%2C%20%22color%22%3A%20%22red%22%2C%20%22dashArray%22%3A%20null%2C%20%22dashOffset%22%3A%20null%2C%20%22fill%22%3A%20true%2C%20%22fillColor%22%3A%20%22red%22%2C%20%22fillOpacity%22%3A%200.2%2C%20%22fillRule%22%3A%20%22evenodd%22%2C%20%22lineCap%22%3A%20%22round%22%2C%20%22lineJoin%22%3A%20%22round%22%2C%20%22opacity%22%3A%201.0%2C%20%22radius%22%3A%2050%2C%20%22stroke%22%3A%20true%2C%20%22weight%22%3A%203%7D%0A%20%20%20%20%20%20%20%20%20%20%20%20%29.addTo%28map_b1e785ed05c146838fe332d423737695%29%3B%0A%20%20%20%20%20%20%20%20%0A%20%20%20%20%0A%20%20%20%20%20%20%20%20var%20popup_e744b5eec1f0485fac8b7ad334663510%20%3D%20L.popup%28%7B%22maxWidth%22%3A%20%22100%25%22%7D%29%3B%0A%0A%20%20%20%20%20%20%20%20%0A%20%20%20%20%20%20%20%20%20%20%20%20var%20html_6071e48a4e1740cebbd56872f0510ee2%20%3D%20%24%28%60%3Cdiv%20id%3D%22html_6071e48a4e1740cebbd56872f0510ee2%22%20style%3D%22width%3A%20100.0%25%3B%20height%3A%20100.0%25%3B%22%3E%EB%8C%80%EB%B0%A9%EC%97%AD6%EB%B2%88%EC%B6%9C%EA%B5%AC%3C/div%3E%60%29%5B0%5D%3B%0A%20%20%20%20%20%20%20%20%20%20%20%20popup_e744b5eec1f0485fac8b7ad334663510.setContent%28html_6071e48a4e1740cebbd56872f0510ee2%29%3B%0A%20%20%20%20%20%20%20%20%0A%0A%20%20%20%20%20%20%20%20circle_6e33df0495dd4a0ca50522095eae50a6.bindPopup%28popup_e744b5eec1f0485fac8b7ad334663510%29%0A%20%20%20%20%20%20%20%20%3B%0A%0A%20%20%20%20%20%20%20%20%0A%20%20%20%20%0A%20%20%20%20%0A%20%20%20%20%20%20%20%20%20%20%20%20var%20circle_d6d718202e754214a72956448b8fbb05%20%3D%20L.circle%28%0A%20%20%20%20%20%20%20%20%20%20%20%20%20%20%20%20%5B37.52626400000001%2C%20126.920509%5D%2C%0A%20%20%20%20%20%20%20%20%20%20%20%20%20%20%20%20%7B%22bubblingMouseEvents%22%3A%20true%2C%20%22color%22%3A%20%22red%22%2C%20%22dashArray%22%3A%20null%2C%20%22dashOffset%22%3A%20null%2C%20%22fill%22%3A%20true%2C%20%22fillColor%22%3A%20%22red%22%2C%20%22fillOpacity%22%3A%200.2%2C%20%22fillRule%22%3A%20%22evenodd%22%2C%20%22lineCap%22%3A%20%22round%22%2C%20%22lineJoin%22%3A%20%22round%22%2C%20%22opacity%22%3A%201.0%2C%20%22radius%22%3A%2050%2C%20%22stroke%22%3A%20true%2C%20%22weight%22%3A%203%7D%0A%20%20%20%20%20%20%20%20%20%20%20%20%29.addTo%28map_b1e785ed05c146838fe332d423737695%29%3B%0A%20%20%20%20%20%20%20%20%0A%20%20%20%20%0A%20%20%20%20%20%20%20%20var%20popup_c0deafa161c54f09a2c9c1961873b2e0%20%3D%20L.popup%28%7B%22maxWidth%22%3A%20%22100%25%22%7D%29%3B%0A%0A%20%20%20%20%20%20%20%20%0A%20%20%20%20%20%20%20%20%20%20%20%20var%20html_4d61ee8f0fb94dd9ab9834dd680a593f%20%3D%20%24%28%60%3Cdiv%20id%3D%22html_4d61ee8f0fb94dd9ab9834dd680a593f%22%20style%3D%22width%3A%20100.0%25%3B%20height%3A%20100.0%25%3B%22%3E%EC%82%B0%EC%97%85%EC%9D%80%ED%96%89%20%EC%95%9E%3C/div%3E%60%29%5B0%5D%3B%0A%20%20%20%20%20%20%20%20%20%20%20%20popup_c0deafa161c54f09a2c9c1961873b2e0.setContent%28html_4d61ee8f0fb94dd9ab9834dd680a593f%29%3B%0A%20%20%20%20%20%20%20%20%0A%0A%20%20%20%20%20%20%20%20circle_d6d718202e754214a72956448b8fbb05.bindPopup%28popup_c0deafa161c54f09a2c9c1961873b2e0%29%0A%20%20%20%20%20%20%20%20%3B%0A%0A%20%20%20%20%20%20%20%20%0A%20%20%20%20%0A%20%20%20%20%0A%20%20%20%20%20%20%20%20%20%20%20%20var%20circle_febe3bfaeb204664b5b67da7352d648a%20%3D%20L.circle%28%0A%20%20%20%20%20%20%20%20%20%20%20%20%20%20%20%20%5B37.526066%2C%20126.925537%5D%2C%0A%20%20%20%20%20%20%20%20%20%20%20%20%20%20%20%20%7B%22bubblingMouseEvents%22%3A%20true%2C%20%22color%22%3A%20%22red%22%2C%20%22dashArray%22%3A%20null%2C%20%22dashOffset%22%3A%20null%2C%20%22fill%22%3A%20true%2C%20%22fillColor%22%3A%20%22red%22%2C%20%22fillOpacity%22%3A%200.2%2C%20%22fillRule%22%3A%20%22evenodd%22%2C%20%22lineCap%22%3A%20%22round%22%2C%20%22lineJoin%22%3A%20%22round%22%2C%20%22opacity%22%3A%201.0%2C%20%22radius%22%3A%2050%2C%20%22stroke%22%3A%20true%2C%20%22weight%22%3A%203%7D%0A%20%20%20%20%20%20%20%20%20%20%20%20%29.addTo%28map_b1e785ed05c146838fe332d423737695%29%3B%0A%20%20%20%20%20%20%20%20%0A%20%20%20%20%0A%20%20%20%20%20%20%20%20var%20popup_11db4932b02a4a588e832cda73ca1e34%20%3D%20L.popup%28%7B%22maxWidth%22%3A%20%22100%25%22%7D%29%3B%0A%0A%20%20%20%20%20%20%20%20%0A%20%20%20%20%20%20%20%20%20%20%20%20var%20html_34afbf25a2c44012a301f79268e3674d%20%3D%20%24%28%60%3Cdiv%20id%3D%22html_34afbf25a2c44012a301f79268e3674d%22%20style%3D%22width%3A%20100.0%25%3B%20height%3A%20100.0%25%3B%22%3EIFC%EB%AA%B0%3C/div%3E%60%29%5B0%5D%3B%0A%20%20%20%20%20%20%20%20%20%20%20%20popup_11db4932b02a4a588e832cda73ca1e34.setContent%28html_34afbf25a2c44012a301f79268e3674d%29%3B%0A%20%20%20%20%20%20%20%20%0A%0A%20%20%20%20%20%20%20%20circle_febe3bfaeb204664b5b67da7352d648a.bindPopup%28popup_11db4932b02a4a588e832cda73ca1e34%29%0A%20%20%20%20%20%20%20%20%3B%0A%0A%20%20%20%20%20%20%20%20%0A%20%20%20%20%0A%20%20%20%20%0A%20%20%20%20%20%20%20%20%20%20%20%20var%20circle_f452253b308a41da9331b7a4fb09359e%20%3D%20L.circle%28%0A%20%20%20%20%20%20%20%20%20%20%20%20%20%20%20%20%5B37.561932%2C%20126.863869%5D%2C%0A%20%20%20%20%20%20%20%20%20%20%20%20%20%20%20%20%7B%22bubblingMouseEvents%22%3A%20true%2C%20%22color%22%3A%20%22red%22%2C%20%22dashArray%22%3A%20null%2C%20%22dashOffset%22%3A%20null%2C%20%22fill%22%3A%20true%2C%20%22fillColor%22%3A%20%22red%22%2C%20%22fillOpacity%22%3A%200.2%2C%20%22fillRule%22%3A%20%22evenodd%22%2C%20%22lineCap%22%3A%20%22round%22%2C%20%22lineJoin%22%3A%20%22round%22%2C%20%22opacity%22%3A%201.0%2C%20%22radius%22%3A%2050%2C%20%22stroke%22%3A%20true%2C%20%22weight%22%3A%203%7D%0A%20%20%20%20%20%20%20%20%20%20%20%20%29.addTo%28map_b1e785ed05c146838fe332d423737695%29%3B%0A%20%20%20%20%20%20%20%20%0A%20%20%20%20%0A%20%20%20%20%20%20%20%20var%20popup_8321520c893e47fe8b64803cc9126974%20%3D%20L.popup%28%7B%22maxWidth%22%3A%20%22100%25%22%7D%29%3B%0A%0A%20%20%20%20%20%20%20%20%0A%20%20%20%20%20%20%20%20%20%20%20%20var%20html_01c592648a2c404bb5393d637a5f58d1%20%3D%20%24%28%60%3Cdiv%20id%3D%22html_01c592648a2c404bb5393d637a5f58d1%22%20style%3D%22width%3A%20100.0%25%3B%20height%3A%20100.0%25%3B%22%3E%ED%99%A9%EA%B8%88%EB%82%B4%EA%B7%BC%EB%A6%B0%EA%B3%B5%EC%9B%90%3C/div%3E%60%29%5B0%5D%3B%0A%20%20%20%20%20%20%20%20%20%20%20%20popup_8321520c893e47fe8b64803cc9126974.setContent%28html_01c592648a2c404bb5393d637a5f58d1%29%3B%0A%20%20%20%20%20%20%20%20%0A%0A%20%20%20%20%20%20%20%20circle_f452253b308a41da9331b7a4fb09359e.bindPopup%28popup_8321520c893e47fe8b64803cc9126974%29%0A%20%20%20%20%20%20%20%20%3B%0A%0A%20%20%20%20%20%20%20%20%0A%20%20%20%20%0A%20%20%20%20%0A%20%20%20%20%20%20%20%20%20%20%20%20var%20circle_0e13d2441d724e4da40ad6b5dd3eedb4%20%3D%20L.circle%28%0A%20%20%20%20%20%20%20%20%20%20%20%20%20%20%20%20%5B37.520336%2C%20126.994263%5D%2C%0A%20%20%20%20%20%20%20%20%20%20%20%20%20%20%20%20%7B%22bubblingMouseEvents%22%3A%20true%2C%20%22color%22%3A%20%22red%22%2C%20%22dashArray%22%3A%20null%2C%20%22dashOffset%22%3A%20null%2C%20%22fill%22%3A%20true%2C%20%22fillColor%22%3A%20%22red%22%2C%20%22fillOpacity%22%3A%200.2%2C%20%22fillRule%22%3A%20%22evenodd%22%2C%20%22lineCap%22%3A%20%22round%22%2C%20%22lineJoin%22%3A%20%22round%22%2C%20%22opacity%22%3A%201.0%2C%20%22radius%22%3A%2050%2C%20%22stroke%22%3A%20true%2C%20%22weight%22%3A%203%7D%0A%20%20%20%20%20%20%20%20%20%20%20%20%29.addTo%28map_b1e785ed05c146838fe332d423737695%29%3B%0A%20%20%20%20%20%20%20%20%0A%20%20%20%20%0A%20%20%20%20%20%20%20%20var%20popup_88fb563a516d4f059e65c13933f80943%20%3D%20L.popup%28%7B%22maxWidth%22%3A%20%22100%25%22%7D%29%3B%0A%0A%20%20%20%20%20%20%20%20%0A%20%20%20%20%20%20%20%20%20%20%20%20var%20html_708f2aefd7be4cf5802dc816b4761feb%20%3D%20%24%28%60%3Cdiv%20id%3D%22html_708f2aefd7be4cf5802dc816b4761feb%22%20style%3D%22width%3A%20100.0%25%3B%20height%3A%20100.0%25%3B%22%3E%EC%84%9C%EB%B9%99%EA%B3%A0%EB%8F%99%20%EC%A3%BC%EB%AF%BC%EC%84%BC%ED%84%B0%20%EC%95%9E%3C/div%3E%60%29%5B0%5D%3B%0A%20%20%20%20%20%20%20%20%20%20%20%20popup_88fb563a516d4f059e65c13933f80943.setContent%28html_708f2aefd7be4cf5802dc816b4761feb%29%3B%0A%20%20%20%20%20%20%20%20%0A%0A%20%20%20%20%20%20%20%20circle_0e13d2441d724e4da40ad6b5dd3eedb4.bindPopup%28popup_88fb563a516d4f059e65c13933f80943%29%0A%20%20%20%20%20%20%20%20%3B%0A%0A%20%20%20%20%20%20%20%20%0A%20%20%20%20%0A%20%20%20%20%0A%20%20%20%20%20%20%20%20%20%20%20%20var%20circle_6d2e35a5a52849369713d939747baade%20%3D%20L.circle%28%0A%20%20%20%20%20%20%20%20%20%20%20%20%20%20%20%20%5B37.574478000000006%2C%20126.910049%5D%2C%0A%20%20%20%20%20%20%20%20%20%20%20%20%20%20%20%20%7B%22bubblingMouseEvents%22%3A%20true%2C%20%22color%22%3A%20%22red%22%2C%20%22dashArray%22%3A%20null%2C%20%22dashOffset%22%3A%20null%2C%20%22fill%22%3A%20true%2C%20%22fillColor%22%3A%20%22red%22%2C%20%22fillOpacity%22%3A%200.2%2C%20%22fillRule%22%3A%20%22evenodd%22%2C%20%22lineCap%22%3A%20%22round%22%2C%20%22lineJoin%22%3A%20%22round%22%2C%20%22opacity%22%3A%201.0%2C%20%22radius%22%3A%2050%2C%20%22stroke%22%3A%20true%2C%20%22weight%22%3A%203%7D%0A%20%20%20%20%20%20%20%20%20%20%20%20%29.addTo%28map_b1e785ed05c146838fe332d423737695%29%3B%0A%20%20%20%20%20%20%20%20%0A%20%20%20%20%0A%20%20%20%20%20%20%20%20var%20popup_98c3392f15f54e92b89dca27dbe2880a%20%3D%20L.popup%28%7B%22maxWidth%22%3A%20%22100%25%22%7D%29%3B%0A%0A%20%20%20%20%20%20%20%20%0A%20%20%20%20%20%20%20%20%20%20%20%20var%20html_62e866d632724da5a1cab017861475c7%20%3D%20%24%28%60%3Cdiv%20id%3D%22html_62e866d632724da5a1cab017861475c7%22%20style%3D%22width%3A%20100.0%25%3B%20height%3A%20100.0%25%3B%22%3E%EB%B6%81%EA%B0%80%EC%A2%8C1%EB%8F%99%20%EC%A3%BC%EB%AF%BC%EC%84%BC%ED%84%B0%3C/div%3E%60%29%5B0%5D%3B%0A%20%20%20%20%20%20%20%20%20%20%20%20popup_98c3392f15f54e92b89dca27dbe2880a.setContent%28html_62e866d632724da5a1cab017861475c7%29%3B%0A%20%20%20%20%20%20%20%20%0A%0A%20%20%20%20%20%20%20%20circle_6d2e35a5a52849369713d939747baade.bindPopup%28popup_98c3392f15f54e92b89dca27dbe2880a%29%0A%20%20%20%20%20%20%20%20%3B%0A%0A%20%20%20%20%20%20%20%20%0A%20%20%20%20%0A%20%20%20%20%0A%20%20%20%20%20%20%20%20%20%20%20%20var%20circle_600b24ae4beb4627a3bbf5edfbe557ad%20%3D%20L.circle%28%0A%20%20%20%20%20%20%20%20%20%20%20%20%20%20%20%20%5B37.569122%2C%20126.914795%5D%2C%0A%20%20%20%20%20%20%20%20%20%20%20%20%20%20%20%20%7B%22bubblingMouseEvents%22%3A%20true%2C%20%22color%22%3A%20%22red%22%2C%20%22dashArray%22%3A%20null%2C%20%22dashOffset%22%3A%20null%2C%20%22fill%22%3A%20true%2C%20%22fillColor%22%3A%20%22red%22%2C%20%22fillOpacity%22%3A%200.2%2C%20%22fillRule%22%3A%20%22evenodd%22%2C%20%22lineCap%22%3A%20%22round%22%2C%20%22lineJoin%22%3A%20%22round%22%2C%20%22opacity%22%3A%201.0%2C%20%22radius%22%3A%2050%2C%20%22stroke%22%3A%20true%2C%20%22weight%22%3A%203%7D%0A%20%20%20%20%20%20%20%20%20%20%20%20%29.addTo%28map_b1e785ed05c146838fe332d423737695%29%3B%0A%20%20%20%20%20%20%20%20%0A%20%20%20%20%0A%20%20%20%20%20%20%20%20var%20popup_567c0471f3244c36aebdc7e6f9b3786b%20%3D%20L.popup%28%7B%22maxWidth%22%3A%20%22100%25%22%7D%29%3B%0A%0A%20%20%20%20%20%20%20%20%0A%20%20%20%20%20%20%20%20%20%20%20%20var%20html_35a3a2cb4fa543c5851d99ff8dad766f%20%3D%20%24%28%60%3Cdiv%20id%3D%22html_35a3a2cb4fa543c5851d99ff8dad766f%22%20style%3D%22width%3A%20100.0%25%3B%20height%3A%20100.0%25%3B%22%3E%EA%B0%80%EC%A2%8C%EC%97%AD%204%EB%B2%88%EC%B6%9C%EA%B5%AC%20%EC%95%9E%3C/div%3E%60%29%5B0%5D%3B%0A%20%20%20%20%20%20%20%20%20%20%20%20popup_567c0471f3244c36aebdc7e6f9b3786b.setContent%28html_35a3a2cb4fa543c5851d99ff8dad766f%29%3B%0A%20%20%20%20%20%20%20%20%0A%0A%20%20%20%20%20%20%20%20circle_600b24ae4beb4627a3bbf5edfbe557ad.bindPopup%28popup_567c0471f3244c36aebdc7e6f9b3786b%29%0A%20%20%20%20%20%20%20%20%3B%0A%0A%20%20%20%20%20%20%20%20%0A%20%20%20%20%0A%20%20%20%20%0A%20%20%20%20%20%20%20%20%20%20%20%20var%20circle_1df56ec1e7bc43f9a3dacdb692b847b7%20%3D%20L.circle%28%0A%20%20%20%20%20%20%20%20%20%20%20%20%20%20%20%20%5B37.60012800000001%2C%20126.957832%5D%2C%0A%20%20%20%20%20%20%20%20%20%20%20%20%20%20%20%20%7B%22bubblingMouseEvents%22%3A%20true%2C%20%22color%22%3A%20%22red%22%2C%20%22dashArray%22%3A%20null%2C%20%22dashOffset%22%3A%20null%2C%20%22fill%22%3A%20true%2C%20%22fillColor%22%3A%20%22red%22%2C%20%22fillOpacity%22%3A%200.2%2C%20%22fillRule%22%3A%20%22evenodd%22%2C%20%22lineCap%22%3A%20%22round%22%2C%20%22lineJoin%22%3A%20%22round%22%2C%20%22opacity%22%3A%201.0%2C%20%22radius%22%3A%2050%2C%20%22stroke%22%3A%20true%2C%20%22weight%22%3A%203%7D%0A%20%20%20%20%20%20%20%20%20%20%20%20%29.addTo%28map_b1e785ed05c146838fe332d423737695%29%3B%0A%20%20%20%20%20%20%20%20%0A%20%20%20%20%0A%20%20%20%20%20%20%20%20var%20popup_f317eaa15df94f1ca8d293aea6fc66f8%20%3D%20L.popup%28%7B%22maxWidth%22%3A%20%22100%25%22%7D%29%3B%0A%0A%20%20%20%20%20%20%20%20%0A%20%20%20%20%20%20%20%20%20%20%20%20var%20html_7554fa7ce96145c3bd7cb0bbf9c52530%20%3D%20%24%28%60%3Cdiv%20id%3D%22html_7554fa7ce96145c3bd7cb0bbf9c52530%22%20style%3D%22width%3A%20100.0%25%3B%20height%3A%20100.0%25%3B%22%3E%EC%83%81%EB%AA%85%EB%8C%80%EC%9E%85%EA%B5%AC%3C/div%3E%60%29%5B0%5D%3B%0A%20%20%20%20%20%20%20%20%20%20%20%20popup_f317eaa15df94f1ca8d293aea6fc66f8.setContent%28html_7554fa7ce96145c3bd7cb0bbf9c52530%29%3B%0A%20%20%20%20%20%20%20%20%0A%0A%20%20%20%20%20%20%20%20circle_1df56ec1e7bc43f9a3dacdb692b847b7.bindPopup%28popup_f317eaa15df94f1ca8d293aea6fc66f8%29%0A%20%20%20%20%20%20%20%20%3B%0A%0A%20%20%20%20%20%20%20%20%0A%20%20%20%20%0A%20%20%20%20%0A%20%20%20%20%20%20%20%20%20%20%20%20var%20circle_a2007634ea514129a59092cebd55730b%20%3D%20L.circle%28%0A%20%20%20%20%20%20%20%20%20%20%20%20%20%20%20%20%5B37.58351500000001%2C%20126.979668%5D%2C%0A%20%20%20%20%20%20%20%20%20%20%20%20%20%20%20%20%7B%22bubblingMouseEvents%22%3A%20true%2C%20%22color%22%3A%20%22red%22%2C%20%22dashArray%22%3A%20null%2C%20%22dashOffset%22%3A%20null%2C%20%22fill%22%3A%20true%2C%20%22fillColor%22%3A%20%22red%22%2C%20%22fillOpacity%22%3A%200.2%2C%20%22fillRule%22%3A%20%22evenodd%22%2C%20%22lineCap%22%3A%20%22round%22%2C%20%22lineJoin%22%3A%20%22round%22%2C%20%22opacity%22%3A%201.0%2C%20%22radius%22%3A%2050%2C%20%22stroke%22%3A%20true%2C%20%22weight%22%3A%203%7D%0A%20%20%20%20%20%20%20%20%20%20%20%20%29.addTo%28map_b1e785ed05c146838fe332d423737695%29%3B%0A%20%20%20%20%20%20%20%20%0A%20%20%20%20%0A%20%20%20%20%20%20%20%20var%20popup_707fc519217b43008ca9d46aa58daa19%20%3D%20L.popup%28%7B%22maxWidth%22%3A%20%22100%25%22%7D%29%3B%0A%0A%20%20%20%20%20%20%20%20%0A%20%20%20%20%20%20%20%20%20%20%20%20var%20html_4298ede32842491a8cef8ced572c790b%20%3D%20%24%28%60%3Cdiv%20id%3D%22html_4298ede32842491a8cef8ced572c790b%22%20style%3D%22width%3A%20100.0%25%3B%20height%3A%20100.0%25%3B%22%3E%EC%B2%AD%EC%99%80%EB%8C%80%EC%95%9E%EA%B8%B8%3C/div%3E%60%29%5B0%5D%3B%0A%20%20%20%20%20%20%20%20%20%20%20%20popup_707fc519217b43008ca9d46aa58daa19.setContent%28html_4298ede32842491a8cef8ced572c790b%29%3B%0A%20%20%20%20%20%20%20%20%0A%0A%20%20%20%20%20%20%20%20circle_a2007634ea514129a59092cebd55730b.bindPopup%28popup_707fc519217b43008ca9d46aa58daa19%29%0A%20%20%20%20%20%20%20%20%3B%0A%0A%20%20%20%20%20%20%20%20%0A%20%20%20%20%0A%20%20%20%20%0A%20%20%20%20%20%20%20%20%20%20%20%20var%20circle_461191c93dd34b7787eb138881329439%20%3D%20L.circle%28%0A%20%20%20%20%20%20%20%20%20%20%20%20%20%20%20%20%5B37.572582%2C%20126.978355%5D%2C%0A%20%20%20%20%20%20%20%20%20%20%20%20%20%20%20%20%7B%22bubblingMouseEvents%22%3A%20true%2C%20%22color%22%3A%20%22red%22%2C%20%22dashArray%22%3A%20null%2C%20%22dashOffset%22%3A%20null%2C%20%22fill%22%3A%20true%2C%20%22fillColor%22%3A%20%22red%22%2C%20%22fillOpacity%22%3A%200.2%2C%20%22fillRule%22%3A%20%22evenodd%22%2C%20%22lineCap%22%3A%20%22round%22%2C%20%22lineJoin%22%3A%20%22round%22%2C%20%22opacity%22%3A%201.0%2C%20%22radius%22%3A%2050%2C%20%22stroke%22%3A%20true%2C%20%22weight%22%3A%203%7D%0A%20%20%20%20%20%20%20%20%20%20%20%20%29.addTo%28map_b1e785ed05c146838fe332d423737695%29%3B%0A%20%20%20%20%20%20%20%20%0A%20%20%20%20%0A%20%20%20%20%20%20%20%20var%20popup_2e147ada641c43feb2d73fa3613e41ad%20%3D%20L.popup%28%7B%22maxWidth%22%3A%20%22100%25%22%7D%29%3B%0A%0A%20%20%20%20%20%20%20%20%0A%20%20%20%20%20%20%20%20%20%20%20%20var%20html_4df793d0edbc45dbbc6646ba27913567%20%3D%20%24%28%60%3Cdiv%20id%3D%22html_4df793d0edbc45dbbc6646ba27913567%22%20style%3D%22width%3A%20100.0%25%3B%20height%3A%20100.0%25%3B%22%3E%EC%A2%85%EB%A1%9C%EA%B5%AC%EC%B2%AD%20%EC%98%86%3C/div%3E%60%29%5B0%5D%3B%0A%20%20%20%20%20%20%20%20%20%20%20%20popup_2e147ada641c43feb2d73fa3613e41ad.setContent%28html_4df793d0edbc45dbbc6646ba27913567%29%3B%0A%20%20%20%20%20%20%20%20%0A%0A%20%20%20%20%20%20%20%20circle_461191c93dd34b7787eb138881329439.bindPopup%28popup_2e147ada641c43feb2d73fa3613e41ad%29%0A%20%20%20%20%20%20%20%20%3B%0A%0A%20%20%20%20%20%20%20%20%0A%20%20%20%20%0A%20%20%20%20%0A%20%20%20%20%20%20%20%20%20%20%20%20var%20circle_f428602694514f1e81d1ca3e9090308b%20%3D%20L.circle%28%0A%20%20%20%20%20%20%20%20%20%20%20%20%20%20%20%20%5B37.615036%2C%20127.020699%5D%2C%0A%20%20%20%20%20%20%20%20%20%20%20%20%20%20%20%20%7B%22bubblingMouseEvents%22%3A%20true%2C%20%22color%22%3A%20%22red%22%2C%20%22dashArray%22%3A%20null%2C%20%22dashOffset%22%3A%20null%2C%20%22fill%22%3A%20true%2C%20%22fillColor%22%3A%20%22red%22%2C%20%22fillOpacity%22%3A%200.2%2C%20%22fillRule%22%3A%20%22evenodd%22%2C%20%22lineCap%22%3A%20%22round%22%2C%20%22lineJoin%22%3A%20%22round%22%2C%20%22opacity%22%3A%201.0%2C%20%22radius%22%3A%2050%2C%20%22stroke%22%3A%20true%2C%20%22weight%22%3A%203%7D%0A%20%20%20%20%20%20%20%20%20%20%20%20%29.addTo%28map_b1e785ed05c146838fe332d423737695%29%3B%0A%20%20%20%20%20%20%20%20%0A%20%20%20%20%0A%20%20%20%20%20%20%20%20var%20popup_b20f8e174cd94f92999390d719c4c70e%20%3D%20L.popup%28%7B%22maxWidth%22%3A%20%22100%25%22%7D%29%3B%0A%0A%20%20%20%20%20%20%20%20%0A%20%20%20%20%20%20%20%20%20%20%20%20var%20html_70c2455b62964fea8565044bb2880247%20%3D%20%24%28%60%3Cdiv%20id%3D%22html_70c2455b62964fea8565044bb2880247%22%20style%3D%22width%3A%20100.0%25%3B%20height%3A%20100.0%25%3B%22%3E%EC%82%BC%EA%B0%81%EC%82%B0%EB%8F%99%20%EC%A3%BC%EB%AF%BC%EC%84%BC%ED%84%B0%3C/div%3E%60%29%5B0%5D%3B%0A%20%20%20%20%20%20%20%20%20%20%20%20popup_b20f8e174cd94f92999390d719c4c70e.setContent%28html_70c2455b62964fea8565044bb2880247%29%3B%0A%20%20%20%20%20%20%20%20%0A%0A%20%20%20%20%20%20%20%20circle_f428602694514f1e81d1ca3e9090308b.bindPopup%28popup_b20f8e174cd94f92999390d719c4c70e%29%0A%20%20%20%20%20%20%20%20%3B%0A%0A%20%20%20%20%20%20%20%20%0A%20%20%20%20%0A%20%20%20%20%0A%20%20%20%20%20%20%20%20%20%20%20%20var%20circle_dea84df319c84b4a894d980f5a45da98%20%3D%20L.circle%28%0A%20%20%20%20%20%20%20%20%20%20%20%20%20%20%20%20%5B37.591694%2C%20127.012497%5D%2C%0A%20%20%20%20%20%20%20%20%20%20%20%20%20%20%20%20%7B%22bubblingMouseEvents%22%3A%20true%2C%20%22color%22%3A%20%22red%22%2C%20%22dashArray%22%3A%20null%2C%20%22dashOffset%22%3A%20null%2C%20%22fill%22%3A%20true%2C%20%22fillColor%22%3A%20%22red%22%2C%20%22fillOpacity%22%3A%200.2%2C%20%22fillRule%22%3A%20%22evenodd%22%2C%20%22lineCap%22%3A%20%22round%22%2C%20%22lineJoin%22%3A%20%22round%22%2C%20%22opacity%22%3A%201.0%2C%20%22radius%22%3A%2050%2C%20%22stroke%22%3A%20true%2C%20%22weight%22%3A%203%7D%0A%20%20%20%20%20%20%20%20%20%20%20%20%29.addTo%28map_b1e785ed05c146838fe332d423737695%29%3B%0A%20%20%20%20%20%20%20%20%0A%20%20%20%20%0A%20%20%20%20%20%20%20%20var%20popup_491414c1f7b14a3e8434d156fc137ad6%20%3D%20L.popup%28%7B%22maxWidth%22%3A%20%22100%25%22%7D%29%3B%0A%0A%20%20%20%20%20%20%20%20%0A%20%20%20%20%20%20%20%20%20%20%20%20var%20html_9bcb91b55cfd47558df241723a866a72%20%3D%20%24%28%60%3Cdiv%20id%3D%22html_9bcb91b55cfd47558df241723a866a72%22%20style%3D%22width%3A%20100.0%25%3B%20height%3A%20100.0%25%3B%22%3E%EB%8F%88%EC%95%94%EC%B4%88%EA%B5%90%20%EC%9E%85%EA%B5%AC%3C/div%3E%60%29%5B0%5D%3B%0A%20%20%20%20%20%20%20%20%20%20%20%20popup_491414c1f7b14a3e8434d156fc137ad6.setContent%28html_9bcb91b55cfd47558df241723a866a72%29%3B%0A%20%20%20%20%20%20%20%20%0A%0A%20%20%20%20%20%20%20%20circle_dea84df319c84b4a894d980f5a45da98.bindPopup%28popup_491414c1f7b14a3e8434d156fc137ad6%29%0A%20%20%20%20%20%20%20%20%3B%0A%0A%20%20%20%20%20%20%20%20%0A%20%20%20%20%0A%20%20%20%20%0A%20%20%20%20%20%20%20%20%20%20%20%20var%20circle_5c9e01109b5f4bb7b3fab77ad5592eb6%20%3D%20L.circle%28%0A%20%20%20%20%20%20%20%20%20%20%20%20%20%20%20%20%5B37.585735%2C%20127.00161%5D%2C%0A%20%20%20%20%20%20%20%20%20%20%20%20%20%20%20%20%7B%22bubblingMouseEvents%22%3A%20true%2C%20%22color%22%3A%20%22red%22%2C%20%22dashArray%22%3A%20null%2C%20%22dashOffset%22%3A%20null%2C%20%22fill%22%3A%20true%2C%20%22fillColor%22%3A%20%22red%22%2C%20%22fillOpacity%22%3A%200.2%2C%20%22fillRule%22%3A%20%22evenodd%22%2C%20%22lineCap%22%3A%20%22round%22%2C%20%22lineJoin%22%3A%20%22round%22%2C%20%22opacity%22%3A%201.0%2C%20%22radius%22%3A%2050%2C%20%22stroke%22%3A%20true%2C%20%22weight%22%3A%203%7D%0A%20%20%20%20%20%20%20%20%20%20%20%20%29.addTo%28map_b1e785ed05c146838fe332d423737695%29%3B%0A%20%20%20%20%20%20%20%20%0A%20%20%20%20%0A%20%20%20%20%20%20%20%20var%20popup_48d6eec926b6435dbff9e0eb9b32315a%20%3D%20L.popup%28%7B%22maxWidth%22%3A%20%22100%25%22%7D%29%3B%0A%0A%20%20%20%20%20%20%20%20%0A%20%20%20%20%20%20%20%20%20%20%20%20var%20html_0af5eb218f154c7e92dc81664522b62a%20%3D%20%24%28%60%3Cdiv%20id%3D%22html_0af5eb218f154c7e92dc81664522b62a%22%20style%3D%22width%3A%20100.0%25%3B%20height%3A%20100.0%25%3B%22%3E%EB%8F%99%EC%84%B1%EC%A4%91%ED%95%99%EA%B5%90%20%EC%95%9E%3C/div%3E%60%29%5B0%5D%3B%0A%20%20%20%20%20%20%20%20%20%20%20%20popup_48d6eec926b6435dbff9e0eb9b32315a.setContent%28html_0af5eb218f154c7e92dc81664522b62a%29%3B%0A%20%20%20%20%20%20%20%20%0A%0A%20%20%20%20%20%20%20%20circle_5c9e01109b5f4bb7b3fab77ad5592eb6.bindPopup%28popup_48d6eec926b6435dbff9e0eb9b32315a%29%0A%20%20%20%20%20%20%20%20%3B%0A%0A%20%20%20%20%20%20%20%20%0A%20%20%20%20%0A%20%20%20%20%0A%20%20%20%20%20%20%20%20%20%20%20%20var%20circle_35332f1ea7884aa2bff8fa4ae157ee72%20%3D%20L.circle%28%0A%20%20%20%20%20%20%20%20%20%20%20%20%20%20%20%20%5B37.590382%2C%20127.017136%5D%2C%0A%20%20%20%20%20%20%20%20%20%20%20%20%20%20%20%20%7B%22bubblingMouseEvents%22%3A%20true%2C%20%22color%22%3A%20%22red%22%2C%20%22dashArray%22%3A%20null%2C%20%22dashOffset%22%3A%20null%2C%20%22fill%22%3A%20true%2C%20%22fillColor%22%3A%20%22red%22%2C%20%22fillOpacity%22%3A%200.2%2C%20%22fillRule%22%3A%20%22evenodd%22%2C%20%22lineCap%22%3A%20%22round%22%2C%20%22lineJoin%22%3A%20%22round%22%2C%20%22opacity%22%3A%201.0%2C%20%22radius%22%3A%2050%2C%20%22stroke%22%3A%20true%2C%20%22weight%22%3A%203%7D%0A%20%20%20%20%20%20%20%20%20%20%20%20%29.addTo%28map_b1e785ed05c146838fe332d423737695%29%3B%0A%20%20%20%20%20%20%20%20%0A%20%20%20%20%0A%20%20%20%20%20%20%20%20var%20popup_529fc154c379430db66229dca6b7c3f9%20%3D%20L.popup%28%7B%22maxWidth%22%3A%20%22100%25%22%7D%29%3B%0A%0A%20%20%20%20%20%20%20%20%0A%20%20%20%20%20%20%20%20%20%20%20%20var%20html_aa65351daf4b42e08c71bac3d7a2565f%20%3D%20%24%28%60%3Cdiv%20id%3D%22html_aa65351daf4b42e08c71bac3d7a2565f%22%20style%3D%22width%3A%20100.0%25%3B%20height%3A%20100.0%25%3B%22%3E%EB%8F%88%EC%95%94%EC%84%B1%EB%8B%B9%20%EC%98%86%3C/div%3E%60%29%5B0%5D%3B%0A%20%20%20%20%20%20%20%20%20%20%20%20popup_529fc154c379430db66229dca6b7c3f9.setContent%28html_aa65351daf4b42e08c71bac3d7a2565f%29%3B%0A%20%20%20%20%20%20%20%20%0A%0A%20%20%20%20%20%20%20%20circle_35332f1ea7884aa2bff8fa4ae157ee72.bindPopup%28popup_529fc154c379430db66229dca6b7c3f9%29%0A%20%20%20%20%20%20%20%20%3B%0A%0A%20%20%20%20%20%20%20%20%0A%20%20%20%20%0A%20%20%20%20%0A%20%20%20%20%20%20%20%20%20%20%20%20var%20circle_205552e7f6a949a2af0181b0282bc322%20%3D%20L.circle%28%0A%20%20%20%20%20%20%20%20%20%20%20%20%20%20%20%20%5B37.569183%2C%20127.00988%5D%2C%0A%20%20%20%20%20%20%20%20%20%20%20%20%20%20%20%20%7B%22bubblingMouseEvents%22%3A%20true%2C%20%22color%22%3A%20%22red%22%2C%20%22dashArray%22%3A%20null%2C%20%22dashOffset%22%3A%20null%2C%20%22fill%22%3A%20true%2C%20%22fillColor%22%3A%20%22red%22%2C%20%22fillOpacity%22%3A%200.2%2C%20%22fillRule%22%3A%20%22evenodd%22%2C%20%22lineCap%22%3A%20%22round%22%2C%20%22lineJoin%22%3A%20%22round%22%2C%20%22opacity%22%3A%201.0%2C%20%22radius%22%3A%2050%2C%20%22stroke%22%3A%20true%2C%20%22weight%22%3A%203%7D%0A%20%20%20%20%20%20%20%20%20%20%20%20%29.addTo%28map_b1e785ed05c146838fe332d423737695%29%3B%0A%20%20%20%20%20%20%20%20%0A%20%20%20%20%0A%20%20%20%20%20%20%20%20var%20popup_1380e9ee5adc434d83b8e8f7cdbb8a8b%20%3D%20L.popup%28%7B%22maxWidth%22%3A%20%22100%25%22%7D%29%3B%0A%0A%20%20%20%20%20%20%20%20%0A%20%20%20%20%20%20%20%20%20%20%20%20var%20html_33ffb5500abf45fd96e3c14828fc2c67%20%3D%20%24%28%60%3Cdiv%20id%3D%22html_33ffb5500abf45fd96e3c14828fc2c67%22%20style%3D%22width%3A%20100.0%25%3B%20height%3A%20100.0%25%3B%22%3E%EB%A7%A5%EC%8A%A4%ED%83%80%EC%9D%BC%20%EC%95%9E%3C/div%3E%60%29%5B0%5D%3B%0A%20%20%20%20%20%20%20%20%20%20%20%20popup_1380e9ee5adc434d83b8e8f7cdbb8a8b.setContent%28html_33ffb5500abf45fd96e3c14828fc2c67%29%3B%0A%20%20%20%20%20%20%20%20%0A%0A%20%20%20%20%20%20%20%20circle_205552e7f6a949a2af0181b0282bc322.bindPopup%28popup_1380e9ee5adc434d83b8e8f7cdbb8a8b%29%0A%20%20%20%20%20%20%20%20%3B%0A%0A%20%20%20%20%20%20%20%20%0A%20%20%20%20%0A%20%20%20%20%0A%20%20%20%20%20%20%20%20%20%20%20%20var%20circle_bd0c2adf0e0f49aabe3701bd16d99585%20%3D%20L.circle%28%0A%20%20%20%20%20%20%20%20%20%20%20%20%20%20%20%20%5B37.579155%2C%20126.98896%5D%2C%0A%20%20%20%20%20%20%20%20%20%20%20%20%20%20%20%20%7B%22bubblingMouseEvents%22%3A%20true%2C%20%22color%22%3A%20%22red%22%2C%20%22dashArray%22%3A%20null%2C%20%22dashOffset%22%3A%20null%2C%20%22fill%22%3A%20true%2C%20%22fillColor%22%3A%20%22red%22%2C%20%22fillOpacity%22%3A%200.2%2C%20%22fillRule%22%3A%20%22evenodd%22%2C%20%22lineCap%22%3A%20%22round%22%2C%20%22lineJoin%22%3A%20%22round%22%2C%20%22opacity%22%3A%201.0%2C%20%22radius%22%3A%2050%2C%20%22stroke%22%3A%20true%2C%20%22weight%22%3A%203%7D%0A%20%20%20%20%20%20%20%20%20%20%20%20%29.addTo%28map_b1e785ed05c146838fe332d423737695%29%3B%0A%20%20%20%20%20%20%20%20%0A%20%20%20%20%0A%20%20%20%20%20%20%20%20var%20popup_5a72d7bb28b44d12ad6015b8ed7ad343%20%3D%20L.popup%28%7B%22maxWidth%22%3A%20%22100%25%22%7D%29%3B%0A%0A%20%20%20%20%20%20%20%20%0A%20%20%20%20%20%20%20%20%20%20%20%20var%20html_06c6df53ccc24680ad989492475314f3%20%3D%20%24%28%60%3Cdiv%20id%3D%22html_06c6df53ccc24680ad989492475314f3%22%20style%3D%22width%3A%20100.0%25%3B%20height%3A%20100.0%25%3B%22%3E%ED%8F%AC%EB%A5%B4%ED%88%AC%EA%B0%88%20%EB%8C%80%EC%82%AC%EA%B4%80%20%EC%95%9E%3C/div%3E%60%29%5B0%5D%3B%0A%20%20%20%20%20%20%20%20%20%20%20%20popup_5a72d7bb28b44d12ad6015b8ed7ad343.setContent%28html_06c6df53ccc24680ad989492475314f3%29%3B%0A%20%20%20%20%20%20%20%20%0A%0A%20%20%20%20%20%20%20%20circle_bd0c2adf0e0f49aabe3701bd16d99585.bindPopup%28popup_5a72d7bb28b44d12ad6015b8ed7ad343%29%0A%20%20%20%20%20%20%20%20%3B%0A%0A%20%20%20%20%20%20%20%20%0A%20%20%20%20%0A%20%20%20%20%0A%20%20%20%20%20%20%20%20%20%20%20%20var%20circle_52240129803b429c9fa11753016c4f14%20%3D%20L.circle%28%0A%20%20%20%20%20%20%20%20%20%20%20%20%20%20%20%20%5B37.570599%2C%20126.991791%5D%2C%0A%20%20%20%20%20%20%20%20%20%20%20%20%20%20%20%20%7B%22bubblingMouseEvents%22%3A%20true%2C%20%22color%22%3A%20%22red%22%2C%20%22dashArray%22%3A%20null%2C%20%22dashOffset%22%3A%20null%2C%20%22fill%22%3A%20true%2C%20%22fillColor%22%3A%20%22red%22%2C%20%22fillOpacity%22%3A%200.2%2C%20%22fillRule%22%3A%20%22evenodd%22%2C%20%22lineCap%22%3A%20%22round%22%2C%20%22lineJoin%22%3A%20%22round%22%2C%20%22opacity%22%3A%201.0%2C%20%22radius%22%3A%2050%2C%20%22stroke%22%3A%20true%2C%20%22weight%22%3A%203%7D%0A%20%20%20%20%20%20%20%20%20%20%20%20%29.addTo%28map_b1e785ed05c146838fe332d423737695%29%3B%0A%20%20%20%20%20%20%20%20%0A%20%20%20%20%0A%20%20%20%20%20%20%20%20var%20popup_62883f4c16804517a64d087e2b0f6c08%20%3D%20L.popup%28%7B%22maxWidth%22%3A%20%22100%25%22%7D%29%3B%0A%0A%20%20%20%20%20%20%20%20%0A%20%20%20%20%20%20%20%20%20%20%20%20var%20html_e0caba1a59954ec78145d10b08044570%20%3D%20%24%28%60%3Cdiv%20id%3D%22html_e0caba1a59954ec78145d10b08044570%22%20style%3D%22width%3A%20100.0%25%3B%20height%3A%20100.0%25%3B%22%3E%EC%A2%85%EB%A1%9C3%EA%B0%80%EC%97%AD%202%EB%B2%88%EC%B6%9C%EA%B5%AC%20%EB%92%A4%3C/div%3E%60%29%5B0%5D%3B%0A%20%20%20%20%20%20%20%20%20%20%20%20popup_62883f4c16804517a64d087e2b0f6c08.setContent%28html_e0caba1a59954ec78145d10b08044570%29%3B%0A%20%20%20%20%20%20%20%20%0A%0A%20%20%20%20%20%20%20%20circle_52240129803b429c9fa11753016c4f14.bindPopup%28popup_62883f4c16804517a64d087e2b0f6c08%29%0A%20%20%20%20%20%20%20%20%3B%0A%0A%20%20%20%20%20%20%20%20%0A%20%20%20%20%0A%20%20%20%20%0A%20%20%20%20%20%20%20%20%20%20%20%20var%20circle_afd2119e851641d7ab611465c9c07b1e%20%3D%20L.circle%28%0A%20%20%20%20%20%20%20%20%20%20%20%20%20%20%20%20%5B37.572224%2C%20127.022705%5D%2C%0A%20%20%20%20%20%20%20%20%20%20%20%20%20%20%20%20%7B%22bubblingMouseEvents%22%3A%20true%2C%20%22color%22%3A%20%22red%22%2C%20%22dashArray%22%3A%20null%2C%20%22dashOffset%22%3A%20null%2C%20%22fill%22%3A%20true%2C%20%22fillColor%22%3A%20%22red%22%2C%20%22fillOpacity%22%3A%200.2%2C%20%22fillRule%22%3A%20%22evenodd%22%2C%20%22lineCap%22%3A%20%22round%22%2C%20%22lineJoin%22%3A%20%22round%22%2C%20%22opacity%22%3A%201.0%2C%20%22radius%22%3A%2050%2C%20%22stroke%22%3A%20true%2C%20%22weight%22%3A%203%7D%0A%20%20%20%20%20%20%20%20%20%20%20%20%29.addTo%28map_b1e785ed05c146838fe332d423737695%29%3B%0A%20%20%20%20%20%20%20%20%0A%20%20%20%20%0A%20%20%20%20%20%20%20%20var%20popup_f8b75b503def474aaae3561f39fdfaeb%20%3D%20L.popup%28%7B%22maxWidth%22%3A%20%22100%25%22%7D%29%3B%0A%0A%20%20%20%20%20%20%20%20%0A%20%20%20%20%20%20%20%20%20%20%20%20var%20html_073fb35b499a4d3992b41e8781f7d858%20%3D%20%24%28%60%3Cdiv%20id%3D%22html_073fb35b499a4d3992b41e8781f7d858%22%20style%3D%22width%3A%20100.0%25%3B%20height%3A%20100.0%25%3B%22%3E%EC%B2%AD%EA%B3%848%EA%B0%80%20%EC%82%AC%EA%B1%B0%EB%A6%AC%3C/div%3E%60%29%5B0%5D%3B%0A%20%20%20%20%20%20%20%20%20%20%20%20popup_f8b75b503def474aaae3561f39fdfaeb.setContent%28html_073fb35b499a4d3992b41e8781f7d858%29%3B%0A%20%20%20%20%20%20%20%20%0A%0A%20%20%20%20%20%20%20%20circle_afd2119e851641d7ab611465c9c07b1e.bindPopup%28popup_f8b75b503def474aaae3561f39fdfaeb%29%0A%20%20%20%20%20%20%20%20%3B%0A%0A%20%20%20%20%20%20%20%20%0A%20%20%20%20%0A%20%20%20%20%0A%20%20%20%20%20%20%20%20%20%20%20%20var%20circle_b161126384054e1980e7ea5a120c0fa1%20%3D%20L.circle%28%0A%20%20%20%20%20%20%20%20%20%20%20%20%20%20%20%20%5B37.582592%2C%20127.028976%5D%2C%0A%20%20%20%20%20%20%20%20%20%20%20%20%20%20%20%20%7B%22bubblingMouseEvents%22%3A%20true%2C%20%22color%22%3A%20%22red%22%2C%20%22dashArray%22%3A%20null%2C%20%22dashOffset%22%3A%20null%2C%20%22fill%22%3A%20true%2C%20%22fillColor%22%3A%20%22red%22%2C%20%22fillOpacity%22%3A%200.2%2C%20%22fillRule%22%3A%20%22evenodd%22%2C%20%22lineCap%22%3A%20%22round%22%2C%20%22lineJoin%22%3A%20%22round%22%2C%20%22opacity%22%3A%201.0%2C%20%22radius%22%3A%2050%2C%20%22stroke%22%3A%20true%2C%20%22weight%22%3A%203%7D%0A%20%20%20%20%20%20%20%20%20%20%20%20%29.addTo%28map_b1e785ed05c146838fe332d423737695%29%3B%0A%20%20%20%20%20%20%20%20%0A%20%20%20%20%0A%20%20%20%20%20%20%20%20var%20popup_219aa0706a6640d8ae56275898f7b620%20%3D%20L.popup%28%7B%22maxWidth%22%3A%20%22100%25%22%7D%29%3B%0A%0A%20%20%20%20%20%20%20%20%0A%20%20%20%20%20%20%20%20%20%20%20%20var%20html_c6118cad3a3840119b0850aa9da68e61%20%3D%20%24%28%60%3Cdiv%20id%3D%22html_c6118cad3a3840119b0850aa9da68e61%22%20style%3D%22width%3A%20100.0%25%3B%20height%3A%20100.0%25%3B%22%3E%EC%95%88%EC%95%94%EB%A1%9C%ED%84%B0%EB%A6%AC%20%EB%B2%84%EC%8A%A4%EC%A0%95%EB%A5%98%EC%9E%A5%20%EC%95%9E%3C/div%3E%60%29%5B0%5D%3B%0A%20%20%20%20%20%20%20%20%20%20%20%20popup_219aa0706a6640d8ae56275898f7b620.setContent%28html_c6118cad3a3840119b0850aa9da68e61%29%3B%0A%20%20%20%20%20%20%20%20%0A%0A%20%20%20%20%20%20%20%20circle_b161126384054e1980e7ea5a120c0fa1.bindPopup%28popup_219aa0706a6640d8ae56275898f7b620%29%0A%20%20%20%20%20%20%20%20%3B%0A%0A%20%20%20%20%20%20%20%20%0A%20%20%20%20%0A%20%20%20%20%0A%20%20%20%20%20%20%20%20%20%20%20%20var%20circle_b6c24e47dbb34ec9ab6a135036ef21bd%20%3D%20L.circle%28%0A%20%20%20%20%20%20%20%20%20%20%20%20%20%20%20%20%5B37.583698%2C%20127.053856%5D%2C%0A%20%20%20%20%20%20%20%20%20%20%20%20%20%20%20%20%7B%22bubblingMouseEvents%22%3A%20true%2C%20%22color%22%3A%20%22red%22%2C%20%22dashArray%22%3A%20null%2C%20%22dashOffset%22%3A%20null%2C%20%22fill%22%3A%20true%2C%20%22fillColor%22%3A%20%22red%22%2C%20%22fillOpacity%22%3A%200.2%2C%20%22fillRule%22%3A%20%22evenodd%22%2C%20%22lineCap%22%3A%20%22round%22%2C%20%22lineJoin%22%3A%20%22round%22%2C%20%22opacity%22%3A%201.0%2C%20%22radius%22%3A%2050%2C%20%22stroke%22%3A%20true%2C%20%22weight%22%3A%203%7D%0A%20%20%20%20%20%20%20%20%20%20%20%20%29.addTo%28map_b1e785ed05c146838fe332d423737695%29%3B%0A%20%20%20%20%20%20%20%20%0A%20%20%20%20%0A%20%20%20%20%20%20%20%20var%20popup_efc0c9c1575c42cd968fc7b3731804ca%20%3D%20L.popup%28%7B%22maxWidth%22%3A%20%22100%25%22%7D%29%3B%0A%0A%20%20%20%20%20%20%20%20%0A%20%20%20%20%20%20%20%20%20%20%20%20var%20html_8912345a7cdd49669eba6e4e7a9bb49c%20%3D%20%24%28%60%3Cdiv%20id%3D%22html_8912345a7cdd49669eba6e4e7a9bb49c%22%20style%3D%22width%3A%20100.0%25%3B%20height%3A%20100.0%25%3B%22%3E%EC%84%9C%EC%9A%B8%EC%8B%9C%EB%A6%BD%EB%8C%80%20%EC%A0%95%EB%AC%B8%20%EC%95%9E%3C/div%3E%60%29%5B0%5D%3B%0A%20%20%20%20%20%20%20%20%20%20%20%20popup_efc0c9c1575c42cd968fc7b3731804ca.setContent%28html_8912345a7cdd49669eba6e4e7a9bb49c%29%3B%0A%20%20%20%20%20%20%20%20%0A%0A%20%20%20%20%20%20%20%20circle_b6c24e47dbb34ec9ab6a135036ef21bd.bindPopup%28popup_efc0c9c1575c42cd968fc7b3731804ca%29%0A%20%20%20%20%20%20%20%20%3B%0A%0A%20%20%20%20%20%20%20%20%0A%20%20%20%20%0A%20%20%20%20%0A%20%20%20%20%20%20%20%20%20%20%20%20var%20circle_6ac6790b386544e5884d103c3195de86%20%3D%20L.circle%28%0A%20%20%20%20%20%20%20%20%20%20%20%20%20%20%20%20%5B37.580406%2C%20127.044823%5D%2C%0A%20%20%20%20%20%20%20%20%20%20%20%20%20%20%20%20%7B%22bubblingMouseEvents%22%3A%20true%2C%20%22color%22%3A%20%22red%22%2C%20%22dashArray%22%3A%20null%2C%20%22dashOffset%22%3A%20null%2C%20%22fill%22%3A%20true%2C%20%22fillColor%22%3A%20%22red%22%2C%20%22fillOpacity%22%3A%200.2%2C%20%22fillRule%22%3A%20%22evenodd%22%2C%20%22lineCap%22%3A%20%22round%22%2C%20%22lineJoin%22%3A%20%22round%22%2C%20%22opacity%22%3A%201.0%2C%20%22radius%22%3A%2050%2C%20%22stroke%22%3A%20true%2C%20%22weight%22%3A%203%7D%0A%20%20%20%20%20%20%20%20%20%20%20%20%29.addTo%28map_b1e785ed05c146838fe332d423737695%29%3B%0A%20%20%20%20%20%20%20%20%0A%20%20%20%20%0A%20%20%20%20%20%20%20%20var%20popup_6bdeb41d89214f5495b2e175aab3d8fa%20%3D%20L.popup%28%7B%22maxWidth%22%3A%20%22100%25%22%7D%29%3B%0A%0A%20%20%20%20%20%20%20%20%0A%20%20%20%20%20%20%20%20%20%20%20%20var%20html_5c467973a9e84d2eb475a90f82b40989%20%3D%20%24%28%60%3Cdiv%20id%3D%22html_5c467973a9e84d2eb475a90f82b40989%22%20style%3D%22width%3A%20100.0%25%3B%20height%3A%20100.0%25%3B%22%3E%EC%B2%AD%EB%9F%89%EB%A6%AC%20%EA%B8%B0%EC%97%85%EC%9D%80%ED%96%89%20%EC%95%9E%3C/div%3E%60%29%5B0%5D%3B%0A%20%20%20%20%20%20%20%20%20%20%20%20popup_6bdeb41d89214f5495b2e175aab3d8fa.setContent%28html_5c467973a9e84d2eb475a90f82b40989%29%3B%0A%20%20%20%20%20%20%20%20%0A%0A%20%20%20%20%20%20%20%20circle_6ac6790b386544e5884d103c3195de86.bindPopup%28popup_6bdeb41d89214f5495b2e175aab3d8fa%29%0A%20%20%20%20%20%20%20%20%3B%0A%0A%20%20%20%20%20%20%20%20%0A%20%20%20%20%0A%20%20%20%20%0A%20%20%20%20%20%20%20%20%20%20%20%20var%20circle_c729da3d6fa1493696031ed718c751f6%20%3D%20L.circle%28%0A%20%20%20%20%20%20%20%20%20%20%20%20%20%20%20%20%5B37.562607%2C%20127.051308%5D%2C%0A%20%20%20%20%20%20%20%20%20%20%20%20%20%20%20%20%7B%22bubblingMouseEvents%22%3A%20true%2C%20%22color%22%3A%20%22red%22%2C%20%22dashArray%22%3A%20null%2C%20%22dashOffset%22%3A%20null%2C%20%22fill%22%3A%20true%2C%20%22fillColor%22%3A%20%22red%22%2C%20%22fillOpacity%22%3A%200.2%2C%20%22fillRule%22%3A%20%22evenodd%22%2C%20%22lineCap%22%3A%20%22round%22%2C%20%22lineJoin%22%3A%20%22round%22%2C%20%22opacity%22%3A%201.0%2C%20%22radius%22%3A%2050%2C%20%22stroke%22%3A%20true%2C%20%22weight%22%3A%203%7D%0A%20%20%20%20%20%20%20%20%20%20%20%20%29.addTo%28map_b1e785ed05c146838fe332d423737695%29%3B%0A%20%20%20%20%20%20%20%20%0A%20%20%20%20%0A%20%20%20%20%20%20%20%20var%20popup_0d301e7851cc43769ab3469a0e9d5a59%20%3D%20L.popup%28%7B%22maxWidth%22%3A%20%22100%25%22%7D%29%3B%0A%0A%20%20%20%20%20%20%20%20%0A%20%20%20%20%20%20%20%20%20%20%20%20var%20html_f64f2a1098f1493492f5dd046c5730ba%20%3D%20%24%28%60%3Cdiv%20id%3D%22html_f64f2a1098f1493492f5dd046c5730ba%22%20style%3D%22width%3A%20100.0%25%3B%20height%3A%20100.0%25%3B%22%3E%EC%9A%A9%EB%8B%B5%EC%97%AD%201%EB%B2%88%20%EC%B6%9C%EA%B5%AC%3C/div%3E%60%29%5B0%5D%3B%0A%20%20%20%20%20%20%20%20%20%20%20%20popup_0d301e7851cc43769ab3469a0e9d5a59.setContent%28html_f64f2a1098f1493492f5dd046c5730ba%29%3B%0A%20%20%20%20%20%20%20%20%0A%0A%20%20%20%20%20%20%20%20circle_c729da3d6fa1493696031ed718c751f6.bindPopup%28popup_0d301e7851cc43769ab3469a0e9d5a59%29%0A%20%20%20%20%20%20%20%20%3B%0A%0A%20%20%20%20%20%20%20%20%0A%20%20%20%20%0A%20%20%20%20%0A%20%20%20%20%20%20%20%20%20%20%20%20var%20circle_52ddb62bf3de4b8aab85fc524054e710%20%3D%20L.circle%28%0A%20%20%20%20%20%20%20%20%20%20%20%20%20%20%20%20%5B37.541363%2C%20127.01766200000002%5D%2C%0A%20%20%20%20%20%20%20%20%20%20%20%20%20%20%20%20%7B%22bubblingMouseEvents%22%3A%20true%2C%20%22color%22%3A%20%22red%22%2C%20%22dashArray%22%3A%20null%2C%20%22dashOffset%22%3A%20null%2C%20%22fill%22%3A%20true%2C%20%22fillColor%22%3A%20%22red%22%2C%20%22fillOpacity%22%3A%200.2%2C%20%22fillRule%22%3A%20%22evenodd%22%2C%20%22lineCap%22%3A%20%22round%22%2C%20%22lineJoin%22%3A%20%22round%22%2C%20%22opacity%22%3A%201.0%2C%20%22radius%22%3A%2050%2C%20%22stroke%22%3A%20true%2C%20%22weight%22%3A%203%7D%0A%20%20%20%20%20%20%20%20%20%20%20%20%29.addTo%28map_b1e785ed05c146838fe332d423737695%29%3B%0A%20%20%20%20%20%20%20%20%0A%20%20%20%20%0A%20%20%20%20%20%20%20%20var%20popup_abeb14eaafe84c7282a766a2bcaa6354%20%3D%20L.popup%28%7B%22maxWidth%22%3A%20%22100%25%22%7D%29%3B%0A%0A%20%20%20%20%20%20%20%20%0A%20%20%20%20%20%20%20%20%20%20%20%20var%20html_5f2f5a7b3adc41ab9b46948582d46041%20%3D%20%24%28%60%3Cdiv%20id%3D%22html_5f2f5a7b3adc41ab9b46948582d46041%22%20style%3D%22width%3A%20100.0%25%3B%20height%3A%20100.0%25%3B%22%3E%EC%98%A5%EC%88%98%EC%97%AD%203%EB%B2%88%EC%B6%9C%EA%B5%AC%3C/div%3E%60%29%5B0%5D%3B%0A%20%20%20%20%20%20%20%20%20%20%20%20popup_abeb14eaafe84c7282a766a2bcaa6354.setContent%28html_5f2f5a7b3adc41ab9b46948582d46041%29%3B%0A%20%20%20%20%20%20%20%20%0A%0A%20%20%20%20%20%20%20%20circle_52ddb62bf3de4b8aab85fc524054e710.bindPopup%28popup_abeb14eaafe84c7282a766a2bcaa6354%29%0A%20%20%20%20%20%20%20%20%3B%0A%0A%20%20%20%20%20%20%20%20%0A%20%20%20%20%0A%20%20%20%20%0A%20%20%20%20%20%20%20%20%20%20%20%20var%20circle_0b9a751cc1a948f890e4aca2f2a74cf6%20%3D%20L.circle%28%0A%20%20%20%20%20%20%20%20%20%20%20%20%20%20%20%20%5B37.56797%2C%20127.04689%5D%2C%0A%20%20%20%20%20%20%20%20%20%20%20%20%20%20%20%20%7B%22bubblingMouseEvents%22%3A%20true%2C%20%22color%22%3A%20%22red%22%2C%20%22dashArray%22%3A%20null%2C%20%22dashOffset%22%3A%20null%2C%20%22fill%22%3A%20true%2C%20%22fillColor%22%3A%20%22red%22%2C%20%22fillOpacity%22%3A%200.2%2C%20%22fillRule%22%3A%20%22evenodd%22%2C%20%22lineCap%22%3A%20%22round%22%2C%20%22lineJoin%22%3A%20%22round%22%2C%20%22opacity%22%3A%201.0%2C%20%22radius%22%3A%2050%2C%20%22stroke%22%3A%20true%2C%20%22weight%22%3A%203%7D%0A%20%20%20%20%20%20%20%20%20%20%20%20%29.addTo%28map_b1e785ed05c146838fe332d423737695%29%3B%0A%20%20%20%20%20%20%20%20%0A%20%20%20%20%0A%20%20%20%20%20%20%20%20var%20popup_689572c35718475393a6a2b0ddf5d305%20%3D%20L.popup%28%7B%22maxWidth%22%3A%20%22100%25%22%7D%29%3B%0A%0A%20%20%20%20%20%20%20%20%0A%20%20%20%20%20%20%20%20%20%20%20%20var%20html_47e6c29769e2431583694d1d29cd2aed%20%3D%20%24%28%60%3Cdiv%20id%3D%22html_47e6c29769e2431583694d1d29cd2aed%22%20style%3D%22width%3A%20100.0%25%3B%20height%3A%20100.0%25%3B%22%3E%EC%B2%AD%EA%B3%84%EC%B2%9C%20%EC%83%9D%ED%83%9C%EA%B5%90%EC%8B%A4%20%EC%95%9E%3C/div%3E%60%29%5B0%5D%3B%0A%20%20%20%20%20%20%20%20%20%20%20%20popup_689572c35718475393a6a2b0ddf5d305.setContent%28html_47e6c29769e2431583694d1d29cd2aed%29%3B%0A%20%20%20%20%20%20%20%20%0A%0A%20%20%20%20%20%20%20%20circle_0b9a751cc1a948f890e4aca2f2a74cf6.bindPopup%28popup_689572c35718475393a6a2b0ddf5d305%29%0A%20%20%20%20%20%20%20%20%3B%0A%0A%20%20%20%20%20%20%20%20%0A%20%20%20%20%0A%20%20%20%20%0A%20%20%20%20%20%20%20%20%20%20%20%20var%20circle_81ecb32ff439415b86b7c6e9f700e39f%20%3D%20L.circle%28%0A%20%20%20%20%20%20%20%20%20%20%20%20%20%20%20%20%5B37.52293%2C%20126.961693%5D%2C%0A%20%20%20%20%20%20%20%20%20%20%20%20%20%20%20%20%7B%22bubblingMouseEvents%22%3A%20true%2C%20%22color%22%3A%20%22red%22%2C%20%22dashArray%22%3A%20null%2C%20%22dashOffset%22%3A%20null%2C%20%22fill%22%3A%20true%2C%20%22fillColor%22%3A%20%22red%22%2C%20%22fillOpacity%22%3A%200.2%2C%20%22fillRule%22%3A%20%22evenodd%22%2C%20%22lineCap%22%3A%20%22round%22%2C%20%22lineJoin%22%3A%20%22round%22%2C%20%22opacity%22%3A%201.0%2C%20%22radius%22%3A%2050%2C%20%22stroke%22%3A%20true%2C%20%22weight%22%3A%203%7D%0A%20%20%20%20%20%20%20%20%20%20%20%20%29.addTo%28map_b1e785ed05c146838fe332d423737695%29%3B%0A%20%20%20%20%20%20%20%20%0A%20%20%20%20%0A%20%20%20%20%20%20%20%20var%20popup_60190d67886542ef950835257b7be0c8%20%3D%20L.popup%28%7B%22maxWidth%22%3A%20%22100%25%22%7D%29%3B%0A%0A%20%20%20%20%20%20%20%20%0A%20%20%20%20%20%20%20%20%20%20%20%20var%20html_7669fc86eb5d4fa6969dfacfd97aaff8%20%3D%20%24%28%60%3Cdiv%20id%3D%22html_7669fc86eb5d4fa6969dfacfd97aaff8%22%20style%3D%22width%3A%20100.0%25%3B%20height%3A%20100.0%25%3B%22%3E%EB%B2%A0%EB%A5%B4%EA%B0%80%EB%AA%A8%EC%95%9E%3C/div%3E%60%29%5B0%5D%3B%0A%20%20%20%20%20%20%20%20%20%20%20%20popup_60190d67886542ef950835257b7be0c8.setContent%28html_7669fc86eb5d4fa6969dfacfd97aaff8%29%3B%0A%20%20%20%20%20%20%20%20%0A%0A%20%20%20%20%20%20%20%20circle_81ecb32ff439415b86b7c6e9f700e39f.bindPopup%28popup_60190d67886542ef950835257b7be0c8%29%0A%20%20%20%20%20%20%20%20%3B%0A%0A%20%20%20%20%20%20%20%20%0A%20%20%20%20%0A%20%20%20%20%0A%20%20%20%20%20%20%20%20%20%20%20%20var%20circle_3cd8d2783f0e43d9b6b9b430e735d91e%20%3D%20L.circle%28%0A%20%20%20%20%20%20%20%20%20%20%20%20%20%20%20%20%5B37.548645%2C%20126.912827%5D%2C%0A%20%20%20%20%20%20%20%20%20%20%20%20%20%20%20%20%7B%22bubblingMouseEvents%22%3A%20true%2C%20%22color%22%3A%20%22red%22%2C%20%22dashArray%22%3A%20null%2C%20%22dashOffset%22%3A%20null%2C%20%22fill%22%3A%20true%2C%20%22fillColor%22%3A%20%22red%22%2C%20%22fillOpacity%22%3A%200.2%2C%20%22fillRule%22%3A%20%22evenodd%22%2C%20%22lineCap%22%3A%20%22round%22%2C%20%22lineJoin%22%3A%20%22round%22%2C%20%22opacity%22%3A%201.0%2C%20%22radius%22%3A%2050%2C%20%22stroke%22%3A%20true%2C%20%22weight%22%3A%203%7D%0A%20%20%20%20%20%20%20%20%20%20%20%20%29.addTo%28map_b1e785ed05c146838fe332d423737695%29%3B%0A%20%20%20%20%20%20%20%20%0A%20%20%20%20%0A%20%20%20%20%20%20%20%20var%20popup_ad8884c1971346a997a17d4bf3ec38a3%20%3D%20L.popup%28%7B%22maxWidth%22%3A%20%22100%25%22%7D%29%3B%0A%0A%20%20%20%20%20%20%20%20%0A%20%20%20%20%20%20%20%20%20%20%20%20var%20html_844c5de04e754e64ae86b13aa9306208%20%3D%20%24%28%60%3Cdiv%20id%3D%22html_844c5de04e754e64ae86b13aa9306208%22%20style%3D%22width%3A%20100.0%25%3B%20height%3A%20100.0%25%3B%22%3E%ED%95%A9%EC%A0%95%EC%97%AD%207%EB%B2%88%EC%B6%9C%EA%B5%AC%20%EC%95%9E%3C/div%3E%60%29%5B0%5D%3B%0A%20%20%20%20%20%20%20%20%20%20%20%20popup_ad8884c1971346a997a17d4bf3ec38a3.setContent%28html_844c5de04e754e64ae86b13aa9306208%29%3B%0A%20%20%20%20%20%20%20%20%0A%0A%20%20%20%20%20%20%20%20circle_3cd8d2783f0e43d9b6b9b430e735d91e.bindPopup%28popup_ad8884c1971346a997a17d4bf3ec38a3%29%0A%20%20%20%20%20%20%20%20%3B%0A%0A%20%20%20%20%20%20%20%20%0A%20%20%20%20%0A%20%20%20%20%0A%20%20%20%20%20%20%20%20%20%20%20%20var%20circle_d1c16db0d5244aab915217dccf10112e%20%3D%20L.circle%28%0A%20%20%20%20%20%20%20%20%20%20%20%20%20%20%20%20%5B37.549561%2C%20126.905754%5D%2C%0A%20%20%20%20%20%20%20%20%20%20%20%20%20%20%20%20%7B%22bubblingMouseEvents%22%3A%20true%2C%20%22color%22%3A%20%22red%22%2C%20%22dashArray%22%3A%20null%2C%20%22dashOffset%22%3A%20null%2C%20%22fill%22%3A%20true%2C%20%22fillColor%22%3A%20%22red%22%2C%20%22fillOpacity%22%3A%200.2%2C%20%22fillRule%22%3A%20%22evenodd%22%2C%20%22lineCap%22%3A%20%22round%22%2C%20%22lineJoin%22%3A%20%22round%22%2C%20%22opacity%22%3A%201.0%2C%20%22radius%22%3A%2050%2C%20%22stroke%22%3A%20true%2C%20%22weight%22%3A%203%7D%0A%20%20%20%20%20%20%20%20%20%20%20%20%29.addTo%28map_b1e785ed05c146838fe332d423737695%29%3B%0A%20%20%20%20%20%20%20%20%0A%20%20%20%20%0A%20%20%20%20%20%20%20%20var%20popup_672e8e22a9054291bf96488c9ac7c1a4%20%3D%20L.popup%28%7B%22maxWidth%22%3A%20%22100%25%22%7D%29%3B%0A%0A%20%20%20%20%20%20%20%20%0A%20%20%20%20%20%20%20%20%20%20%20%20var%20html_33e217ffa95846fcb872ca69fa9f7a88%20%3D%20%24%28%60%3Cdiv%20id%3D%22html_33e217ffa95846fcb872ca69fa9f7a88%22%20style%3D%22width%3A%20100.0%25%3B%20height%3A%20100.0%25%3B%22%3E%28%EA%B5%AC%29%ED%95%A9%EC%A0%95%EB%8F%99%20%EC%A3%BC%EB%AF%BC%EC%84%BC%ED%84%B0%3C/div%3E%60%29%5B0%5D%3B%0A%20%20%20%20%20%20%20%20%20%20%20%20popup_672e8e22a9054291bf96488c9ac7c1a4.setContent%28html_33e217ffa95846fcb872ca69fa9f7a88%29%3B%0A%20%20%20%20%20%20%20%20%0A%0A%20%20%20%20%20%20%20%20circle_d1c16db0d5244aab915217dccf10112e.bindPopup%28popup_672e8e22a9054291bf96488c9ac7c1a4%29%0A%20%20%20%20%20%20%20%20%3B%0A%0A%20%20%20%20%20%20%20%20%0A%20%20%20%20%0A%20%20%20%20%0A%20%20%20%20%20%20%20%20%20%20%20%20var%20circle_6d40f42d40e94bb4a18f91dcb0bd9ca3%20%3D%20L.circle%28%0A%20%20%20%20%20%20%20%20%20%20%20%20%20%20%20%20%5B37.55661%2C%20126.898018%5D%2C%0A%20%20%20%20%20%20%20%20%20%20%20%20%20%20%20%20%7B%22bubblingMouseEvents%22%3A%20true%2C%20%22color%22%3A%20%22red%22%2C%20%22dashArray%22%3A%20null%2C%20%22dashOffset%22%3A%20null%2C%20%22fill%22%3A%20true%2C%20%22fillColor%22%3A%20%22red%22%2C%20%22fillOpacity%22%3A%200.2%2C%20%22fillRule%22%3A%20%22evenodd%22%2C%20%22lineCap%22%3A%20%22round%22%2C%20%22lineJoin%22%3A%20%22round%22%2C%20%22opacity%22%3A%201.0%2C%20%22radius%22%3A%2050%2C%20%22stroke%22%3A%20true%2C%20%22weight%22%3A%203%7D%0A%20%20%20%20%20%20%20%20%20%20%20%20%29.addTo%28map_b1e785ed05c146838fe332d423737695%29%3B%0A%20%20%20%20%20%20%20%20%0A%20%20%20%20%0A%20%20%20%20%20%20%20%20var%20popup_20ff910598df40a0ba29d2116d785d15%20%3D%20L.popup%28%7B%22maxWidth%22%3A%20%22100%25%22%7D%29%3B%0A%0A%20%20%20%20%20%20%20%20%0A%20%20%20%20%20%20%20%20%20%20%20%20var%20html_cd605a40df664f73b8a9383a49d0dc5e%20%3D%20%24%28%60%3Cdiv%20id%3D%22html_cd605a40df664f73b8a9383a49d0dc5e%22%20style%3D%22width%3A%20100.0%25%3B%20height%3A%20100.0%25%3B%22%3E%EB%A7%88%ED%8F%AC%EA%B5%AC%EB%AF%BC%EC%B2%B4%EC%9C%A1%EC%84%BC%ED%84%B0%20%EC%95%9E%3C/div%3E%60%29%5B0%5D%3B%0A%20%20%20%20%20%20%20%20%20%20%20%20popup_20ff910598df40a0ba29d2116d785d15.setContent%28html_cd605a40df664f73b8a9383a49d0dc5e%29%3B%0A%20%20%20%20%20%20%20%20%0A%0A%20%20%20%20%20%20%20%20circle_6d40f42d40e94bb4a18f91dcb0bd9ca3.bindPopup%28popup_20ff910598df40a0ba29d2116d785d15%29%0A%20%20%20%20%20%20%20%20%3B%0A%0A%20%20%20%20%20%20%20%20%0A%20%20%20%20%0A%20%20%20%20%0A%20%20%20%20%20%20%20%20%20%20%20%20var%20circle_d0a7f8a2b5414df6b0e78fb31c6ca543%20%3D%20L.circle%28%0A%20%20%20%20%20%20%20%20%20%20%20%20%20%20%20%20%5B37.558933%2C%20126.927116%5D%2C%0A%20%20%20%20%20%20%20%20%20%20%20%20%20%20%20%20%7B%22bubblingMouseEvents%22%3A%20true%2C%20%22color%22%3A%20%22red%22%2C%20%22dashArray%22%3A%20null%2C%20%22dashOffset%22%3A%20null%2C%20%22fill%22%3A%20true%2C%20%22fillColor%22%3A%20%22red%22%2C%20%22fillOpacity%22%3A%200.2%2C%20%22fillRule%22%3A%20%22evenodd%22%2C%20%22lineCap%22%3A%20%22round%22%2C%20%22lineJoin%22%3A%20%22round%22%2C%20%22opacity%22%3A%201.0%2C%20%22radius%22%3A%2050%2C%20%22stroke%22%3A%20true%2C%20%22weight%22%3A%203%7D%0A%20%20%20%20%20%20%20%20%20%20%20%20%29.addTo%28map_b1e785ed05c146838fe332d423737695%29%3B%0A%20%20%20%20%20%20%20%20%0A%20%20%20%20%0A%20%20%20%20%20%20%20%20var%20popup_9566449e8e134cc0b8cad254278f76b6%20%3D%20L.popup%28%7B%22maxWidth%22%3A%20%22100%25%22%7D%29%3B%0A%0A%20%20%20%20%20%20%20%20%0A%20%20%20%20%20%20%20%20%20%20%20%20var%20html_a8e85725e2ed4e7e8c23ba64b05e9f38%20%3D%20%24%28%60%3Cdiv%20id%3D%22html_a8e85725e2ed4e7e8c23ba64b05e9f38%22%20style%3D%22width%3A%20100.0%25%3B%20height%3A%20100.0%25%3B%22%3E%EC%82%AC%EB%A3%A8%EB%B9%84%EC%95%84%20%EB%B9%8C%EB%94%A9%20%EC%95%9E%3C/div%3E%60%29%5B0%5D%3B%0A%20%20%20%20%20%20%20%20%20%20%20%20popup_9566449e8e134cc0b8cad254278f76b6.setContent%28html_a8e85725e2ed4e7e8c23ba64b05e9f38%29%3B%0A%20%20%20%20%20%20%20%20%0A%0A%20%20%20%20%20%20%20%20circle_d0a7f8a2b5414df6b0e78fb31c6ca543.bindPopup%28popup_9566449e8e134cc0b8cad254278f76b6%29%0A%20%20%20%20%20%20%20%20%3B%0A%0A%20%20%20%20%20%20%20%20%0A%20%20%20%20%0A%20%20%20%20%0A%20%20%20%20%20%20%20%20%20%20%20%20var%20circle_cb1e980075e64441a182467dab3af78d%20%3D%20L.circle%28%0A%20%20%20%20%20%20%20%20%20%20%20%20%20%20%20%20%5B37.546848%2C%20126.872772%5D%2C%0A%20%20%20%20%20%20%20%20%20%20%20%20%20%20%20%20%7B%22bubblingMouseEvents%22%3A%20true%2C%20%22color%22%3A%20%22red%22%2C%20%22dashArray%22%3A%20null%2C%20%22dashOffset%22%3A%20null%2C%20%22fill%22%3A%20true%2C%20%22fillColor%22%3A%20%22red%22%2C%20%22fillOpacity%22%3A%200.2%2C%20%22fillRule%22%3A%20%22evenodd%22%2C%20%22lineCap%22%3A%20%22round%22%2C%20%22lineJoin%22%3A%20%22round%22%2C%20%22opacity%22%3A%201.0%2C%20%22radius%22%3A%2050%2C%20%22stroke%22%3A%20true%2C%20%22weight%22%3A%203%7D%0A%20%20%20%20%20%20%20%20%20%20%20%20%29.addTo%28map_b1e785ed05c146838fe332d423737695%29%3B%0A%20%20%20%20%20%20%20%20%0A%20%20%20%20%0A%20%20%20%20%20%20%20%20var%20popup_8cfccf995aef43ed8fd2fca02d0dca46%20%3D%20L.popup%28%7B%22maxWidth%22%3A%20%22100%25%22%7D%29%3B%0A%0A%20%20%20%20%20%20%20%20%0A%20%20%20%20%20%20%20%20%20%20%20%20var%20html_cbceff9fe3f447aa86cae82114a17b49%20%3D%20%24%28%60%3Cdiv%20id%3D%22html_cbceff9fe3f447aa86cae82114a17b49%22%20style%3D%22width%3A%20100.0%25%3B%20height%3A%20100.0%25%3B%22%3EKB%EA%B5%AD%EB%AF%BC%EC%9D%80%ED%96%89%20%EC%97%BC%EC%B0%BD%EC%97%AD%20%EC%A7%80%EC%A0%90%20%EC%95%9E%3C/div%3E%60%29%5B0%5D%3B%0A%20%20%20%20%20%20%20%20%20%20%20%20popup_8cfccf995aef43ed8fd2fca02d0dca46.setContent%28html_cbceff9fe3f447aa86cae82114a17b49%29%3B%0A%20%20%20%20%20%20%20%20%0A%0A%20%20%20%20%20%20%20%20circle_cb1e980075e64441a182467dab3af78d.bindPopup%28popup_8cfccf995aef43ed8fd2fca02d0dca46%29%0A%20%20%20%20%20%20%20%20%3B%0A%0A%20%20%20%20%20%20%20%20%0A%20%20%20%20%0A%20%20%20%20%0A%20%20%20%20%20%20%20%20%20%20%20%20var%20circle_f2dbb2f5e9ea4fa589b01017cd0c5efa%20%3D%20L.circle%28%0A%20%20%20%20%20%20%20%20%20%20%20%20%20%20%20%20%5B37.539936%2C%20126.945824%5D%2C%0A%20%20%20%20%20%20%20%20%20%20%20%20%20%20%20%20%7B%22bubblingMouseEvents%22%3A%20true%2C%20%22color%22%3A%20%22red%22%2C%20%22dashArray%22%3A%20null%2C%20%22dashOffset%22%3A%20null%2C%20%22fill%22%3A%20true%2C%20%22fillColor%22%3A%20%22red%22%2C%20%22fillOpacity%22%3A%200.2%2C%20%22fillRule%22%3A%20%22evenodd%22%2C%20%22lineCap%22%3A%20%22round%22%2C%20%22lineJoin%22%3A%20%22round%22%2C%20%22opacity%22%3A%201.0%2C%20%22radius%22%3A%2050%2C%20%22stroke%22%3A%20true%2C%20%22weight%22%3A%203%7D%0A%20%20%20%20%20%20%20%20%20%20%20%20%29.addTo%28map_b1e785ed05c146838fe332d423737695%29%3B%0A%20%20%20%20%20%20%20%20%0A%20%20%20%20%0A%20%20%20%20%20%20%20%20var%20popup_b8f2e7c40b504deeb146021f7f350273%20%3D%20L.popup%28%7B%22maxWidth%22%3A%20%22100%25%22%7D%29%3B%0A%0A%20%20%20%20%20%20%20%20%0A%20%20%20%20%20%20%20%20%20%20%20%20var%20html_e390a5b6d938499e8a5612a49d41b74e%20%3D%20%24%28%60%3Cdiv%20id%3D%22html_e390a5b6d938499e8a5612a49d41b74e%22%20style%3D%22width%3A%20100.0%25%3B%20height%3A%20100.0%25%3B%22%3E%EB%A7%88%ED%8F%AC%EC%97%AD%201%EB%B2%88%EC%B6%9C%EA%B5%AC%20%EB%92%A4%3C/div%3E%60%29%5B0%5D%3B%0A%20%20%20%20%20%20%20%20%20%20%20%20popup_b8f2e7c40b504deeb146021f7f350273.setContent%28html_e390a5b6d938499e8a5612a49d41b74e%29%3B%0A%20%20%20%20%20%20%20%20%0A%0A%20%20%20%20%20%20%20%20circle_f2dbb2f5e9ea4fa589b01017cd0c5efa.bindPopup%28popup_b8f2e7c40b504deeb146021f7f350273%29%0A%20%20%20%20%20%20%20%20%3B%0A%0A%20%20%20%20%20%20%20%20%0A%20%20%20%20%0A%20%20%20%20%0A%20%20%20%20%20%20%20%20%20%20%20%20var%20circle_7b07a13b241c4bba9f0b5e649f02855a%20%3D%20L.circle%28%0A%20%20%20%20%20%20%20%20%20%20%20%20%20%20%20%20%5B37.554859%2C%20126.936157%5D%2C%0A%20%20%20%20%20%20%20%20%20%20%20%20%20%20%20%20%7B%22bubblingMouseEvents%22%3A%20true%2C%20%22color%22%3A%20%22red%22%2C%20%22dashArray%22%3A%20null%2C%20%22dashOffset%22%3A%20null%2C%20%22fill%22%3A%20true%2C%20%22fillColor%22%3A%20%22red%22%2C%20%22fillOpacity%22%3A%200.2%2C%20%22fillRule%22%3A%20%22evenodd%22%2C%20%22lineCap%22%3A%20%22round%22%2C%20%22lineJoin%22%3A%20%22round%22%2C%20%22opacity%22%3A%201.0%2C%20%22radius%22%3A%2050%2C%20%22stroke%22%3A%20true%2C%20%22weight%22%3A%203%7D%0A%20%20%20%20%20%20%20%20%20%20%20%20%29.addTo%28map_b1e785ed05c146838fe332d423737695%29%3B%0A%20%20%20%20%20%20%20%20%0A%20%20%20%20%0A%20%20%20%20%20%20%20%20var%20popup_c59bd52b34a2494a8f12305fd1824b4c%20%3D%20L.popup%28%7B%22maxWidth%22%3A%20%22100%25%22%7D%29%3B%0A%0A%20%20%20%20%20%20%20%20%0A%20%20%20%20%20%20%20%20%20%20%20%20var%20html_15bc6ee97bbd456a9d2b051d6a72af8e%20%3D%20%24%28%60%3Cdiv%20id%3D%22html_15bc6ee97bbd456a9d2b051d6a72af8e%22%20style%3D%22width%3A%20100.0%25%3B%20height%3A%20100.0%25%3B%22%3E%EC%8B%A0%EC%B4%8C%EC%97%AD%282%ED%98%B8%EC%84%A0%29%207%EB%B2%88%EC%B6%9C%EA%B5%AC%20%EC%95%9E%3C/div%3E%60%29%5B0%5D%3B%0A%20%20%20%20%20%20%20%20%20%20%20%20popup_c59bd52b34a2494a8f12305fd1824b4c.setContent%28html_15bc6ee97bbd456a9d2b051d6a72af8e%29%3B%0A%20%20%20%20%20%20%20%20%0A%0A%20%20%20%20%20%20%20%20circle_7b07a13b241c4bba9f0b5e649f02855a.bindPopup%28popup_c59bd52b34a2494a8f12305fd1824b4c%29%0A%20%20%20%20%20%20%20%20%3B%0A%0A%20%20%20%20%20%20%20%20%0A%20%20%20%20%0A%20%20%20%20%0A%20%20%20%20%20%20%20%20%20%20%20%20var%20circle_61fffbaff8f04173918f9736f62071b7%20%3D%20L.circle%28%0A%20%20%20%20%20%20%20%20%20%20%20%20%20%20%20%20%5B37.547733%2C%20126.931763%5D%2C%0A%20%20%20%20%20%20%20%20%20%20%20%20%20%20%20%20%7B%22bubblingMouseEvents%22%3A%20true%2C%20%22color%22%3A%20%22red%22%2C%20%22dashArray%22%3A%20null%2C%20%22dashOffset%22%3A%20null%2C%20%22fill%22%3A%20true%2C%20%22fillColor%22%3A%20%22red%22%2C%20%22fillOpacity%22%3A%200.2%2C%20%22fillRule%22%3A%20%22evenodd%22%2C%20%22lineCap%22%3A%20%22round%22%2C%20%22lineJoin%22%3A%20%22round%22%2C%20%22opacity%22%3A%201.0%2C%20%22radius%22%3A%2050%2C%20%22stroke%22%3A%20true%2C%20%22weight%22%3A%203%7D%0A%20%20%20%20%20%20%20%20%20%20%20%20%29.addTo%28map_b1e785ed05c146838fe332d423737695%29%3B%0A%20%20%20%20%20%20%20%20%0A%20%20%20%20%0A%20%20%20%20%20%20%20%20var%20popup_0d8df20358a34aa1b8b79747f236f1c4%20%3D%20L.popup%28%7B%22maxWidth%22%3A%20%22100%25%22%7D%29%3B%0A%0A%20%20%20%20%20%20%20%20%0A%20%20%20%20%20%20%20%20%20%20%20%20var%20html_7725d2ea77d44d2c9d99ee532599ae7f%20%3D%20%24%28%60%3Cdiv%20id%3D%22html_7725d2ea77d44d2c9d99ee532599ae7f%22%20style%3D%22width%3A%20100.0%25%3B%20height%3A%20100.0%25%3B%22%3E%EA%B4%91%ED%9D%A5%EC%B0%BD%EC%97%AD%202%EB%B2%88%EC%B6%9C%EA%B5%AC%20%EC%95%9E%3C/div%3E%60%29%5B0%5D%3B%0A%20%20%20%20%20%20%20%20%20%20%20%20popup_0d8df20358a34aa1b8b79747f236f1c4.setContent%28html_7725d2ea77d44d2c9d99ee532599ae7f%29%3B%0A%20%20%20%20%20%20%20%20%0A%0A%20%20%20%20%20%20%20%20circle_61fffbaff8f04173918f9736f62071b7.bindPopup%28popup_0d8df20358a34aa1b8b79747f236f1c4%29%0A%20%20%20%20%20%20%20%20%3B%0A%0A%20%20%20%20%20%20%20%20%0A%20%20%20%20%0A%20%20%20%20%0A%20%20%20%20%20%20%20%20%20%20%20%20var%20circle_26cfffd719f84e4d88e8807d66aa97b6%20%3D%20L.circle%28%0A%20%20%20%20%20%20%20%20%20%20%20%20%20%20%20%20%5B37.55114%2C%20126.93698899999998%5D%2C%0A%20%20%20%20%20%20%20%20%20%20%20%20%20%20%20%20%7B%22bubblingMouseEvents%22%3A%20true%2C%20%22color%22%3A%20%22red%22%2C%20%22dashArray%22%3A%20null%2C%20%22dashOffset%22%3A%20null%2C%20%22fill%22%3A%20true%2C%20%22fillColor%22%3A%20%22red%22%2C%20%22fillOpacity%22%3A%200.2%2C%20%22fillRule%22%3A%20%22evenodd%22%2C%20%22lineCap%22%3A%20%22round%22%2C%20%22lineJoin%22%3A%20%22round%22%2C%20%22opacity%22%3A%201.0%2C%20%22radius%22%3A%2050%2C%20%22stroke%22%3A%20true%2C%20%22weight%22%3A%203%7D%0A%20%20%20%20%20%20%20%20%20%20%20%20%29.addTo%28map_b1e785ed05c146838fe332d423737695%29%3B%0A%20%20%20%20%20%20%20%20%0A%20%20%20%20%0A%20%20%20%20%20%20%20%20var%20popup_31b5e89ab61443f29bc2ffbbb87c7f9b%20%3D%20L.popup%28%7B%22maxWidth%22%3A%20%22100%25%22%7D%29%3B%0A%0A%20%20%20%20%20%20%20%20%0A%20%20%20%20%20%20%20%20%20%20%20%20var%20html_6a84289a6a2d4ab69bd3641aa1978b93%20%3D%20%24%28%60%3Cdiv%20id%3D%22html_6a84289a6a2d4ab69bd3641aa1978b93%22%20style%3D%22width%3A%20100.0%25%3B%20height%3A%20100.0%25%3B%22%3E%EC%84%9C%EA%B0%95%EB%8C%80%20%EC%A0%95%EB%AC%B8%20%EA%B1%B4%EB%84%88%ED%8E%B8%3C/div%3E%60%29%5B0%5D%3B%0A%20%20%20%20%20%20%20%20%20%20%20%20popup_31b5e89ab61443f29bc2ffbbb87c7f9b.setContent%28html_6a84289a6a2d4ab69bd3641aa1978b93%29%3B%0A%20%20%20%20%20%20%20%20%0A%0A%20%20%20%20%20%20%20%20circle_26cfffd719f84e4d88e8807d66aa97b6.bindPopup%28popup_31b5e89ab61443f29bc2ffbbb87c7f9b%29%0A%20%20%20%20%20%20%20%20%3B%0A%0A%20%20%20%20%20%20%20%20%0A%20%20%20%20%0A%20%20%20%20%0A%20%20%20%20%20%20%20%20%20%20%20%20var%20circle_89860e15d0164e0bb90b9cf91c3e04d8%20%3D%20L.circle%28%0A%20%20%20%20%20%20%20%20%20%20%20%20%20%20%20%20%5B37.557396%2C%20126.952164%5D%2C%0A%20%20%20%20%20%20%20%20%20%20%20%20%20%20%20%20%7B%22bubblingMouseEvents%22%3A%20true%2C%20%22color%22%3A%20%22red%22%2C%20%22dashArray%22%3A%20null%2C%20%22dashOffset%22%3A%20null%2C%20%22fill%22%3A%20true%2C%20%22fillColor%22%3A%20%22red%22%2C%20%22fillOpacity%22%3A%200.2%2C%20%22fillRule%22%3A%20%22evenodd%22%2C%20%22lineCap%22%3A%20%22round%22%2C%20%22lineJoin%22%3A%20%22round%22%2C%20%22opacity%22%3A%201.0%2C%20%22radius%22%3A%2050%2C%20%22stroke%22%3A%20true%2C%20%22weight%22%3A%203%7D%0A%20%20%20%20%20%20%20%20%20%20%20%20%29.addTo%28map_b1e785ed05c146838fe332d423737695%29%3B%0A%20%20%20%20%20%20%20%20%0A%20%20%20%20%0A%20%20%20%20%20%20%20%20var%20popup_f7c0b293e8e74387b5a64a4db1bedc6e%20%3D%20L.popup%28%7B%22maxWidth%22%3A%20%22100%25%22%7D%29%3B%0A%0A%20%20%20%20%20%20%20%20%0A%20%20%20%20%20%20%20%20%20%20%20%20var%20html_31e5778d38ab4832a1b4df7ba55ffbdb%20%3D%20%24%28%60%3Cdiv%20id%3D%22html_31e5778d38ab4832a1b4df7ba55ffbdb%22%20style%3D%22width%3A%20100.0%25%3B%20height%3A%20100.0%25%3B%22%3E%EB%B6%81%EC%84%B1%EC%B4%88%EA%B5%90%3C/div%3E%60%29%5B0%5D%3B%0A%20%20%20%20%20%20%20%20%20%20%20%20popup_f7c0b293e8e74387b5a64a4db1bedc6e.setContent%28html_31e5778d38ab4832a1b4df7ba55ffbdb%29%3B%0A%20%20%20%20%20%20%20%20%0A%0A%20%20%20%20%20%20%20%20circle_89860e15d0164e0bb90b9cf91c3e04d8.bindPopup%28popup_f7c0b293e8e74387b5a64a4db1bedc6e%29%0A%20%20%20%20%20%20%20%20%3B%0A%0A%20%20%20%20%20%20%20%20%0A%20%20%20%20%0A%20%20%20%20%0A%20%20%20%20%20%20%20%20%20%20%20%20var%20circle_ec9db806d88c4a39a9be00b6b0d9e5f7%20%3D%20L.circle%28%0A%20%20%20%20%20%20%20%20%20%20%20%20%20%20%20%20%5B37.559967%2C%20126.962463%5D%2C%0A%20%20%20%20%20%20%20%20%20%20%20%20%20%20%20%20%7B%22bubblingMouseEvents%22%3A%20true%2C%20%22color%22%3A%20%22red%22%2C%20%22dashArray%22%3A%20null%2C%20%22dashOffset%22%3A%20null%2C%20%22fill%22%3A%20true%2C%20%22fillColor%22%3A%20%22red%22%2C%20%22fillOpacity%22%3A%200.2%2C%20%22fillRule%22%3A%20%22evenodd%22%2C%20%22lineCap%22%3A%20%22round%22%2C%20%22lineJoin%22%3A%20%22round%22%2C%20%22opacity%22%3A%201.0%2C%20%22radius%22%3A%2050%2C%20%22stroke%22%3A%20true%2C%20%22weight%22%3A%203%7D%0A%20%20%20%20%20%20%20%20%20%20%20%20%29.addTo%28map_b1e785ed05c146838fe332d423737695%29%3B%0A%20%20%20%20%20%20%20%20%0A%20%20%20%20%0A%20%20%20%20%20%20%20%20var%20popup_33403cbdce22479fbb73865d57d9a507%20%3D%20L.popup%28%7B%22maxWidth%22%3A%20%22100%25%22%7D%29%3B%0A%0A%20%20%20%20%20%20%20%20%0A%20%20%20%20%20%20%20%20%20%20%20%20var%20html_3bf58de8a9f040ca8b0c4e30a6c46535%20%3D%20%24%28%60%3Cdiv%20id%3D%22html_3bf58de8a9f040ca8b0c4e30a6c46535%22%20style%3D%22width%3A%20100.0%25%3B%20height%3A%20100.0%25%3B%22%3E%EC%B6%A9%EC%A0%95%EB%A1%9C%EC%97%AD%207%EB%B2%88%EC%B6%9C%EA%B5%AC%20%EB%92%A4%3C/div%3E%60%29%5B0%5D%3B%0A%20%20%20%20%20%20%20%20%20%20%20%20popup_33403cbdce22479fbb73865d57d9a507.setContent%28html_3bf58de8a9f040ca8b0c4e30a6c46535%29%3B%0A%20%20%20%20%20%20%20%20%0A%0A%20%20%20%20%20%20%20%20circle_ec9db806d88c4a39a9be00b6b0d9e5f7.bindPopup%28popup_33403cbdce22479fbb73865d57d9a507%29%0A%20%20%20%20%20%20%20%20%3B%0A%0A%20%20%20%20%20%20%20%20%0A%20%20%20%20%0A%20%20%20%20%0A%20%20%20%20%20%20%20%20%20%20%20%20var%20circle_2a2e17022787469492dfe954459e9225%20%3D%20L.circle%28%0A%20%20%20%20%20%20%20%20%20%20%20%20%20%20%20%20%5B37.569836%2C%20126.982658%5D%2C%0A%20%20%20%20%20%20%20%20%20%20%20%20%20%20%20%20%7B%22bubblingMouseEvents%22%3A%20true%2C%20%22color%22%3A%20%22red%22%2C%20%22dashArray%22%3A%20null%2C%20%22dashOffset%22%3A%20null%2C%20%22fill%22%3A%20true%2C%20%22fillColor%22%3A%20%22red%22%2C%20%22fillOpacity%22%3A%200.2%2C%20%22fillRule%22%3A%20%22evenodd%22%2C%20%22lineCap%22%3A%20%22round%22%2C%20%22lineJoin%22%3A%20%22round%22%2C%20%22opacity%22%3A%201.0%2C%20%22radius%22%3A%2050%2C%20%22stroke%22%3A%20true%2C%20%22weight%22%3A%203%7D%0A%20%20%20%20%20%20%20%20%20%20%20%20%29.addTo%28map_b1e785ed05c146838fe332d423737695%29%3B%0A%20%20%20%20%20%20%20%20%0A%20%20%20%20%0A%20%20%20%20%20%20%20%20var%20popup_b86fc3f6f5d142e8996f1c2105408e17%20%3D%20L.popup%28%7B%22maxWidth%22%3A%20%22100%25%22%7D%29%3B%0A%0A%20%20%20%20%20%20%20%20%0A%20%20%20%20%20%20%20%20%20%20%20%20var%20html_315e08c19b2c41eea79b1f9e260e2821%20%3D%20%24%28%60%3Cdiv%20id%3D%22html_315e08c19b2c41eea79b1f9e260e2821%22%20style%3D%22width%3A%20100.0%25%3B%20height%3A%20100.0%25%3B%22%3E%EC%A2%85%EA%B0%81%EC%97%AD%205%EB%B2%88%EC%B6%9C%EA%B5%AC%3C/div%3E%60%29%5B0%5D%3B%0A%20%20%20%20%20%20%20%20%20%20%20%20popup_b86fc3f6f5d142e8996f1c2105408e17.setContent%28html_315e08c19b2c41eea79b1f9e260e2821%29%3B%0A%20%20%20%20%20%20%20%20%0A%0A%20%20%20%20%20%20%20%20circle_2a2e17022787469492dfe954459e9225.bindPopup%28popup_b86fc3f6f5d142e8996f1c2105408e17%29%0A%20%20%20%20%20%20%20%20%3B%0A%0A%20%20%20%20%20%20%20%20%0A%20%20%20%20%0A%20%20%20%20%0A%20%20%20%20%20%20%20%20%20%20%20%20var%20circle_f0f3375b08034bef8099edab31b45014%20%3D%20L.circle%28%0A%20%20%20%20%20%20%20%20%20%20%20%20%20%20%20%20%5B37.570957%2C%20126.997124%5D%2C%0A%20%20%20%20%20%20%20%20%20%20%20%20%20%20%20%20%7B%22bubblingMouseEvents%22%3A%20true%2C%20%22color%22%3A%20%22red%22%2C%20%22dashArray%22%3A%20null%2C%20%22dashOffset%22%3A%20null%2C%20%22fill%22%3A%20true%2C%20%22fillColor%22%3A%20%22red%22%2C%20%22fillOpacity%22%3A%200.2%2C%20%22fillRule%22%3A%20%22evenodd%22%2C%20%22lineCap%22%3A%20%22round%22%2C%20%22lineJoin%22%3A%20%22round%22%2C%20%22opacity%22%3A%201.0%2C%20%22radius%22%3A%2050%2C%20%22stroke%22%3A%20true%2C%20%22weight%22%3A%203%7D%0A%20%20%20%20%20%20%20%20%20%20%20%20%29.addTo%28map_b1e785ed05c146838fe332d423737695%29%3B%0A%20%20%20%20%20%20%20%20%0A%20%20%20%20%0A%20%20%20%20%20%20%20%20var%20popup_32d7871e435d4d978b0889884fd6fae6%20%3D%20L.popup%28%7B%22maxWidth%22%3A%20%22100%25%22%7D%29%3B%0A%0A%20%20%20%20%20%20%20%20%0A%20%20%20%20%20%20%20%20%20%20%20%20var%20html_d87a7cc1c4eb4480a4720c805b830646%20%3D%20%24%28%60%3Cdiv%20id%3D%22html_d87a7cc1c4eb4480a4720c805b830646%22%20style%3D%22width%3A%20100.0%25%3B%20height%3A%20100.0%25%3B%22%3E%EC%84%B8%EC%9A%B4%EC%8A%A4%ED%80%98%EC%96%B4%20%EC%95%9E%3C/div%3E%60%29%5B0%5D%3B%0A%20%20%20%20%20%20%20%20%20%20%20%20popup_32d7871e435d4d978b0889884fd6fae6.setContent%28html_d87a7cc1c4eb4480a4720c805b830646%29%3B%0A%20%20%20%20%20%20%20%20%0A%0A%20%20%20%20%20%20%20%20circle_f0f3375b08034bef8099edab31b45014.bindPopup%28popup_32d7871e435d4d978b0889884fd6fae6%29%0A%20%20%20%20%20%20%20%20%3B%0A%0A%20%20%20%20%20%20%20%20%0A%20%20%20%20%0A%20%20%20%20%0A%20%20%20%20%20%20%20%20%20%20%20%20var%20circle_11f468a97fc54cc0bbcccd48e3f5e8f0%20%3D%20L.circle%28%0A%20%20%20%20%20%20%20%20%20%20%20%20%20%20%20%20%5B37.570141%2C%20127.009377%5D%2C%0A%20%20%20%20%20%20%20%20%20%20%20%20%20%20%20%20%7B%22bubblingMouseEvents%22%3A%20true%2C%20%22color%22%3A%20%22red%22%2C%20%22dashArray%22%3A%20null%2C%20%22dashOffset%22%3A%20null%2C%20%22fill%22%3A%20true%2C%20%22fillColor%22%3A%20%22red%22%2C%20%22fillOpacity%22%3A%200.2%2C%20%22fillRule%22%3A%20%22evenodd%22%2C%20%22lineCap%22%3A%20%22round%22%2C%20%22lineJoin%22%3A%20%22round%22%2C%20%22opacity%22%3A%201.0%2C%20%22radius%22%3A%2050%2C%20%22stroke%22%3A%20true%2C%20%22weight%22%3A%203%7D%0A%20%20%20%20%20%20%20%20%20%20%20%20%29.addTo%28map_b1e785ed05c146838fe332d423737695%29%3B%0A%20%20%20%20%20%20%20%20%0A%20%20%20%20%0A%20%20%20%20%20%20%20%20var%20popup_f5b5b7397eb64fb386dbed79eb75417a%20%3D%20L.popup%28%7B%22maxWidth%22%3A%20%22100%25%22%7D%29%3B%0A%0A%20%20%20%20%20%20%20%20%0A%20%20%20%20%20%20%20%20%20%20%20%20var%20html_21158b64acf04a968aeb1b7c89debda9%20%3D%20%24%28%60%3Cdiv%20id%3D%22html_21158b64acf04a968aeb1b7c89debda9%22%20style%3D%22width%3A%20100.0%25%3B%20height%3A%20100.0%25%3B%22%3E%EB%8F%99%EB%8C%80%EB%AC%B8%EC%97%AD%208%EB%B2%88%20%EC%B6%9C%EA%B5%AC%3C/div%3E%60%29%5B0%5D%3B%0A%20%20%20%20%20%20%20%20%20%20%20%20popup_f5b5b7397eb64fb386dbed79eb75417a.setContent%28html_21158b64acf04a968aeb1b7c89debda9%29%3B%0A%20%20%20%20%20%20%20%20%0A%0A%20%20%20%20%20%20%20%20circle_11f468a97fc54cc0bbcccd48e3f5e8f0.bindPopup%28popup_f5b5b7397eb64fb386dbed79eb75417a%29%0A%20%20%20%20%20%20%20%20%3B%0A%0A%20%20%20%20%20%20%20%20%0A%20%20%20%20%0A%20%20%20%20%0A%20%20%20%20%20%20%20%20%20%20%20%20var%20circle_c9f69fe5b9914d6abc75baf871b2cb3d%20%3D%20L.circle%28%0A%20%20%20%20%20%20%20%20%20%20%20%20%20%20%20%20%5B37.575272%2C%20127.023468%5D%2C%0A%20%20%20%20%20%20%20%20%20%20%20%20%20%20%20%20%7B%22bubblingMouseEvents%22%3A%20true%2C%20%22color%22%3A%20%22red%22%2C%20%22dashArray%22%3A%20null%2C%20%22dashOffset%22%3A%20null%2C%20%22fill%22%3A%20true%2C%20%22fillColor%22%3A%20%22red%22%2C%20%22fillOpacity%22%3A%200.2%2C%20%22fillRule%22%3A%20%22evenodd%22%2C%20%22lineCap%22%3A%20%22round%22%2C%20%22lineJoin%22%3A%20%22round%22%2C%20%22opacity%22%3A%201.0%2C%20%22radius%22%3A%2050%2C%20%22stroke%22%3A%20true%2C%20%22weight%22%3A%203%7D%0A%20%20%20%20%20%20%20%20%20%20%20%20%29.addTo%28map_b1e785ed05c146838fe332d423737695%29%3B%0A%20%20%20%20%20%20%20%20%0A%20%20%20%20%0A%20%20%20%20%20%20%20%20var%20popup_cf27e3c39236489b9a5be18b3d9f710b%20%3D%20L.popup%28%7B%22maxWidth%22%3A%20%22100%25%22%7D%29%3B%0A%0A%20%20%20%20%20%20%20%20%0A%20%20%20%20%20%20%20%20%20%20%20%20var%20html_c9a16769c2af4ca7ae2baa699e82893b%20%3D%20%24%28%60%3Cdiv%20id%3D%22html_c9a16769c2af4ca7ae2baa699e82893b%22%20style%3D%22width%3A%20100.0%25%3B%20height%3A%20100.0%25%3B%22%3E%EC%8B%A0%EC%84%A4%EB%8F%99%EC%97%AD%2010%EB%B2%88%EC%B6%9C%EA%B5%AC%20%EC%95%9E%3C/div%3E%60%29%5B0%5D%3B%0A%20%20%20%20%20%20%20%20%20%20%20%20popup_cf27e3c39236489b9a5be18b3d9f710b.setContent%28html_c9a16769c2af4ca7ae2baa699e82893b%29%3B%0A%20%20%20%20%20%20%20%20%0A%0A%20%20%20%20%20%20%20%20circle_c9f69fe5b9914d6abc75baf871b2cb3d.bindPopup%28popup_cf27e3c39236489b9a5be18b3d9f710b%29%0A%20%20%20%20%20%20%20%20%3B%0A%0A%20%20%20%20%20%20%20%20%0A%20%20%20%20%0A%20%20%20%20%0A%20%20%20%20%20%20%20%20%20%20%20%20var%20circle_b30b6301bc58463491a9dfdb27a77bbe%20%3D%20L.circle%28%0A%20%20%20%20%20%20%20%20%20%20%20%20%20%20%20%20%5B37.567642%2C%20127.025696%5D%2C%0A%20%20%20%20%20%20%20%20%20%20%20%20%20%20%20%20%7B%22bubblingMouseEvents%22%3A%20true%2C%20%22color%22%3A%20%22red%22%2C%20%22dashArray%22%3A%20null%2C%20%22dashOffset%22%3A%20null%2C%20%22fill%22%3A%20true%2C%20%22fillColor%22%3A%20%22red%22%2C%20%22fillOpacity%22%3A%200.2%2C%20%22fillRule%22%3A%20%22evenodd%22%2C%20%22lineCap%22%3A%20%22round%22%2C%20%22lineJoin%22%3A%20%22round%22%2C%20%22opacity%22%3A%201.0%2C%20%22radius%22%3A%2050%2C%20%22stroke%22%3A%20true%2C%20%22weight%22%3A%203%7D%0A%20%20%20%20%20%20%20%20%20%20%20%20%29.addTo%28map_b1e785ed05c146838fe332d423737695%29%3B%0A%20%20%20%20%20%20%20%20%0A%20%20%20%20%0A%20%20%20%20%20%20%20%20var%20popup_caf07ffb71b041e29b77fa1c56bc8bc2%20%3D%20L.popup%28%7B%22maxWidth%22%3A%20%22100%25%22%7D%29%3B%0A%0A%20%20%20%20%20%20%20%20%0A%20%20%20%20%20%20%20%20%20%20%20%20var%20html_6a2480bb0a23464aaae503243c028fd5%20%3D%20%24%28%60%3Cdiv%20id%3D%22html_6a2480bb0a23464aaae503243c028fd5%22%20style%3D%22width%3A%20100.0%25%3B%20height%3A%20100.0%25%3B%22%3E%EB%8F%84%EC%84%A0%EB%8F%99%20%EC%A3%BC%EB%AF%BC%EC%84%BC%ED%84%B0%20%EC%95%9E%3C/div%3E%60%29%5B0%5D%3B%0A%20%20%20%20%20%20%20%20%20%20%20%20popup_caf07ffb71b041e29b77fa1c56bc8bc2.setContent%28html_6a2480bb0a23464aaae503243c028fd5%29%3B%0A%20%20%20%20%20%20%20%20%0A%0A%20%20%20%20%20%20%20%20circle_b30b6301bc58463491a9dfdb27a77bbe.bindPopup%28popup_caf07ffb71b041e29b77fa1c56bc8bc2%29%0A%20%20%20%20%20%20%20%20%3B%0A%0A%20%20%20%20%20%20%20%20%0A%20%20%20%20%0A%20%20%20%20%0A%20%20%20%20%20%20%20%20%20%20%20%20var%20circle_64cc7f6e60e74a10bc8d8edc2227d13c%20%3D%20L.circle%28%0A%20%20%20%20%20%20%20%20%20%20%20%20%20%20%20%20%5B37.5742%2C%20127.026497%5D%2C%0A%20%20%20%20%20%20%20%20%20%20%20%20%20%20%20%20%7B%22bubblingMouseEvents%22%3A%20true%2C%20%22color%22%3A%20%22red%22%2C%20%22dashArray%22%3A%20null%2C%20%22dashOffset%22%3A%20null%2C%20%22fill%22%3A%20true%2C%20%22fillColor%22%3A%20%22red%22%2C%20%22fillOpacity%22%3A%200.2%2C%20%22fillRule%22%3A%20%22evenodd%22%2C%20%22lineCap%22%3A%20%22round%22%2C%20%22lineJoin%22%3A%20%22round%22%2C%20%22opacity%22%3A%201.0%2C%20%22radius%22%3A%2050%2C%20%22stroke%22%3A%20true%2C%20%22weight%22%3A%203%7D%0A%20%20%20%20%20%20%20%20%20%20%20%20%29.addTo%28map_b1e785ed05c146838fe332d423737695%29%3B%0A%20%20%20%20%20%20%20%20%0A%20%20%20%20%0A%20%20%20%20%20%20%20%20var%20popup_19d37163e1db4572a672cf8d8669745a%20%3D%20L.popup%28%7B%22maxWidth%22%3A%20%22100%25%22%7D%29%3B%0A%0A%20%20%20%20%20%20%20%20%0A%20%20%20%20%20%20%20%20%20%20%20%20var%20html_2aff3ed9cb1f4255abe2540afc4cd343%20%3D%20%24%28%60%3Cdiv%20id%3D%22html_2aff3ed9cb1f4255abe2540afc4cd343%22%20style%3D%22width%3A%20100.0%25%3B%20height%3A%20100.0%25%3B%22%3E%EC%8B%A0%EC%84%A4%EB%8F%99%EC%97%AD8%EB%B2%88%EC%B6%9C%EA%B5%AC%3C/div%3E%60%29%5B0%5D%3B%0A%20%20%20%20%20%20%20%20%20%20%20%20popup_19d37163e1db4572a672cf8d8669745a.setContent%28html_2aff3ed9cb1f4255abe2540afc4cd343%29%3B%0A%20%20%20%20%20%20%20%20%0A%0A%20%20%20%20%20%20%20%20circle_64cc7f6e60e74a10bc8d8edc2227d13c.bindPopup%28popup_19d37163e1db4572a672cf8d8669745a%29%0A%20%20%20%20%20%20%20%20%3B%0A%0A%20%20%20%20%20%20%20%20%0A%20%20%20%20%0A%20%20%20%20%0A%20%20%20%20%20%20%20%20%20%20%20%20var%20circle_cca99bf1b2e14213bbb61870c6f5a42b%20%3D%20L.circle%28%0A%20%20%20%20%20%20%20%20%20%20%20%20%20%20%20%20%5B37.537014%2C%20127.061096%5D%2C%0A%20%20%20%20%20%20%20%20%20%20%20%20%20%20%20%20%7B%22bubblingMouseEvents%22%3A%20true%2C%20%22color%22%3A%20%22red%22%2C%20%22dashArray%22%3A%20null%2C%20%22dashOffset%22%3A%20null%2C%20%22fill%22%3A%20true%2C%20%22fillColor%22%3A%20%22red%22%2C%20%22fillOpacity%22%3A%200.2%2C%20%22fillRule%22%3A%20%22evenodd%22%2C%20%22lineCap%22%3A%20%22round%22%2C%20%22lineJoin%22%3A%20%22round%22%2C%20%22opacity%22%3A%201.0%2C%20%22radius%22%3A%2050%2C%20%22stroke%22%3A%20true%2C%20%22weight%22%3A%203%7D%0A%20%20%20%20%20%20%20%20%20%20%20%20%29.addTo%28map_b1e785ed05c146838fe332d423737695%29%3B%0A%20%20%20%20%20%20%20%20%0A%20%20%20%20%0A%20%20%20%20%20%20%20%20var%20popup_1f4e282d2b75476983a63e37a7899e2a%20%3D%20L.popup%28%7B%22maxWidth%22%3A%20%22100%25%22%7D%29%3B%0A%0A%20%20%20%20%20%20%20%20%0A%20%20%20%20%20%20%20%20%20%20%20%20var%20html_252f8beeeae04960accbb3b31a85bd6b%20%3D%20%24%28%60%3Cdiv%20id%3D%22html_252f8beeeae04960accbb3b31a85bd6b%22%20style%3D%22width%3A%20100.0%25%3B%20height%3A%20100.0%25%3B%22%3E%EC%98%81%EB%8F%99%EB%8C%80%EA%B5%90%20%EB%B6%81%EB%8B%A8%3C/div%3E%60%29%5B0%5D%3B%0A%20%20%20%20%20%20%20%20%20%20%20%20popup_1f4e282d2b75476983a63e37a7899e2a.setContent%28html_252f8beeeae04960accbb3b31a85bd6b%29%3B%0A%20%20%20%20%20%20%20%20%0A%0A%20%20%20%20%20%20%20%20circle_cca99bf1b2e14213bbb61870c6f5a42b.bindPopup%28popup_1f4e282d2b75476983a63e37a7899e2a%29%0A%20%20%20%20%20%20%20%20%3B%0A%0A%20%20%20%20%20%20%20%20%0A%20%20%20%20%0A%20%20%20%20%0A%20%20%20%20%20%20%20%20%20%20%20%20var%20circle_ed8bc615c5884acd88f50924daa0286c%20%3D%20L.circle%28%0A%20%20%20%20%20%20%20%20%20%20%20%20%20%20%20%20%5B37.544159%2C%20127.056656%5D%2C%0A%20%20%20%20%20%20%20%20%20%20%20%20%20%20%20%20%7B%22bubblingMouseEvents%22%3A%20true%2C%20%22color%22%3A%20%22red%22%2C%20%22dashArray%22%3A%20null%2C%20%22dashOffset%22%3A%20null%2C%20%22fill%22%3A%20true%2C%20%22fillColor%22%3A%20%22red%22%2C%20%22fillOpacity%22%3A%200.2%2C%20%22fillRule%22%3A%20%22evenodd%22%2C%20%22lineCap%22%3A%20%22round%22%2C%20%22lineJoin%22%3A%20%22round%22%2C%20%22opacity%22%3A%201.0%2C%20%22radius%22%3A%2050%2C%20%22stroke%22%3A%20true%2C%20%22weight%22%3A%203%7D%0A%20%20%20%20%20%20%20%20%20%20%20%20%29.addTo%28map_b1e785ed05c146838fe332d423737695%29%3B%0A%20%20%20%20%20%20%20%20%0A%20%20%20%20%0A%20%20%20%20%20%20%20%20var%20popup_a06305e4cc4c4cb8a37cc906c63bd830%20%3D%20L.popup%28%7B%22maxWidth%22%3A%20%22100%25%22%7D%29%3B%0A%0A%20%20%20%20%20%20%20%20%0A%20%20%20%20%20%20%20%20%20%20%20%20var%20html_b4086790376343748cd7758c206f1414%20%3D%20%24%28%60%3Cdiv%20id%3D%22html_b4086790376343748cd7758c206f1414%22%20style%3D%22width%3A%20100.0%25%3B%20height%3A%20100.0%25%3B%22%3E%EC%84%B1%EC%88%98%EC%97%AD3%EB%B2%88%EC%B6%9C%EA%B5%AC%3C/div%3E%60%29%5B0%5D%3B%0A%20%20%20%20%20%20%20%20%20%20%20%20popup_a06305e4cc4c4cb8a37cc906c63bd830.setContent%28html_b4086790376343748cd7758c206f1414%29%3B%0A%20%20%20%20%20%20%20%20%0A%0A%20%20%20%20%20%20%20%20circle_ed8bc615c5884acd88f50924daa0286c.bindPopup%28popup_a06305e4cc4c4cb8a37cc906c63bd830%29%0A%20%20%20%20%20%20%20%20%3B%0A%0A%20%20%20%20%20%20%20%20%0A%20%20%20%20%0A%20%20%20%20%0A%20%20%20%20%20%20%20%20%20%20%20%20var%20circle_c05cbbab25a74d2eab613013b4a45bbc%20%3D%20L.circle%28%0A%20%20%20%20%20%20%20%20%20%20%20%20%20%20%20%20%5B37.536808%2C%20127.055489%5D%2C%0A%20%20%20%20%20%20%20%20%20%20%20%20%20%20%20%20%7B%22bubblingMouseEvents%22%3A%20true%2C%20%22color%22%3A%20%22red%22%2C%20%22dashArray%22%3A%20null%2C%20%22dashOffset%22%3A%20null%2C%20%22fill%22%3A%20true%2C%20%22fillColor%22%3A%20%22red%22%2C%20%22fillOpacity%22%3A%200.2%2C%20%22fillRule%22%3A%20%22evenodd%22%2C%20%22lineCap%22%3A%20%22round%22%2C%20%22lineJoin%22%3A%20%22round%22%2C%20%22opacity%22%3A%201.0%2C%20%22radius%22%3A%2050%2C%20%22stroke%22%3A%20true%2C%20%22weight%22%3A%203%7D%0A%20%20%20%20%20%20%20%20%20%20%20%20%29.addTo%28map_b1e785ed05c146838fe332d423737695%29%3B%0A%20%20%20%20%20%20%20%20%0A%20%20%20%20%0A%20%20%20%20%20%20%20%20var%20popup_9192310578734b05b06654136da211d7%20%3D%20L.popup%28%7B%22maxWidth%22%3A%20%22100%25%22%7D%29%3B%0A%0A%20%20%20%20%20%20%20%20%0A%20%20%20%20%20%20%20%20%20%20%20%20var%20html_afca3ad271754c5bb8450071c0e2ca97%20%3D%20%24%28%60%3Cdiv%20id%3D%22html_afca3ad271754c5bb8450071c0e2ca97%22%20style%3D%22width%3A%20100.0%25%3B%20height%3A%20100.0%25%3B%22%3E%EC%84%B1%EC%88%982%EA%B0%801%EB%8F%99%20%EA%B3%B5%EC%98%81%EC%A3%BC%EC%B0%A8%EC%9E%A5%20%EC%9D%B8%EA%B7%BC%3C/div%3E%60%29%5B0%5D%3B%0A%20%20%20%20%20%20%20%20%20%20%20%20popup_9192310578734b05b06654136da211d7.setContent%28html_afca3ad271754c5bb8450071c0e2ca97%29%3B%0A%20%20%20%20%20%20%20%20%0A%0A%20%20%20%20%20%20%20%20circle_c05cbbab25a74d2eab613013b4a45bbc.bindPopup%28popup_9192310578734b05b06654136da211d7%29%0A%20%20%20%20%20%20%20%20%3B%0A%0A%20%20%20%20%20%20%20%20%0A%20%20%20%20%0A%20%20%20%20%0A%20%20%20%20%20%20%20%20%20%20%20%20var%20circle_557e24cd9cec4ee999e6e8da1b292aff%20%3D%20L.circle%28%0A%20%20%20%20%20%20%20%20%20%20%20%20%20%20%20%20%5B37.547829%2C%20127.072632%5D%2C%0A%20%20%20%20%20%20%20%20%20%20%20%20%20%20%20%20%7B%22bubblingMouseEvents%22%3A%20true%2C%20%22color%22%3A%20%22red%22%2C%20%22dashArray%22%3A%20null%2C%20%22dashOffset%22%3A%20null%2C%20%22fill%22%3A%20true%2C%20%22fillColor%22%3A%20%22red%22%2C%20%22fillOpacity%22%3A%200.2%2C%20%22fillRule%22%3A%20%22evenodd%22%2C%20%22lineCap%22%3A%20%22round%22%2C%20%22lineJoin%22%3A%20%22round%22%2C%20%22opacity%22%3A%201.0%2C%20%22radius%22%3A%2050%2C%20%22stroke%22%3A%20true%2C%20%22weight%22%3A%203%7D%0A%20%20%20%20%20%20%20%20%20%20%20%20%29.addTo%28map_b1e785ed05c146838fe332d423737695%29%3B%0A%20%20%20%20%20%20%20%20%0A%20%20%20%20%0A%20%20%20%20%20%20%20%20var%20popup_097ac43c3b3e461cb1e5b77df900f951%20%3D%20L.popup%28%7B%22maxWidth%22%3A%20%22100%25%22%7D%29%3B%0A%0A%20%20%20%20%20%20%20%20%0A%20%20%20%20%20%20%20%20%20%20%20%20var%20html_18ab0c30689d4b9b8ea79c388204bcde%20%3D%20%24%28%60%3Cdiv%20id%3D%22html_18ab0c30689d4b9b8ea79c388204bcde%22%20style%3D%22width%3A%20100.0%25%3B%20height%3A%20100.0%25%3B%22%3E%EA%B4%91%EC%A7%84%EA%B4%91%EC%9E%A5%20%EA%B5%90%ED%86%B5%EC%84%AC%3C/div%3E%60%29%5B0%5D%3B%0A%20%20%20%20%20%20%20%20%20%20%20%20popup_097ac43c3b3e461cb1e5b77df900f951.setContent%28html_18ab0c30689d4b9b8ea79c388204bcde%29%3B%0A%20%20%20%20%20%20%20%20%0A%0A%20%20%20%20%20%20%20%20circle_557e24cd9cec4ee999e6e8da1b292aff.bindPopup%28popup_097ac43c3b3e461cb1e5b77df900f951%29%0A%20%20%20%20%20%20%20%20%3B%0A%0A%20%20%20%20%20%20%20%20%0A%20%20%20%20%0A%20%20%20%20%0A%20%20%20%20%20%20%20%20%20%20%20%20var%20circle_871be0ac4ba249bea134304dd44b5d1c%20%3D%20L.circle%28%0A%20%20%20%20%20%20%20%20%20%20%20%20%20%20%20%20%5B37.548405%2C%20127.069366%5D%2C%0A%20%20%20%20%20%20%20%20%20%20%20%20%20%20%20%20%7B%22bubblingMouseEvents%22%3A%20true%2C%20%22color%22%3A%20%22red%22%2C%20%22dashArray%22%3A%20null%2C%20%22dashOffset%22%3A%20null%2C%20%22fill%22%3A%20true%2C%20%22fillColor%22%3A%20%22red%22%2C%20%22fillOpacity%22%3A%200.2%2C%20%22fillRule%22%3A%20%22evenodd%22%2C%20%22lineCap%22%3A%20%22round%22%2C%20%22lineJoin%22%3A%20%22round%22%2C%20%22opacity%22%3A%201.0%2C%20%22radius%22%3A%2050%2C%20%22stroke%22%3A%20true%2C%20%22weight%22%3A%203%7D%0A%20%20%20%20%20%20%20%20%20%20%20%20%29.addTo%28map_b1e785ed05c146838fe332d423737695%29%3B%0A%20%20%20%20%20%20%20%20%0A%20%20%20%20%0A%20%20%20%20%20%20%20%20var%20popup_5f97b3a3d92f47859ee6dcc414427638%20%3D%20L.popup%28%7B%22maxWidth%22%3A%20%22100%25%22%7D%29%3B%0A%0A%20%20%20%20%20%20%20%20%0A%20%20%20%20%20%20%20%20%20%20%20%20var%20html_852e00bd6f4648d181c0c4941e3116c3%20%3D%20%24%28%60%3Cdiv%20id%3D%22html_852e00bd6f4648d181c0c4941e3116c3%22%20style%3D%22width%3A%20100.0%25%3B%20height%3A%20100.0%25%3B%22%3E%EA%B4%91%EC%A7%84%EB%A9%94%EB%94%94%EC%B9%BC%20%EC%95%9E%3C/div%3E%60%29%5B0%5D%3B%0A%20%20%20%20%20%20%20%20%20%20%20%20popup_5f97b3a3d92f47859ee6dcc414427638.setContent%28html_852e00bd6f4648d181c0c4941e3116c3%29%3B%0A%20%20%20%20%20%20%20%20%0A%0A%20%20%20%20%20%20%20%20circle_871be0ac4ba249bea134304dd44b5d1c.bindPopup%28popup_5f97b3a3d92f47859ee6dcc414427638%29%0A%20%20%20%20%20%20%20%20%3B%0A%0A%20%20%20%20%20%20%20%20%0A%20%20%20%20%0A%20%20%20%20%0A%20%20%20%20%20%20%20%20%20%20%20%20var%20circle_7502f12b085c42969c0c1ad07eed5e89%20%3D%20L.circle%28%0A%20%20%20%20%20%20%20%20%20%20%20%20%20%20%20%20%5B37.548496%2C%20127.07476%5D%2C%0A%20%20%20%20%20%20%20%20%20%20%20%20%20%20%20%20%7B%22bubblingMouseEvents%22%3A%20true%2C%20%22color%22%3A%20%22red%22%2C%20%22dashArray%22%3A%20null%2C%20%22dashOffset%22%3A%20null%2C%20%22fill%22%3A%20true%2C%20%22fillColor%22%3A%20%22red%22%2C%20%22fillOpacity%22%3A%200.2%2C%20%22fillRule%22%3A%20%22evenodd%22%2C%20%22lineCap%22%3A%20%22round%22%2C%20%22lineJoin%22%3A%20%22round%22%2C%20%22opacity%22%3A%201.0%2C%20%22radius%22%3A%2050%2C%20%22stroke%22%3A%20true%2C%20%22weight%22%3A%203%7D%0A%20%20%20%20%20%20%20%20%20%20%20%20%29.addTo%28map_b1e785ed05c146838fe332d423737695%29%3B%0A%20%20%20%20%20%20%20%20%0A%20%20%20%20%0A%20%20%20%20%20%20%20%20var%20popup_33b110114d8d4536bfae0fe43ce0bbb0%20%3D%20L.popup%28%7B%22maxWidth%22%3A%20%22100%25%22%7D%29%3B%0A%0A%20%20%20%20%20%20%20%20%0A%20%20%20%20%20%20%20%20%20%20%20%20var%20html_c779aed1781140fcaf893c399790bf66%20%3D%20%24%28%60%3Cdiv%20id%3D%22html_c779aed1781140fcaf893c399790bf66%22%20style%3D%22width%3A%20100.0%25%3B%20height%3A%20100.0%25%3B%22%3E%EC%96%B4%EB%A6%B0%EC%9D%B4%EB%8C%80%EA%B3%B5%EC%9B%90%EC%97%AD6%EB%B2%88%EC%B6%9C%EA%B5%AC%3C/div%3E%60%29%5B0%5D%3B%0A%20%20%20%20%20%20%20%20%20%20%20%20popup_33b110114d8d4536bfae0fe43ce0bbb0.setContent%28html_c779aed1781140fcaf893c399790bf66%29%3B%0A%20%20%20%20%20%20%20%20%0A%0A%20%20%20%20%20%20%20%20circle_7502f12b085c42969c0c1ad07eed5e89.bindPopup%28popup_33b110114d8d4536bfae0fe43ce0bbb0%29%0A%20%20%20%20%20%20%20%20%3B%0A%0A%20%20%20%20%20%20%20%20%0A%20%20%20%20%0A%20%20%20%20%0A%20%20%20%20%20%20%20%20%20%20%20%20var%20circle_2fdb8a8b46554dfd8e33586f5f301b82%20%3D%20L.circle%28%0A%20%20%20%20%20%20%20%20%20%20%20%20%20%20%20%20%5B37.58976%2C%20127.09323899999998%5D%2C%0A%20%20%20%20%20%20%20%20%20%20%20%20%20%20%20%20%7B%22bubblingMouseEvents%22%3A%20true%2C%20%22color%22%3A%20%22red%22%2C%20%22dashArray%22%3A%20null%2C%20%22dashOffset%22%3A%20null%2C%20%22fill%22%3A%20true%2C%20%22fillColor%22%3A%20%22red%22%2C%20%22fillOpacity%22%3A%200.2%2C%20%22fillRule%22%3A%20%22evenodd%22%2C%20%22lineCap%22%3A%20%22round%22%2C%20%22lineJoin%22%3A%20%22round%22%2C%20%22opacity%22%3A%201.0%2C%20%22radius%22%3A%2050%2C%20%22stroke%22%3A%20true%2C%20%22weight%22%3A%203%7D%0A%20%20%20%20%20%20%20%20%20%20%20%20%29.addTo%28map_b1e785ed05c146838fe332d423737695%29%3B%0A%20%20%20%20%20%20%20%20%0A%20%20%20%20%0A%20%20%20%20%20%20%20%20var%20popup_9880239595024c5db3192224547acbd0%20%3D%20L.popup%28%7B%22maxWidth%22%3A%20%22100%25%22%7D%29%3B%0A%0A%20%20%20%20%20%20%20%20%0A%20%20%20%20%20%20%20%20%20%20%20%20var%20html_93f0e7e336ca40558f7cc1abb27ef2f0%20%3D%20%24%28%60%3Cdiv%20id%3D%22html_93f0e7e336ca40558f7cc1abb27ef2f0%22%20style%3D%22width%3A%20100.0%25%3B%20height%3A%20100.0%25%3B%22%3E%EB%8F%99%EC%9B%90%EC%82%AC%EA%B1%B0%EB%A6%AC%3C/div%3E%60%29%5B0%5D%3B%0A%20%20%20%20%20%20%20%20%20%20%20%20popup_9880239595024c5db3192224547acbd0.setContent%28html_93f0e7e336ca40558f7cc1abb27ef2f0%29%3B%0A%20%20%20%20%20%20%20%20%0A%0A%20%20%20%20%20%20%20%20circle_2fdb8a8b46554dfd8e33586f5f301b82.bindPopup%28popup_9880239595024c5db3192224547acbd0%29%0A%20%20%20%20%20%20%20%20%3B%0A%0A%20%20%20%20%20%20%20%20%0A%20%20%20%20%0A%20%20%20%20%0A%20%20%20%20%20%20%20%20%20%20%20%20var%20circle_46ade9e2667c41b7a72eee3bd5c6843b%20%3D%20L.circle%28%0A%20%20%20%20%20%20%20%20%20%20%20%20%20%20%20%20%5B37.553417%2C%20127.073196%5D%2C%0A%20%20%20%20%20%20%20%20%20%20%20%20%20%20%20%20%7B%22bubblingMouseEvents%22%3A%20true%2C%20%22color%22%3A%20%22red%22%2C%20%22dashArray%22%3A%20null%2C%20%22dashOffset%22%3A%20null%2C%20%22fill%22%3A%20true%2C%20%22fillColor%22%3A%20%22red%22%2C%20%22fillOpacity%22%3A%200.2%2C%20%22fillRule%22%3A%20%22evenodd%22%2C%20%22lineCap%22%3A%20%22round%22%2C%20%22lineJoin%22%3A%20%22round%22%2C%20%22opacity%22%3A%201.0%2C%20%22radius%22%3A%2050%2C%20%22stroke%22%3A%20true%2C%20%22weight%22%3A%203%7D%0A%20%20%20%20%20%20%20%20%20%20%20%20%29.addTo%28map_b1e785ed05c146838fe332d423737695%29%3B%0A%20%20%20%20%20%20%20%20%0A%20%20%20%20%0A%20%20%20%20%20%20%20%20var%20popup_b0815670b8004399be0e3a6559e2bae9%20%3D%20L.popup%28%7B%22maxWidth%22%3A%20%22100%25%22%7D%29%3B%0A%0A%20%20%20%20%20%20%20%20%0A%20%20%20%20%20%20%20%20%20%20%20%20var%20html_ad9bee4a5f18496c8ce31173e1648706%20%3D%20%24%28%60%3Cdiv%20id%3D%22html_ad9bee4a5f18496c8ce31173e1648706%22%20style%3D%22width%3A%20100.0%25%3B%20height%3A%20100.0%25%3B%22%3E%EC%84%B8%EC%A2%85%EC%82%AC%EC%9D%B4%EB%B2%84%EB%8C%80%ED%95%99%EA%B5%90%3C/div%3E%60%29%5B0%5D%3B%0A%20%20%20%20%20%20%20%20%20%20%20%20popup_b0815670b8004399be0e3a6559e2bae9.setContent%28html_ad9bee4a5f18496c8ce31173e1648706%29%3B%0A%20%20%20%20%20%20%20%20%0A%0A%20%20%20%20%20%20%20%20circle_46ade9e2667c41b7a72eee3bd5c6843b.bindPopup%28popup_b0815670b8004399be0e3a6559e2bae9%29%0A%20%20%20%20%20%20%20%20%3B%0A%0A%20%20%20%20%20%20%20%20%0A%20%20%20%20%0A%20%20%20%20%0A%20%20%20%20%20%20%20%20%20%20%20%20var%20circle_033c114970ea46d6a6315cd8c658c903%20%3D%20L.circle%28%0A%20%20%20%20%20%20%20%20%20%20%20%20%20%20%20%20%5B37.559246%2C%20127.07341%5D%2C%0A%20%20%20%20%20%20%20%20%20%20%20%20%20%20%20%20%7B%22bubblingMouseEvents%22%3A%20true%2C%20%22color%22%3A%20%22red%22%2C%20%22dashArray%22%3A%20null%2C%20%22dashOffset%22%3A%20null%2C%20%22fill%22%3A%20true%2C%20%22fillColor%22%3A%20%22red%22%2C%20%22fillOpacity%22%3A%200.2%2C%20%22fillRule%22%3A%20%22evenodd%22%2C%20%22lineCap%22%3A%20%22round%22%2C%20%22lineJoin%22%3A%20%22round%22%2C%20%22opacity%22%3A%201.0%2C%20%22radius%22%3A%2050%2C%20%22stroke%22%3A%20true%2C%20%22weight%22%3A%203%7D%0A%20%20%20%20%20%20%20%20%20%20%20%20%29.addTo%28map_b1e785ed05c146838fe332d423737695%29%3B%0A%20%20%20%20%20%20%20%20%0A%20%20%20%20%0A%20%20%20%20%20%20%20%20var%20popup_451129205ef947d885087f06500a850a%20%3D%20L.popup%28%7B%22maxWidth%22%3A%20%22100%25%22%7D%29%3B%0A%0A%20%20%20%20%20%20%20%20%0A%20%20%20%20%20%20%20%20%20%20%20%20var%20html_2f8e511dee3a4b2aaaad489554177fc3%20%3D%20%24%28%60%3Cdiv%20id%3D%22html_2f8e511dee3a4b2aaaad489554177fc3%22%20style%3D%22width%3A%20100.0%25%3B%20height%3A%20100.0%25%3B%22%3E%EA%B5%B0%EC%9E%90%EC%A7%80%ED%95%98%EB%B3%B4%EB%8F%84%20%EC%95%9E%3C/div%3E%60%29%5B0%5D%3B%0A%20%20%20%20%20%20%20%20%20%20%20%20popup_451129205ef947d885087f06500a850a.setContent%28html_2f8e511dee3a4b2aaaad489554177fc3%29%3B%0A%20%20%20%20%20%20%20%20%0A%0A%20%20%20%20%20%20%20%20circle_033c114970ea46d6a6315cd8c658c903.bindPopup%28popup_451129205ef947d885087f06500a850a%29%0A%20%20%20%20%20%20%20%20%3B%0A%0A%20%20%20%20%20%20%20%20%0A%20%20%20%20%0A%20%20%20%20%0A%20%20%20%20%20%20%20%20%20%20%20%20var%20circle_505783f40f8f412cb2cd6e3efdc985a9%20%3D%20L.circle%28%0A%20%20%20%20%20%20%20%20%20%20%20%20%20%20%20%20%5B37.545166%2C%20127.05751%5D%2C%0A%20%20%20%20%20%20%20%20%20%20%20%20%20%20%20%20%7B%22bubblingMouseEvents%22%3A%20true%2C%20%22color%22%3A%20%22red%22%2C%20%22dashArray%22%3A%20null%2C%20%22dashOffset%22%3A%20null%2C%20%22fill%22%3A%20true%2C%20%22fillColor%22%3A%20%22red%22%2C%20%22fillOpacity%22%3A%200.2%2C%20%22fillRule%22%3A%20%22evenodd%22%2C%20%22lineCap%22%3A%20%22round%22%2C%20%22lineJoin%22%3A%20%22round%22%2C%20%22opacity%22%3A%201.0%2C%20%22radius%22%3A%2050%2C%20%22stroke%22%3A%20true%2C%20%22weight%22%3A%203%7D%0A%20%20%20%20%20%20%20%20%20%20%20%20%29.addTo%28map_b1e785ed05c146838fe332d423737695%29%3B%0A%20%20%20%20%20%20%20%20%0A%20%20%20%20%0A%20%20%20%20%20%20%20%20var%20popup_f3493912eaf64201a8dbb0ed848e0d40%20%3D%20L.popup%28%7B%22maxWidth%22%3A%20%22100%25%22%7D%29%3B%0A%0A%20%20%20%20%20%20%20%20%0A%20%20%20%20%20%20%20%20%20%20%20%20var%20html_7da62fde244741f1b63b9986a4d6ce86%20%3D%20%24%28%60%3Cdiv%20id%3D%22html_7da62fde244741f1b63b9986a4d6ce86%22%20style%3D%22width%3A%20100.0%25%3B%20height%3A%20100.0%25%3B%22%3E%EC%84%B1%EC%88%98%EC%95%84%EC%B9%B4%EB%8D%B0%EB%AF%B8%ED%83%80%EC%9B%8C%20%EC%95%9E%3C/div%3E%60%29%5B0%5D%3B%0A%20%20%20%20%20%20%20%20%20%20%20%20popup_f3493912eaf64201a8dbb0ed848e0d40.setContent%28html_7da62fde244741f1b63b9986a4d6ce86%29%3B%0A%20%20%20%20%20%20%20%20%0A%0A%20%20%20%20%20%20%20%20circle_505783f40f8f412cb2cd6e3efdc985a9.bindPopup%28popup_f3493912eaf64201a8dbb0ed848e0d40%29%0A%20%20%20%20%20%20%20%20%3B%0A%0A%20%20%20%20%20%20%20%20%0A%20%20%20%20%0A%20%20%20%20%0A%20%20%20%20%20%20%20%20%20%20%20%20var%20circle_da076a65ce594cbe811a3a8dfab9aa6d%20%3D%20L.circle%28%0A%20%20%20%20%20%20%20%20%20%20%20%20%20%20%20%20%5B37.579868%2C%20127.082367%5D%2C%0A%20%20%20%20%20%20%20%20%20%20%20%20%20%20%20%20%7B%22bubblingMouseEvents%22%3A%20true%2C%20%22color%22%3A%20%22red%22%2C%20%22dashArray%22%3A%20null%2C%20%22dashOffset%22%3A%20null%2C%20%22fill%22%3A%20true%2C%20%22fillColor%22%3A%20%22red%22%2C%20%22fillOpacity%22%3A%200.2%2C%20%22fillRule%22%3A%20%22evenodd%22%2C%20%22lineCap%22%3A%20%22round%22%2C%20%22lineJoin%22%3A%20%22round%22%2C%20%22opacity%22%3A%201.0%2C%20%22radius%22%3A%2050%2C%20%22stroke%22%3A%20true%2C%20%22weight%22%3A%203%7D%0A%20%20%20%20%20%20%20%20%20%20%20%20%29.addTo%28map_b1e785ed05c146838fe332d423737695%29%3B%0A%20%20%20%20%20%20%20%20%0A%20%20%20%20%0A%20%20%20%20%20%20%20%20var%20popup_11989f51b7654e9db7dde56b8c9f1e48%20%3D%20L.popup%28%7B%22maxWidth%22%3A%20%22100%25%22%7D%29%3B%0A%0A%20%20%20%20%20%20%20%20%0A%20%20%20%20%20%20%20%20%20%20%20%20var%20html_f5bc89916d32460f8ca6463c70108c82%20%3D%20%24%28%60%3Cdiv%20id%3D%22html_f5bc89916d32460f8ca6463c70108c82%22%20style%3D%22width%3A%20100.0%25%3B%20height%3A%20100.0%25%3B%22%3E%ED%99%88%ED%94%8C%EB%9F%AC%EC%8A%A4%20%EB%A9%B4%EB%AA%A9%EB%8F%99%EC%A0%90%3C/div%3E%60%29%5B0%5D%3B%0A%20%20%20%20%20%20%20%20%20%20%20%20popup_11989f51b7654e9db7dde56b8c9f1e48.setContent%28html_f5bc89916d32460f8ca6463c70108c82%29%3B%0A%20%20%20%20%20%20%20%20%0A%0A%20%20%20%20%20%20%20%20circle_da076a65ce594cbe811a3a8dfab9aa6d.bindPopup%28popup_11989f51b7654e9db7dde56b8c9f1e48%29%0A%20%20%20%20%20%20%20%20%3B%0A%0A%20%20%20%20%20%20%20%20%0A%20%20%20%20%0A%3C/script%3E onload=\"this.contentDocument.open();this.contentDocument.write(    decodeURIComponent(this.getAttribute('data-html')));this.contentDocument.close();\" allowfullscreen webkitallowfullscreen mozallowfullscreen></iframe></div></div>"
      ],
      "text/plain": [
       "<folium.folium.Map at 0x20ad54e1100>"
      ]
     },
     "execution_count": 91,
     "metadata": {},
     "output_type": "execute_result"
    }
   ],
   "source": [
    "# 지도 표현을 위해 folium 을 import 한다.\n",
    "# 데이터 프레임에서 위도와 경도의 평균값을 구한다. 이 값으로 지도의 중심이 될 좌표를 정한다.\n",
    "# zoom_start는 지도를 얼마나 확대해서 볼것인지다.\n",
    "# tiles는 지도의 스타일이다.\n",
    "import folium \n",
    "\n",
    "geo_df = bike_move_df\n",
    "map = folium.Map(location=[geo_df['위도'].mean(), geo_df['경도'].mean()], zoom_start=12, tiles='Stamen Toner')\n",
    "\n",
    "for n in geo_df.index:\n",
    "    if geo_df.loc[n, '위도'] > 0 and geo_df.loc[n, '경도'] > 0 :\n",
    "        loc_name = geo_df.loc[n, '대여소']\n",
    "\n",
    "        icon_color = 'red'\n",
    "        folium.Circle(\n",
    "            location=[geo_df.loc[n, '위도'], geo_df.loc[n, '경도']],\n",
    "            popup=loc_name,\n",
    "            radius=50,\n",
    "            color=icon_color,\n",
    "            fill=True,\n",
    "            fill_color=icon_color\n",
    "        ).add_to(map)\n",
    "    \n",
    "map"
   ]
  },
  {
   "cell_type": "code",
   "execution_count": null,
   "metadata": {},
   "outputs": [],
   "source": []
  }
 ],
 "metadata": {
  "kernelspec": {
   "display_name": "Python 3",
   "language": "python",
   "name": "python3"
  },
  "language_info": {
   "codemirror_mode": {
    "name": "ipython",
    "version": 3
   },
   "file_extension": ".py",
   "mimetype": "text/x-python",
   "name": "python",
   "nbconvert_exporter": "python",
   "pygments_lexer": "ipython3",
   "version": "3.8.5"
  }
 },
 "nbformat": 4,
 "nbformat_minor": 2
}
