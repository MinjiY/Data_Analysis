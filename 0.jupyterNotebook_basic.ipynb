{
 "cells": [
  {
   "cell_type": "code",
   "execution_count": 2,
   "metadata": {},
   "outputs": [
    {
     "name": "stdout",
     "output_type": "stream",
     "text": [
      "Name: pandas\n",
      "Version: 1.1.3\n",
      "Summary: Powerful data structures for data analysis, time series, and statistics\n",
      "Home-page: https://pandas.pydata.org\n",
      "Author: None\n",
      "Author-email: None\n",
      "License: BSD\n",
      "Location: c:\\programdata\\anaconda3\\lib\\site-packages\n",
      "Requires: numpy, pytz, python-dateutil\n",
      "Required-by: statsmodels, seaborn\n"
     ]
    }
   ],
   "source": [
    "!pip show pandas"
   ]
  },
  {
   "cell_type": "code",
   "execution_count": 3,
   "metadata": {},
   "outputs": [],
   "source": [
    "def add(n1, n2):\n",
    "    return n1+n2"
   ]
  },
  {
   "cell_type": "code",
   "execution_count": 4,
   "metadata": {},
   "outputs": [
    {
     "data": {
      "text/plain": [
       "30"
      ]
     },
     "execution_count": 4,
     "metadata": {},
     "output_type": "execute_result"
    }
   ],
   "source": [
    "add(10,20)"
   ]
  },
  {
   "cell_type": "code",
   "execution_count": null,
   "metadata": {},
   "outputs": [],
   "source": []
  },
  {
   "cell_type": "markdown",
   "metadata": {},
   "source": [
    "# the largest heading \n",
    "## second\n",
    "### third"
   ]
  },
  {
   "cell_type": "markdown",
   "metadata": {},
   "source": [
    "1. first list item\n",
    "    - First nested list item\n",
    "        - Second nested list item"
   ]
  },
  {
   "cell_type": "code",
   "execution_count": 5,
   "metadata": {},
   "outputs": [
    {
     "name": "stdout",
     "output_type": "stream",
     "text": [
      "<zip object at 0x0000024CF9A47240>\n",
      "[('정당', '민주당'), ('선거구', '서울은평구')]\n",
      "<class 'tuple'> ('정당', '민주당')\n",
      "<class 'tuple'> ('선거구', '서울은평구')\n",
      "{'정당': '민주당', '선거구': '서울은평구'}\n"
     ]
    }
   ],
   "source": [
    "#zip 함수\n",
    "dt_list =['정당','선거구']\n",
    "dd_list = ['민주당','서울은평구']\n",
    "print(zip(dt_list, dd_list))\n",
    "print(list(zip(dt_list, dd_list)))\n",
    "\n",
    "for data in zip(dt_list, dd_list):\n",
    "    print(type(data),data)\n",
    "    \n",
    "print(dict(zip(dt_list, dd_list)))"
   ]
  },
  {
   "cell_type": "code",
   "execution_count": 7,
   "metadata": {},
   "outputs": [
    {
     "name": "stdout",
     "output_type": "stream",
     "text": [
      "2021-01-11\n",
      "2021\n",
      "1\n",
      "11\n"
     ]
    }
   ],
   "source": [
    "# 나이계산\n",
    "from datetime import date\n",
    "\n",
    "# 현재 날짜\n",
    "today = date.today()\n",
    "print(today)\n",
    "print(today.year)\n",
    "print(today.month)\n",
    "print(today.day)"
   ]
  },
  {
   "cell_type": "code",
   "execution_count": 12,
   "metadata": {},
   "outputs": [
    {
     "name": "stdout",
     "output_type": "stream",
     "text": [
      "1960-01-04 <class 'datetime.date'>\n",
      "1960\n",
      "1\n",
      "4\n",
      "<class 'datetime.date'> 1960-12-04\n",
      "1960\n",
      "12\n",
      "4\n"
     ]
    }
   ],
   "source": [
    "# 1960 1 4\n",
    "# 1960 12 5\n",
    "\n",
    "birth = date(1960,1,4)\n",
    "print(birth, type(birth))\n",
    "print(birth.year)\n",
    "print(birth.month)\n",
    "print(birth.day)\n",
    "\n",
    "birth2 = date(1960,12,4)\n",
    "print(type(birth2),birth2)\n",
    "print(birth2.year)\n",
    "print(birth2.month)\n",
    "print(birth2.day)"
   ]
  },
  {
   "cell_type": "code",
   "execution_count": 11,
   "metadata": {},
   "outputs": [
    {
     "data": {
      "text/plain": [
       "False"
      ]
     },
     "execution_count": 11,
     "metadata": {},
     "output_type": "execute_result"
    }
   ],
   "source": [
    "# 1-11 < 1-4\n",
    "(today.month, today.day) < (birth.month, birth.day) #0\n"
   ]
  },
  {
   "cell_type": "code",
   "execution_count": 13,
   "metadata": {},
   "outputs": [
    {
     "data": {
      "text/plain": [
       "True"
      ]
     },
     "execution_count": 13,
     "metadata": {},
     "output_type": "execute_result"
    }
   ],
   "source": [
    " #(today.month, today.day) < (birth2.month,birth2.day) #1\n"
   ]
  },
  {
   "cell_type": "code",
   "execution_count": 14,
   "metadata": {},
   "outputs": [
    {
     "name": "stdout",
     "output_type": "stream",
     "text": [
      "61\n"
     ]
    }
   ],
   "source": [
    "age1 = today.year - birth.year - ((today.month, today.day) < (birth.month, birth.day))\n",
    "print(age1)"
   ]
  },
  {
   "cell_type": "code",
   "execution_count": 15,
   "metadata": {},
   "outputs": [
    {
     "name": "stdout",
     "output_type": "stream",
     "text": [
      "60\n"
     ]
    }
   ],
   "source": [
    "# 1960 12 5\n",
    "age1 = today.year - birth2.year - ((today.month, today.day) < (birth2.month, birth2.day))\n",
    "print(age1)"
   ]
  },
  {
   "cell_type": "code",
   "execution_count": null,
   "metadata": {},
   "outputs": [],
   "source": []
  }
 ],
 "metadata": {
  "kernelspec": {
   "display_name": "Python 3",
   "language": "python",
   "name": "python3"
  },
  "language_info": {
   "codemirror_mode": {
    "name": "ipython",
    "version": 3
   },
   "file_extension": ".py",
   "mimetype": "text/x-python",
   "name": "python",
   "nbconvert_exporter": "python",
   "pygments_lexer": "ipython3",
   "version": "3.8.5"
  }
 },
 "nbformat": 4,
 "nbformat_minor": 4
}
